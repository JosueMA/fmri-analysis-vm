{
 "cells": [
  {
   "cell_type": "markdown",
   "metadata": {},
   "source": [
    "This notebook walks through the preprocessing/QA workflow described in the course slides."
   ]
  },
  {
   "cell_type": "markdown",
   "metadata": {},
   "source": [
    "Importing modules"
   ]
  },
  {
   "cell_type": "markdown",
   "metadata": {
    "collapsed": true
   },
   "source": [
    "\n"
   ]
  },
  {
   "cell_type": "code",
   "execution_count": null,
   "metadata": {
    "collapsed": false
   },
   "outputs": [],
   "source": [
    "import os, errno\n",
    "try:\n",
    "    datadir=os.environ['FMRIDATADIR']\n",
    "    assert not datadir==''\n",
    "except:\n",
    "    datadir='/Users/poldrack/data_unsynced/myconnectome/sub00001'\n",
    "print 'Using data from',datadir\n",
    "\n",
    "%matplotlib inline\n",
    "\n",
    "from nipype.interfaces import fsl, nipy\n",
    "import nibabel\n",
    "import numpy\n",
    "import nilearn.plotting\n",
    "import matplotlib.pyplot as plt\n",
    "from compute_fd_dvars import compute_fd,compute_dvars\n",
    "from nipype.caching import Memory\n",
    "mem = Memory(base_dir='.')\n",
    "results_dir = os.path.abspath(\"../results\")\n",
    "if not os.path.exists(results_dir):\n",
    "    os.mkdir(results_dir)\n",
    "    \n",
    "def force_symlink(file1, file2):\n",
    "    try:\n",
    "        os.symlink(file1, file2)\n",
    "    except OSError, e:\n",
    "        if e.errno == errno.EEXIST:\n",
    "            os.remove(file2)\n",
    "            os.symlink(file1, file2)"
   ]
  },
  {
   "cell_type": "markdown",
   "metadata": {},
   "source": [
    "Setting up variables"
   ]
  },
  {
   "cell_type": "code",
   "execution_count": null,
   "metadata": {
    "collapsed": false
   },
   "outputs": [],
   "source": [
    "subject='ses014'  \n",
    "\n",
    "bolddir=os.path.join(datadir,'ds031/sub00001',subject,\n",
    "        'functional')\n",
    "boldfile=os.path.join(bolddir,'sub00001_ses014_task002_run001_bold.nii.gz')\n"
   ]
  },
  {
   "cell_type": "markdown",
   "metadata": {},
   "source": [
    "## Motion correction using MCFLIRT"
   ]
  },
  {
   "cell_type": "markdown",
   "metadata": {},
   "source": [
    "This will take about a minute."
   ]
  },
  {
   "cell_type": "code",
   "execution_count": null,
   "metadata": {
    "collapsed": false
   },
   "outputs": [],
   "source": [
    "mcflirt = mem.cache(fsl.MCFLIRT)\n",
    "mcflirt_results = mcflirt(in_file=boldfile,\n",
    "                          save_plots=True,\n",
    "                          mean_vol=True,\n",
    "                          output_type = \"NIFTI\")\n",
    "mcflirt_results.outputs"
   ]
  },
  {
   "cell_type": "code",
   "execution_count": null,
   "metadata": {
    "collapsed": false,
    "scrolled": true
   },
   "outputs": [],
   "source": [
    "fsl.MCFLIRT.help()"
   ]
  },
  {
   "cell_type": "markdown",
   "metadata": {},
   "source": [
    "We will need the mean EPI image later during the class so we will save it."
   ]
  },
  {
   "cell_type": "code",
   "execution_count": null,
   "metadata": {
    "collapsed": false
   },
   "outputs": [],
   "source": [
    "force_symlink(mcflirt_results.outputs.mean_img, os.path.join(results_dir, \"meanbold.nii.gz\"))"
   ]
  },
  {
   "cell_type": "markdown",
   "metadata": {},
   "source": [
    "Use FSL's BET to obtain the brain mask"
   ]
  },
  {
   "cell_type": "code",
   "execution_count": null,
   "metadata": {
    "collapsed": false
   },
   "outputs": [],
   "source": [
    "bet = mem.cache(fsl.BET)\n",
    "bet_results = bet(functional=True,\n",
    "              in_file=mcflirt_results.outputs.mean_img,\n",
    "              mask=True)\n",
    "force_symlink(bet_results.outputs.mask_file, os.path.join(results_dir, \"mask.nii.gz\"))\n",
    "bet_results.outputs"
   ]
  },
  {
   "cell_type": "markdown",
   "metadata": {},
   "source": [
    "Display the mean image, and show the outline of the brain mask."
   ]
  },
  {
   "cell_type": "code",
   "execution_count": null,
   "metadata": {
    "collapsed": false
   },
   "outputs": [],
   "source": [
    "mask_display=nilearn.plotting.plot_epi(mcflirt_results.outputs.mean_img,cmap='gray')\n",
    "mask_display.add_contours(bet_results.outputs.mask_file, levels=[.5])"
   ]
  },
  {
   "cell_type": "markdown",
   "metadata": {},
   "source": [
    "Compute and plot the global signal within the mask across timepoints"
   ]
  },
  {
   "cell_type": "code",
   "execution_count": null,
   "metadata": {
    "collapsed": false
   },
   "outputs": [],
   "source": [
    "maskdata=nibabel.load(bet_results.outputs.mask_file).get_data()\n",
    "bolddata=nibabel.load(mcflirt_results.outputs.out_file).get_data()\n",
    "maskvox=numpy.where(maskdata)\n",
    "globalmean=numpy.zeros(bolddata.shape[3])\n",
    "globalcv=numpy.zeros(bolddata.shape[3])\n",
    "for t in range(bolddata.shape[3]):\n",
    "    tmp=bolddata[:,:,:,t]\n",
    "    globalmean[t]=numpy.mean(tmp[maskvox])\n",
    "    globalcv[t]=numpy.std(tmp[maskvox])/numpy.mean(tmp[maskvox])\n",
    "\n",
    "del bolddata\n"
   ]
  },
  {
   "cell_type": "markdown",
   "metadata": {},
   "source": [
    "Load motion data and compute FD/DVARS"
   ]
  },
  {
   "cell_type": "code",
   "execution_count": null,
   "metadata": {
    "collapsed": false
   },
   "outputs": [],
   "source": [
    "motiondata=numpy.loadtxt(mcflirt_results.outputs.par_file)\n",
    "fd=compute_fd(motiondata)\n",
    "dvars=compute_dvars(globalmean)"
   ]
  },
  {
   "cell_type": "code",
   "execution_count": null,
   "metadata": {
    "collapsed": false,
    "scrolled": true
   },
   "outputs": [],
   "source": [
    "f, (ax1, ax2,ax3,ax4)=plt.subplots(4, sharex=True)\n",
    "ax1.plot(globalmean)\n",
    "ax1.set_title('Mean global signal for in-mask voxels')\n",
    "\n",
    "ax2.plot(globalcv)\n",
    "ax2.set_title('Coefficient of variation for in-mask voxels')\n",
    "\n",
    "ax3.plot(fd)\n",
    "ax3.set_title('Framewise Displacement')\n",
    "\n",
    "ax4.plot(dvars)\n",
    "ax4.set_title('DVARS')\n",
    "plt.tight_layout()"
   ]
  },
  {
   "cell_type": "markdown",
   "metadata": {},
   "source": [
    "## Performing Independent Component Analysis to look for artefacts"
   ]
  },
  {
   "cell_type": "markdown",
   "metadata": {},
   "source": [
    "Run independent components analysis on the data using MELODIC - this will take a few minutes."
   ]
  },
  {
   "cell_type": "code",
   "execution_count": null,
   "metadata": {
    "collapsed": false
   },
   "outputs": [],
   "source": [
    "melodic = mem.cache(fsl.MELODIC)\n",
    "melodic_results = melodic(out_all=True,\n",
    "                          report=True,\n",
    "                          in_files=mcflirt_results.outputs.out_file,\n",
    "                          mask=bet_results.outputs.mask_file)\n",
    "melodic_results.outputs"
   ]
  },
  {
   "cell_type": "markdown",
   "metadata": {},
   "source": [
    "Check out the MELODIC report"
   ]
  },
  {
   "cell_type": "code",
   "execution_count": null,
   "metadata": {
    "collapsed": false
   },
   "outputs": [],
   "source": [
    "from IPython.display import FileLink\n",
    "FileLink(os.path.join(melodic_results.outputs.report_dir, '00index.html').split(os.getcwd() + '/')[1])"
   ]
  },
  {
   "cell_type": "markdown",
   "metadata": {},
   "source": [
    "Load the ICA components and examine their correlation with the motion signals. For components with a correlation > 0.4, show the component voxels."
   ]
  },
  {
   "cell_type": "code",
   "execution_count": null,
   "metadata": {
    "collapsed": true
   },
   "outputs": [],
   "source": [
    "ica_comps=numpy.loadtxt(os.path.join(melodic_results.outputs.out_dir,'melodic_mix'))"
   ]
  },
  {
   "cell_type": "code",
   "execution_count": null,
   "metadata": {
    "collapsed": false,
    "scrolled": false
   },
   "outputs": [],
   "source": [
    "ica_motion_corr=numpy.zeros(ica_comps.shape[1])\n",
    "for c in range(ica_comps.shape[1]):\n",
    "    ica_motion_corr[c]=numpy.corrcoef(ica_comps[:,c],fd)[0,1]\n",
    "    if abs(ica_motion_corr[c])>0.4:\n",
    "        comp_img=nibabel.load(os.path.join(melodic_results.outputs.out_dir,'stats/thresh_zstat%d.nii.gz'%int(c+1)))\n",
    "        nilearn.plotting.plot_stat_map(comp_img,mcflirt_results.outputs.mean_img,threshold=1.5,\n",
    "               title='component %d - r(FD)=%0.3f'%(c+1,ica_motion_corr[c]))\n",
    "        \n"
   ]
  },
  {
   "cell_type": "markdown",
   "metadata": {},
   "source": [
    "## Fieldmap unwarping"
   ]
  },
  {
   "cell_type": "markdown",
   "metadata": {},
   "source": [
    "Take the first magnitue image and skull strip it"
   ]
  },
  {
   "cell_type": "code",
   "execution_count": null,
   "metadata": {
    "collapsed": false
   },
   "outputs": [],
   "source": [
    "magfile=os.path.join(datadir,'ds031/sub00001',subject,\n",
    "                'fieldmap/sub00001_ses014_001_magnitude.nii.gz')\n",
    "roi = mem.cache(fsl.ExtractROI)\n",
    "pick_first_mag = roi(in_file=magfile, t_min=0, t_size=1)\n",
    "\n",
    "# we'll need this later\n",
    "force_symlink(pick_first_mag.outputs.roi_file, os.path.join(results_dir, \"fmapmag.nii.gz\"))\n",
    "\n",
    "mag_bet_results = bet(functional=True,\n",
    "                      in_file=pick_first_mag.outputs.roi_file,\n",
    "                      mask=True)\n",
    "mag_bet_results.outputs\n",
    "mask_display=nilearn.plotting.plot_epi(pick_first_mag.outputs.roi_file,cmap='gray')\n",
    "mask_display.add_contours(mag_bet_results.outputs.mask_file, levels=[.5])"
   ]
  },
  {
   "cell_type": "markdown",
   "metadata": {},
   "source": [
    "This was not quite tight enough. Let's try with other parameters"
   ]
  },
  {
   "cell_type": "code",
   "execution_count": null,
   "metadata": {
    "collapsed": false
   },
   "outputs": [],
   "source": [
    "mag_bet_results = bet(functional=True,\n",
    "                      in_file=pick_first_mag.outputs.roi_file,\n",
    "                      mask=True,\n",
    "                      frac=0.65)\n",
    "force_symlink(mag_bet_results.outputs.out_file, os.path.join(results_dir, \"fmapmagbrain.nii.gz\"))\n",
    "mask_display=nilearn.plotting.plot_epi(pick_first_mag.outputs.roi_file,cmap='gray')\n",
    "mask_display.add_contours(mag_bet_results.outputs.mask_file, levels=[.5])\n",
    "mag_bet_results.outputs"
   ]
  },
  {
   "cell_type": "markdown",
   "metadata": {},
   "source": [
    "Prepare the fieldmap"
   ]
  },
  {
   "cell_type": "code",
   "execution_count": null,
   "metadata": {
    "collapsed": false
   },
   "outputs": [],
   "source": [
    "prepare = mem.cache(fsl.PrepareFieldmap)\n",
    "prepare_results = prepare(in_phase = os.path.join(datadir,'ds031/sub00001',subject,\n",
    "                                                  'fieldmap/sub00001_ses014_001_phasediff.nii.gz'),\n",
    "                          in_magnitude = mag_bet_results.outputs.out_file,\n",
    "                          output_type = \"NIFTI_GZ\")\n",
    "force_symlink(prepare_results.outputs.out_fieldmap, os.path.join(results_dir, \"fieldmap.nii.gz\"))\n",
    "prepare_results.outputs"
   ]
  },
  {
   "cell_type": "markdown",
   "metadata": {},
   "source": [
    "Which parts of the brain were most deformed by B0 inhomogeneities?"
   ]
  },
  {
   "cell_type": "code",
   "execution_count": null,
   "metadata": {
    "collapsed": false
   },
   "outputs": [],
   "source": [
    "nilearn.plotting.plot_stat_map(nilearn.image.index_img(prepare_results.outputs.out_fieldmap,0), \n",
    "                               pick_first_mag.outputs.roi_file, threshold=100)"
   ]
  },
  {
   "cell_type": "markdown",
   "metadata": {},
   "source": [
    "Note that we don't really apply these transformations yet. We'll do it after first level modelling"
   ]
  },
  {
   "cell_type": "code",
   "execution_count": null,
   "metadata": {
    "collapsed": false
   },
   "outputs": [],
   "source": [
    "fugue = mem.cache(fsl.FUGUE)\n",
    "fugue_results = fugue(in_file = mcflirt_results.outputs.mean_img,\n",
    "                      fmap_in_file = prepare_results.outputs.out_fieldmap,\n",
    "                      unwarp_direction = \"y\",\n",
    "                      dwell_time = 2.6/10000.0,\n",
    "                      mask_file = mag_bet_results.outputs.mask_file)\n",
    "fugue_results.outputs"
   ]
  },
  {
   "cell_type": "markdown",
   "metadata": {},
   "source": [
    "__Excersise:__ Plot the difference between the original mean EPI and the field unwarped one."
   ]
  },
  {
   "cell_type": "markdown",
   "metadata": {},
   "source": [
    "## Spatial smoothing"
   ]
  },
  {
   "cell_type": "markdown",
   "metadata": {
    "collapsed": true
   },
   "source": [
    "Perform spatial smoothing using Gaussian kernel. Can you spot the difference between top and bottom rows?"
   ]
  },
  {
   "cell_type": "code",
   "execution_count": null,
   "metadata": {
    "collapsed": false
   },
   "outputs": [],
   "source": [
    "smooth = mem.cache(fsl.utils.Smooth)\n",
    "smooth_results = smooth(fwhm=2.5,\n",
    "                        in_file=mcflirt_results.outputs.out_file,\n",
    "                        output_type = \"NIFTI\")\n",
    "\n",
    "nilearn.plotting.plot_epi(mcflirt_results.outputs.mean_img,colorbar=True, vmin=410, vmax=21000)\n",
    "nilearn.plotting.plot_epi(nilearn.image.mean_img(smooth_results.outputs.smoothed_file), colorbar=True, vmin=410, vmax=21000)"
   ]
  },
  {
   "cell_type": "markdown",
   "metadata": {},
   "source": [
    "## High pass filtering"
   ]
  },
  {
   "cell_type": "markdown",
   "metadata": {},
   "source": [
    "High-pass filtering - this will take a few minutes"
   ]
  },
  {
   "cell_type": "code",
   "execution_count": null,
   "metadata": {
    "collapsed": false
   },
   "outputs": [],
   "source": [
    "hpfilt = mem.cache(fsl.maths.TemporalFilter)\n",
    "TR = 2.32\n",
    "hpfilt_results = hpfilt(highpass_sigma = 100/(2*TR),\n",
    "                        in_file=smooth_results.outputs.smoothed_file,\n",
    "                        output_type = \"NIFTI\")\n",
    "\n",
    "mean = mem.cache(fsl.maths.MeanImage)\n",
    "mean_results = mean(in_file = smooth_results.outputs.smoothed_file)\n",
    "\n",
    "rescale = mem.cache(fsl.maths.BinaryMaths)\n",
    "rescale_results = rescale(in_file=hpfilt_results.outputs.out_file,\n",
    "                          operand_file = mean_results.outputs.out_file,\n",
    "                          operation = \"add\",\n",
    "                          output_type = \"NIFTI\")\n",
    "\n",
    "force_symlink(rescale_results.outputs.out_file, os.path.join(results_dir, \"preprocessed_epi_native_space.nii.gz\"))"
   ]
  },
  {
   "cell_type": "markdown",
   "metadata": {},
   "source": [
    "__Exercise:__ Plot the power spectrum for a voxel to look at the effects of filtering"
   ]
  }
 ],
 "metadata": {
  "git": {
   "suppress_outputs": true
  },
  "kernelspec": {
   "display_name": "Python 2",
   "language": "python",
   "name": "python2"
  },
  "language_info": {
   "codemirror_mode": {
    "name": "ipython",
    "version": 2
   },
   "file_extension": ".py",
   "mimetype": "text/x-python",
   "name": "python",
   "nbconvert_exporter": "python",
   "pygments_lexer": "ipython2",
   "version": "2.7.10"
  }
 },
 "nbformat": 4,
 "nbformat_minor": 0
}