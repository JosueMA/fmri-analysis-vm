{
 "cells": [
  {
   "cell_type": "markdown",
   "metadata": {},
   "source": [
    "This notebook walks through the preprocessing/QA workflow described in the course slides."
   ]
  },
  {
   "cell_type": "markdown",
   "metadata": {
    "collapsed": true
   },
   "source": [
    "\n"
   ]
  },
  {
   "cell_type": "code",
   "metadata": {
    "collapsed": false
   },
   "outputs": [],
   "source": [
    "import os\n",
    "try:\n",
    "    datadir=os.environ['FMRIDATADIR']\n",
    "    assert not datadir==''\n",
    "except:\n",
    "    datadir='/Users/poldrack/data_unsynced/myconnectome/sub00001'\n",
    "print 'Using data from',datadir\n",
    "\n",
    "%matplotlib inline\n",
    "\n",
    "from nipype.interfaces import fsl\n",
    "import nibabel\n",
    "import numpy\n",
    "import nilearn.plotting\n",
    "import matplotlib.pyplot as plt\n",
    "from compute_fd_dvars import compute_fd,compute_dvars\n",
    "from nipype.caching import Memory\n",
    "mem = Memory(base_dir='.')"
   ]
  },
  {
   "cell_type": "markdown",
   "metadata": {},
   "source": [
    "Load the data"
   ]
  },
  {
   "cell_type": "code",
   "metadata": {
    "collapsed": false
   },
   "outputs": [],
   "source": [
    "subject='ses014'  \n",
    "\n",
    "bolddir=os.path.join(datadir,'ds031/sub00001',subject,\n",
    "        'functional')\n",
    "boldfile=os.path.join(bolddir,'sub00001_ses014_task002_run001_bold.nii.gz')\n"
   ]
  },
  {
   "cell_type": "markdown",
   "metadata": {},
   "source": [
    "Perform motion correction using FSL's mcflirt - this will take about a minute."
   ]
  },
  {
   "cell_type": "code",
   "metadata": {
    "collapsed": false
   },
   "outputs": [],
   "source": [
    "mcflirt = mem.cache(fsl.MCFLIRT)\n",
    "mcflirt_results = mcflirt(in_file=boldfile,\n",
    "                  save_plots=True,\n",
    "                  mean_vol=True)\n",
    "mcflirt_results.outputs"
   ]
  },
  {
   "cell_type": "markdown",
   "metadata": {},
   "source": [
    "Use FSL's BET to obtain the brain mask"
   ]
  },
  {
   "cell_type": "code",
   "metadata": {
    "collapsed": false
   },
   "outputs": [],
   "source": [
    "bet = mem.cache(fsl.BET)\n",
    "bet_results = bet(functional=True,\n",
    "              in_file=mcflirt_results.outputs.mean_img,\n",
    "              mask=True)\n",
    "bet_results.outputs"
   ]
  },
  {
   "cell_type": "markdown",
   "metadata": {},
   "source": [
    "Display the mean image, and show the outline of the brain mask."
   ]
  },
  {
   "cell_type": "code",
   "metadata": {
    "collapsed": false
   },
   "outputs": [],
   "source": [
    "mask_display=nilearn.plotting.plot_epi(mcflirt_results.outputs.mean_img,cmap='gray')\n",
    "mask_display.add_contours(bet_results.outputs.mask_file, levels=[.5])"
   ]
  },
  {
   "cell_type": "markdown",
   "metadata": {},
   "source": [
    "Compute and plot the global signal within the mask across timepoints"
   ]
  },
  {
   "cell_type": "code",
   "metadata": {
    "collapsed": false
   },
   "outputs": [],
   "source": [
    "maskdata=nibabel.load(bet_results.outputs.mask_file).get_data()\n",
    "bolddata=nibabel.load(mcflirt_results.outputs.out_file).get_data()\n",
    "maskvox=numpy.where(maskdata)\n",
    "globalmean=numpy.zeros(bolddata.shape[3])\n",
    "globalcv=numpy.zeros(bolddata.shape[3])\n",
    "for t in range(bolddata.shape[3]):\n",
    "    tmp=bolddata[:,:,:,t]\n",
    "    globalmean[t]=numpy.mean(tmp[maskvox])\n",
    "    globalcv[t]=numpy.std(tmp[maskvox])/numpy.mean(tmp[maskvox])\n",
    "\n",
    "del bolddata\n"
   ]
  },
  {
   "cell_type": "markdown",
   "metadata": {},
   "source": [
    "Load motion data and compute FD/DVARS"
   ]
  },
  {
   "cell_type": "code",
   "metadata": {
    "collapsed": false
   },
   "outputs": [],
   "source": [
    "motiondata=numpy.loadtxt(mcflirt_results.outputs.par_file)\n",
    "fd=compute_fd(motiondata)\n",
    "dvars=compute_dvars(globalmean)"
   ]
  },
  {
   "cell_type": "code",
   "metadata": {
    "collapsed": false,
    "scrolled": true
   },
   "outputs": [],
   "source": [
    "f, (ax1, ax2,ax3,ax4)=plt.subplots(4, sharex=True)\n",
    "ax1.plot(globalmean)\n",
    "ax1.set_title('Mean global signal for in-mask voxels')\n",
    "\n",
    "ax2.plot(globalcv)\n",
    "ax2.set_title('Coefficient of variation for in-mask voxels')\n",
    "\n",
    "ax3.plot(fd)\n",
    "ax3.set_title('Framewise Displacement')\n",
    "\n",
    "ax4.plot(dvars)\n",
    "ax4.set_title('DVARS')\n",
    "plt.tight_layout()"
   ]
  },
  {
   "cell_type": "markdown",
   "metadata": {},
   "source": [
    "Run independent components analysis on the data using MELODIC - this will take a few minutes."
   ]
  },
  {
   "cell_type": "code",
   "metadata": {
    "collapsed": false
   },
   "outputs": [],
   "source": [
    "melodic = mem.cache(fsl.MELODIC)\n",
    "melodic_results = melodic(out_all=True,\n",
    "                          report=True,\n",
    "                          in_files=mcflirt_results.outputs.out_file,\n",
    "                          mask=bet_results.outputs.mask_file)\n",
    "melodic_results.outputs"
   ]
  },
  {
   "cell_type": "markdown",
   "metadata": {},
   "source": [
    "Load the ICA components and examine their correlation with the motion signals. For components with a correlation > 0.4, show the component voxels."
   ]
  },
  {
   "cell_type": "code",
   "metadata": {
    "collapsed": true
   },
   "outputs": [],
   "source": [
    "ica_comps=numpy.loadtxt(os.path.join(melodic_results.outputs.out_dir,'melodic_mix'))"
   ]
  },
  {
   "cell_type": "code",
   "metadata": {
    "collapsed": false,
    "scrolled": false
   },
   "outputs": [],
   "source": [
    "ica_motion_corr=numpy.zeros(ica_comps.shape[1])\n",
    "for c in range(ica_comps.shape[1]):\n",
    "    ica_motion_corr[c]=numpy.corrcoef(ica_comps[:,c],fd)[0,1]\n",
    "    if abs(ica_motion_corr[c])>0.4:\n",
    "        comp_img=nibabel.load(os.path.join(melodic_results.outputs.out_dir,'stats/thresh_zstat%d.nii.gz'%int(c+1)))\n",
    "        nilearn.plotting.plot_stat_map(comp_img,mcflirt_results.outputs.mean_img,threshold=1.5,\n",
    "               title='component %d - r(FD)=%0.3f'%(c+1,ica_motion_corr[c]))\n",
    "        \n"
   ]
  },
  {
   "cell_type": "markdown",
   "metadata": {},
   "source": [
    "Use fieldmap to perform distortion correction.  First we need to prepare the fieldmap; this will take a few minutes.\n"
   ]
  },
  {
   "cell_type": "code",
   "metadata": {
    "collapsed": false
   },
   "outputs": [],
   "source": [
    "magfile=os.path.join(datadir,'ds031/sub00001',subject,\n",
    "                'fieldmap/sub00001_ses014_001_magnitude.nii.gz')\n",
    "roi = mem.cache(fsl.ExtractROI)\n",
    "pick_first_mag = roi(in_file=magfile,\n",
    "                           t_min=0,\n",
    "                           t_size=1)\n",
    "\n",
    "mag_bet_results = bet(functional=True,\n",
    "                      in_file=pick_first_mag.outputs.roi_file,\n",
    "                      mask=True)\n",
    "mag_bet_results.outputs\n",
    "mask_display=nilearn.plotting.plot_epi(pick_first_mag.outputs.roi_file,cmap='gray')\n",
    "mask_display.add_contours(mag_bet_results.outputs.mask_file, levels=[.5])"
   ]
  },
  {
   "cell_type": "code",
   "metadata": {
    "collapsed": false
   },
   "outputs": [],
   "source": [
    "mag_bet_results = bet(functional=True,\n",
    "                      in_file=pick_first_mag.outputs.roi_file,\n",
    "                      mask=True,\n",
    "                      frac=0.65)\n",
    "mag_bet_results.outputs\n",
    "mask_display=nilearn.plotting.plot_epi(pick_first_mag.outputs.roi_file,cmap='gray')\n",
    "mask_display.add_contours(mag_bet_results.outputs.mask_file, levels=[.5])"
   ]
  },
  {
   "cell_type": "code",
   "metadata": {
    "collapsed": false
   },
   "outputs": [],
   "source": [
    "prepare = mem.cache(fsl.PrepareFieldmap)\n",
    "prepare_results = prepare(in_phase = os.path.join(datadir,'ds031/sub00001',subject,\n",
    "                                                  'fieldmap/sub00001_ses014_001_phasediff.nii.gz'),\n",
    "                          in_magnitude = mag_bet_results.outputs.out_file,\n",
    "                          output_type = \"NIFTI_GZ\")\n",
    "prepare_results.outputs"
   ]
  },
  {
   "cell_type": "code",
   "metadata": {
    "collapsed": false
   },
   "outputs": [],
   "source": [
    "nilearn.plotting.plot_stat_map(nilearn.image.index_img(prepare_results.outputs.out_fieldmap,0), threshold=100)"
   ]
  },
  {
   "cell_type": "code",
   "metadata": {
    "collapsed": false
   },
   "outputs": [],
   "source": [
    "fugue = mem.cache(fsl.preprocess.FUGUE)\n",
    "fugue_results = fugue(in_file = mcflirt_results.outputs.out_file,\n",
    "                      fmap_in_file = prepare_results.outputs.out_fieldmap,\n",
    "                      dwell_time = 2.6/10000.0,\n",
    "                      unwarp_direction = 'y',\n",
    "                      save_shift = True,\n",
    "                      output_type = \"NIFTI_GZ\")\n",
    "fugue_results.outputs"
   ]
  },
  {
   "cell_type": "markdown",
   "metadata": {},
   "source": [
    "Display difference between original and undistorted image"
   ]
  },
  {
   "cell_type": "code",
   "metadata": {
    "collapsed": false,
    "scrolled": true
   },
   "outputs": [],
   "source": [
    "\n",
    "mcf_unwarped_mean_brain_img= nilearn.image.mean_img(fugue_results.outputs.unwarped_file)\n",
    "\n",
    "meanbrainimg=nibabel.load(mcflirt_results.outputs.mean_img)\n",
    "\n",
    "unwarp_diff=mcf_unwarped_mean_brain - meanbrainimg.get_data()\n",
    "print numpy.max(unwarp_diff)\n",
    "unwarp_diff_img=nibabel.Nifti1Image(unwarp_diff,meanbrainimg.get_affine())\n",
    "\n",
    "fmap_display=nilearn.plotting.plot_stat_map(unwarp_diff_img,meanbrainimg)\n",
    "del unwarp_diff_img\n"
   ]
  },
  {
   "cell_type": "markdown",
   "metadata": {
    "collapsed": true
   },
   "source": [
    "\n"
   ]
  },
  {
   "cell_type": "markdown",
   "metadata": {
    "collapsed": true
   },
   "source": [
    "Perform spatial smoothing using Gaussian kernel"
   ]
  },
  {
   "cell_type": "code",
   "metadata": {
    "collapsed": false
   },
   "outputs": [],
   "source": [
    "smooth=mem.cache(fsl.utils.Smooth)\n",
    "smooth_results = smooth(fwhm=2.5,\n",
    "                        in_file=fugue_results.outputs.unwarped_file)\n",
    "\n",
    "nilearn.plotting.plot_epi(mcflirt_results.outputs.mean_img,colorbar=True, vmin=410, vmax=21000)\n",
    "nilearn.plotting.plot_epi(nilearn.image.mean_img(smooth_results.outputs.smoothed_file), colorbar=True, vmin=410, vmax=21000)"
   ]
  },
  {
   "cell_type": "markdown",
   "metadata": {},
   "source": [
    "High-pass filtering - this will take a few minutes"
   ]
  },
  {
   "cell_type": "code",
   "metadata": {
    "collapsed": false
   },
   "outputs": [],
   "source": [
    "hpfilt = mem.cache(fsl.maths.TemporalFilter)\n",
    "hpcutoff = 120\n",
    "TR = 1.16\n",
    "hpfilt_results = hpfilt(highpass_sigma = hpcutoff/TR,\n",
    "                        in_file=smooth_results.outputs.smoothed_file)\n",
    "\n",
    "binarymaths = mem.cache(fsl.maths.BinaryMaths)\n",
    "rescale_results = binarymaths(operation = 'add', \n",
    "                              in_file=hpfilt_results.outputs.out_file,\n",
    "                              operand_file=mcflirt_results.outputs.mean_img\n",
    "                              )"
   ]
  },
  {
   "cell_type": "markdown",
   "metadata": {},
   "source": [
    "Exercise: Plot the power spectrum for a voxel to look at the effects of filtering"
   ]
  },
  {
   "cell_type": "code",
   "metadata": {
    "collapsed": true
   },
   "outputs": [],
   "source": [
    "# mask using gray matter mask\n",
    "hpfilt=fsl.ImageMaths(suffix='_masked')\n",
    "hpfilt.inputs.op_string = '-mul'\n",
    "hpfilt.inputs.in_file=mcf_boldfile.replace('.nii.gz','_unwarped_smoothed_hpf.nii.gz')\n",
    "hpfilt.inputs.in_file2=os.path.join(bolddir,'gray_matter_mask_bin.nii.gz')\n",
    "hpfilt.inputs.out_file=mcf_boldfile.replace('.nii.gz','_unwarped_smoothed_hpf_rescaled_masked.nii.gz')\n",
    "if not os.path.exists(mcf_boldfile.replace('.nii.gz','_unwarped_smoothed_hpf_rescaled_masked.nii.gz')):\n",
    "    hpfilt.run()"
   ]
  }
 ],
 "metadata": {
  "git": {
   "suppress_outputs": true
  },
  "kernelspec": {
   "display_name": "Python 2",
   "language": "python",
   "name": "python2"
  },
  "language_info": {
   "codemirror_mode": {
    "name": "ipython",
    "version": 2
   },
   "file_extension": ".py",
   "mimetype": "text/x-python",
   "name": "python",
   "nbconvert_exporter": "python",
   "pygments_lexer": "ipython2",
   "version": "2.7.10"
  }
 },
 "nbformat": 4,
 "nbformat_minor": 0
}