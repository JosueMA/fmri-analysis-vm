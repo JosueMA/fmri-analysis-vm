{
 "cells": [
  {
   "cell_type": "markdown",
   "metadata": {},
   "source": [
    "This notebook walks through the preprocessing/QA workflow described in the course slides."
   ]
  },
  {
   "cell_type": "markdown",
   "metadata": {},
   "source": [
    "Importing modules"
   ]
  },
  {
   "cell_type": "markdown",
   "metadata": {
    "collapsed": true
   },
   "source": [
    "\n"
   ]
  },
  {
   "cell_type": "code",
   "execution_count": 1,
   "metadata": {
    "collapsed": false
   },
   "outputs": [
    {
     "name": "stdout",
     "output_type": "stream",
     "text": [
      "Using data from /home/vagrant/data\n"
     ]
    }
   ],
   "source": [
    "import os, errno, sys\n",
    "try:\n",
    "    datadir=os.environ['FMRIDATADIR']\n",
    "    assert not datadir==''\n",
    "except:\n",
    "    datadir='/home/vagrant/data/ds031/sub00001'\n",
    "print('Using data from',datadir)\n",
    "\n",
    "%matplotlib inline\n",
    "\n",
    "from nipype.interfaces import fsl, nipy\n",
    "import nibabel\n",
    "import numpy\n",
    "import nilearn.plotting\n",
    "import matplotlib.pyplot as plt\n",
    "sys.path.append('/home/vagrant/fmri-analysis-vm/analysis/utils')\n",
    "from compute_fd_dvars import compute_fd,compute_dvars\n",
    "from nipype.caching import Memory\n",
    "mem = Memory(base_dir='.')\n",
    "results_dir = os.path.abspath(\"/home/vagrant/fmri-analysis-vm/results\")\n",
    "if not os.path.exists(results_dir):\n",
    "    os.mkdir(results_dir)\n",
    "    \n",
    "def force_symlink(file1, file2):\n",
    "    try:\n",
    "        os.symlink(file1, file2)\n",
    "    except OSError as e:\n",
    "        if e.errno == errno.EEXIST:\n",
    "            os.remove(file2)\n",
    "            os.symlink(file1, file2)"
   ]
  },
  {
   "cell_type": "markdown",
   "metadata": {},
   "source": [
    "Setting up variables"
   ]
  },
  {
   "cell_type": "code",
   "execution_count": 2,
   "metadata": {
    "collapsed": false
   },
   "outputs": [],
   "source": [
    "subject='ses014'  \n",
    "\n",
    "bolddir=os.path.join(datadir,'ds031/sub00001',subject,\n",
    "        'functional')\n",
    "boldfile=os.path.join(bolddir,'sub00001_ses014_task002_run001_bold.nii.gz')\n"
   ]
  },
  {
   "cell_type": "markdown",
   "metadata": {},
   "source": [
    "## Motion correction using MCFLIRT"
   ]
  },
  {
   "cell_type": "markdown",
   "metadata": {},
   "source": [
    "This will take about a minute."
   ]
  },
  {
   "cell_type": "code",
   "execution_count": 3,
   "metadata": {
    "collapsed": false
   },
   "outputs": [
    {
     "name": "stdout",
     "output_type": "stream",
     "text": [
      "161006-17:31:13,7 workflow INFO:\n",
      "\t Executing node be24d7d11ebf3374aa93d29f4bbedd75 in dir: /home/vagrant/fmri-analysis-vm/analysis/preprocessing/nipype_mem/nipype-interfaces-fsl-preprocess-MCFLIRT/be24d7d11ebf3374aa93d29f4bbedd75\n",
      "161006-17:31:13,11 workflow INFO:\n",
      "\t Collecting precomputed outputs\n"
     ]
    },
    {
     "data": {
      "text/plain": [
       "\n",
       "mat_file = <undefined>\n",
       "mean_img = /home/vagrant/fmri-analysis-vm/analysis/preprocessing/nipype_mem/nipype-interfaces-fsl-preprocess-MCFLIRT/be24d7d11ebf3374aa93d29f4bbedd75/sub00001_ses014_task002_run001_bold_mcf.nii.gz_mean_reg.nii.gz\n",
       "out_file = /home/vagrant/fmri-analysis-vm/analysis/preprocessing/nipype_mem/nipype-interfaces-fsl-preprocess-MCFLIRT/be24d7d11ebf3374aa93d29f4bbedd75/sub00001_ses014_task002_run001_bold_mcf.nii.gz\n",
       "par_file = /home/vagrant/fmri-analysis-vm/analysis/preprocessing/nipype_mem/nipype-interfaces-fsl-preprocess-MCFLIRT/be24d7d11ebf3374aa93d29f4bbedd75/sub00001_ses014_task002_run001_bold_mcf.nii.gz.par\n",
       "rms_files = <undefined>\n",
       "std_img = <undefined>\n",
       "variance_img = <undefined>"
      ]
     },
     "execution_count": 3,
     "metadata": {},
     "output_type": "execute_result"
    }
   ],
   "source": [
    "mcflirt = mem.cache(fsl.MCFLIRT)\n",
    "mcflirt_results = mcflirt(in_file=boldfile,\n",
    "                          save_plots=True,\n",
    "                          mean_vol=True)\n",
    "mcflirt_results.outputs"
   ]
  },
  {
   "cell_type": "code",
   "execution_count": 4,
   "metadata": {
    "collapsed": false,
    "scrolled": true
   },
   "outputs": [
    {
     "name": "stdout",
     "output_type": "stream",
     "text": [
      "Wraps command **mcflirt**\n",
      "\n",
      "Use FSL MCFLIRT to do within-modality motion correction.\n",
      "\n",
      "For complete details, see the `MCFLIRT Documentation.\n",
      "<http://www.fmrib.ox.ac.uk/fsl/mcflirt/index.html>`_\n",
      "\n",
      "Examples\n",
      "--------\n",
      ">>> from nipype.interfaces import fsl\n",
      ">>> from nipype.testing import example_data\n",
      ">>> mcflt = fsl.MCFLIRT(in_file=example_data('functional.nii'), cost='mutualinfo')\n",
      ">>> res = mcflt.run() # doctest: +SKIP\n",
      "\n",
      "Inputs::\n",
      "\n",
      "\t[Mandatory]\n",
      "\tin_file: (an existing file name)\n",
      "\t\ttimeseries to motion-correct\n",
      "\t\tflag: -in %s, position: 0\n",
      "\n",
      "\t[Optional]\n",
      "\targs: (a unicode string)\n",
      "\t\tAdditional parameters to the command\n",
      "\t\tflag: %s\n",
      "\tbins: (an integer (int or long))\n",
      "\t\tnumber of histogram bins\n",
      "\t\tflag: -bins %d\n",
      "\tcost: ('mutualinfo' or 'woods' or 'corratio' or 'normcorr' or\n",
      "\t\t 'normmi' or 'leastsquares')\n",
      "\t\tcost function to optimize\n",
      "\t\tflag: -cost %s\n",
      "\tdof: (an integer (int or long))\n",
      "\t\tdegrees of freedom for the transformation\n",
      "\t\tflag: -dof %d\n",
      "\tenviron: (a dictionary with keys which are a bytes or None or a value\n",
      "\t\t of class 'str' and with values which are a bytes or None or a value\n",
      "\t\t of class 'str', nipype default value: {})\n",
      "\t\tEnvironment variables\n",
      "\tignore_exception: (a boolean, nipype default value: False)\n",
      "\t\tPrint an error message instead of throwing an exception in case the\n",
      "\t\tinterface fails to run\n",
      "\tinit: (an existing file name)\n",
      "\t\tinital transformation matrix\n",
      "\t\tflag: -init %s\n",
      "\tinterpolation: ('spline' or 'nn' or 'sinc')\n",
      "\t\tinterpolation method for transformation\n",
      "\t\tflag: -%s_final\n",
      "\tmean_vol: (a boolean)\n",
      "\t\tregister to mean volume\n",
      "\t\tflag: -meanvol\n",
      "\tout_file: (a file name)\n",
      "\t\tfile to write\n",
      "\t\tflag: -out %s\n",
      "\toutput_type: ('NIFTI_PAIR_GZ' or 'NIFTI' or 'NIFTI_PAIR' or\n",
      "\t\t 'NIFTI_GZ')\n",
      "\t\tFSL output type\n",
      "\tref_file: (an existing file name)\n",
      "\t\ttarget image for motion correction\n",
      "\t\tflag: -reffile %s\n",
      "\tref_vol: (an integer (int or long))\n",
      "\t\tvolume to align frames to\n",
      "\t\tflag: -refvol %d\n",
      "\trotation: (an integer (int or long))\n",
      "\t\tscaling factor for rotation tolerances\n",
      "\t\tflag: -rotation %d\n",
      "\tsave_mats: (a boolean)\n",
      "\t\tsave transformation matrices\n",
      "\t\tflag: -mats\n",
      "\tsave_plots: (a boolean)\n",
      "\t\tsave transformation parameters\n",
      "\t\tflag: -plots\n",
      "\tsave_rms: (a boolean)\n",
      "\t\tsave rms displacement parameters\n",
      "\t\tflag: -rmsabs -rmsrel\n",
      "\tscaling: (a float)\n",
      "\t\tscaling factor to use\n",
      "\t\tflag: -scaling %.2f\n",
      "\tsmooth: (a float)\n",
      "\t\tsmoothing factor for the cost function\n",
      "\t\tflag: -smooth %.2f\n",
      "\tstages: (an integer (int or long))\n",
      "\t\tstages (if 4, perform final search with sinc interpolation\n",
      "\t\tflag: -stages %d\n",
      "\tstats_imgs: (a boolean)\n",
      "\t\tproduce variance and std. dev. images\n",
      "\t\tflag: -stats\n",
      "\tterminal_output: ('stream' or 'allatonce' or 'file' or 'none')\n",
      "\t\tControl terminal output: `stream` - displays to terminal immediately\n",
      "\t\t(default), `allatonce` - waits till command is finished to display\n",
      "\t\toutput, `file` - writes output to file, `none` - output is ignored\n",
      "\tuse_contour: (a boolean)\n",
      "\t\trun search on contour images\n",
      "\t\tflag: -edge\n",
      "\tuse_gradient: (a boolean)\n",
      "\t\trun search on gradient images\n",
      "\t\tflag: -gdt\n",
      "\n",
      "Outputs::\n",
      "\n",
      "\tmat_file: (a list of items which are an existing file name)\n",
      "\t\ttransformation matrices\n",
      "\tmean_img: (an existing file name)\n",
      "\t\tmean timeseries image\n",
      "\tout_file: (an existing file name)\n",
      "\t\tmotion-corrected timeseries\n",
      "\tpar_file: (an existing file name)\n",
      "\t\ttext-file with motion parameters\n",
      "\trms_files: (a list of items which are an existing file name)\n",
      "\t\tabsolute and relative displacement parameters\n",
      "\tstd_img: (an existing file name)\n",
      "\t\tstandard deviation image\n",
      "\tvariance_img: (an existing file name)\n",
      "\t\tvariance image\n",
      "\n",
      "References::\n",
      "\n"
     ]
    }
   ],
   "source": [
    "fsl.MCFLIRT.help()"
   ]
  },
  {
   "cell_type": "markdown",
   "metadata": {},
   "source": [
    "We will need the mean EPI image later during the class so we will save it."
   ]
  },
  {
   "cell_type": "code",
   "execution_count": 5,
   "metadata": {
    "collapsed": false
   },
   "outputs": [],
   "source": [
    "force_symlink(mcflirt_results.outputs.mean_img, os.path.join(results_dir, \"meanbold.nii.gz\"))\n",
    "force_symlink(mcflirt_results.outputs.par_file, os.path.join(results_dir, \"motion.par\"))"
   ]
  },
  {
   "cell_type": "markdown",
   "metadata": {},
   "source": [
    "Use FSL's BET to obtain the brain mask"
   ]
  },
  {
   "cell_type": "code",
   "execution_count": 6,
   "metadata": {
    "collapsed": false
   },
   "outputs": [
    {
     "name": "stdout",
     "output_type": "stream",
     "text": [
      "161006-17:31:13,54 workflow INFO:\n",
      "\t Executing node 91d85fb6ab4be0b07acdfb9b82d6f6ac in dir: /home/vagrant/fmri-analysis-vm/analysis/preprocessing/nipype_mem/nipype-interfaces-fsl-preprocess-BET/91d85fb6ab4be0b07acdfb9b82d6f6ac\n",
      "161006-17:31:13,58 workflow INFO:\n",
      "\t Collecting precomputed outputs\n"
     ]
    },
    {
     "data": {
      "text/plain": [
       "\n",
       "inskull_mask_file = <undefined>\n",
       "inskull_mesh_file = <undefined>\n",
       "mask_file = /home/vagrant/fmri-analysis-vm/analysis/preprocessing/nipype_mem/nipype-interfaces-fsl-preprocess-BET/91d85fb6ab4be0b07acdfb9b82d6f6ac/sub00001_ses014_task002_run001_bold_mcf.nii.gz_mean_reg_brain_mask.nii.gz\n",
       "meshfile = <undefined>\n",
       "out_file = /home/vagrant/fmri-analysis-vm/analysis/preprocessing/nipype_mem/nipype-interfaces-fsl-preprocess-BET/91d85fb6ab4be0b07acdfb9b82d6f6ac/sub00001_ses014_task002_run001_bold_mcf.nii.gz_mean_reg_brain.nii.gz\n",
       "outline_file = <undefined>\n",
       "outskin_mask_file = <undefined>\n",
       "outskin_mesh_file = <undefined>\n",
       "outskull_mask_file = <undefined>\n",
       "outskull_mesh_file = <undefined>\n",
       "skull_mask_file = <undefined>"
      ]
     },
     "execution_count": 6,
     "metadata": {},
     "output_type": "execute_result"
    }
   ],
   "source": [
    "bet = mem.cache(fsl.BET)\n",
    "bet_results = bet(functional=True,\n",
    "              in_file=mcflirt_results.outputs.mean_img,\n",
    "              mask=True)\n",
    "force_symlink(bet_results.outputs.mask_file, os.path.join(results_dir, \"mask.nii.gz\"))\n",
    "bet_results.outputs"
   ]
  },
  {
   "cell_type": "markdown",
   "metadata": {},
   "source": [
    "Display the mean image, and show the outline of the brain mask."
   ]
  },
  {
   "cell_type": "code",
   "execution_count": 7,
   "metadata": {
    "collapsed": false,
    "scrolled": true
   },
   "outputs": [
    {
     "data": {
      "image/png": "[encoded data removed]",
      "text/plain": [
       "<matplotlib.figure.Figure at 0x7efcea4d6470>"
      ]
     },
     "metadata": {},
     "output_type": "display_data"
    }
   ],
   "source": [
    "mask_display=nilearn.plotting.plot_epi(mcflirt_results.outputs.mean_img,cmap='gray')\n",
    "mask_display.add_contours(bet_results.outputs.mask_file, levels=[.5])"
   ]
  },
  {
   "cell_type": "markdown",
   "metadata": {},
   "source": [
    "Compute and plot the global signal within the mask across timepoints"
   ]
  },
  {
   "cell_type": "code",
   "execution_count": null,
   "metadata": {
    "collapsed": false
   },
   "outputs": [],
   "source": [
    "maskdata=nibabel.load(bet_results.outputs.mask_file).get_data()\n",
    "bolddata=nibabel.load(mcflirt_results.outputs.out_file).get_data()\n",
    "maskvox=numpy.where(maskdata)\n",
    "globalmean=numpy.zeros(bolddata.shape[3])\n",
    "globalcv=numpy.zeros(bolddata.shape[3])\n",
    "for t in range(bolddata.shape[3]):\n",
    "    tmp=bolddata[:,:,:,t]\n",
    "    globalmean[t]=numpy.mean(tmp[maskvox])\n",
    "    globalcv[t]=numpy.std(tmp[maskvox])/numpy.mean(tmp[maskvox])\n",
    "\n",
    "del bolddata\n"
   ]
  },
  {
   "cell_type": "markdown",
   "metadata": {},
   "source": [
    "Load motion data and compute FD/DVARS.\n",
    "\n",
    "__Exercise:__ The next cell will open the motion-corrected fMRI file in fslview.  Explore the data at the timepoints near the maximum point of motion (which is output by the next cell).  What do you see in this image and those adjacent to it? Did motion correction fully remove the effects of motion in those timepoints?"
   ]
  },
  {
   "cell_type": "code",
   "execution_count": null,
   "metadata": {
    "collapsed": false
   },
   "outputs": [
    {
     "name": "stdout",
     "output_type": "stream",
     "text": [
      "Maximum motion at timepoint 107\n"
     ]
    }
   ],
   "source": [
    "motiondata=numpy.loadtxt(mcflirt_results.outputs.par_file)\n",
    "\n",
    "fd=compute_fd(motiondata)\n",
    "dvars=compute_dvars(globalmean)\n",
    "print('Maximum motion at timepoint %d'%numpy.where(fd==numpy.max(fd))[0])\n",
    "\n",
    "_=os.system('fslview %s'%mcflirt_results.outputs.out_file)"
   ]
  },
  {
   "cell_type": "code",
   "execution_count": null,
   "metadata": {
    "collapsed": false,
    "scrolled": true
   },
   "outputs": [],
   "source": [
    "f, (ax1, ax2,ax3,ax4)=plt.subplots(4, sharex=True)\n",
    "ax1.plot(globalmean)\n",
    "ax1.set_title('Mean global signal for in-mask voxels')\n",
    "\n",
    "ax2.plot(globalcv)\n",
    "ax2.set_title('Coefficient of variation for in-mask voxels')\n",
    "\n",
    "ax3.plot(fd)\n",
    "ax3.set_title('Framewise Displacement')\n",
    "\n",
    "ax4.plot(dvars)\n",
    "ax4.set_title('DVARS')\n",
    "plt.tight_layout()"
   ]
  },
  {
   "cell_type": "markdown",
   "metadata": {},
   "source": [
    "## Performing Independent Component Analysis to look for artefacts"
   ]
  },
  {
   "cell_type": "markdown",
   "metadata": {},
   "source": [
    "Run independent components analysis on the data using MELODIC - this will take a few minutes."
   ]
  },
  {
   "cell_type": "code",
   "execution_count": null,
   "metadata": {
    "collapsed": false
   },
   "outputs": [],
   "source": [
    "melodic = mem.cache(fsl.MELODIC)\n",
    "melodic_results = melodic(out_all=True,\n",
    "                          report=True,\n",
    "                          in_files=mcflirt_results.outputs.out_file,\n",
    "                          mask=bet_results.outputs.mask_file)\n",
    "melodic_results.outputs"
   ]
  },
  {
   "cell_type": "markdown",
   "metadata": {},
   "source": [
    "Check out the MELODIC report"
   ]
  },
  {
   "cell_type": "code",
   "execution_count": null,
   "metadata": {
    "collapsed": false
   },
   "outputs": [],
   "source": [
    "from IPython.display import FileLink\n",
    "FileLink(os.path.join(melodic_results.outputs.report_dir, '00index.html').split(os.getcwd() + '/')[1])"
   ]
  },
  {
   "cell_type": "markdown",
   "metadata": {},
   "source": [
    "Load the ICA components and examine their correlation with the motion signals. For components with a correlation > 0.4, show the component voxels."
   ]
  },
  {
   "cell_type": "code",
   "execution_count": null,
   "metadata": {
    "collapsed": false
   },
   "outputs": [],
   "source": [
    "ica_comps=numpy.loadtxt(os.path.join(melodic_results.outputs.out_dir,'melodic_mix'))\n",
    "os.listdir(melodic_results.outputs.out_dir)"
   ]
  },
  {
   "cell_type": "code",
   "execution_count": null,
   "metadata": {
    "collapsed": false,
    "scrolled": false
   },
   "outputs": [],
   "source": [
    "ica_motion_corr=numpy.zeros(ica_comps.shape[1])\n",
    "for c in range(ica_comps.shape[1]):\n",
    "    ica_motion_corr[c]=numpy.corrcoef(ica_comps[:,c],fd)[0,1]\n",
    "    if abs(ica_motion_corr[c])>0.4:\n",
    "        comp_img=nibabel.load(os.path.join(melodic_results.outputs.out_dir,'stats/thresh_zstat%d.nii.gz'%int(c+1)))\n",
    "        nilearn.plotting.plot_stat_map(comp_img,mcflirt_results.outputs.mean_img,threshold=1.5,\n",
    "               title='component %d - r(FD)=%0.3f'%(c+1,ica_motion_corr[c]))\n",
    "        \n"
   ]
  },
  {
   "cell_type": "code",
   "execution_count": null,
   "metadata": {
    "collapsed": false
   },
   "outputs": [],
   "source": [
    "import seaborn as sns\n",
    "sns.distplot(ica_motion_corr)"
   ]
  },
  {
   "cell_type": "markdown",
   "metadata": {},
   "source": [
    "## Fieldmap unwarping"
   ]
  },
  {
   "cell_type": "markdown",
   "metadata": {},
   "source": [
    "Take the first magnitue image and skull strip it"
   ]
  },
  {
   "cell_type": "code",
   "execution_count": null,
   "metadata": {
    "collapsed": false
   },
   "outputs": [],
   "source": [
    "magfile=os.path.join(datadir,'ds031/sub00001',subject,\n",
    "                'fieldmap/sub00001_ses014_001_magnitude.nii.gz')\n",
    "roi = mem.cache(fsl.ExtractROI)\n",
    "pick_first_mag = roi(in_file=magfile, t_min=0, t_size=1)\n",
    "\n",
    "# we'll need this later\n",
    "force_symlink(pick_first_mag.outputs.roi_file, os.path.join(results_dir, \"fmapmag.nii.gz\"))\n",
    "\n",
    "mag_bet_results = bet(functional=True,\n",
    "                      in_file=pick_first_mag.outputs.roi_file,\n",
    "                      mask=True)\n",
    "mag_bet_results.outputs\n",
    "mask_display=nilearn.plotting.plot_epi(pick_first_mag.outputs.roi_file,cmap='gray')\n",
    "mask_display.add_contours(mag_bet_results.outputs.mask_file, levels=[.5])"
   ]
  },
  {
   "cell_type": "markdown",
   "metadata": {},
   "source": [
    "This was not quite tight enough. Let's try with other parameters"
   ]
  },
  {
   "cell_type": "code",
   "execution_count": null,
   "metadata": {
    "collapsed": false
   },
   "outputs": [],
   "source": [
    "mag_bet_results = bet(functional=True,\n",
    "                      in_file=pick_first_mag.outputs.roi_file,\n",
    "                      mask=True,\n",
    "                      frac=0.65)\n",
    "force_symlink(mag_bet_results.outputs.out_file, os.path.join(results_dir, \"fmapmagbrain.nii.gz\"))\n",
    "mask_display=nilearn.plotting.plot_epi(pick_first_mag.outputs.roi_file,cmap='gray')\n",
    "mask_display.add_contours(mag_bet_results.outputs.mask_file, levels=[.5])\n",
    "mag_bet_results.outputs"
   ]
  },
  {
   "cell_type": "markdown",
   "metadata": {},
   "source": [
    "Prepare the fieldmap"
   ]
  },
  {
   "cell_type": "code",
   "execution_count": null,
   "metadata": {
    "collapsed": false,
    "scrolled": true
   },
   "outputs": [],
   "source": [
    "prepare = mem.cache(fsl.PrepareFieldmap)\n",
    "prepare_results = prepare(in_phase = os.path.join(datadir,'ds031/sub00001',subject,\n",
    "                                                  'fieldmap/sub00001_ses014_001_phasediff.nii.gz'),\n",
    "                          in_magnitude = mag_bet_results.outputs.out_file,\n",
    "                          output_type = \"NIFTI_GZ\")\n",
    "force_symlink(prepare_results.outputs.out_fieldmap, os.path.join(results_dir, \"fieldmap.nii.gz\"))\n",
    "prepare_results.outputs"
   ]
  },
  {
   "cell_type": "markdown",
   "metadata": {},
   "source": [
    "Which parts of the brain were most deformed by B0 inhomogeneities?"
   ]
  },
  {
   "cell_type": "code",
   "execution_count": null,
   "metadata": {
    "collapsed": false
   },
   "outputs": [],
   "source": [
    "nilearn.plotting.plot_stat_map(nilearn.image.index_img(prepare_results.outputs.out_fieldmap,0), \n",
    "                               pick_first_mag.outputs.roi_file, threshold=100)"
   ]
  },
  {
   "cell_type": "markdown",
   "metadata": {},
   "source": [
    "Note that we don't really apply these transformations yet. We'll do it after first level modelling"
   ]
  },
  {
   "cell_type": "code",
   "execution_count": null,
   "metadata": {
    "collapsed": false
   },
   "outputs": [],
   "source": [
    "fugue = mem.cache(fsl.FUGUE)\n",
    "fugue_results = fugue(in_file = mcflirt_results.outputs.mean_img,\n",
    "                      fmap_in_file = prepare_results.outputs.out_fieldmap,\n",
    "                      unwarp_direction = \"y\",\n",
    "                      dwell_time = 2.6/10000.0,\n",
    "                      mask_file = mag_bet_results.outputs.mask_file)\n",
    "fugue_results.outputs"
   ]
  },
  {
   "cell_type": "markdown",
   "metadata": {},
   "source": [
    "__Exercise:__ Compute the difference between the original mean EPI and the field unwarped one, and display the difference map."
   ]
  },
  {
   "cell_type": "markdown",
   "metadata": {},
   "source": [
    "## Spatial smoothing"
   ]
  },
  {
   "cell_type": "markdown",
   "metadata": {
    "collapsed": true
   },
   "source": [
    "Perform spatial smoothing using Gaussian kernel. Can you spot the difference between top and bottom rows?"
   ]
  },
  {
   "cell_type": "code",
   "execution_count": null,
   "metadata": {
    "collapsed": false
   },
   "outputs": [],
   "source": [
    "smooth = mem.cache(fsl.utils.Smooth)\n",
    "smooth_results = smooth(fwhm=2.5,\n",
    "                        in_file=mcflirt_results.outputs.out_file,\n",
    "                        output_type = \"NIFTI\")\n",
    "\n",
    "nilearn.plotting.plot_epi(mcflirt_results.outputs.mean_img,colorbar=True, vmin=410, vmax=21000)\n",
    "nilearn.plotting.plot_epi(nilearn.image.mean_img(smooth_results.outputs.smoothed_file), colorbar=True, vmin=410, vmax=21000)"
   ]
  },
  {
   "cell_type": "markdown",
   "metadata": {},
   "source": [
    "## High pass filtering"
   ]
  },
  {
   "cell_type": "markdown",
   "metadata": {},
   "source": [
    "High-pass filtering - this will take a few minutes"
   ]
  },
  {
   "cell_type": "code",
   "execution_count": null,
   "metadata": {
    "collapsed": false,
    "scrolled": true
   },
   "outputs": [],
   "source": [
    "hpfilt = mem.cache(fsl.maths.TemporalFilter)\n",
    "TR = 2.32\n",
    "hpfilt_results = hpfilt(highpass_sigma = 100/(2*TR),\n",
    "                        in_file=smooth_results.outputs.smoothed_file,\n",
    "                        output_type = \"NIFTI\")\n",
    "\n",
    "mean = mem.cache(fsl.maths.MeanImage)\n",
    "mean_results = mean(in_file = smooth_results.outputs.smoothed_file)\n",
    "\n",
    "rescale = mem.cache(fsl.maths.BinaryMaths)\n",
    "rescale_results = rescale(in_file=hpfilt_results.outputs.out_file,\n",
    "                          operand_file = mean_results.outputs.out_file,\n",
    "                          operation = \"add\",\n",
    "                          output_type = \"NIFTI\")\n",
    "\n",
    "force_symlink(rescale_results.outputs.out_file, os.path.join(results_dir, \"preprocessed_epi_native_space.nii\"))"
   ]
  },
  {
   "cell_type": "markdown",
   "metadata": {},
   "source": [
    "__Exercise:__ Plot the times series for a voxel before and after filtering.  What is the effect?"
   ]
  },
  {
   "cell_type": "code",
   "execution_count": null,
   "metadata": {
    "collapsed": true
   },
   "outputs": [],
   "source": []
  }
 ],
 "metadata": {
  "anaconda-cloud": {},
  "git": {
   "suppress_outputs": true
  },
  "kernelspec": {
   "display_name": "Python [conda root]",
   "language": "python",
   "name": "conda-root-py"
  },
  "language_info": {
   "codemirror_mode": {
    "name": "ipython",
    "version": 3
   },
   "file_extension": ".py",
   "mimetype": "text/x-python",
   "name": "python",
   "nbconvert_exporter": "python",
   "pygments_lexer": "ipython3",
   "version": "3.5.2"
  }
 },
 "nbformat": 4,
 "nbformat_minor": 0
}
