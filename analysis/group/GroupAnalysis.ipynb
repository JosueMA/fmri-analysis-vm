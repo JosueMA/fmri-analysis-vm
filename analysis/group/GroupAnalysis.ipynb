{
 "cells": [
  {
   "cell_type": "markdown",
   "metadata": {},
   "source": [
    "Run a group analysis using FSL.  The data are obtained from the Human Connectome Project, and include 32 subjects on a relational matching task (using the Relational - Match contrast)."
   ]
  },
  {
   "cell_type": "code",
   "metadata": {
    "collapsed": false
   },
   "outputs": [],
   "source": [
    "import os\n",
    "from nipype.interfaces import fsl\n",
    "import nibabel\n",
    "import numpy\n",
    "import nilearn.plotting\n",
    "\n",
    "%matplotlib inline\n",
    "\n",
    "import matplotlib.pyplot as plt\n",
    "\n",
    "basedir='/Users/poldrack/data_unsynced/HCP/HCP_relational'\n",
    "analysis_dir=os.path.join(basedir,'group_cope4')\n",
    "copefile=os.path.join(basedir,'cope.nii.gz')\n",
    "varcopefile=os.path.join(basedir,'varcope.nii.gz')\n",
    "nsubs=32\n"
   ]
  },
  {
   "cell_type": "markdown",
   "metadata": {},
   "source": [
    "First run using OLS."
   ]
  },
  {
   "cell_type": "code",
   "metadata": {
    "collapsed": false
   },
   "outputs": [],
   "source": [
    "if not os.path.exists(analysis_dir):\n",
    "    os.mkdir(analysis_dir)\n",
    "    \n",
    "deshdr=\"\"\"/NumWaves\t1\n",
    "/NumPoints\t32\n",
    "/PPheights\t\t1.000000e+00\n",
    "\n",
    "/Matrix\"\"\"\n",
    "\n",
    "conhdr=\"\"\"/ContrastName1\tgroup mean\n",
    "/NumWaves\t1\n",
    "/NumContrasts\t1\n",
    "/PPheights\t\t1.000000e+00\n",
    "/RequiredEffect\t\t1.441\n",
    "\n",
    "/Matrix\"\"\"\n",
    "\n",
    "grouphdr=\"\"\"/NumWaves\t1\n",
    "/NumPoints\t32\n",
    "\n",
    "/Matrix\"\"\"\n",
    "os.chdir(analysis_dir)\n",
    "desmtx=numpy.ones((nsubs,1))\n",
    "numpy.savetxt('design.mat',desmtx,fmt='%1.0f',header=deshdr,comments='')\n",
    "numpy.savetxt('covsplit.txt',desmtx,fmt='%1.0f',header=grouphdr,comments='')\n",
    "conmtx=numpy.ones(1)\n",
    "numpy.savetxt('design.con',conmtx,fmt='%1.0f',header=conhdr,comments='')\n",
    "\n",
    "flameo = fsl.FLAMEO(cope_file=copefile, \n",
    "                    var_cope_file=varcopefile,\n",
    "                    design_file='design.mat',\n",
    "                    cov_split_file='covsplit.txt',\n",
    "                    t_con_file='design.con',\n",
    "                    mask_file=os.path.join(os.getenv('FSLDIR'),'data/standard/MNI152_T1_2mm_brain_mask_dil.nii.gz'),\n",
    "                    run_mode='ols')\n",
    "flameo.run()\n",
    "\n",
    "try:\n",
    "    os.rename('stats','stats_OLS')\n",
    "except:\n",
    "    if not os.path.exists('stats_OLS'):\n",
    "        print 'hmm, something went terribly wrong'"
   ]
  },
  {
   "cell_type": "markdown",
   "metadata": {},
   "source": [
    "Estimate smoothness and compute cluster-corrected thresholded map"
   ]
  },
  {
   "cell_type": "code",
   "metadata": {
    "collapsed": false
   },
   "outputs": [],
   "source": [
    "est = fsl.SmoothEstimate()\n",
    "est.inputs.dof=32\n",
    "est.inputs.residual_fit_file = 'stats_OLS/res4d.nii.gz'\n",
    "est.inputs.mask_file = os.path.join(os.getenv('FSLDIR'),'data/standard/MNI152_T1_2mm_brain_mask_dil.nii.gz')\n",
    "smoothness=est.run()"
   ]
  },
  {
   "cell_type": "code",
   "metadata": {
    "collapsed": false
   },
   "outputs": [],
   "source": [
    "cl = fsl.Cluster()\n",
    "cl.inputs.threshold = 2.3\n",
    "cl.inputs.in_file = 'stats_OLS/zstat1.nii.gz'\n",
    "cl.inputs.terminal_output = 'file' \n",
    "cl.inputs.dlh=smoothness.outputs.dlh\n",
    "cl.inputs.volume=smoothness.outputs.volume\n",
    "cl.inputs.pthreshold=0.05\n",
    "cl.inputs.out_threshold_file='stats_OLS/zstat1_thresh.nii.gz'\n",
    "cl.run()\n",
    "\n",
    "os.rename('stdout.nipype','stats_OLS/zstat1_cluster_max.txt')\n",
    "\n",
    "thresh_zstat_OLS=nibabel.load('stats_OLS/zstat1_thresh.nii.gz')\n",
    "bgimage=nibabel.load(os.path.join(os.getenv('FSLDIR'),'data/standard/MNI152_T1_2mm_brain.nii.gz'))\n",
    "map_display=nilearn.plotting.plot_stat_map(thresh_zstat_OLS,bgimage,threshold=2.3,title='cluster corrected')"
   ]
  },
  {
   "cell_type": "markdown",
   "metadata": {},
   "source": [
    "Run same model using mixed effects with FLAME 1"
   ]
  },
  {
   "cell_type": "code",
   "metadata": {
    "collapsed": false
   },
   "outputs": [],
   "source": [
    "flameo = fsl.FLAMEO(cope_file=copefile, \n",
    "                    var_cope_file=varcopefile,\n",
    "                    design_file='design.mat',\n",
    "                    cov_split_file='covsplit.txt',\n",
    "                    t_con_file='design.con',\n",
    "                    mask_file=os.path.join(os.getenv('FSLDIR'),'data/standard/MNI152_T1_2mm_brain_mask_dil.nii.gz'),\n",
    "                    run_mode='flame1')\n",
    "flameo.run()\n",
    "\n",
    "try:\n",
    "    os.rename('stats','stats_FLAME1')\n",
    "except:\n",
    "    if not os.path.exists('stats_FLAME1'):\n",
    "        print 'hmm, something went terribly wrong'\n"
   ]
  },
  {
   "cell_type": "markdown",
   "metadata": {},
   "source": [
    "Run fixed effects model for comparison"
   ]
  },
  {
   "cell_type": "code",
   "metadata": {
    "collapsed": false
   },
   "outputs": [],
   "source": [
    "flameo = fsl.FLAMEO(cope_file=copefile, \n",
    "                    var_cope_file=varcopefile,\n",
    "                    design_file='design.mat',\n",
    "                    cov_split_file='covsplit.txt',\n",
    "                    t_con_file='design.con',\n",
    "                    mask_file=os.path.join(os.getenv('FSLDIR'),'data/standard/MNI152_T1_2mm_brain_mask_dil.nii.gz'),\n",
    "                    run_mode='fe')\n",
    "flameo.run()\n",
    "\n",
    "try:\n",
    "    os.rename('stats','stats_fe')\n",
    "except:\n",
    "    if not os.path.exists('stats_fe'):\n",
    "        print 'hmm, something went terribly wrong'\n"
   ]
  },
  {
   "cell_type": "markdown",
   "metadata": {},
   "source": [
    "Plot fixed effects stats against OLS and OLS against FLAME1"
   ]
  },
  {
   "cell_type": "code",
   "metadata": {
    "collapsed": false
   },
   "outputs": [],
   "source": [
    "try:\n",
    "    maskdata\n",
    "except:\n",
    "    zstat_fe=nibabel.load('stats_fe/zstat1.nii.gz').get_data()\n",
    "    zstat_FLAME1=nibabel.load('stats_FLAME1/zstat1.nii.gz').get_data()\n",
    "    zstat_OLS=nibabel.load('stats_OLS/zstat1.nii.gz').get_data()\n",
    "    maskdata=(zstat_fe!=0)*(zstat_FLAME1!=0)*(zstat_OLS!=0)\n",
    "\n",
    "mindata=numpy.min([numpy.min(zstat_fe[maskdata>0]),numpy.min(zstat_OLS[maskdata>0])])\n",
    "maxdata=numpy.max([numpy.max(zstat_fe[maskdata>0]),numpy.max(zstat_OLS[maskdata>0])])\n",
    "plt.figure(figsize=(12,4))\n",
    "plt.subplot(121)\n",
    "plt.hist(zstat_fe[zstat_OLS>0] - zstat_OLS[zstat_OLS>0],100)\n",
    "plt.xlabel('FE Z - OLS Z')\n",
    "plt.subplot(122)\n",
    "\n",
    "sc=plt.scatter(zstat_OLS[maskdata>0],zstat_fe[maskdata>0])\n",
    "mindata=numpy.min([sc.get_axes().get_xlim()[0],sc.get_axes().get_ylim()[0]])\n",
    "maxdata=numpy.max([sc.get_axes().get_xlim()[1],sc.get_axes().get_ylim()[1]])\n",
    "plt.plot([mindata,maxdata],[mindata,maxdata],color='red')\n",
    "plt.ylabel('Fixed effect Z')\n",
    "plt.xlabel('OLS Z')\n",
    "\n",
    "\n",
    "mindata=numpy.min([numpy.min(zstat_FLAME1[maskdata>0]),numpy.min(zstat_OLS[maskdata>0])])\n",
    "maxdata=numpy.max([numpy.max(zstat_FLAME1[maskdata>0]),numpy.max(zstat_OLS[maskdata>0])])\n",
    "plt.figure(figsize=(12,4))\n",
    "plt.subplot(121)\n",
    "plt.hist(zstat_OLS[zstat_OLS>0] - zstat_FLAME1[zstat_OLS>0],100)\n",
    "plt.xlabel('OLS Z - FLAME1 Z')\n",
    "plt.subplot(122)\n",
    "\n",
    "sc=plt.scatter(zstat_FLAME1[maskdata>0],zstat_OLS[maskdata>0])\n",
    "mindata=numpy.min([sc.get_axes().get_xlim()[0],sc.get_axes().get_ylim()[0]])\n",
    "maxdata=numpy.max([sc.get_axes().get_xlim()[1],sc.get_axes().get_ylim()[1]])\n",
    "plt.plot([mindata,maxdata],[mindata,maxdata],color='red')\n",
    "plt.ylabel('OLS Z')\n",
    "plt.xlabel('FLAME1 Z')\n",
    "\n",
    "print 'mean absolute difference:'\n",
    "print 'FE Z - OLS Z:',numpy.mean(numpy.abs(zstat_fe[maskdata>0] - zstat_OLS[maskdata>0]))\n",
    "print 'OLS Z - FLAME1 Z:',numpy.mean(numpy.abs(zstat_OLS[maskdata>0] - zstat_FLAME1[maskdata>0]))"
   ]
  },
  {
   "cell_type": "markdown",
   "metadata": {},
   "source": [
    "Look for outlier subjects by examining residuals"
   ]
  },
  {
   "cell_type": "code",
   "metadata": {
    "collapsed": false
   },
   "outputs": [],
   "source": [
    "residfile='stats_FLAME1/res4d.nii.gz'\n",
    "res4d=nibabel.load(residfile).get_data()\n",
    "resdata=numpy.zeros((res4d.shape[3],numpy.sum(maskdata)))\n",
    "\n",
    "for i in range(res4d.shape[3]):\n",
    "    tmp=res4d[:,:,:,i]\n",
    "    resdata[i,:]=tmp[maskdata>0]"
   ]
  },
  {
   "cell_type": "code",
   "metadata": {
    "collapsed": false
   },
   "outputs": [],
   "source": [
    "import sklearn.manifold\n",
    "t=sklearn.manifold.TSNE(init='pca')\n",
    "embedding=t.fit_transform(resdata)\n",
    "plt.figure()\n",
    "plt.axis([numpy.min(embedding[:,0])*1.2,numpy.max(embedding[:,0])*1.2,numpy.min(embedding[:,1])*1.2,numpy.max(embedding[:,1])*1.2])\n",
    "for i in range(embedding.shape[0]):\n",
    "    \n",
    "    plt.text(embedding[i,0],embedding[i,1],'%d'%int(i+1))\n"
   ]
  },
  {
   "cell_type": "markdown",
   "metadata": {},
   "source": [
    "\n"
   ]
  },
  {
   "cell_type": "code",
   "metadata": {
    "collapsed": false
   },
   "outputs": [],
   "source": [
    "import sklearn.cluster\n",
    "hclust=sklearn.cluster()\n"
   ]
  },
  {
   "cell_type": "code",
   "metadata": {
    "collapsed": true
   },
   "outputs": [],
   "source": []
  }
 ],
 "metadata": {
  "git": {
   "suppress_outputs": true
  },
  "kernelspec": {
   "display_name": "Python 2",
   "language": "python",
   "name": "python2"
  },
  "language_info": {
   "codemirror_mode": {
    "name": "ipython",
    "version": 2
   },
   "file_extension": ".py",
   "mimetype": "text/x-python",
   "name": "python",
   "nbconvert_exporter": "python",
   "pygments_lexer": "ipython2",
   "version": "2.7.10"
  }
 },
 "nbformat": 4,
 "nbformat_minor": 0
}