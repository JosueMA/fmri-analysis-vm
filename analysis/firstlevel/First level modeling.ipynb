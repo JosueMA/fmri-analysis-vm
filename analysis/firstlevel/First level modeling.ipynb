{
 "cells": [
  {
   "cell_type": "markdown",
   "metadata": {},
   "source": [
    "This code will load the model information, generate the model definition, and run the model estimation using FSL"
   ]
  },
  {
   "cell_type": "code",
   "execution_count": 1,
   "metadata": {
    "collapsed": false
   },
   "outputs": [
    {
     "name": "stdout",
     "output_type": "stream",
     "text": [
      "Using data from /home/vagrant/data\n"
     ]
    }
   ],
   "source": [
    "import nipype.algorithms.modelgen as model   # model generation\n",
    "import nipype.interfaces.fsl as fsl          # fsl\n",
    "from nipype.interfaces.base import Bunch\n",
    "import os,json,glob\n",
    "import numpy\n",
    "import nibabel\n",
    "import nilearn.plotting\n",
    "\n",
    "from make_event_files_from_json import MakeEventFilesFromJSON\n",
    "%matplotlib inline\n",
    "import matplotlib.pyplot as plt\n",
    "\n",
    "\n",
    "try:\n",
    "    datadir=os.environ['FMRIDATADIR']\n",
    "    assert not datadir==''\n",
    "except:\n",
    "    datadir='/Users/poldrack/data_unsynced/myconnectome/sub00001'\n",
    "    \n",
    "results_dir = os.path.abspath(\"../results\")\n",
    "if not os.path.exists(results_dir):\n",
    "    os.mkdir(results_dir)\n",
    "\n",
    "from nipype.caching import Memory\n",
    "mem = Memory(base_dir='.')\n",
    "\n",
    "print 'Using data from',datadir"
   ]
  },
  {
   "cell_type": "markdown",
   "metadata": {},
   "source": [
    "Load the scan and model info, and generate the event files for FSL from the information in model.json"
   ]
  },
  {
   "cell_type": "code",
   "execution_count": 2,
   "metadata": {
    "collapsed": false
   },
   "outputs": [],
   "source": [
    "subject='sub00001'\n",
    "session='ses014'  \n",
    "# note - we have to use the anatomy from a different session'\n",
    "subdir=os.path.join(datadir,'ds031', subject, session)\n",
    "tasknum=2 # n-back\n",
    "\n",
    "preprocessed_epi = os.path.join(results_dir, \"preprocessed_epi_native_space.nii.gz\")\n",
    "\n",
    "scaninfo=json.load(open(os.path.join(subdir,\n",
    "        'functional/sub00001_ses014_task002_run001_bold.json')))\n",
    "tr=scaninfo['RepetitionTime']\n",
    "\n",
    "modelfile=os.path.join(subdir,'model.json')\n",
    "modelinfo=json.load(open(modelfile))\n",
    "taskinfo=modelinfo['task%03d'%tasknum]['model001']\n",
    "evs=taskinfo['Variables']\n",
    "contrasts=taskinfo['Contrasts']\n",
    "\n",
    "# get the response onsets\n",
    "response_onsets=[]\n",
    "\n",
    "for v in evs.iterkeys():\n",
    "\n",
    "    if evs[v]['VariableName'].find('_target_ons')>-1:\n",
    "        for ons in evs[v]['onsets']:\n",
    "            response_onsets.append(ons[0])"
   ]
  },
  {
   "cell_type": "markdown",
   "metadata": {},
   "source": [
    "Specify the model.  For the sake of speed we will use a simplified model that treats the study as a blocked design rather than modeling each item separately, but we also model instructions and motor responses; this, it is a hybrid block/event-related design"
   ]
  },
  {
   "cell_type": "code",
   "execution_count": 3,
   "metadata": {
    "collapsed": false
   },
   "outputs": [],
   "source": [
    "#modeldir=os.path.join(subdir,'model/task%03d/model001/featmodel'%tasknum)\n",
    "# no way to specify the output directory, so we just chdir into the \n",
    "# desired output directory\n",
    "#if not os.path.exists(modeldir):\n",
    "#    os.mkdir(modeldir)\n",
    "#os.chdir(modeldir)\n",
    "\n",
    "instruction_onsets=list(numpy.array([68,176,372,2,154,416,24,220,350,112,198,328,46,264,394,90,242,306])-2.0)\n",
    "\n",
    "info = [Bunch(conditions=['faces-1back',\n",
    "                          'faces-2back',\n",
    "                          'scenes-1back',\n",
    "                          'scenes-2back',\n",
    "                          'chars-1back',\n",
    "                          'chars-2back',\n",
    "                          'instructions',\n",
    "                          'responses'],\n",
    "              onsets=[[68,176,372],\n",
    "                      [2,154,416],\n",
    "                      [24,220,350],\n",
    "                      [112,198,328],\n",
    "                      [46,264,394],\n",
    "                      [90,242,306],\n",
    "                      instruction_onsets,\n",
    "                      response_onsets],\n",
    "              durations=[[20],\n",
    "                         [20],\n",
    "                         [20],\n",
    "                         [20],\n",
    "                         [20],\n",
    "                         [20],\n",
    "                         [2],\n",
    "                         [1]])\n",
    "       ]\n",
    "\n",
    "s = model.SpecifyModel()\n",
    "s.inputs.input_units = 'secs'\n",
    "s.inputs.functional_runs = preprocessed_epi\n",
    "s.inputs.time_repetition = 6\n",
    "s.inputs.high_pass_filter_cutoff = 128.\n",
    "s.inputs.subject_info = info\n",
    "specify_model_results = s.run()"
   ]
  },
  {
   "cell_type": "markdown",
   "metadata": {},
   "source": [
    "Generate the fsf and ev files using Level1Design"
   ]
  },
  {
   "cell_type": "code",
   "execution_count": 4,
   "metadata": {
    "collapsed": false
   },
   "outputs": [
    {
     "name": "stderr",
     "output_type": "stream",
     "text": [
      "INFO:workflow:Executing node fd0e4b41992c6422157c4efe0fbf2570 in dir: /home/vagrant/fmri-analysis-vm/analysis/firstlevel/nipype_mem/nipype-interfaces-fsl-model-Level1Design/fd0e4b41992c6422157c4efe0fbf2570\n"
     ]
    },
    {
     "data": {
      "text/plain": [
       "\n",
       "ev_files = ['/home/vagrant/fmri-analysis-vm/analysis/firstlevel/nipype_mem/nipype-interfaces-fsl-model-Level1Design/fd0e4b41992c6422157c4efe0fbf2570/ev_faces-1back_0_1.txt', '/home/vagrant/fmri-analysis-vm/analysis/firstlevel/nipype_mem/nipype-interfaces-fsl-model-Level1Design/fd0e4b41992c6422157c4efe0fbf2570/ev_faces-2back_0_3.txt', '/home/vagrant/fmri-analysis-vm/analysis/firstlevel/nipype_mem/nipype-interfaces-fsl-model-Level1Design/fd0e4b41992c6422157c4efe0fbf2570/ev_scenes-1back_0_5.txt', '/home/vagrant/fmri-analysis-vm/analysis/firstlevel/nipype_mem/nipype-interfaces-fsl-model-Level1Design/fd0e4b41992c6422157c4efe0fbf2570/ev_scenes-2back_0_7.txt', '/home/vagrant/fmri-analysis-vm/analysis/firstlevel/nipype_mem/nipype-interfaces-fsl-model-Level1Design/fd0e4b41992c6422157c4efe0fbf2570/ev_chars-1back_0_9.txt', '/home/vagrant/fmri-analysis-vm/analysis/firstlevel/nipype_mem/nipype-interfaces-fsl-model-Level1Design/fd0e4b41992c6422157c4efe0fbf2570/ev_chars-2back_0_11.txt', '/home/vagrant/fmri-analysis-vm/analysis/firstlevel/nipype_mem/nipype-interfaces-fsl-model-Level1Design/fd0e4b41992c6422157c4efe0fbf2570/ev_instructions_0_13.txt', '/home/vagrant/fmri-analysis-vm/analysis/firstlevel/nipype_mem/nipype-interfaces-fsl-model-Level1Design/fd0e4b41992c6422157c4efe0fbf2570/ev_responses_0_15.txt']\n",
       "fsf_files = /home/vagrant/fmri-analysis-vm/analysis/firstlevel/nipype_mem/nipype-interfaces-fsl-model-Level1Design/fd0e4b41992c6422157c4efe0fbf2570/run0.fsf"
      ]
     },
     "execution_count": 4,
     "metadata": {},
     "output_type": "execute_result"
    }
   ],
   "source": [
    "contrasts=[['faces>Baseline','T', \n",
    "            ['faces-1back','faces-2back'],[0.5,0.5]],\n",
    "           ['scenes>Baseline','T', \n",
    "            ['scenes-1back','scenes-2back'],[0.5,0.5]],\n",
    "           ['chars>Baseline','T', \n",
    "            ['chars-1back','chars-2back'],[0.5,0.5]],\n",
    "           ['2back>1back','T', \n",
    "            ['faces-1back','faces-2back','scenes-1back','scenes-2back','chars-1back','chars-2back'],[-1,1,-1,1,-1,1,-1,1]],\n",
    "          ['response>Baseline','T',\n",
    "           ['responses'],[1]],\n",
    "          ['instructions>Baseline','T',\n",
    "           ['instructions'],[1]]]\n",
    "           \n",
    "level1design = mem.cache(fsl.model.Level1Design)\n",
    "level1design_results = level1design(interscan_interval = tr,\n",
    "                                    bases = {'dgamma':{'derivs': True}},\n",
    "                                    session_info = specify_model_results.outputs.session_info,\n",
    "                                    model_serial_correlations=True,\n",
    "                                    contrasts=contrasts)\n",
    "\n",
    "level1design_results.outputs"
   ]
  },
  {
   "cell_type": "markdown",
   "metadata": {},
   "source": [
    "Generate the full set of model files using FEATModel"
   ]
  },
  {
   "cell_type": "code",
   "execution_count": 5,
   "metadata": {
    "collapsed": false
   },
   "outputs": [
    {
     "name": "stderr",
     "output_type": "stream",
     "text": [
      "INFO:workflow:Executing node e88c9cabfa8dd6a9d95fdc8320018009 in dir: /home/vagrant/fmri-analysis-vm/analysis/firstlevel/nipype_mem/nipype-interfaces-fsl-model-FEATModel/e88c9cabfa8dd6a9d95fdc8320018009\n",
      "INFO:workflow:Running: feat_model run0 \n"
     ]
    },
    {
     "data": {
      "text/plain": [
       "\n",
       "con_file = /home/vagrant/fmri-analysis-vm/analysis/firstlevel/nipype_mem/nipype-interfaces-fsl-model-FEATModel/e88c9cabfa8dd6a9d95fdc8320018009/run0.con\n",
       "design_cov = /home/vagrant/fmri-analysis-vm/analysis/firstlevel/nipype_mem/nipype-interfaces-fsl-model-FEATModel/e88c9cabfa8dd6a9d95fdc8320018009/run0_cov.png\n",
       "design_file = /home/vagrant/fmri-analysis-vm/analysis/firstlevel/nipype_mem/nipype-interfaces-fsl-model-FEATModel/e88c9cabfa8dd6a9d95fdc8320018009/run0.mat\n",
       "design_image = /home/vagrant/fmri-analysis-vm/analysis/firstlevel/nipype_mem/nipype-interfaces-fsl-model-FEATModel/e88c9cabfa8dd6a9d95fdc8320018009/run0.png\n",
       "fcon_file = <undefined>"
      ]
     },
     "execution_count": 5,
     "metadata": {},
     "output_type": "execute_result"
    }
   ],
   "source": [
    "modelgen = mem.cache(fsl.model.FEATModel)\n",
    "modelgen_results = modelgen(fsf_file=level1design_results.outputs.fsf_files,\n",
    "                            ev_files=level1design_results.outputs.ev_files)\n",
    "modelgen_results.outputs"
   ]
  },
  {
   "cell_type": "markdown",
   "metadata": {},
   "source": [
    "Visualize the design matrix"
   ]
  },
  {
   "cell_type": "code",
   "execution_count": 6,
   "metadata": {
    "collapsed": false
   },
   "outputs": [
    {
     "data": {
      "text/plain": [
       "<matplotlib.image.AxesImage at 0x7f97578bb410>"
      ]
     },
     "execution_count": 6,
     "metadata": {},
     "output_type": "execute_result"
    },
    {
     "data": {
      "image/png": "[encoded data removed]",
      "text/plain": [
       "<matplotlib.figure.Figure at 0x7f978554e6d0>"
      ]
     },
     "metadata": {},
     "output_type": "display_data"
    }
   ],
   "source": [
    "desmtx=numpy.loadtxt(modelgen_results.outputs.design_file,skiprows=5)\n",
    "plt.imshow(desmtx,aspect='auto',interpolation='nearest',cmap='gray')"
   ]
  },
  {
   "cell_type": "markdown",
   "metadata": {},
   "source": [
    "Show the correlation matrix for design"
   ]
  },
  {
   "cell_type": "code",
   "execution_count": 7,
   "metadata": {
    "collapsed": false
   },
   "outputs": [
    {
     "data": {
      "text/plain": [
       "<matplotlib.colorbar.Colorbar instance at 0x7f9757750830>"
      ]
     },
     "execution_count": 7,
     "metadata": {},
     "output_type": "execute_result"
    },
    {
     "data": {
      "image/png": "[encoded data removed]",
      "text/plain": [
       "<matplotlib.figure.Figure at 0x7f9757898e90>"
      ]
     },
     "metadata": {},
     "output_type": "display_data"
    }
   ],
   "source": [
    "cc=numpy.corrcoef(desmtx.T)\n",
    "plt.imshow(cc,aspect='auto',interpolation='nearest', cmap=plt.cm.cubehelix_r)\n",
    "plt.colorbar()"
   ]
  },
  {
   "cell_type": "markdown",
   "metadata": {},
   "source": [
    "Estimate the model using FILMGLS - this will take a few minutes."
   ]
  },
  {
   "cell_type": "code",
   "execution_count": 11,
   "metadata": {
    "collapsed": false
   },
   "outputs": [
    {
     "name": "stderr",
     "output_type": "stream",
     "text": [
      "INFO:workflow:Executing node e759b53d5ad62afdf07d35d89c2e3740 in dir: /home/vagrant/fmri-analysis-vm/analysis/firstlevel/nipype_mem/nipype-interfaces-fsl-model-FILMGLS/e759b53d5ad62afdf07d35d89c2e3740\n",
      "INFO:workflow:Running: film_gls --noest -v --ms=5 --rn=results --con=/home/vagrant/fmri-analysis-vm/analysis/firstlevel/nipype_mem/nipype-interfaces-fsl-model-FEATModel/e88c9cabfa8dd6a9d95fdc8320018009/run0.con --in=/home/vagrant/fmri-analysis-vm/analysis/results/preprocessed_epi_native_space.nii.gz --pd=/home/vagrant/fmri-analysis-vm/analysis/firstlevel/nipype_mem/nipype-interfaces-fsl-model-FEATModel/e88c9cabfa8dd6a9d95fdc8320018009/run0.mat --thr=1000.000000\n",
      "INFO:interface:stdout 2015-08-13T00:33:46.241109:Log directory is: results\n",
      "INFO:interface:stdout 2015-08-13T00:34:08.370892:paradigm.getDesignMatrix().Nrows()=380\n",
      "INFO:interface:stdout 2015-08-13T00:34:08.375968:paradigm.getDesignMatrix().Ncols()=16\n",
      "INFO:interface:stdout 2015-08-13T00:34:08.375968:sizeTS=380\n",
      "INFO:interface:stdout 2015-08-13T00:34:08.375968:numTS=626687\n",
      "INFO:interface:stderr 2015-08-13T00:34:08.424038:Uncaught exception!\n"
     ]
    },
    {
     "ename": "RuntimeError",
     "evalue": "Command:\nfilm_gls --noest -v --ms=5 --rn=results --con=/home/vagrant/fmri-analysis-vm/analysis/firstlevel/nipype_mem/nipype-interfaces-fsl-model-FEATModel/e88c9cabfa8dd6a9d95fdc8320018009/run0.con --in=/home/vagrant/fmri-analysis-vm/analysis/results/preprocessed_epi_native_space.nii.gz --pd=/home/vagrant/fmri-analysis-vm/analysis/firstlevel/nipype_mem/nipype-interfaces-fsl-model-FEATModel/e88c9cabfa8dd6a9d95fdc8320018009/run0.mat --thr=1000.000000\nStandard output:\nLog directory is: results\nparadigm.getDesignMatrix().Nrows()=380\nparadigm.getDesignMatrix().Ncols()=16\nsizeTS=380\nnumTS=626687\nStandard error:\nUncaught exception!\nReturn code: 1\nInterface FILMGLS failed to run. ",
     "output_type": "error",
     "traceback": [
      "\u001b[1;31m---------------------------------------------------------------------------\u001b[0m",
      "\u001b[1;31mRuntimeError\u001b[0m                              Traceback (most recent call last)",
      "\u001b[1;32m<ipython-input-11-a827ef4b0563>\u001b[0m in \u001b[0;36m<module>\u001b[1;34m()\u001b[0m\n\u001b[0;32m      6\u001b[0m                    \u001b[0mthreshold\u001b[0m\u001b[1;33m=\u001b[0m \u001b[1;36m1000\u001b[0m\u001b[1;33m,\u001b[0m\u001b[1;33m\u001b[0m\u001b[0m\n\u001b[0;32m      7\u001b[0m                    \u001b[0mfull_data\u001b[0m\u001b[1;33m=\u001b[0m\u001b[0mTrue\u001b[0m\u001b[1;33m,\u001b[0m\u001b[1;33m\u001b[0m\u001b[0m\n\u001b[1;32m----> 8\u001b[1;33m                    mask_size=5)\n\u001b[0m\u001b[0;32m      9\u001b[0m \u001b[0mfgls_results\u001b[0m\u001b[1;33m.\u001b[0m\u001b[0moutputs\u001b[0m\u001b[1;33m\u001b[0m\u001b[0m\n",
      "\u001b[1;32m/home/vagrant/miniconda/lib/python2.7/site-packages/nipype/caching/memory.pyc\u001b[0m in \u001b[0;36m__call__\u001b[1;34m(self, **kwargs)\u001b[0m\n\u001b[0;32m     77\u001b[0m         \u001b[0mnode\u001b[0m \u001b[1;33m=\u001b[0m \u001b[0mNode\u001b[0m\u001b[1;33m(\u001b[0m\u001b[0minterface\u001b[0m\u001b[1;33m,\u001b[0m \u001b[0mname\u001b[0m\u001b[1;33m=\u001b[0m\u001b[0mjob_name\u001b[0m\u001b[1;33m)\u001b[0m\u001b[1;33m\u001b[0m\u001b[0m\n\u001b[0;32m     78\u001b[0m         \u001b[0mnode\u001b[0m\u001b[1;33m.\u001b[0m\u001b[0mbase_dir\u001b[0m \u001b[1;33m=\u001b[0m \u001b[0mos\u001b[0m\u001b[1;33m.\u001b[0m\u001b[0mpath\u001b[0m\u001b[1;33m.\u001b[0m\u001b[0mjoin\u001b[0m\u001b[1;33m(\u001b[0m\u001b[0mself\u001b[0m\u001b[1;33m.\u001b[0m\u001b[0mbase_dir\u001b[0m\u001b[1;33m,\u001b[0m \u001b[0mdir_name\u001b[0m\u001b[1;33m)\u001b[0m\u001b[1;33m\u001b[0m\u001b[0m\n\u001b[1;32m---> 79\u001b[1;33m         \u001b[0mout\u001b[0m \u001b[1;33m=\u001b[0m \u001b[0mnode\u001b[0m\u001b[1;33m.\u001b[0m\u001b[0mrun\u001b[0m\u001b[1;33m(\u001b[0m\u001b[1;33m)\u001b[0m\u001b[1;33m\u001b[0m\u001b[0m\n\u001b[0m\u001b[0;32m     80\u001b[0m         \u001b[1;32mif\u001b[0m \u001b[0mself\u001b[0m\u001b[1;33m.\u001b[0m\u001b[0mcallback\u001b[0m \u001b[1;32mis\u001b[0m \u001b[1;32mnot\u001b[0m \u001b[0mNone\u001b[0m\u001b[1;33m:\u001b[0m\u001b[1;33m\u001b[0m\u001b[0m\n\u001b[0;32m     81\u001b[0m             \u001b[0mself\u001b[0m\u001b[1;33m.\u001b[0m\u001b[0mcallback\u001b[0m\u001b[1;33m(\u001b[0m\u001b[0mdir_name\u001b[0m\u001b[1;33m,\u001b[0m \u001b[0mjob_name\u001b[0m\u001b[1;33m)\u001b[0m\u001b[1;33m\u001b[0m\u001b[0m\n",
      "\u001b[1;32m/home/vagrant/miniconda/lib/python2.7/site-packages/nipype/pipeline/engine.pyc\u001b[0m in \u001b[0;36mrun\u001b[1;34m(self, updatehash)\u001b[0m\n\u001b[0;32m   1426\u001b[0m                     self.inputs.get_traitsfree())\n\u001b[0;32m   1427\u001b[0m             \u001b[1;32mtry\u001b[0m\u001b[1;33m:\u001b[0m\u001b[1;33m\u001b[0m\u001b[0m\n\u001b[1;32m-> 1428\u001b[1;33m                 \u001b[0mself\u001b[0m\u001b[1;33m.\u001b[0m\u001b[0m_run_interface\u001b[0m\u001b[1;33m(\u001b[0m\u001b[1;33m)\u001b[0m\u001b[1;33m\u001b[0m\u001b[0m\n\u001b[0m\u001b[0;32m   1429\u001b[0m             \u001b[1;32mexcept\u001b[0m\u001b[1;33m:\u001b[0m\u001b[1;33m\u001b[0m\u001b[0m\n\u001b[0;32m   1430\u001b[0m                 \u001b[0mos\u001b[0m\u001b[1;33m.\u001b[0m\u001b[0mremove\u001b[0m\u001b[1;33m(\u001b[0m\u001b[0mhashfile_unfinished\u001b[0m\u001b[1;33m)\u001b[0m\u001b[1;33m\u001b[0m\u001b[0m\n",
      "\u001b[1;32m/home/vagrant/miniconda/lib/python2.7/site-packages/nipype/pipeline/engine.pyc\u001b[0m in \u001b[0;36m_run_interface\u001b[1;34m(self, execute, updatehash)\u001b[0m\n\u001b[0;32m   1536\u001b[0m         \u001b[0mold_cwd\u001b[0m \u001b[1;33m=\u001b[0m \u001b[0mos\u001b[0m\u001b[1;33m.\u001b[0m\u001b[0mgetcwd\u001b[0m\u001b[1;33m(\u001b[0m\u001b[1;33m)\u001b[0m\u001b[1;33m\u001b[0m\u001b[0m\n\u001b[0;32m   1537\u001b[0m         \u001b[0mos\u001b[0m\u001b[1;33m.\u001b[0m\u001b[0mchdir\u001b[0m\u001b[1;33m(\u001b[0m\u001b[0mself\u001b[0m\u001b[1;33m.\u001b[0m\u001b[0moutput_dir\u001b[0m\u001b[1;33m(\u001b[0m\u001b[1;33m)\u001b[0m\u001b[1;33m)\u001b[0m\u001b[1;33m\u001b[0m\u001b[0m\n\u001b[1;32m-> 1538\u001b[1;33m         \u001b[0mself\u001b[0m\u001b[1;33m.\u001b[0m\u001b[0m_result\u001b[0m \u001b[1;33m=\u001b[0m \u001b[0mself\u001b[0m\u001b[1;33m.\u001b[0m\u001b[0m_run_command\u001b[0m\u001b[1;33m(\u001b[0m\u001b[0mexecute\u001b[0m\u001b[1;33m)\u001b[0m\u001b[1;33m\u001b[0m\u001b[0m\n\u001b[0m\u001b[0;32m   1539\u001b[0m         \u001b[0mos\u001b[0m\u001b[1;33m.\u001b[0m\u001b[0mchdir\u001b[0m\u001b[1;33m(\u001b[0m\u001b[0mold_cwd\u001b[0m\u001b[1;33m)\u001b[0m\u001b[1;33m\u001b[0m\u001b[0m\n\u001b[0;32m   1540\u001b[0m \u001b[1;33m\u001b[0m\u001b[0m\n",
      "\u001b[1;32m/home/vagrant/miniconda/lib/python2.7/site-packages/nipype/pipeline/engine.pyc\u001b[0m in \u001b[0;36m_run_command\u001b[1;34m(self, execute, copyfiles)\u001b[0m\n\u001b[0;32m   1662\u001b[0m                 \u001b[0mlogger\u001b[0m\u001b[1;33m.\u001b[0m\u001b[0minfo\u001b[0m\u001b[1;33m(\u001b[0m\u001b[1;34m'Running: %s'\u001b[0m \u001b[1;33m%\u001b[0m \u001b[0mcmd\u001b[0m\u001b[1;33m)\u001b[0m\u001b[1;33m\u001b[0m\u001b[0m\n\u001b[0;32m   1663\u001b[0m             \u001b[1;32mtry\u001b[0m\u001b[1;33m:\u001b[0m\u001b[1;33m\u001b[0m\u001b[0m\n\u001b[1;32m-> 1664\u001b[1;33m                 \u001b[0mresult\u001b[0m \u001b[1;33m=\u001b[0m \u001b[0mself\u001b[0m\u001b[1;33m.\u001b[0m\u001b[0m_interface\u001b[0m\u001b[1;33m.\u001b[0m\u001b[0mrun\u001b[0m\u001b[1;33m(\u001b[0m\u001b[1;33m)\u001b[0m\u001b[1;33m\u001b[0m\u001b[0m\n\u001b[0m\u001b[0;32m   1665\u001b[0m             \u001b[1;32mexcept\u001b[0m \u001b[0mException\u001b[0m\u001b[1;33m,\u001b[0m \u001b[0mmsg\u001b[0m\u001b[1;33m:\u001b[0m\u001b[1;33m\u001b[0m\u001b[0m\n\u001b[0;32m   1666\u001b[0m                 \u001b[0mself\u001b[0m\u001b[1;33m.\u001b[0m\u001b[0m_result\u001b[0m\u001b[1;33m.\u001b[0m\u001b[0mruntime\u001b[0m\u001b[1;33m.\u001b[0m\u001b[0mstderr\u001b[0m \u001b[1;33m=\u001b[0m \u001b[0mmsg\u001b[0m\u001b[1;33m\u001b[0m\u001b[0m\n",
      "\u001b[1;32m/home/vagrant/miniconda/lib/python2.7/site-packages/nipype/interfaces/base.pyc\u001b[0m in \u001b[0;36mrun\u001b[1;34m(self, **inputs)\u001b[0m\n\u001b[0;32m   1022\u001b[0m                         version=self.version)\n\u001b[0;32m   1023\u001b[0m         \u001b[1;32mtry\u001b[0m\u001b[1;33m:\u001b[0m\u001b[1;33m\u001b[0m\u001b[0m\n\u001b[1;32m-> 1024\u001b[1;33m             \u001b[0mruntime\u001b[0m \u001b[1;33m=\u001b[0m \u001b[0mself\u001b[0m\u001b[1;33m.\u001b[0m\u001b[0m_run_wrapper\u001b[0m\u001b[1;33m(\u001b[0m\u001b[0mruntime\u001b[0m\u001b[1;33m)\u001b[0m\u001b[1;33m\u001b[0m\u001b[0m\n\u001b[0m\u001b[0;32m   1025\u001b[0m             \u001b[0moutputs\u001b[0m \u001b[1;33m=\u001b[0m \u001b[0mself\u001b[0m\u001b[1;33m.\u001b[0m\u001b[0maggregate_outputs\u001b[0m\u001b[1;33m(\u001b[0m\u001b[0mruntime\u001b[0m\u001b[1;33m)\u001b[0m\u001b[1;33m\u001b[0m\u001b[0m\n\u001b[0;32m   1026\u001b[0m             \u001b[0mruntime\u001b[0m\u001b[1;33m.\u001b[0m\u001b[0mendTime\u001b[0m \u001b[1;33m=\u001b[0m \u001b[0mdt\u001b[0m\u001b[1;33m.\u001b[0m\u001b[0misoformat\u001b[0m\u001b[1;33m(\u001b[0m\u001b[0mdt\u001b[0m\u001b[1;33m.\u001b[0m\u001b[0mutcnow\u001b[0m\u001b[1;33m(\u001b[0m\u001b[1;33m)\u001b[0m\u001b[1;33m)\u001b[0m\u001b[1;33m\u001b[0m\u001b[0m\n",
      "\u001b[1;32m/home/vagrant/miniconda/lib/python2.7/site-packages/nipype/interfaces/base.pyc\u001b[0m in \u001b[0;36m_run_wrapper\u001b[1;34m(self, runtime)\u001b[0m\n\u001b[0;32m   1446\u001b[0m \u001b[1;33m\u001b[0m\u001b[0m\n\u001b[0;32m   1447\u001b[0m     \u001b[1;32mdef\u001b[0m \u001b[0m_run_wrapper\u001b[0m\u001b[1;33m(\u001b[0m\u001b[0mself\u001b[0m\u001b[1;33m,\u001b[0m \u001b[0mruntime\u001b[0m\u001b[1;33m)\u001b[0m\u001b[1;33m:\u001b[0m\u001b[1;33m\u001b[0m\u001b[0m\n\u001b[1;32m-> 1448\u001b[1;33m         \u001b[0mruntime\u001b[0m \u001b[1;33m=\u001b[0m \u001b[0mself\u001b[0m\u001b[1;33m.\u001b[0m\u001b[0m_run_interface\u001b[0m\u001b[1;33m(\u001b[0m\u001b[0mruntime\u001b[0m\u001b[1;33m)\u001b[0m\u001b[1;33m\u001b[0m\u001b[0m\n\u001b[0m\u001b[0;32m   1449\u001b[0m         \u001b[1;32mreturn\u001b[0m \u001b[0mruntime\u001b[0m\u001b[1;33m\u001b[0m\u001b[0m\n\u001b[0;32m   1450\u001b[0m \u001b[1;33m\u001b[0m\u001b[0m\n",
      "\u001b[1;32m/home/vagrant/miniconda/lib/python2.7/site-packages/nipype/interfaces/base.pyc\u001b[0m in \u001b[0;36m_run_interface\u001b[1;34m(self, runtime, correct_return_codes)\u001b[0m\n\u001b[0;32m   1480\u001b[0m         \u001b[1;32mif\u001b[0m \u001b[0mruntime\u001b[0m\u001b[1;33m.\u001b[0m\u001b[0mreturncode\u001b[0m \u001b[1;32mis\u001b[0m \u001b[0mNone\u001b[0m \u001b[1;32mor\u001b[0m\u001b[0;31m \u001b[0m\u001b[0;31m\\\u001b[0m\u001b[1;33m\u001b[0m\u001b[0m\n\u001b[0;32m   1481\u001b[0m                         \u001b[0mruntime\u001b[0m\u001b[1;33m.\u001b[0m\u001b[0mreturncode\u001b[0m \u001b[1;32mnot\u001b[0m \u001b[1;32min\u001b[0m \u001b[0mcorrect_return_codes\u001b[0m\u001b[1;33m:\u001b[0m\u001b[1;33m\u001b[0m\u001b[0m\n\u001b[1;32m-> 1482\u001b[1;33m             \u001b[0mself\u001b[0m\u001b[1;33m.\u001b[0m\u001b[0mraise_exception\u001b[0m\u001b[1;33m(\u001b[0m\u001b[0mruntime\u001b[0m\u001b[1;33m)\u001b[0m\u001b[1;33m\u001b[0m\u001b[0m\n\u001b[0m\u001b[0;32m   1483\u001b[0m \u001b[1;33m\u001b[0m\u001b[0m\n\u001b[0;32m   1484\u001b[0m         \u001b[1;32mreturn\u001b[0m \u001b[0mruntime\u001b[0m\u001b[1;33m\u001b[0m\u001b[0m\n",
      "\u001b[1;32m/home/vagrant/miniconda/lib/python2.7/site-packages/nipype/interfaces/base.pyc\u001b[0m in \u001b[0;36mraise_exception\u001b[1;34m(self, runtime)\u001b[0m\n\u001b[0;32m   1404\u001b[0m         \u001b[0mmessage\u001b[0m \u001b[1;33m+=\u001b[0m \u001b[1;34m\"Standard error:\\n\"\u001b[0m \u001b[1;33m+\u001b[0m \u001b[0mruntime\u001b[0m\u001b[1;33m.\u001b[0m\u001b[0mstderr\u001b[0m \u001b[1;33m+\u001b[0m \u001b[1;34m\"\\n\"\u001b[0m\u001b[1;33m\u001b[0m\u001b[0m\n\u001b[0;32m   1405\u001b[0m         \u001b[0mmessage\u001b[0m \u001b[1;33m+=\u001b[0m \u001b[1;34m\"Return code: \"\u001b[0m \u001b[1;33m+\u001b[0m \u001b[0mstr\u001b[0m\u001b[1;33m(\u001b[0m\u001b[0mruntime\u001b[0m\u001b[1;33m.\u001b[0m\u001b[0mreturncode\u001b[0m\u001b[1;33m)\u001b[0m\u001b[1;33m\u001b[0m\u001b[0m\n\u001b[1;32m-> 1406\u001b[1;33m         \u001b[1;32mraise\u001b[0m \u001b[0mRuntimeError\u001b[0m\u001b[1;33m(\u001b[0m\u001b[0mmessage\u001b[0m\u001b[1;33m)\u001b[0m\u001b[1;33m\u001b[0m\u001b[0m\n\u001b[0m\u001b[0;32m   1407\u001b[0m \u001b[1;33m\u001b[0m\u001b[0m\n\u001b[0;32m   1408\u001b[0m     \u001b[1;33m@\u001b[0m\u001b[0mclassmethod\u001b[0m\u001b[1;33m\u001b[0m\u001b[0m\n",
      "\u001b[1;31mRuntimeError\u001b[0m: Command:\nfilm_gls --noest -v --ms=5 --rn=results --con=/home/vagrant/fmri-analysis-vm/analysis/firstlevel/nipype_mem/nipype-interfaces-fsl-model-FEATModel/e88c9cabfa8dd6a9d95fdc8320018009/run0.con --in=/home/vagrant/fmri-analysis-vm/analysis/results/preprocessed_epi_native_space.nii.gz --pd=/home/vagrant/fmri-analysis-vm/analysis/firstlevel/nipype_mem/nipype-interfaces-fsl-model-FEATModel/e88c9cabfa8dd6a9d95fdc8320018009/run0.mat --thr=1000.000000\nStandard output:\nLog directory is: results\nparadigm.getDesignMatrix().Nrows()=380\nparadigm.getDesignMatrix().Ncols()=16\nsizeTS=380\nnumTS=626687\nStandard error:\nUncaught exception!\nReturn code: 1\nInterface FILMGLS failed to run. "
     ]
    }
   ],
   "source": [
    "fgls = mem.cache(fsl.FILMGLS)\n",
    "fgls_results = fgls(in_file = preprocessed_epi,\n",
    "                    autocorr_noestimate = True,\n",
    "                    design_file = modelgen_results.outputs.design_file,\n",
    "                    tcon_file = modelgen_results.outputs.con_file,\n",
    "                    threshold= 1000,\n",
    "                    full_data=True,\n",
    "                    mask_size=5)\n",
    "fgls_results.outputs"
   ]
  },
  {
   "cell_type": "code",
   "execution_count": null,
   "metadata": {
    "collapsed": false
   },
   "outputs": [],
   "source": [
    "zstats=glob.glob(os.path.join(modeldir,'stats/zstat*.nii.gz'))\n",
    "zstats.sort()\n",
    "meanimg=nibabel.load(os.path.join(results_dir, \"meanbold.nii.gz\"))\n",
    "\n",
    "for zstat in fgls_results.outputs.zstats:\n",
    "    fmap_display=nilearn.plotting.plot_stat_map(zstat,meanimg,threshold=2.3,\n",
    "                title='Contrast %d: %s'%(connum,contrasts[connum-1][0]))"
   ]
  },
  {
   "cell_type": "code",
   "execution_count": null,
   "metadata": {
    "collapsed": true
   },
   "outputs": [],
   "source": [
    "!fslview {preprocessed_epi}"
   ]
  },
  {
   "cell_type": "code",
   "execution_count": null,
   "metadata": {
    "collapsed": true
   },
   "outputs": [],
   "source": []
  }
 ],
 "metadata": {
  "kernelspec": {
   "display_name": "Python 2",
   "language": "python",
   "name": "python2"
  },
  "language_info": {
   "codemirror_mode": {
    "name": "ipython",
    "version": 2
   },
   "file_extension": ".py",
   "mimetype": "text/x-python",
   "name": "python",
   "nbconvert_exporter": "python",
   "pygments_lexer": "ipython2",
   "version": "2.7.10"
  }
 },
 "nbformat": 4,
 "nbformat_minor": 0
}
