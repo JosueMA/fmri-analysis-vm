{
 "cells": [
  {
   "cell_type": "markdown",
   "metadata": {},
   "source": [
    "In this notebook we will work through a first-level model using the GLM tools within nipy.  These are not as widely used as the FSL tools, but they run much faster and afford us some more flexibility."
   ]
  },
  {
   "cell_type": "code",
   "metadata": {
    "collapsed": false
   },
   "outputs": [],
   "source": [
    "%pylab inline\n",
    "import numpy as np\n",
    "import matplotlib.pyplot as plt"
   ]
  },
  {
   "cell_type": "code",
   "metadata": {
    "collapsed": false
   },
   "outputs": [],
   "source": [
    "import nibabel as nib\n",
    "print \"nibabel:\", nib.__version__\n",
    "import nipy\n",
    "print \"nipy:\", nipy.__version__"
   ]
  },
  {
   "cell_type": "code",
   "metadata": {
    "collapsed": false
   },
   "outputs": [],
   "source": [
    "img = nib.load('srabold.nii.gz')"
   ]
  },
  {
   "cell_type": "code",
   "metadata": {
    "collapsed": false
   },
   "outputs": [],
   "source": [
    "print(img.header)"
   ]
  },
  {
   "cell_type": "markdown",
   "metadata": {},
   "source": [
    "Defaults for plotting"
   ]
  },
  {
   "cell_type": "code",
   "metadata": {
    "collapsed": false
   },
   "outputs": [],
   "source": [
    "plt.rcParams['image.cmap'] = 'gray'\n",
    "plt.rcParams['image.interpolation'] = 'nearest'"
   ]
  },
  {
   "cell_type": "markdown",
   "metadata": {},
   "source": [
    "Loading the image may take a little while:"
   ]
  },
  {
   "cell_type": "code",
   "metadata": {
    "collapsed": false
   },
   "outputs": [],
   "source": [
    "data = img.get_data()\n",
    "data.shape"
   ]
  },
  {
   "cell_type": "code",
   "metadata": {
    "collapsed": false
   },
   "outputs": [],
   "source": [
    "plt.imshow(data.mean(axis=-1)[:, :, 30])"
   ]
  },
  {
   "cell_type": "markdown",
   "metadata": {},
   "source": [
    "Why is this image blurry?"
   ]
  },
  {
   "cell_type": "markdown",
   "metadata": {},
   "source": [
    "So what was the subject doing here?\n",
    "\n",
    "https://openfmri.org/dataset/ds000105\n",
    "\n",
    "* 001 House\n",
    "* 002 Scrambled\n",
    "* 003 Cat\n",
    "* 004 Shoe\n",
    "* 005 Bottle\n",
    "* 006 Scissors\n",
    "* 007 Chair\n",
    "* 008 Face"
   ]
  },
  {
   "cell_type": "code",
   "metadata": {
    "collapsed": false
   },
   "outputs": [],
   "source": [
    "event_types = ['house', 'scrambled', 'cat', 'shoe', 'bottle', 'scissors', 'chair', 'face']"
   ]
  },
  {
   "cell_type": "markdown",
   "metadata": {},
   "source": [
    "You should have the task lists for this subject in your `~/data/ds105` directory.  Let's check:"
   ]
  },
  {
   "cell_type": "code",
   "metadata": {
    "collapsed": false
   },
   "outputs": [],
   "source": [
    "import os\n",
    "from os import path as osp\n",
    "HOME = os.path.expanduser('~')\n",
    "DATA_PATH = os.path.join(HOME, 'data', 'ds105')\n",
    "SUB1_TASK_PATH = os.path.join(DATA_PATH, 'sub001', 'model', 'model001', 'onsets', 'task001_run001')\n",
    "os.path.isdir(SUB1_TASK_PATH)"
   ]
  },
  {
   "cell_type": "markdown",
   "metadata": {},
   "source": [
    "If you got \"False\" above - you can download the zip file of the task files you need from:\n",
    "\n",
    "http://nipy.bic.berkeley.edu/practical_neuroimaging/ds105_sub001_tasks.zip\n",
    "\n",
    "Download the file, then `cd ~/data` and `unzip ~/Downloads/ds105_sub001_tasks.zip` (if you downloaded the file to your `Downloads` folder.\n",
    "\n",
    "Recheck:"
   ]
  },
  {
   "cell_type": "code",
   "metadata": {
    "collapsed": false
   },
   "outputs": [],
   "source": [
    "os.path.isdir(SUB1_TASK_PATH)"
   ]
  },
  {
   "cell_type": "markdown",
   "metadata": {},
   "source": [
    "Look in this path:"
   ]
  },
  {
   "cell_type": "code",
   "metadata": {
    "collapsed": false
   },
   "outputs": [],
   "source": [
    "os.listdir(SUB1_TASK_PATH)"
   ]
  },
  {
   "cell_type": "markdown",
   "metadata": {},
   "source": [
    "What are in these files?"
   ]
  },
  {
   "cell_type": "code",
   "metadata": {
    "collapsed": false
   },
   "outputs": [],
   "source": [
    "COND1_FNAME = os.path.join(SUB1_TASK_PATH, 'cond001.txt')\n",
    "print(open(COND1_FNAME, 'rt').read())"
   ]
  },
  {
   "cell_type": "markdown",
   "metadata": {},
   "source": [
    "This is a common format for specifying events - any guesses what the columns are?\n"
   ]
  },
  {
   "cell_type": "markdown",
   "metadata": {},
   "source": [
    "We can actually do :"
   ]
  },
  {
   "cell_type": "code",
   "metadata": {
    "collapsed": false
   },
   "outputs": [],
   "source": [
    "dtype_def = [('onset', 'f'), ('duration', 'f'), ('amplitude', 'f')]\n",
    "evs = np.loadtxt(COND1_FNAME, dtype_def)\n",
    "evs"
   ]
  },
  {
   "cell_type": "markdown",
   "metadata": {},
   "source": [
    "This is nice because:"
   ]
  },
  {
   "cell_type": "code",
   "metadata": {
    "collapsed": false
   },
   "outputs": [],
   "source": [
    "evs[0]['onset']"
   ]
  },
  {
   "cell_type": "code",
   "metadata": {
    "collapsed": false
   },
   "outputs": [],
   "source": [
    "evs['onset']"
   ]
  },
  {
   "cell_type": "markdown",
   "metadata": {},
   "source": [
    "We can load our events for all types:"
   ]
  },
  {
   "cell_type": "code",
   "metadata": {
    "collapsed": true
   },
   "outputs": [],
   "source": [
    "# create event_defs : a dictionary with keys the type of events, ('bottle', 'cat', ..)\n",
    "event_defs = {}\n",
    "for eno in range(8):\n",
    "    fname = os.path.join(os.path.join(SUB1_TASK_PATH, 'cond%03d.txt' % (eno + 1)))\n",
    "    print(fname)\n",
    "    event_name = event_types[eno]\n",
    "    event_defs[event_name] = np.loadtxt(fname, dtype_def)\n",
    "event_defs          "
   ]
  },
  {
   "cell_type": "markdown",
   "metadata": {},
   "source": [
    "Are these onsets in TRs or in seconds?"
   ]
  },
  {
   "cell_type": "markdown",
   "metadata": {},
   "source": [
    "OK - how to make our design?"
   ]
  },
  {
   "cell_type": "code",
   "metadata": {
    "collapsed": false
   },
   "outputs": [],
   "source": [
    "# use to be : import nipy.modalities.fmri.design as fmrid #\n",
    "from nipy.modalities.fmri.experimental_paradigm import EventRelatedParadigm\n",
    "import nipy.modalities.fmri.design_matrix as dm\n",
    "\n",
    "#from glob import glob"
   ]
  },
  {
   "cell_type": "markdown",
   "metadata": {},
   "source": [
    "EventRelatedParadigm takes a list of string and events"
   ]
  },
  {
   "cell_type": "code",
   "metadata": {
    "collapsed": true
   },
   "outputs": [],
   "source": [
    "n_scans = img.shape[-1]\n",
    "TR = 2.5\n",
    "t = np.arange(n_trs) * TR"
   ]
  },
  {
   "cell_type": "code",
   "metadata": {
    "collapsed": false
   },
   "outputs": [],
   "source": [
    "print(event_defs.keys())\n",
    "print(event_defs['house']['onset'])"
   ]
  },
  {
   "cell_type": "code",
   "metadata": {
    "collapsed": false
   },
   "outputs": [],
   "source": [
    "conditions = []\n",
    "onsets = []\n",
    "\n",
    "for cond in event_defs.keys():\n",
    "    cond_onsets = event_defs[cond]['onset']\n",
    "    conditions += [cond]*len(cond_onsets)\n",
    "    onsets += list(cond_onsets)\n",
    "\n",
    "print(conditions)\n",
    "print(onsets)"
   ]
  },
  {
   "cell_type": "code",
   "metadata": {
    "collapsed": false
   },
   "outputs": [],
   "source": []
  },
  {
   "cell_type": "code",
   "metadata": {
    "collapsed": true
   },
   "outputs": [],
   "source": [
    "# make paradigm with conditions and onsets (you could add durations and magnitude here)\n",
    "paradigm = EventRelatedParadigm(conditions, onsets)\n",
    "\n",
    "hrf_model = 'canonical'\n",
    "drift_model = 'cosine'\n",
    "# here you would pick the motion regressors\n",
    "motion_reg = np.cumsum(np.random.randn(n_scans, 6), 0)\n",
    "motion_reg_names = ['tx', 'ty', 'tz', 'rx', 'ry', 'rz']\n",
    "frametimes = np.linspace(0, (n_scans - 1) * TR, n_scans)"
   ]
  },
  {
   "cell_type": "markdown",
   "metadata": {},
   "source": [
    "Nice - so let's make the design:"
   ]
  },
  {
   "cell_type": "code",
   "metadata": {
    "collapsed": false
   },
   "outputs": [],
   "source": [
    "X, names = dm.dmtx_light(frametimes, paradigm, drift_model='cosine',\n",
    "                         hfcut=128, hrf_model=hrf_model, add_regs=motion_reg,\n",
    "                         add_reg_names=motion_reg_names)\n"
   ]
  },
  {
   "cell_type": "code",
   "metadata": {
    "collapsed": false
   },
   "outputs": [],
   "source": [
    "plt.imshow(X/X.std(axis=0), interpolation='nearest', aspect='auto')"
   ]
  },
  {
   "cell_type": "code",
   "metadata": {
    "collapsed": false
   },
   "outputs": [],
   "source": [
    "from nipy.modalities.fmri.glm import GeneralLinearModel\n",
    "\n",
    "\n",
    "sh = img.shape[:-1]\n",
    "Y = img.get_data().reshape(np.prod(sh), n_scans)\n",
    "glm = GeneralLinearModel(X)\n",
    "glm.fit(Y.T)\n"
   ]
  },
  {
   "cell_type": "code",
   "metadata": {
    "collapsed": false
   },
   "outputs": [],
   "source": [
    "# specify the contrast [1 -1 0 ..]\n",
    "contrast = np.zeros(X.shape[1])\n",
    "contrast[:8] = [-1, -1, -1, -1, -1, -1, -1, 7]\n"
   ]
  },
  {
   "cell_type": "code",
   "metadata": {
    "collapsed": false
   },
   "outputs": [],
   "source": [
    "# compute the constrast image related to it\n",
    "zvals = glm.contrast(contrast).z_score()\n",
    "contrast_image = nib.Nifti1Image(np.reshape(zvals, sh), img.get_affine())\n"
   ]
  },
  {
   "cell_type": "code",
   "metadata": {
    "collapsed": false
   },
   "outputs": [],
   "source": [
    "con_img = np.reshape(contrast_image.get_data(), img.shape[:-1])\n",
    "con_img.shape"
   ]
  },
  {
   "cell_type": "code",
   "metadata": {
    "collapsed": false
   },
   "outputs": [],
   "source": [
    "plt.imshow(con_img[..., 30])"
   ]
  },
  {
   "cell_type": "markdown",
   "metadata": {},
   "source": [
    "Can you find any face activity you believe?"
   ]
  }
 ],
 "metadata": {
  "git": {
   "suppress_outputs": true
  },
  "kernelspec": {
   "display_name": "Python 2",
   "language": "python",
   "name": "python2"
  },
  "language_info": {
   "codemirror_mode": {
    "name": "ipython",
    "version": 2
   },
   "file_extension": ".py",
   "mimetype": "text/x-python",
   "name": "python",
   "nbconvert_exporter": "python",
   "pygments_lexer": "ipython2",
   "version": "2.7.10"
  }
 },
 "nbformat": 4,
 "nbformat_minor": 0
}