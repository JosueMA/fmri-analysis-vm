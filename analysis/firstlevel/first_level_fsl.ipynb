{
 "cells": [
  {
   "cell_type": "markdown",
   "metadata": {},
   "source": [
    "This code will load the model information, generate the model definition, and run the model estimation using FSL"
   ]
  },
  {
   "cell_type": "code",
   "metadata": {
    "collapsed": false
   },
   "outputs": [],
   "source": [
    "import nipype.algorithms.modelgen as model   # model generation\n",
    "import nipype.interfaces.fsl as fsl          # fsl\n",
    "from nipype.interfaces.base import Bunch\n",
    "import os,json,glob\n",
    "import numpy\n",
    "import nibabel\n",
    "import nilearn.plotting\n",
    "\n",
    "from make_event_files_from_json import MakeEventFilesFromJSON\n",
    "%matplotlib inline\n",
    "import matplotlib.pyplot as plt\n",
    "\n",
    "\n",
    "try:\n",
    "    datadir=os.environ['FMRIDATADIR']\n",
    "    assert not datadir==''\n",
    "except:\n",
    "    datadir='/Users/poldrack/data_unsynced/myconnectome/sub00001'\n",
    "\n",
    "print 'Using data from',datadir\n"
   ]
  },
  {
   "cell_type": "markdown",
   "metadata": {},
   "source": [
    "Load the scan and model info, and generate the event files for FSL from the information in model.json"
   ]
  },
  {
   "cell_type": "code",
   "metadata": {
    "collapsed": false
   },
   "outputs": [],
   "source": [
    "subject='ses014'  \n",
    "# note - we have to use the anatomy from a different session'\n",
    "subdir=os.path.join(datadir,'ds031/sub00001',subject,)\n",
    "tasknum=2 # n-back\n",
    "\n",
    "scaninfo=json.load(open(os.path.join(subdir,\n",
    "        'functional/sub00001_ses014_task002_run001_bold.json')))\n",
    "tr=scaninfo['RepetitionTime']\n",
    "\n",
    "modelfile=os.path.join(subdir,'model.json')\n",
    "modelinfo=json.load(open(modelfile))\n",
    "taskinfo=modelinfo['task%03d'%tasknum]['model001']\n",
    "evs=taskinfo['Variables']\n",
    "contrasts=taskinfo['Contrasts']\n",
    "\n",
    "# get the response onsets\n",
    "response_onsets=[]\n",
    "\n",
    "for v in evs.iterkeys():\n",
    "\n",
    "    if evs[v]['VariableName'].find('_target_ons')>-1:\n",
    "        for ons in evs[v]['onsets']:\n",
    "            response_onsets.append(ons[0])\n",
    "\n"
   ]
  },
  {
   "cell_type": "markdown",
   "metadata": {},
   "source": [
    "Specify the model.  For the sake of speed we will use a simplified model that treats the study as a blocked design rather than modeling each item separately, but we also model instructions and motor responses; this, it is a hybrid block/event-related design"
   ]
  },
  {
   "cell_type": "code",
   "metadata": {
    "collapsed": false
   },
   "outputs": [],
   "source": [
    "modeldir=os.path.join(subdir,'model/task%03d_model001/featmodel'%tasknum)\n",
    "# no way to specify the output directory, so we just chdir into the \n",
    "# desired output directory\n",
    "if not os.path.exists(modeldir):\n",
    "    os.mkdir(modeldir)\n",
    "os.chdir(modeldir)\n",
    "\n",
    "instruction_onsets=list(numpy.array([68,176,372,2,154,416,24,220,350,112,198,328,46,264,394,90,242,306])-2.0)\n",
    "\n",
    "info = [Bunch(conditions=['faces-1back','faces-2back','scenes-1back','scenes-2back','chars-1back','chars-2back','instructions','responses'],\n",
    "              onsets=[[68,176,372],[2,154,416],[24,220,350],[112,198,328],[46,264,394],[90,242,306],instruction_onsets,response_onsets],\n",
    "              durations=[[20],[20],[20],[20],[20],[20],[2],[1]])\n",
    "       ]\n",
    "\n",
    "s = model.SpecifyModel()\n",
    "s.inputs.input_units = 'secs'\n",
    "s.inputs.functional_runs = [os.path.join(subdir,\n",
    "        'functional/sub00001_ses014_task002_run001_bold_mcf_unwarped_smoothed_hpf_rescaled_masked.nii.gz')]\n",
    "s.inputs.time_repetition = 6\n",
    "s.inputs.high_pass_filter_cutoff = 128.\n",
    "s.inputs.subject_info = info\n",
    "s.run()\n",
    "\n",
    "\n"
   ]
  },
  {
   "cell_type": "markdown",
   "metadata": {},
   "source": [
    "Generate the fsf and ev files using Level1Design"
   ]
  },
  {
   "cell_type": "code",
   "metadata": {
    "collapsed": false
   },
   "outputs": [],
   "source": [
    "contrasts=[['faces>Baseline','T', ['faces-1back','faces-2back'],[0.5,0.5]],\n",
    "           ['scenes>Baseline','T', ['scenes-1back','scenes-2back'],[0.5,0.5]],\n",
    "           ['chars>Baseline','T', ['chars-1back','chars-2back'],[0.5,0.5]],\n",
    "           ['2back>1back','T', \n",
    "            ['faces-1back','faces-2back','scenes-1back','scenes-2back','chars-1back','chars-2back'],[-1,1,-1,1,-1,1,-1,1]],\n",
    "          ['response>Baseline','T',['responses'],[1]],\n",
    "          ['instructions>Baseline','T',['instructions'],[1]]]\n",
    "           \n",
    "level1design = fsl.model.Level1Design()\n",
    "level1design.inputs.interscan_interval = tr\n",
    "level1design.inputs.bases = {'dgamma':{'derivs': True}}\n",
    "level1design.inputs.session_info = s._sessinfo\n",
    "level1design.inputs.model_serial_correlations=False\n",
    "level1design.inputs.contrasts=contrasts\n",
    "level1info=level1design.run() \n",
    "\n",
    "fsf_file=os.path.join(modeldir,'run0.fsf')\n",
    "event_files=glob.glob(os.path.join(modeldir,'ev*txt'))\n"
   ]
  },
  {
   "cell_type": "markdown",
   "metadata": {},
   "source": [
    "Generate the full set of model files using FEATModel"
   ]
  },
  {
   "cell_type": "code",
   "metadata": {
    "collapsed": false
   },
   "outputs": [],
   "source": [
    "modelgen=fsl.model.FEATModel()\n",
    "modelgen.inputs.fsf_file=fsf_file\n",
    "modelgen.inputs.ev_files=event_files\n",
    "modelgen.run()"
   ]
  },
  {
   "cell_type": "markdown",
   "metadata": {},
   "source": [
    "Visualize the design matrix"
   ]
  },
  {
   "cell_type": "code",
   "metadata": {
    "collapsed": false
   },
   "outputs": [],
   "source": [
    "desmtx=numpy.loadtxt(fsf_file.replace(\".fsf\",\".mat\"),skiprows=5)\n",
    "plt.imshow(desmtx,aspect='auto',interpolation='nearest',cmap='gray')"
   ]
  },
  {
   "cell_type": "markdown",
   "metadata": {},
   "source": [
    "Show the correlation matrix for design"
   ]
  },
  {
   "cell_type": "code",
   "metadata": {
    "collapsed": false
   },
   "outputs": [],
   "source": [
    "cc=numpy.corrcoef(desmtx.T)\n",
    "plt.imshow(cc,aspect='auto',interpolation='nearest')\n",
    "plt.colorbar()"
   ]
  },
  {
   "cell_type": "markdown",
   "metadata": {},
   "source": [
    "Estimate the model using FILMGLS - this will take a few minutes."
   ]
  },
  {
   "cell_type": "code",
   "metadata": {
    "collapsed": false,
    "scrolled": true
   },
   "outputs": [],
   "source": [
    "if not os.path.exists(os.path.join(modeldir,'stats')):\n",
    "    fgls = fsl.FILMGLS(smooth_autocorr=False)\n",
    "    fgls.inputs.in_file = os.path.join(subdir,\n",
    "                                       'functional/sub00001_ses014_task002_run001_bold_mcf_unwarped_smoothed_hpf_rescaled_masked.nii.gz')\n",
    "    fgls.inputs.design_file = os.path.join(modeldir,'run0.mat')\n",
    "    fgls.inputs.threshold = 0.0\n",
    "    fgls.inputs.results_dir = os.path.join(modeldir,'stats')\n",
    "    fgls.inputs.tcon_file=os.path.join(modeldir,'run0.con')\n",
    "    res = fgls.run() \n",
    "else:\n",
    "    print 'using existing stats dir'"
   ]
  },
  {
   "cell_type": "code",
   "metadata": {
    "collapsed": false
   },
   "outputs": [],
   "source": [
    "# skip this for now, just do uncorrected visualization\n",
    "dof=int(open(os.path.join(modeldir,'stats/dof')).readline().strip())\n",
    "est = fsl.SmoothEstimate()\n",
    "est.inputs.dof=dof\n",
    "est.inputs.residual_fit_file = os.path.join(modeldir,'stats/res4d.nii.gz')\n",
    "est.inputs.mask_file = os.path.join(subdir,'functional/sub00001_ses014_task002_run001_bold_mcf_brain_mask.nii.gz')\n",
    "#smoothness=est.run()\n"
   ]
  },
  {
   "cell_type": "code",
   "metadata": {
    "collapsed": false
   },
   "outputs": [],
   "source": [
    "zstats=glob.glob(os.path.join(modeldir,'stats/zstat*.nii.gz'))\n",
    "zstats.sort()\n",
    "meanimg=nibabel.load(os.path.join(subdir,\n",
    "                        'functional/sub00001_ses014_task002_run001_bold_mcf_brain_unwarped_mean.nii.gz'))\n",
    "\n",
    "for zstat in zstats:\n",
    "    connum=int(os.path.basename(zstat).split('.')[0].replace('zstat',''))\n",
    "    zstatimg=nibabel.load(zstat)\n",
    "    fmap_display=nilearn.plotting.plot_stat_map(zstatimg,meanimg,threshold=3,symmetric_cbar=False,\n",
    "                title='Contrast %d: %s'%(connum,contrasts[connum-1][0]))\n",
    "        "
   ]
  },
  {
   "cell_type": "code",
   "metadata": {
    "collapsed": false
   },
   "outputs": [],
   "source": []
  },
  {
   "cell_type": "code",
   "metadata": {
    "collapsed": true
   },
   "outputs": [],
   "source": []
  }
 ],
 "metadata": {
  "git": {
   "suppress_outputs": true
  },
  "kernelspec": {
   "display_name": "Python 2",
   "language": "python",
   "name": "python2"
  },
  "language_info": {
   "codemirror_mode": {
    "name": "ipython",
    "version": 2
   },
   "file_extension": ".py",
   "mimetype": "text/x-python",
   "name": "python",
   "nbconvert_exporter": "python",
   "pygments_lexer": "ipython2",
   "version": "2.7.10"
  }
 },
 "nbformat": 4,
 "nbformat_minor": 0
}