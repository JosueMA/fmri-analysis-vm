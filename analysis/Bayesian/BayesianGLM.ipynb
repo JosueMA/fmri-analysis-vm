{
 "cells": [
  {
   "cell_type": "markdown",
   "metadata": {},
   "source": [
    "This notebook demonstrates the basics of Bayesian estimation of the general linear model.  This presentation is based on material from http://twiecki.github.io/blog/2013/08/12/bayesian-glms-1/ .  First let's generate some data for a simple design."
   ]
  },
  {
   "cell_type": "code",
   "execution_count": 1,
   "metadata": {
    "collapsed": false
   },
   "outputs": [
    {
     "name": "stderr",
     "output_type": "stream",
     "text": [
      "../utils/mkdesign.py:25: VisibleDeprecationWarning: using a non-integer number instead of an integer will result in an error in the future\n",
      "  design[b:b+blocklength]=1\n"
     ]
    }
   ],
   "source": [
    "import os,sys\n",
    "import numpy\n",
    "%matplotlib inline\n",
    "import matplotlib.pyplot as plt\n",
    "sys.path.insert(0,'../')\n",
    "from utils.mkdesign import create_design_singlecondition\n",
    "from nipy.modalities.fmri.hemodynamic_models import spm_hrf,compute_regressor\n",
    "from statsmodels.tsa.arima_process import arma_generate_sample\n",
    "import scipy.stats\n",
    "import pymc3\n",
    "\n",
    "tslength=300\n",
    "d,design=create_design_singlecondition(blockiness=1.0,deslength=tslength,\n",
    "                                       blocklength=20,offset=20)\n",
    "regressor,_=compute_regressor(design,'spm',numpy.arange(0,tslength))\n",
    "\n",
    "\n",
    "ar1_noise=arma_generate_sample([1,0.3],[1,0.],len(regressor))\n",
    "\n",
    "X=numpy.hstack((regressor,numpy.ones((len(regressor),1))))\n",
    "beta=numpy.array([4,100])\n",
    "noise_sd=10\n",
    "data = X.dot(beta) + ar1_noise*noise_sd"
   ]
  },
  {
   "cell_type": "markdown",
   "metadata": {},
   "source": [
    "First estimate the model using ordinary least squares"
   ]
  },
  {
   "cell_type": "code",
   "execution_count": 2,
   "metadata": {
    "collapsed": false
   },
   "outputs": [
    {
     "name": "stdout",
     "output_type": "stream",
     "text": [
      "betas [slope,intercept]: [  3.81808347  99.91223976]\n",
      "t [for slope vs. zero]= 3.10768467355 p= 0.00103375229731\n"
     ]
    }
   ],
   "source": [
    "beta_hat=numpy.linalg.inv(X.T.dot(X)).dot(X.T).dot(data)\n",
    "resid=data - X.dot(beta_hat)\n",
    "df=(X.shape[0] - X.shape[1])\n",
    "mse=resid.dot(resid)\n",
    "sigma2hat=(mse)/float(df)\n",
    "\n",
    "xvar=X[:,0].dot(X[:,0])\n",
    "c=numpy.array([1,0])  # contrast for PPI\n",
    "t=c.dot(beta_hat)/numpy.sqrt(c.dot(numpy.linalg.inv(X.T.dot(X)).dot(c))*sigma2hat)\n",
    "print ('betas [slope,intercept]:',beta_hat)\n",
    "print ('t [for slope vs. zero]=',t, 'p=',1.0 - scipy.stats.t.cdf(t,X.shape[0] - X.shape[1]))\n",
    "\n"
   ]
  },
  {
   "cell_type": "markdown",
   "metadata": {},
   "source": [
    "Compute the frequentist 95% confidence intervals"
   ]
  },
  {
   "cell_type": "code",
   "execution_count": 3,
   "metadata": {
    "collapsed": false
   },
   "outputs": [
    {
     "name": "stdout",
     "output_type": "stream",
     "text": [
      "slope: [2.0271817314400806, 5.608985216270562]\n",
      "intercept: [98.667385846061237, 101.15709366536429]\n"
     ]
    }
   ],
   "source": [
    "confs = [[beta_hat[0] - scipy.stats.t.ppf(0.975,df) * numpy.sqrt(sigma2hat/xvar), \n",
    "         beta_hat[0] + scipy.stats.t.ppf(0.975,df) * numpy.sqrt(sigma2hat/xvar)],\n",
    "         [beta_hat[1] - scipy.stats.t.ppf(0.975,df) * numpy.sqrt(sigma2hat/X.shape[0]), \n",
    "         beta_hat[1] + scipy.stats.t.ppf(0.975,df) * numpy.sqrt(sigma2hat/X.shape[0])]]\n",
    "\n",
    "print ('slope:',confs[0])\n",
    "print ('intercept:',confs[1])"
   ]
  },
  {
   "cell_type": "markdown",
   "metadata": {},
   "source": [
    "Now let's estimate the same model using Bayesian estimation.  First we use the analytic framework described in the previous notebook.  "
   ]
  },
  {
   "cell_type": "code",
   "execution_count": 5,
   "metadata": {
    "collapsed": false
   },
   "outputs": [
    {
     "name": "stdout",
     "output_type": "stream",
     "text": [
      "betas [slope,intercept]: [  4.45029863  99.21999134]\n"
     ]
    }
   ],
   "source": [
    "prior_sd=10\n",
    "v=numpy.identity(2)*(prior_sd**2)\n",
    "\n",
    "beta_hat_bayes=numpy.linalg.inv(X.T.dot(X) + (sigma2hat/(prior_sd**2))*numpy.identity(2)).dot(X.T.dot(data))\n",
    "print ('betas [slope,intercept]:',beta_hat_bayes)"
   ]
  },
  {
   "cell_type": "markdown",
   "metadata": {},
   "source": [
    "Now let's estimate it using Markov Chain Monte Carlo (MCMC) using the No U-turn Sampler (NUTS) (http://www.stat.columbia.edu/~gelman/research/unpublished/nuts.pdf) as implemented in PyMC3."
   ]
  },
  {
   "cell_type": "code",
   "execution_count": 6,
   "metadata": {
    "collapsed": false
   },
   "outputs": [
    {
     "name": "stdout",
     "output_type": "stream",
     "text": [
      "Applied log-transform to sigma and added transformed sigma_log_ to model.\n"
     ]
    }
   ],
   "source": [
    "with pymc3.Model() as model: # model specifications in PyMC3 are wrapped in a with-statement\n",
    "    # Define priors\n",
    "    sigma = pymc3.HalfCauchy('sigma', beta=10, testval=1.)\n",
    "    intercept = pymc3.Normal('Intercept', 0, sd=prior_sd)\n",
    "    x_coeff = pymc3.Normal('x', 0, sd=prior_sd)\n",
    "    \n",
    "    # Define likelihood\n",
    "    likelihood = pymc3.Normal('y', mu=intercept + x_coeff * X[:,0], \n",
    "                        sd=sigma, observed=data)\n",
    "    \n",
    "    # Inference!\n",
    "    start = pymc3.find_MAP() # Find starting value by optimization\n",
    "    step = pymc3.NUTS(scaling=start) # Instantiate MCMC sampling algorithm\n",
    "    trace = pymc3.sample(2000, step, start=start, progressbar=False) # draw 2000 posterior samples using NUTS sampling"
   ]
  },
  {
   "cell_type": "markdown",
   "metadata": {},
   "source": [
    "The starting point is the maximum a posteriori (MAP) estimate, which is the same as the one we just computed above."
   ]
  },
  {
   "cell_type": "code",
   "execution_count": 7,
   "metadata": {
    "collapsed": false
   },
   "outputs": [
    {
     "name": "stdout",
     "output_type": "stream",
     "text": [
      "{'sigma_log_': array(2.391515032778287), 'Intercept': array(99.223259881013), 'x': array(4.447340290224073)}\n"
     ]
    }
   ],
   "source": [
    "print(start)"
   ]
  },
  {
   "cell_type": "markdown",
   "metadata": {},
   "source": [
    "Now let's look at the results from the MCMC analysis for the slope parameter.  Note that we discard the first 100 steps of the MCMC trace in order to \"burn in\" the chain (http://stats.stackexchange.com/questions/88819/mcmc-methods-burning-samples).  "
   ]
  },
  {
   "cell_type": "code",
   "execution_count": 13,
   "metadata": {
    "collapsed": false
   },
   "outputs": [
    {
     "data": {
      "text/plain": [
       "<matplotlib.figure.Figure at 0x7f97ff8110b8>"
      ]
     },
     "metadata": {},
     "output_type": "display_data"
    },
    {
     "data": {
      "image/png": "[encoded data removed]",
      "text/plain": [
       "<matplotlib.figure.Figure at 0x7f97ff830128>"
      ]
     },
     "metadata": {},
     "output_type": "display_data"
    }
   ],
   "source": [
    "plt.figure(figsize=(7, 7))\n",
    "pymc3.traceplot(trace[100:],'x')\n",
    "plt.tight_layout();\n"
   ]
  },
  {
   "cell_type": "markdown",
   "metadata": {
    "collapsed": true
   },
   "source": [
    "Let's look at a summary of the estimates.  How does the 95% highest probability density (HPD) region from the Bayesian analysis compare to the frequentist 95% confidence intervals?\n"
   ]
  },
  {
   "cell_type": "code",
   "execution_count": 14,
   "metadata": {
    "collapsed": false
   },
   "outputs": [
    {
     "name": "stdout",
     "output_type": "stream",
     "text": [
      "\n",
      "Intercept:\n",
      "\n",
      "  Mean             SD               MC Error         95% HPD interval\n",
      "  -------------------------------------------------------------------\n",
      "  \n",
      "  99.272           1.097            0.035            [97.273, 101.447]\n",
      "\n",
      "  Posterior quantiles:\n",
      "  2.5            25             50             75             97.5\n",
      "  |--------------|==============|==============|--------------|\n",
      "  \n",
      "  97.098         98.478         99.272         100.098        101.298\n",
      "\n",
      "\n",
      "x:\n",
      "\n",
      "  Mean             SD               MC Error         95% HPD interval\n",
      "  -------------------------------------------------------------------\n",
      "  \n",
      "  4.384            1.563            0.050            [1.561, 7.543]\n",
      "\n",
      "  Posterior quantiles:\n",
      "  2.5            25             50             75             97.5\n",
      "  |--------------|==============|==============|--------------|\n",
      "  \n",
      "  1.503          3.208          4.375          5.532          7.512\n",
      "\n",
      "\n",
      "sigma:\n",
      "\n",
      "  Mean             SD               MC Error         95% HPD interval\n",
      "  -------------------------------------------------------------------\n",
      "  \n",
      "  11.007           0.491            0.012            [10.139, 11.937]\n",
      "\n",
      "  Posterior quantiles:\n",
      "  2.5            25             50             75             97.5\n",
      "  |--------------|==============|==============|--------------|\n",
      "  \n",
      "  10.140         10.653         10.996         11.337         11.979\n",
      "\n"
     ]
    }
   ],
   "source": [
    "pymc3.summary(trace[100:])"
   ]
  },
  {
   "cell_type": "code",
   "execution_count": null,
   "metadata": {
    "collapsed": true
   },
   "outputs": [],
   "source": []
  }
 ],
 "metadata": {
  "anaconda-cloud": {},
  "kernelspec": {
   "display_name": "Python [conda root]",
   "language": "python",
   "name": "conda-root-py"
  },
  "language_info": {
   "codemirror_mode": {
    "name": "ipython",
    "version": 3
   },
   "file_extension": ".py",
   "mimetype": "text/x-python",
   "name": "python",
   "nbconvert_exporter": "python",
   "pygments_lexer": "ipython3",
   "version": "3.5.2"
  }
 },
 "nbformat": 4,
 "nbformat_minor": 0
}
