{
 "cells": [
  {
   "cell_type": "markdown",
   "metadata": {},
   "source": [
    "This notebook demonstrates the basics of Bayesian estimation of the general linear model.  This presentation is based on material from http://twiecki.github.io/blog/2013/08/12/bayesian-glms-1/ .  First let's generate some data for a simple design."
   ]
  },
  {
   "cell_type": "code",
   "execution_count": null,
   "metadata": {
    "collapsed": false
   },
   "outputs": [],
   "source": [
    "import os,sys\n",
    "import numpy\n",
    "%matplotlib inline\n",
    "import matplotlib.pyplot as plt\n",
    "sys.path.insert(0,'../')\n",
    "from utils.mkdesign import create_design_singlecondition\n",
    "from nipy.modalities.fmri.hemodynamic_models import spm_hrf,compute_regressor\n",
    "from statsmodels.tsa.arima_process import arma_generate_sample\n",
    "import scipy.stats\n",
    "\n",
    "tslength=300\n",
    "d,design=create_design_singlecondition(blockiness=1.0,deslength=tslength,\n",
    "                                       blocklength=20,offset=20)\n",
    "regressor,_=compute_regressor(design,'spm',numpy.arange(0,tslength))\n",
    "\n",
    "\n",
    "ar1_noise=arma_generate_sample([1,0.3],[1,0.],len(regressor))\n",
    "\n",
    "X=numpy.hstack((regressor,numpy.ones((len(regressor),1))))\n",
    "beta=numpy.array([4,100])\n",
    "noise_sd=10\n",
    "data = X.dot(beta) + ar1_noise*noise_sd"
   ]
  },
  {
   "cell_type": "markdown",
   "metadata": {},
   "source": [
    "First estimate the model using ordinary least squares"
   ]
  },
  {
   "cell_type": "code",
   "execution_count": null,
   "metadata": {
    "collapsed": false
   },
   "outputs": [],
   "source": [
    "beta_hat=numpy.linalg.inv(X.T.dot(X)).dot(X.T).dot(data)\n",
    "resid=data - X.dot(beta_hat)\n",
    "sigma2hat=(resid.dot(resid))/(X.shape[0] - X.shape[1])\n",
    "c=numpy.array([1,0])  # contrast for PPI\n",
    "t=c.dot(beta_hat)/numpy.sqrt(c.dot(numpy.linalg.inv(X.T.dot(X)).dot(c))*sigma2hat)\n",
    "print beta_hat\n",
    "print t, 1.0 - scipy.stats.t.cdf(t,X.shape[0] - X.shape[1])"
   ]
  },
  {
   "cell_type": "markdown",
   "metadata": {},
   "source": [
    "Now let's estimate the same model using Bayesian estimation"
   ]
  },
  {
   "cell_type": "code",
   "execution_count": null,
   "metadata": {
    "collapsed": false
   },
   "outputs": [],
   "source": [
    "import pymc3\n",
    "datadict = dict(x=X[:,0], y=data)\n",
    "\n",
    "with pymc3.Model() as model:\n",
    "    # specify glm and pass in data. The resulting linear model, its likelihood and \n",
    "    # and all its parameters are automatically added to our model.\n",
    "    family = pymc3.glm.families.T(link=pymc3.glm.links.Identity,\n",
    "        priors={'nu': 1.5,'lam': ('sigma', pymc3.Uniform.dist(0, 20))})\n",
    "    pymc3.glm.glm('y ~ x', datadict,family=family)\n",
    "    start = pymc3.find_MAP()\n",
    "    step = pymc3.NUTS(scaling=start) # Instantiate MCMC sampling algorithm\n",
    "    trace = pymc3.sample(2000, step, progressbar=False) # draw 2000 posterior samples using NUTS sampling\n"
   ]
  },
  {
   "cell_type": "code",
   "execution_count": null,
   "metadata": {
    "collapsed": true
   },
   "outputs": [],
   "source": [
    "with pymc3.Model() as model: # model specifications in PyMC3 are wrapped in a with-statement\n",
    "    # Define priors\n",
    "    sigma = pymc3.HalfCauchy('sigma', beta=10, testval=1.)\n",
    "    intercept = pymc3.Normal('Intercept', 0, sd=20)\n",
    "    x_coeff = pymc3.Normal('x', 0, sd=20)\n",
    "    \n",
    "    # Define likelihood\n",
    "    likelihood = pymc3.Normal('y', mu=intercept + x_coeff * X[:,0], \n",
    "                        sd=sigma, observed=data)\n",
    "    \n",
    "    # Inference!\n",
    "    start = pymc3.find_MAP() # Find starting value by optimization\n",
    "    step = pymc3.NUTS(scaling=start) # Instantiate MCMC sampling algorithm\n",
    "    trace = pymc3.sample(2000, step, start=start, progressbar=False) # draw 2000 posterior samples using NUTS sampling"
   ]
  },
  {
   "cell_type": "code",
   "execution_count": null,
   "metadata": {
    "collapsed": false
   },
   "outputs": [],
   "source": [
    "start"
   ]
  },
  {
   "cell_type": "code",
   "execution_count": null,
   "metadata": {
    "collapsed": false
   },
   "outputs": [],
   "source": [
    "print numpy.mean(trace.get_values('x'),0)\n"
   ]
  },
  {
   "cell_type": "code",
   "execution_count": null,
   "metadata": {
    "collapsed": false
   },
   "outputs": [],
   "source": [
    "plt.figure(figsize=(7, 7))\n",
    "pymc3.traceplot(trace[100:],'x')\n",
    "plt.tight_layout();\n",
    "pymc3.plots.summary(trace[100:],vars='x')"
   ]
  },
  {
   "cell_type": "code",
   "execution_count": null,
   "metadata": {
    "collapsed": true
   },
   "outputs": [],
   "source": [
    "\n"
   ]
  },
  {
   "cell_type": "code",
   "execution_count": null,
   "metadata": {
    "collapsed": true
   },
   "outputs": [],
   "source": []
  }
 ],
 "metadata": {
  "kernelspec": {
   "display_name": "Python 2",
   "language": "python",
   "name": "python2"
  },
  "language_info": {
   "codemirror_mode": {
    "name": "ipython",
    "version": 2
   },
   "file_extension": ".py",
   "mimetype": "text/x-python",
   "name": "python",
   "nbconvert_exporter": "python",
   "pygments_lexer": "ipython2",
   "version": "2.7.10"
  }
 },
 "nbformat": 4,
 "nbformat_minor": 0
}