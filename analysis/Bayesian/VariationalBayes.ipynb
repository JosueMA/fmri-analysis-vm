{
 "cells": [
  {
   "cell_type": "markdown",
   "metadata": {
    "collapsed": true
   },
   "source": [
    "This notebook provides an example of the use of variational Bayesian estimation and inference.  The VB computations here are based on Kay Broderson's MATLAB demo at https://www.tnu.ethz.ch/de/software/tapas.html\n",
    "\n",
    "I have contrived a simple example where we compute a one-sample t-test versus zero."
   ]
  },
  {
   "cell_type": "code",
   "execution_count": 1,
   "metadata": {
    "collapsed": true
   },
   "outputs": [],
   "source": [
    "import numpy,scipy\n",
    "import time\n",
    "from numpy.linalg import inv\n",
    "from scipy.special import digamma,gammaln\n",
    "from numpy import log,pi,trace\n",
    "from numpy.linalg import det\n",
    "import matplotlib.pyplot as plt\n",
    "from pymc3 import Model,glm,find_MAP,NUTS,sample,Metropolis,HalfCauchy,Normal\n",
    "\n",
    "%matplotlib inline\n",
    "\n"
   ]
  },
  {
   "cell_type": "markdown",
   "metadata": {},
   "source": [
    "Set up code to estimate using VB"
   ]
  },
  {
   "cell_type": "code",
   "execution_count": 2,
   "metadata": {
    "collapsed": true
   },
   "outputs": [],
   "source": [
    "# Create classes for prior and posterior\n",
    "\n",
    "# %     a_0: shape parameter of the prior precision of coefficients\n",
    "# %     b_0: rate  parameter of the prior precision of coefficients\n",
    "# %     c_0: shape parameter of the prior noise precision\n",
    "# %     d_0: rate  parameter of the prior noise precision\n",
    "\n",
    "class Prior:\n",
    "    def __init__(self,a_0=10,b_0=0.2,c_0=10,d_0=1):\n",
    "        self.a_0=a_0\n",
    "        self.b_0=b_0\n",
    "        self.c_0=c_0\n",
    "        self.d_0=d_0\n",
    "\n",
    "class Posterior:\n",
    "    def __init__(self,d,prior):\n",
    "        self.mu_n=numpy.zeros((d,1))\n",
    "        self.Lambda_n = numpy.eye(d)\n",
    "        self.a_n      = prior.a_0\n",
    "        self.b_n      = prior.b_0\n",
    "        self.c_n      = prior.c_0\n",
    "        self.d_n      = prior.d_0\n",
    "        self.F        = -numpy.inf\n",
    "        self.prior    = prior\n",
    "        self.trace = []\n",
    "        \n",
    "# Returns the variational posterior q that maximizes the free energy.\n",
    "def invert_model(y, X, prior,tolerance=10e-8,verbose=False):\n",
    "\n",
    "    # Data shortcuts\n",
    "    n,d = X.shape # observations x regressors\n",
    "\n",
    "    # Initialize variational posterior\n",
    "    q=Posterior(d,prior)\n",
    "    q.F=free_energy(q,y,X,prior)\n",
    "\n",
    "    # Variational algorithm\n",
    "    nMaxIter = 30\n",
    "    kX = X.T.dot(X)\n",
    "\n",
    "    for i in range(nMaxIter):\n",
    "\n",
    "        # (1) Update q(beta) - regression parameters\n",
    "        q.Lambda_n = q.a_n/q.b_n + q.c_n/q.d_n * (X.T.dot(X))\n",
    "\n",
    "        q.mu_n = q.c_n/q.d_n * numpy.linalg.inv(q.Lambda_n).dot(X.T.dot(y))\n",
    "\n",
    "        # (2) Update q(alpha) - precision\n",
    "        q.a_n = prior.a_0 + d/2\n",
    "        q.b_n = prior.b_0 + 1/2 * (q.mu_n.T.dot(q.mu_n) + trace(inv(q.Lambda_n)));\n",
    "\n",
    "        # (3) Update q(lambda)\n",
    "        q.c_n = prior.c_0 + n/2\n",
    "        pe = y - X.dot(q.mu_n)\n",
    "        q.d_n = prior.d_0 + 0.5 * (pe.T.dot(pe) + trace(inv(q.Lambda_n).dot(kX))) ;\n",
    "\n",
    "        # Compute free energy\n",
    "        F_old = q.F;\n",
    "        q.F = free_energy(q,y,X,prior);\n",
    "\n",
    "        # Convergence?\n",
    "        if (q.F - F_old) < tolerance:\n",
    "            break\n",
    "        if i == nMaxIter:\n",
    "            print('tvblm: reached max iterations',i)\n",
    "    if verbose:\n",
    "        print('converged in %d iterations'%i)\n",
    "    return q\n",
    "\n",
    "# Computes the free energy of the model given the data.\n",
    "def free_energy(q,y,X,prior):\n",
    "    # Data shortcuts\n",
    "    n,d = X.shape # observations x regressors\n",
    "\n",
    "    # Expected log joint <ln p(y,beta,alpha,lambda)>_q\n",
    "    J =(n/2*(digamma(q.c_n)-log(q.d_n)) - n/2*log(2*pi)\n",
    "        - 0.5*q.c_n/q.d_n*(y.T.dot(y)) + q.c_n/q.d_n*(q.mu_n.T.dot(X.T.dot(y)))\n",
    "        - 0.5*q.c_n/q.d_n*trace(X.T.dot(X) * (q.mu_n.dot(q.mu_n.T) + inv(q.Lambda_n)))\n",
    "        - d/2*log(2*pi) + n/2*(digamma(q.a_n)-log(q.b_n))\n",
    "        - 0.5*q.a_n/q.b_n * (q.mu_n.T.dot(q.mu_n) + trace(inv(q.Lambda_n)))\n",
    "        + prior.a_0*log(prior.b_0) - gammaln(prior.a_0)\n",
    "        + (prior.a_0-1)*(digamma(q.a_n)-log(q.b_n)) - prior.b_0*q.a_n/q.b_n\n",
    "        + prior.c_0*log(prior.d_0) - gammaln(prior.c_0)\n",
    "        + (prior.c_0-1)*(digamma(q.c_n)-log(q.d_n)) - prior.d_0*q.c_n/q.d_n)\n",
    "\n",
    "    # Entropy H[q]\n",
    "    H = (d/2*(1+log(2*pi)) + 1/2*log(det(inv(q.Lambda_n)))\n",
    "      + q.a_n - log(q.b_n) + gammaln(q.a_n) + (1-q.a_n)*digamma(q.a_n)\n",
    "      + q.c_n - log(q.d_n) + gammaln(q.c_n) + (1-q.c_n)*digamma(q.c_n))\n",
    "\n",
    "    # Free energy\n",
    "    F = J + H\n",
    "    return(F)\n"
   ]
  },
  {
   "cell_type": "markdown",
   "metadata": {},
   "source": [
    "Now create synthetic data with a specified mean and perform a one sample t-test using either the t-test function from scipy.stats or using VB estimation."
   ]
  },
  {
   "cell_type": "code",
   "execution_count": 24,
   "metadata": {
    "collapsed": false
   },
   "outputs": [
    {
     "name": "stdout",
     "output_type": "stream",
     "text": [
      "Total elapsed time for 6000 analyses (seconds):\n",
      "t-test: 1.26\n",
      "VB: 10.49\n"
     ]
    }
   ],
   "source": [
    "npts=64\n",
    "std=1\n",
    "nruns=1000\n",
    "\n",
    "# one sample t test\n",
    "X=numpy.ones((npts,1))\n",
    "prior=Prior(a_0=10,c_0=10)\n",
    "means=numpy.arange(0,0.501,0.1)\n",
    "vb_siglevel=numpy.zeros(len(means))\n",
    "t_siglevel=numpy.zeros(len(means))\n",
    "vb_mean=numpy.zeros(len(means))\n",
    "samp_mean=numpy.zeros(len(means))\n",
    "\n",
    "t_time=0\n",
    "vb_time=0\n",
    "\n",
    "for j,mean in enumerate(means):\n",
    "    vb_pvals=numpy.zeros(nruns)\n",
    "    t_pvals=numpy.zeros(nruns)\n",
    "    vb_means=numpy.zeros(nruns)\n",
    "    samp_means=numpy.zeros(nruns)\n",
    "    for i in range(nruns):\n",
    "        y=numpy.random.randn(npts)*std+mean\n",
    "        samp_means[i]=numpy.mean(y)\n",
    "        t=time.time()\n",
    "        q=invert_model(y, X, prior,verbose=False)\n",
    "        vb_means[i]=q.mu_n\n",
    "        # q.Lambda_n is the estimated precision, so we turn it into a standard deviation\n",
    "        vb_pvals[i]=scipy.stats.norm.cdf(0,q.mu_n,1/numpy.sqrt(q.Lambda_n))\n",
    "        vb_time+=time.time()-t\n",
    "        \n",
    "        t=time.time()\n",
    "        _,t_pvals[i]=scipy.stats.ttest_1samp(y,0)\n",
    "        t_time+=time.time()-t\n",
    "\n",
    "    vb_siglevel[j]=numpy.mean(vb_pvals<0.05)\n",
    "    t_siglevel[j]=numpy.mean(t_pvals<0.05)\n",
    "    vb_mean[j]=numpy.mean(vb_means)\n",
    "    samp_mean[j]=numpy.mean(samp_means)\n",
    "    \n",
    "print('Total elapsed time for %d analyses (seconds):'%int(len(means)*nruns))\n",
    "print('t-test: %0.2f'%t_time)\n",
    "print('VB: %0.2f'%vb_time)"
   ]
  },
  {
   "cell_type": "markdown",
   "metadata": {},
   "source": [
    "Now plot the error/power for the two approaches.  For the t-test, this is the proportion of statistically significant outcomes over the realizations (at p<0.05).  For the VB estimate, this is the proportion of tests for which zero falls below the 5%ile of the estimated posterior.  "
   ]
  },
  {
   "cell_type": "code",
   "execution_count": 25,
   "metadata": {
    "collapsed": false
   },
   "outputs": [
    {
     "name": "stdout",
     "output_type": "stream",
     "text": [
      "False positive rate:\n",
      "t-test: 0.0560\n",
      "VB: 0.0370\n"
     ]
    },
    {
     "data": {
      "image/png": "[encoded data removed]",
      "text/plain": [
       "<matplotlib.figure.Figure at 0x115f67b70>"
      ]
     },
     "metadata": {},
     "output_type": "display_data"
    }
   ],
   "source": [
    "plt.figure(figsize=(12,5))\n",
    "plt.subplot(1,2,1)\n",
    "plt.plot(means,t_siglevel)\n",
    "plt.plot(means,vb_siglevel)\n",
    "plt.xlabel('Mean effect (in SD units)')\n",
    "plt.ylabel('Proportion of exceedences')\n",
    "plt.legend(['ttest','VB'],loc=2)\n",
    "\n",
    "plt.subplot(1,2,2)\n",
    "plt.plot(means,samp_mean)\n",
    "plt.plot(means,vb_mean)\n",
    "plt.xlabel('Mean effect (in SD units)')\n",
    "plt.ylabel('Estimated mean')\n",
    "plt.legend(['Sample mean','VB estimate'],loc=2)\n",
    "\n",
    "print('False positive rate:')\n",
    "print('t-test: %0.4f'%t_siglevel[0])\n",
    "print('VB: %0.4f'%vb_siglevel[0])\n"
   ]
  },
  {
   "cell_type": "markdown",
   "metadata": {},
   "source": [
    "Play around with the prior values for precision of the coefficients - how do they affect the relative efficiency of VB versus the t-test?"
   ]
  },
  {
   "cell_type": "code",
   "execution_count": null,
   "metadata": {
    "collapsed": true
   },
   "outputs": [],
   "source": []
  }
 ],
 "metadata": {
  "kernelspec": {
   "display_name": "Python 3",
   "language": "python",
   "name": "python3"
  },
  "language_info": {
   "codemirror_mode": {
    "name": "ipython",
    "version": 3
   },
   "file_extension": ".py",
   "mimetype": "text/x-python",
   "name": "python",
   "nbconvert_exporter": "python",
   "pygments_lexer": "ipython3",
   "version": "3.4.4"
  }
 },
 "nbformat": 4,
 "nbformat_minor": 1
}
