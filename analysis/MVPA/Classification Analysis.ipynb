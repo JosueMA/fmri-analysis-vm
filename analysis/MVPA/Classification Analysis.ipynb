{
 "cells": [
  {
   "cell_type": "markdown",
   "metadata": {},
   "source": [
    "In this exercise we will classify stimulus classes using the Haxby et al. data. You should first obtain the data using the command:\n",
    "\n",
    "wget http://data.pymvpa.org/datasets/haxby2001/subj1-2010.01.14.tar.gz\n",
    "\n",
    "and set the datadir variable accordingly"
   ]
  },
  {
   "cell_type": "code",
   "execution_count": 1,
   "metadata": {
    "collapsed": false
   },
   "outputs": [
    {
     "name": "stdout",
     "output_type": "stream",
     "text": [
      "Using data from /Users/poldrack/data_unsynced/haxby/subj1\n"
     ]
    }
   ],
   "source": [
    "import nipype.algorithms.modelgen as model   # model generation\n",
    "import nipype.interfaces.fsl as fsl          # fsl\n",
    "from nipype.interfaces.base import Bunch\n",
    "import os,json,glob\n",
    "import numpy\n",
    "import nibabel\n",
    "import nilearn.plotting\n",
    "import sklearn.multiclass\n",
    "from sklearn.svm import LinearSVC\n",
    "import sklearn.metrics\n",
    "\n",
    "\n",
    "%matplotlib inline\n",
    "import matplotlib.pyplot as plt\n",
    "\n",
    "\n",
    "datadir='/Users/poldrack/data_unsynced/haxby/subj1'\n",
    "\n",
    "print 'Using data from',datadir\n",
    "\n",
    "\n",
    "tr=2.5\n",
    "\n",
    "boldfile=os.path.join(datadir,'bold.nii.gz')\n",
    "maskfile=os.path.join(datadir,'mask4_vt.nii.gz')\n",
    "boldimg=nibabel.load(boldfile)\n",
    "maskimg=nibabel.load(maskfile)\n",
    "\n",
    "\n"
   ]
  },
  {
   "cell_type": "markdown",
   "metadata": {},
   "source": [
    "events"
   ]
  },
  {
   "cell_type": "code",
   "execution_count": 68,
   "metadata": {
    "collapsed": false
   },
   "outputs": [],
   "source": [
    "labelfile=os.path.join(datadir,'labels.txt')\n",
    "lines=open(labelfile).readlines()\n",
    "lines=lines[1:] # drop header\n",
    "\n",
    "# find all block onsets\n",
    "conditions=[]\n",
    "condnums=[]\n",
    "onsets=[]\n",
    "durations=[]\n",
    "runs=[]\n",
    "cond=''\n",
    "condctr=1\n",
    "\n",
    "cond_dict={'scissors':1,\n",
    " 'face':2,\n",
    " 'cat':3,\n",
    " 'shoe':4,\n",
    " 'house':5,\n",
    " 'scrambledpix':6,\n",
    " 'bottle':7,\n",
    " 'chair':8}\n",
    "condlabels=['scissors','face','cat','shoe','house','scrambledpix','bottle','chair']\n",
    "\n",
    "for i in range(len(lines)):\n",
    "    l_s=lines[i].strip().split()\n",
    "    if l_s[0]=='rest':\n",
    "        continue\n",
    "    if not l_s[0]==cond:\n",
    "        cond=l_s[0]\n",
    "        runs.append(int(l_s[1]))\n",
    "        conditions.append('-'.join(l_s))\n",
    "        condnums.append(cond_dict[l_s[0]])\n",
    "        onsets.append([tr*(i+1)])\n",
    "        durations.append([22.5])\n",
    "    \n",
    "condnums=numpy.array(condnums)\n",
    "runs=numpy.array(runs)"
   ]
  },
  {
   "cell_type": "markdown",
   "metadata": {},
   "source": [
    "Set up model\n"
   ]
  },
  {
   "cell_type": "code",
   "execution_count": 3,
   "metadata": {
    "collapsed": false
   },
   "outputs": [
    {
     "data": {
      "text/plain": [
       "<nipype.interfaces.base.InterfaceResult at 0x106af3b50>"
      ]
     },
     "execution_count": 3,
     "metadata": {},
     "output_type": "execute_result"
    }
   ],
   "source": [
    "modeldir=os.path.join(datadir,'blockmodel')\n",
    "# no way to specify the output directory, so we just chdir into the \n",
    "# desired output directory\n",
    "if not os.path.exists(modeldir):\n",
    "    os.mkdir(modeldir)\n",
    "os.chdir(modeldir)\n",
    "\n",
    "\n",
    "info = [Bunch(conditions=conditions,\n",
    "              onsets=onsets,\n",
    "              durations=durations)\n",
    "       ]\n",
    "\n",
    "s = model.SpecifyModel()\n",
    "s.inputs.input_units = 'secs'\n",
    "s.inputs.functional_runs = [os.path.join(datadir,'bold.nii.gz')]\n",
    "s.inputs.time_repetition = tr\n",
    "s.inputs.high_pass_filter_cutoff = 128.\n",
    "s.inputs.subject_info = info\n",
    "s.run()\n",
    "\n",
    "\n"
   ]
  },
  {
   "cell_type": "code",
   "execution_count": 4,
   "metadata": {
    "collapsed": false
   },
   "outputs": [],
   "source": [
    "contrasts=[]\n",
    "\n",
    "for i in range(len(conditions)):\n",
    "    contrasts.append([conditions[i],'T',[conditions[i]],[1]])\n",
    "\n",
    "           \n",
    "level1design = fsl.model.Level1Design()\n",
    "level1design.inputs.interscan_interval = tr\n",
    "level1design.inputs.bases = {'dgamma':{'derivs': False}}\n",
    "level1design.inputs.session_info = s._sessinfo\n",
    "level1design.inputs.model_serial_correlations=False\n",
    "level1design.inputs.contrasts=contrasts\n",
    "level1info=level1design.run() \n",
    "\n",
    "fsf_file=os.path.join(modeldir,'run0.fsf')\n",
    "event_files=glob.glob(os.path.join(modeldir,'ev*txt'))\n"
   ]
  },
  {
   "cell_type": "code",
   "execution_count": 5,
   "metadata": {
    "collapsed": false
   },
   "outputs": [
    {
     "ename": "KeyboardInterrupt",
     "evalue": "",
     "output_type": "error",
     "traceback": [
      "\u001b[0;31m---------------------------------------------------------------------------\u001b[0m",
      "\u001b[0;31mKeyboardInterrupt\u001b[0m                         Traceback (most recent call last)",
      "\u001b[0;32m<ipython-input-5-4a7fa6683adb>\u001b[0m in \u001b[0;36m<module>\u001b[0;34m()\u001b[0m\n\u001b[1;32m      2\u001b[0m \u001b[0mmodelgen\u001b[0m\u001b[0;34m.\u001b[0m\u001b[0minputs\u001b[0m\u001b[0;34m.\u001b[0m\u001b[0mfsf_file\u001b[0m\u001b[0;34m=\u001b[0m\u001b[0mfsf_file\u001b[0m\u001b[0;34m\u001b[0m\u001b[0m\n\u001b[1;32m      3\u001b[0m \u001b[0mmodelgen\u001b[0m\u001b[0;34m.\u001b[0m\u001b[0minputs\u001b[0m\u001b[0;34m.\u001b[0m\u001b[0mev_files\u001b[0m\u001b[0;34m=\u001b[0m\u001b[0mevent_files\u001b[0m\u001b[0;34m\u001b[0m\u001b[0m\n\u001b[0;32m----> 4\u001b[0;31m \u001b[0mmodelgen\u001b[0m\u001b[0;34m.\u001b[0m\u001b[0mrun\u001b[0m\u001b[0;34m(\u001b[0m\u001b[0;34m)\u001b[0m\u001b[0;34m\u001b[0m\u001b[0m\n\u001b[0m\u001b[1;32m      5\u001b[0m \u001b[0;34m\u001b[0m\u001b[0m\n\u001b[1;32m      6\u001b[0m \u001b[0;34m\u001b[0m\u001b[0m\n",
      "\u001b[0;32m/Users/poldrack/anaconda/lib/python2.7/site-packages/nipype/interfaces/base.pyc\u001b[0m in \u001b[0;36mrun\u001b[0;34m(self, **inputs)\u001b[0m\n\u001b[1;32m    996\u001b[0m                     \u001b[0mruntime\u001b[0m\u001b[0;34m.\u001b[0m\u001b[0menviron\u001b[0m\u001b[0;34m[\u001b[0m\u001b[0;34m'DISPLAY'\u001b[0m\u001b[0;34m]\u001b[0m \u001b[0;34m=\u001b[0m \u001b[0;34m':%s'\u001b[0m \u001b[0;34m%\u001b[0m \u001b[0mvdisplay_num\u001b[0m\u001b[0;34m\u001b[0m\u001b[0m\n\u001b[1;32m    997\u001b[0m \u001b[0;34m\u001b[0m\u001b[0m\n\u001b[0;32m--> 998\u001b[0;31m             \u001b[0mruntime\u001b[0m \u001b[0;34m=\u001b[0m \u001b[0mself\u001b[0m\u001b[0;34m.\u001b[0m\u001b[0m_run_interface\u001b[0m\u001b[0;34m(\u001b[0m\u001b[0mruntime\u001b[0m\u001b[0;34m)\u001b[0m\u001b[0;34m\u001b[0m\u001b[0m\n\u001b[0m\u001b[1;32m    999\u001b[0m \u001b[0;34m\u001b[0m\u001b[0m\n\u001b[1;32m   1000\u001b[0m             \u001b[0;32mif\u001b[0m \u001b[0mself\u001b[0m\u001b[0;34m.\u001b[0m\u001b[0m_redirect_x\u001b[0m\u001b[0;34m:\u001b[0m\u001b[0;34m\u001b[0m\u001b[0m\n",
      "\u001b[0;32m/Users/poldrack/anaconda/lib/python2.7/site-packages/nipype/interfaces/base.pyc\u001b[0m in \u001b[0;36m_run_interface\u001b[0;34m(self, runtime, correct_return_codes)\u001b[0m\n\u001b[1;32m   1442\u001b[0m         setattr(runtime, 'dependencies', get_dependencies(executable_name,\n\u001b[1;32m   1443\u001b[0m                                                           runtime.environ))\n\u001b[0;32m-> 1444\u001b[0;31m         \u001b[0mruntime\u001b[0m \u001b[0;34m=\u001b[0m \u001b[0mrun_command\u001b[0m\u001b[0;34m(\u001b[0m\u001b[0mruntime\u001b[0m\u001b[0;34m,\u001b[0m \u001b[0moutput\u001b[0m\u001b[0;34m=\u001b[0m\u001b[0mself\u001b[0m\u001b[0;34m.\u001b[0m\u001b[0minputs\u001b[0m\u001b[0;34m.\u001b[0m\u001b[0mterminal_output\u001b[0m\u001b[0;34m)\u001b[0m\u001b[0;34m\u001b[0m\u001b[0m\n\u001b[0m\u001b[1;32m   1445\u001b[0m         \u001b[0;32mif\u001b[0m \u001b[0mruntime\u001b[0m\u001b[0;34m.\u001b[0m\u001b[0mreturncode\u001b[0m \u001b[0;32mis\u001b[0m \u001b[0mNone\u001b[0m \u001b[0;32mor\u001b[0m\u001b[0;31m \u001b[0m\u001b[0;31m\\\u001b[0m\u001b[0;34m\u001b[0m\u001b[0m\n\u001b[1;32m   1446\u001b[0m                         \u001b[0mruntime\u001b[0m\u001b[0;34m.\u001b[0m\u001b[0mreturncode\u001b[0m \u001b[0;32mnot\u001b[0m \u001b[0;32min\u001b[0m \u001b[0mcorrect_return_codes\u001b[0m\u001b[0;34m:\u001b[0m\u001b[0;34m\u001b[0m\u001b[0m\n",
      "\u001b[0;32m/Users/poldrack/anaconda/lib/python2.7/site-packages/nipype/interfaces/base.pyc\u001b[0m in \u001b[0;36mrun_command\u001b[0;34m(runtime, output, timeout)\u001b[0m\n\u001b[1;32m   1208\u001b[0m         \u001b[0;32mwhile\u001b[0m \u001b[0mproc\u001b[0m\u001b[0;34m.\u001b[0m\u001b[0mreturncode\u001b[0m \u001b[0;32mis\u001b[0m \u001b[0mNone\u001b[0m\u001b[0;34m:\u001b[0m\u001b[0;34m\u001b[0m\u001b[0m\n\u001b[1;32m   1209\u001b[0m             \u001b[0mproc\u001b[0m\u001b[0;34m.\u001b[0m\u001b[0mpoll\u001b[0m\u001b[0;34m(\u001b[0m\u001b[0;34m)\u001b[0m\u001b[0;34m\u001b[0m\u001b[0m\n\u001b[0;32m-> 1210\u001b[0;31m             \u001b[0m_process\u001b[0m\u001b[0;34m(\u001b[0m\u001b[0;34m)\u001b[0m\u001b[0;34m\u001b[0m\u001b[0m\n\u001b[0m\u001b[1;32m   1211\u001b[0m         \u001b[0m_process\u001b[0m\u001b[0;34m(\u001b[0m\u001b[0mdrain\u001b[0m\u001b[0;34m=\u001b[0m\u001b[0;36m1\u001b[0m\u001b[0;34m)\u001b[0m\u001b[0;34m\u001b[0m\u001b[0m\n\u001b[1;32m   1212\u001b[0m \u001b[0;34m\u001b[0m\u001b[0m\n",
      "\u001b[0;32m/Users/poldrack/anaconda/lib/python2.7/site-packages/nipype/interfaces/base.pyc\u001b[0m in \u001b[0;36m_process\u001b[0;34m(drain)\u001b[0m\n\u001b[1;32m   1195\u001b[0m         \u001b[0;32mdef\u001b[0m \u001b[0m_process\u001b[0m\u001b[0;34m(\u001b[0m\u001b[0mdrain\u001b[0m\u001b[0;34m=\u001b[0m\u001b[0;36m0\u001b[0m\u001b[0;34m)\u001b[0m\u001b[0;34m:\u001b[0m\u001b[0;34m\u001b[0m\u001b[0m\n\u001b[1;32m   1196\u001b[0m             \u001b[0;32mtry\u001b[0m\u001b[0;34m:\u001b[0m\u001b[0;34m\u001b[0m\u001b[0m\n\u001b[0;32m-> 1197\u001b[0;31m                 \u001b[0mres\u001b[0m \u001b[0;34m=\u001b[0m \u001b[0mselect\u001b[0m\u001b[0;34m.\u001b[0m\u001b[0mselect\u001b[0m\u001b[0;34m(\u001b[0m\u001b[0mstreams\u001b[0m\u001b[0;34m,\u001b[0m \u001b[0;34m[\u001b[0m\u001b[0;34m]\u001b[0m\u001b[0;34m,\u001b[0m \u001b[0;34m[\u001b[0m\u001b[0;34m]\u001b[0m\u001b[0;34m,\u001b[0m \u001b[0mtimeout\u001b[0m\u001b[0;34m)\u001b[0m\u001b[0;34m\u001b[0m\u001b[0m\n\u001b[0m\u001b[1;32m   1198\u001b[0m             \u001b[0;32mexcept\u001b[0m \u001b[0mselect\u001b[0m\u001b[0;34m.\u001b[0m\u001b[0merror\u001b[0m\u001b[0;34m,\u001b[0m \u001b[0me\u001b[0m\u001b[0;34m:\u001b[0m\u001b[0;34m\u001b[0m\u001b[0m\n\u001b[1;32m   1199\u001b[0m                 \u001b[0miflogger\u001b[0m\u001b[0;34m.\u001b[0m\u001b[0minfo\u001b[0m\u001b[0;34m(\u001b[0m\u001b[0mstr\u001b[0m\u001b[0;34m(\u001b[0m\u001b[0me\u001b[0m\u001b[0;34m)\u001b[0m\u001b[0;34m)\u001b[0m\u001b[0;34m\u001b[0m\u001b[0m\n",
      "\u001b[0;31mKeyboardInterrupt\u001b[0m: "
     ]
    }
   ],
   "source": [
    "modelgen=fsl.model.FEATModel()\n",
    "modelgen.inputs.fsf_file=fsf_file\n",
    "modelgen.inputs.ev_files=event_files\n",
    "modelgen.run()\n",
    "\n",
    "\n"
   ]
  },
  {
   "cell_type": "code",
   "execution_count": 9,
   "metadata": {
    "collapsed": false
   },
   "outputs": [
    {
     "data": {
      "text/plain": [
       "<matplotlib.image.AxesImage at 0x125974d50>"
      ]
     },
     "execution_count": 9,
     "metadata": {},
     "output_type": "execute_result"
    },
    {
     "data": {
      "image/png": "[encoded data removed]",
      "text/plain": [
       "<matplotlib.figure.Figure at 0x103978d90>"
      ]
     },
     "metadata": {},
     "output_type": "display_data"
    }
   ],
   "source": [
    "desmtx=numpy.loadtxt(fsf_file.replace(\".fsf\",\".mat\"),skiprows=5)\n",
    "plt.imshow(desmtx,aspect='auto',interpolation='nearest',cmap='gray')\n"
   ]
  },
  {
   "cell_type": "markdown",
   "metadata": {},
   "source": [
    "Estimate the model with a separate condition for each block.  We would usually use FSL, but it's very slow given the size of the dataset, so we just perform the GLM manually to get the betas for each condition/voxel."
   ]
  },
  {
   "cell_type": "code",
   "execution_count": 18,
   "metadata": {
    "collapsed": false
   },
   "outputs": [],
   "source": [
    "# this is how one could do it using FSL - this is VERY slow, so let's compute the GLM on our own\n",
    "if 0: #not os.path.exists(os.path.join(modeldir,'stats')):\n",
    "    fgls = fsl.FILMGLS(smooth_autocorr=True,mask_size=5)\n",
    "    fgls.inputs.in_file =os.path.join(datadir,'bold.nii.gz')\n",
    "    fgls.inputs.design_file = os.path.join(modeldir,'run0.mat')\n",
    "    fgls.inputs.threshold = 10\n",
    "    fgls.inputs.results_dir = os.path.join(modeldir,'stats')\n",
    "    fgls.inputs.tcon_file=os.path.join(modeldir,'run0.con')\n",
    "    res = fgls.run() \n",
    "\n",
    "else:\n",
    "    bolddata=boldimg.get_data()\n",
    "    maskvox=maskimg.get_data()>0\n",
    "    vtdata=numpy.zeros((bolddata.shape[3],numpy.sum(maskvox)))\n",
    "    for tp in range(bolddata.shape[3]):\n",
    "        vtdata[tp,:]=bolddata[:,:,:,tp][maskvox]\n",
    "    \n",
    "    betas=numpy.linalg.inv(desmtx.T.dot(desmtx)).dot(desmtx.T.dot(vtdata))\n",
    "    \n"
   ]
  },
  {
   "cell_type": "markdown",
   "metadata": {},
   "source": [
    "Now let's do a leave-one-run out classifier."
   ]
  },
  {
   "cell_type": "code",
   "execution_count": 65,
   "metadata": {
    "collapsed": false
   },
   "outputs": [],
   "source": [
    "run_vals=list(numpy.unique(runs))\n",
    "\n",
    "pred=numpy.zeros(len(conditions)) # predicted class\n",
    "\n",
    "baseclf=LinearSVC()\n",
    "\n",
    "clf=sklearn.multiclass.OneVsRestClassifier(baseclf)\n",
    "shuffle_labels=False\n",
    "\n",
    "for testrun in run_vals:\n",
    "    testdata=betas[runs==testrun,:]\n",
    "    traindata=betas[runs!=testrun,:]\n",
    "    trainlabels=condnums[runs!=testrun]\n",
    "    if shuffle_labels:\n",
    "        numpy.random.shuffle(trainlabels)\n",
    "    clf.fit(traindata,trainlabels)\n",
    "    pred[run_array==testrun]=clf.predict(testdata)"
   ]
  },
  {
   "cell_type": "code",
   "execution_count": 73,
   "metadata": {
    "collapsed": false
   },
   "outputs": [
    {
     "name": "stdout",
     "output_type": "stream",
     "text": [
      "[[ 6  0  0  2  0  1  2  1]\n",
      " [ 1  9  2  0  0  0  0  0]\n",
      " [ 1  2  9  0  0  0  0  0]\n",
      " [ 2  0  0  8  0  0  1  1]\n",
      " [ 1  0  0  1 10  0  0  0]\n",
      " [ 0  0  0  0  0 12  0  0]\n",
      " [ 0  0  0  2  0  1  7  2]\n",
      " [ 2  0  0  2  0  0  0  8]]\n",
      "Accuracy score: 0.71875\n"
     ]
    }
   ],
   "source": [
    "confmtx=sklearn.metrics.confusion_matrix(condnums,pred)\n",
    "print confmtx\n",
    "acc=sklearn.metrics.accuracy_score(condnums,pred)\n",
    "print 'Accuracy score:',acc"
   ]
  },
  {
   "cell_type": "raw",
   "metadata": {},
   "source": []
  },
  {
   "cell_type": "code",
   "execution_count": null,
   "metadata": {
    "collapsed": false
   },
   "outputs": [],
   "source": []
  },
  {
   "cell_type": "code",
   "execution_count": null,
   "metadata": {
    "collapsed": true
   },
   "outputs": [],
   "source": []
  }
 ],
 "metadata": {
  "kernelspec": {
   "display_name": "Python 2",
   "language": "python",
   "name": "python2"
  },
  "language_info": {
   "codemirror_mode": {
    "name": "ipython",
    "version": 2
   },
   "file_extension": ".py",
   "mimetype": "text/x-python",
   "name": "python",
   "nbconvert_exporter": "python",
   "pygments_lexer": "ipython2",
   "version": "2.7.9"
  }
 },
 "nbformat": 4,
 "nbformat_minor": 0
}
