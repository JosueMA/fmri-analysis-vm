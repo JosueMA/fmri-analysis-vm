{
 "cells": [
  {
   "cell_type": "markdown",
   "metadata": {},
   "source": [
    "This notebook generates random synthetic fMRI data and a random behavioral regressor, and performs a standard univariate analysis to find correlations between the two.  It is meant to demonstrate how easy it is to find seemingly impressive correlations with fMRI data when multiple tests are not properly controlled for.  \n",
    "\n",
    "In order to run this code, you must first install the standard Scientific Python stack (e.g. using [anaconda](https://www.continuum.io/downloads)) along with following additional dependencies:\n",
    "* [nibabel](http://nipy.org/nibabel/)\n",
    "* [nilearn](http://nilearn.github.io)\n",
    "* [statsmodels](http://statsmodels.sourceforge.net)\n",
    "* [nipype](http://nipype.readthedocs.io/en/latest/)\n",
    "\n",
    "In addition, this notebook assumes that [FSL](http://fsl.fmrib.ox.ac.uk/fsl/fslwiki/) is installed and that the FSLDIR environment variable is defined.\n"
   ]
  },
  {
   "cell_type": "code",
   "execution_count": 5,
   "metadata": {
    "collapsed": false
   },
   "outputs": [],
   "source": [
    "import numpy\n",
    "import nibabel\n",
    "import os\n",
    "import nilearn.plotting\n",
    "import matplotlib.pyplot as plt\n",
    "from statsmodels.regression.linear_model import OLS\n",
    "import nipype.interfaces.fsl as fsl\n",
    "import scipy.stats\n",
    "\n",
    "if not 'FSLDIR' in os.environ.keys():\n",
    "    raise Exception('This notebook requires that FSL is installed and the FSLDIR environment variable is set')\n",
    "\n",
    "%matplotlib inline\n"
   ]
  },
  {
   "cell_type": "markdown",
   "metadata": {},
   "source": [
    "Set up default parameters.  We use 28 subjects, which is the median sample size of the set of fMRI studies published in 2015 that were estimated from Neurosynth in the paper.  We use a heuristic correction for multiple comparisons of p<0.001 and 10 voxels, like that show by Eklund et al. (2016, PNAS) to result in Type I error rates of 0.6-0.9."
   ]
  },
  {
   "cell_type": "code",
   "execution_count": 6,
   "metadata": {
    "collapsed": true
   },
   "outputs": [],
   "source": [
    "pthresh=0.001  # cluster forming threshold\n",
    "cthresh=10     # cluster extent threshold\n",
    "nsubs=28       # number of subjects"
   ]
  },
  {
   "cell_type": "markdown",
   "metadata": {},
   "source": [
    "In order to recreate the figure from the paper exactly, we need to fix the random seed so that it will generate exactly the same random data.  If you wish to generate new data, then set the recreate_paper_figure variable to False and rerun the notebook.\n"
   ]
  },
  {
   "cell_type": "code",
   "execution_count": 7,
   "metadata": {
    "collapsed": false
   },
   "outputs": [
    {
     "name": "stdout",
     "output_type": "stream",
     "text": [
      "67557\n"
     ]
    }
   ],
   "source": [
    "recreate_paper_figure=False\n",
    "if recreate_paper_figure:\n",
    "    seed=6636\n",
    "else:\n",
    "    seed=numpy.ceil(numpy.random.rand()*100000).astype('int')\n",
    "    print(seed)\n",
    "\n",
    "numpy.random.seed(seed)"
   ]
  },
  {
   "cell_type": "markdown",
   "metadata": {},
   "source": [
    "Use the standard MNI152 2mm brain mask as the mask for the generated data\n",
    "\n"
   ]
  },
  {
   "cell_type": "code",
   "execution_count": 8,
   "metadata": {
    "collapsed": false
   },
   "outputs": [
    {
     "name": "stdout",
     "output_type": "stream",
     "text": [
      "Mask includes 228483 voxels\n"
     ]
    }
   ],
   "source": [
    "maskimg=os.path.join(os.getenv('FSLDIR'),'data/standard/MNI152_T1_2mm_brain_mask.nii.gz')\n",
    "mask=nibabel.load(maskimg)\n",
    "maskdata=mask.get_data()\n",
    "maskvox=numpy.where(maskdata>0)\n",
    "print('Mask includes %d voxels'%len(maskvox[0]))"
   ]
  },
  {
   "cell_type": "markdown",
   "metadata": {},
   "source": [
    "Generate a dataset for each subject.  fMRI data within the mask are generated using a Gaussian distribution (mean=1000, standard deviation=100).  Behavioral data are generated using a Gaussian distribution (mean=100, standard deviation=1).\n",
    "\n"
   ]
  },
  {
   "cell_type": "code",
   "execution_count": 9,
   "metadata": {
    "collapsed": false
   },
   "outputs": [],
   "source": [
    "imgmean=1000    # mean activation within mask\n",
    "imgstd=100      # standard deviation of noise within mask\n",
    "behavmean=100   # mean of behavioral regressor\n",
    "behavstd=1      # standard deviation of behavioral regressor\n",
    "\n",
    "data=numpy.zeros((maskdata.shape + (nsubs,)))\n",
    "\n",
    "for i in range(nsubs):\n",
    "    tmp=numpy.zeros(maskdata.shape)\n",
    "    tmp[maskvox]=numpy.random.randn(len(maskvox[0]))*imgstd+imgmean\n",
    "    data[:,:,:,i]=tmp\n",
    "\n",
    "newimg=nibabel.Nifti1Image(data,mask.get_affine(),mask.get_header())\n",
    "newimg.to_filename('fakedata.nii.gz')\n",
    "regressor=numpy.random.randn(nsubs,1)*behavstd+behavmean\n",
    "numpy.savetxt('regressor.txt',regressor)"
   ]
  },
  {
   "cell_type": "markdown",
   "metadata": {},
   "source": [
    "Spatially smooth data using a 6 mm FWHM Gaussian kernel"
   ]
  },
  {
   "cell_type": "code",
   "execution_count": 10,
   "metadata": {
    "collapsed": false
   },
   "outputs": [
    {
     "data": {
      "text/plain": [
       "<nipype.interfaces.base.InterfaceResult at 0x116dd0d30>"
      ]
     },
     "execution_count": 10,
     "metadata": {},
     "output_type": "execute_result"
    }
   ],
   "source": [
    "smoothing_fwhm=6 # FWHM in millimeters\n",
    "\n",
    "smooth=fsl.IsotropicSmooth(fwhm=smoothing_fwhm,\n",
    "                           in_file='fakedata.nii.gz',\n",
    "                           out_file='fakedata_smooth.nii.gz')\n",
    "smooth.run()"
   ]
  },
  {
   "cell_type": "markdown",
   "metadata": {},
   "source": [
    "Use FSL's GLM tool to run a regression at each voxel"
   ]
  },
  {
   "cell_type": "code",
   "execution_count": 11,
   "metadata": {
    "collapsed": false
   },
   "outputs": [
    {
     "data": {
      "text/plain": [
       "<nipype.interfaces.base.InterfaceResult at 0x116dd9da0>"
      ]
     },
     "execution_count": 11,
     "metadata": {},
     "output_type": "execute_result"
    }
   ],
   "source": [
    "glm = fsl.GLM(in_file='fakedata_smooth.nii.gz', \n",
    "              design='regressor.txt', \n",
    "              out_t_name='regressor_tstat.nii.gz',\n",
    "             demean=True)\n",
    "glm.run()"
   ]
  },
  {
   "cell_type": "markdown",
   "metadata": {},
   "source": [
    "Use FSL's cluster tool to identify clusters of activation that exceed the specified cluster-forming threshold"
   ]
  },
  {
   "cell_type": "code",
   "execution_count": 12,
   "metadata": {
    "collapsed": false
   },
   "outputs": [
    {
     "name": "stdout",
     "output_type": "stream",
     "text": [
      "161108-05:44:43,959 interface INFO:\n",
      "\t stdout 2016-11-08T05:44:43.958906:Cluster Index\tVoxels\tMAX\tMAX X (vox)\tMAX Y (vox)\tMAX Z (vox)\tCOG X (vox)\tCOG Y (vox)\tCOG Z (vox)\n",
      "161108-05:44:43,961 interface INFO:\n",
      "\t stdout 2016-11-08T05:44:43.958906:79\t25\t5.02\t28\t82\t62\t28.4\t82.1\t62.3\n",
      "161108-05:44:43,962 interface INFO:\n",
      "\t stdout 2016-11-08T05:44:43.958906:78\t18\t4.89\t38\t13\t38\t38.3\t12.4\t38.2\n",
      "161108-05:44:43,962 interface INFO:\n",
      "\t stdout 2016-11-08T05:44:43.958906:77\t17\t5.45\t54\t49\t57\t54.4\t48.9\t56.5\n",
      "161108-05:44:43,963 interface INFO:\n",
      "\t stdout 2016-11-08T05:44:43.958906:76\t16\t4.53\t22\t46\t11\t22.6\t44.5\t10.7\n",
      "161108-05:44:43,964 interface INFO:\n",
      "\t stdout 2016-11-08T05:44:43.958906:75\t13\t4.7\t56\t92\t49\t56.2\t93.1\t49.7\n",
      "161108-05:44:43,965 interface INFO:\n",
      "\t stdout 2016-11-08T05:44:43.958906:74\t12\t4.52\t15\t25\t36\t15.3\t25.2\t35.9\n",
      "161108-05:44:43,966 interface INFO:\n",
      "\t stdout 2016-11-08T05:44:43.958906:73\t10\t4.45\t22\t24\t53\t22\t24.2\t52.8\n",
      "161108-05:44:43,967 interface INFO:\n",
      "\t stdout 2016-11-08T05:44:43.958906:72\t10\t5.09\t20\t32\t45\t20.4\t31.7\t45.3\n",
      "161108-05:44:43,968 interface INFO:\n",
      "\t stdout 2016-11-08T05:44:43.958906:71\t10\t4.7\t34\t69\t32\t34\t69\t31.8\n",
      "161108-05:44:43,968 interface INFO:\n",
      "\t stdout 2016-11-08T05:44:43.958906:70\t9\t4.94\t73\t39\t54\t73.4\t38.6\t53.9\n",
      "161108-05:44:43,969 interface INFO:\n",
      "\t stdout 2016-11-08T05:44:43.958906:69\t9\t4.03\t17\t61\t42\t17.4\t61.1\t43\n",
      "161108-05:44:43,970 interface INFO:\n",
      "\t stdout 2016-11-08T05:44:43.958906:68\t9\t4.49\t58\t79\t27\t58.2\t79.1\t27.5\n",
      "161108-05:44:43,971 interface INFO:\n",
      "\t stdout 2016-11-08T05:44:43.958906:67\t8\t4.14\t36\t68\t71\t36.5\t67.5\t70.5\n",
      "161108-05:44:43,972 interface INFO:\n",
      "\t stdout 2016-11-08T05:44:43.958906:66\t8\t4.62\t30\t44\t63\t30.1\t43.8\t62.8\n",
      "161108-05:44:43,972 interface INFO:\n",
      "\t stdout 2016-11-08T05:44:43.958906:65\t8\t4.63\t26\t55\t53\t25.6\t55.2\t53.5\n",
      "161108-05:44:43,973 interface INFO:\n",
      "\t stdout 2016-11-08T05:44:43.958906:64\t8\t3.94\t37\t62\t17\t37.6\t61.8\t17.1\n",
      "161108-05:44:43,974 interface INFO:\n",
      "\t stdout 2016-11-08T05:44:43.958906:63\t7\t4.2\t42\t61\t67\t41.6\t61.6\t66.2\n",
      "161108-05:44:43,974 interface INFO:\n",
      "\t stdout 2016-11-08T05:44:43.958906:62\t7\t4.69\t30\t92\t41\t29.4\t91.7\t41.3\n",
      "161108-05:44:43,975 interface INFO:\n",
      "\t stdout 2016-11-08T05:44:43.958906:61\t7\t4.27\t42\t54\t23\t41.7\t53.3\t22\n",
      "161108-05:44:43,976 interface INFO:\n",
      "\t stdout 2016-11-08T05:44:43.958906:60\t6\t4.04\t67\t53\t67\t67.5\t53.1\t68.1\n",
      "161108-05:44:43,976 interface INFO:\n",
      "\t stdout 2016-11-08T05:44:43.958906:59\t6\t4.31\t22\t56\t64\t22\t56\t63.5\n",
      "161108-05:44:43,977 interface INFO:\n",
      "\t stdout 2016-11-08T05:44:43.958906:58\t6\t4.11\t33\t36\t44\t32.5\t36.3\t44\n",
      "161108-05:44:43,977 interface INFO:\n",
      "\t stdout 2016-11-08T05:44:43.958906:57\t6\t4.45\t55\t42\t36\t55\t41.7\t36.8\n",
      "161108-05:44:43,978 interface INFO:\n",
      "\t stdout 2016-11-08T05:44:43.958906:56\t6\t4.1\t76\t49\t36\t75.8\t49.8\t35.7\n",
      "161108-05:44:43,979 interface INFO:\n",
      "\t stdout 2016-11-08T05:44:43.958906:55\t6\t4.07\t21\t56\t26\t21.2\t56.2\t26.3\n",
      "161108-05:44:43,979 interface INFO:\n",
      "\t stdout 2016-11-08T05:44:43.958906:54\t6\t3.73\t50\t29\t19\t51.3\t29.2\t18.5\n",
      "161108-05:44:43,980 interface INFO:\n",
      "\t stdout 2016-11-08T05:44:43.958906:53\t6\t3.74\t57\t41\t12\t56.5\t41.3\t11.7\n",
      "161108-05:44:43,980 interface INFO:\n",
      "\t stdout 2016-11-08T05:44:43.958906:52\t5\t4.09\t29\t19\t41\t29.6\t18.8\t41.4\n",
      "161108-05:44:43,981 interface INFO:\n",
      "\t stdout 2016-11-08T05:44:43.958906:51\t5\t4.1\t36\t76\t24\t36.4\t75.6\t24.2\n",
      "161108-05:44:43,981 interface INFO:\n",
      "\t stdout 2016-11-08T05:44:43.958906:50\t4\t4.24\t36\t37\t61\t36\t37.5\t61.5\n",
      "161108-05:44:43,982 interface INFO:\n",
      "\t stdout 2016-11-08T05:44:43.958906:49\t4\t4.47\t36\t59\t43\t36.5\t59\t42.5\n",
      "161108-05:44:43,983 interface INFO:\n",
      "\t stdout 2016-11-08T05:44:43.958906:48\t4\t3.8\t66\t71\t41\t66.5\t71\t41.5\n",
      "161108-05:44:43,984 interface INFO:\n",
      "\t stdout 2016-11-08T05:44:43.958906:47\t4\t3.62\t68\t25\t32\t67.8\t24.8\t32.5\n",
      "161108-05:44:43,984 interface INFO:\n",
      "\t stdout 2016-11-08T05:44:43.958906:46\t4\t4.12\t44\t74\t29\t44.5\t74\t29.5\n",
      "161108-05:44:43,985 interface INFO:\n",
      "\t stdout 2016-11-08T05:44:43.958906:45\t4\t3.72\t66\t66\t28\t65.5\t66.3\t28.2\n",
      "161108-05:44:43,985 interface INFO:\n",
      "\t stdout 2016-11-08T05:44:43.958906:44\t4\t4.54\t32\t73\t25\t31.8\t73\t25\n",
      "161108-05:44:43,986 interface INFO:\n",
      "\t stdout 2016-11-08T05:44:43.958906:43\t3\t4.03\t19\t58\t44\t19\t57.7\t44.3\n",
      "161108-05:44:43,987 interface INFO:\n",
      "\t stdout 2016-11-08T05:44:43.958906:42\t3\t3.77\t43\t19\t43\t43.3\t18.3\t42.7\n",
      "161108-05:44:43,987 interface INFO:\n",
      "\t stdout 2016-11-08T05:44:43.958906:41\t3\t4.1\t56\t46\t31\t56.7\t45.7\t31\n",
      "161108-05:44:43,988 interface INFO:\n",
      "\t stdout 2016-11-08T05:44:43.958906:40\t3\t3.67\t69\t46\t30\t69\t46.3\t30.3\n",
      "161108-05:44:43,988 interface INFO:\n",
      "\t stdout 2016-11-08T05:44:43.958906:39\t3\t3.61\t72\t40\t30\t71.3\t39.7\t30\n",
      "161108-05:44:43,989 interface INFO:\n",
      "\t stdout 2016-11-08T05:44:43.958906:38\t3\t3.61\t50\t31\t31\t49.7\t31\t30.7\n",
      "161108-05:44:43,989 interface INFO:\n",
      "\t stdout 2016-11-08T05:44:43.958906:37\t3\t3.93\t53\t89\t30\t52.7\t88.7\t30\n",
      "161108-05:44:43,990 interface INFO:\n",
      "\t stdout 2016-11-08T05:44:43.958906:36\t3\t3.62\t79\t55\t25\t78.3\t54.7\t25\n",
      "161108-05:44:43,990 interface INFO:\n",
      "\t stdout 2016-11-08T05:44:43.958906:35\t3\t3.53\t54\t27\t23\t54.7\t27\t22.7\n",
      "161108-05:44:43,991 interface INFO:\n",
      "\t stdout 2016-11-08T05:44:43.958906:34\t3\t3.52\t26\t19\t17\t26.3\t18.7\t16.3\n",
      "161108-05:44:43,992 interface INFO:\n",
      "\t stdout 2016-11-08T05:44:43.958906:33\t3\t3.5\t63\t41\t8\t63\t41\t7\n",
      "161108-05:44:43,992 interface INFO:\n",
      "\t stdout 2016-11-08T05:44:43.958906:32\t2\t3.56\t44\t56\t74\t44\t55.5\t74\n",
      "161108-05:44:43,993 interface INFO:\n",
      "\t stdout 2016-11-08T05:44:43.958906:31\t2\t3.56\t19\t27\t60\t18.5\t26.5\t60\n",
      "161108-05:44:43,994 interface INFO:\n",
      "\t stdout 2016-11-08T05:44:43.958906:30\t2\t3.52\t53\t31\t59\t53\t31\t58.5\n",
      "161108-05:44:43,995 interface INFO:\n",
      "\t stdout 2016-11-08T05:44:43.958906:29\t2\t3.66\t56\t99\t50\t56\t98.5\t50\n",
      "161108-05:44:43,995 interface INFO:\n",
      "\t stdout 2016-11-08T05:44:43.958906:28\t2\t3.72\t51\t24\t50\t51\t24\t49.5\n",
      "161108-05:44:43,996 interface INFO:\n",
      "\t stdout 2016-11-08T05:44:43.958906:27\t2\t3.6\t38\t83\t48\t38\t83\t48.5\n",
      "161108-05:44:43,997 interface INFO:\n",
      "\t stdout 2016-11-08T05:44:43.958906:26\t2\t3.72\t59\t45\t47\t59.5\t45\t47\n",
      "161108-05:44:43,997 interface INFO:\n",
      "\t stdout 2016-11-08T05:44:43.958906:25\t2\t3.83\t50\t66\t25\t50\t66.5\t25\n",
      "161108-05:44:43,998 interface INFO:\n",
      "\t stdout 2016-11-08T05:44:43.958906:24\t2\t3.68\t15\t65\t19\t14.5\t65\t19\n",
      "161108-05:44:43,999 interface INFO:\n",
      "\t stdout 2016-11-08T05:44:43.958906:23\t2\t3.49\t64\t42\t4\t63.5\t42\t4\n",
      "161108-05:44:43,999 interface INFO:\n",
      "\t stdout 2016-11-08T05:44:43.958906:22\t1\t3.49\t59\t59\t76\t59\t59\t76\n",
      "161108-05:44:44,0 interface INFO:\n",
      "\t stdout 2016-11-08T05:44:43.958906:21\t1\t3.54\t62\t33\t73\t62\t33\t73\n",
      "161108-05:44:44,1 interface INFO:\n",
      "\t stdout 2016-11-08T05:44:43.958906:20\t1\t3.63\t28\t41\t70\t28\t41\t70\n",
      "161108-05:44:44,2 interface INFO:\n",
      "\t stdout 2016-11-08T05:44:43.958906:19\t1\t3.43\t44\t43\t69\t44\t43\t69\n",
      "161108-05:44:44,2 interface INFO:\n",
      "\t stdout 2016-11-08T05:44:43.958906:18\t1\t3.44\t64\t62\t63\t64\t62\t63\n",
      "161108-05:44:44,3 interface INFO:\n",
      "\t stdout 2016-11-08T05:44:43.958906:17\t1\t3.47\t62\t41\t56\t62\t41\t56\n",
      "161108-05:44:44,4 interface INFO:\n",
      "\t stdout 2016-11-08T05:44:43.958906:16\t1\t3.74\t61\t31\t55\t61\t31\t55\n",
      "161108-05:44:44,4 interface INFO:\n",
      "\t stdout 2016-11-08T05:44:43.958906:15\t1\t3.59\t59\t20\t52\t59\t20\t52\n",
      "161108-05:44:44,5 interface INFO:\n",
      "\t stdout 2016-11-08T05:44:43.958906:14\t1\t3.64\t27\t32\t49\t27\t32\t49\n",
      "161108-05:44:44,5 interface INFO:\n",
      "\t stdout 2016-11-08T05:44:43.958906:13\t1\t3.66\t42\t62\t48\t42\t62\t48\n",
      "161108-05:44:44,6 interface INFO:\n",
      "\t stdout 2016-11-08T05:44:43.958906:12\t1\t3.58\t20\t54\t46\t20\t54\t46\n",
      "161108-05:44:44,7 interface INFO:\n",
      "\t stdout 2016-11-08T05:44:43.958906:11\t1\t3.56\t15\t36\t45\t15\t36\t45\n",
      "161108-05:44:44,7 interface INFO:\n",
      "\t stdout 2016-11-08T05:44:43.958906:10\t1\t3.48\t29\t81\t44\t29\t81\t44\n",
      "161108-05:44:44,8 interface INFO:\n",
      "\t stdout 2016-11-08T05:44:43.958906:9\t1\t3.67\t43\t12\t42\t43\t12\t42\n",
      "161108-05:44:44,9 interface INFO:\n",
      "\t stdout 2016-11-08T05:44:43.958906:8\t1\t3.55\t44\t70\t40\t44\t70\t40\n",
      "161108-05:44:44,9 interface INFO:\n",
      "\t stdout 2016-11-08T05:44:43.958906:7\t1\t3.46\t56\t66\t39\t56\t66\t39\n",
      "161108-05:44:44,10 interface INFO:\n",
      "\t stdout 2016-11-08T05:44:43.958906:6\t1\t3.51\t47\t63\t39\t47\t63\t39\n",
      "161108-05:44:44,10 interface INFO:\n",
      "\t stdout 2016-11-08T05:44:43.958906:5\t1\t3.74\t69\t33\t36\t69\t33\t36\n",
      "161108-05:44:44,11 interface INFO:\n",
      "\t stdout 2016-11-08T05:44:43.958906:4\t1\t3.68\t64\t24\t36\t64\t24\t36\n",
      "161108-05:44:44,12 interface INFO:\n",
      "\t stdout 2016-11-08T05:44:43.958906:3\t1\t3.78\t17\t51\t31\t17\t51\t31\n",
      "161108-05:44:44,12 interface INFO:\n",
      "\t stdout 2016-11-08T05:44:43.958906:2\t1\t3.77\t29\t68\t27\t29\t68\t27\n",
      "161108-05:44:44,13 interface INFO:\n",
      "\t stdout 2016-11-08T05:44:43.958906:1\t1\t3.49\t49\t64\t21\t49\t64\t21\n"
     ]
    }
   ],
   "source": [
    "tcut=scipy.stats.t.ppf(1-pthresh,nsubs-1)\n",
    "cl = fsl.Cluster()\n",
    "cl.inputs.threshold = tcut\n",
    "cl.inputs.in_file = 'regressor_tstat.nii.gz'\n",
    "cl.inputs.out_index_file='tstat_cluster_index.nii.gz'\n",
    "results=cl.run()"
   ]
  },
  {
   "cell_type": "markdown",
   "metadata": {
    "collapsed": true
   },
   "source": [
    "Generate a plot showing the brain-behavior relation from the top cluster"
   ]
  },
  {
   "cell_type": "code",
   "execution_count": 13,
   "metadata": {
    "collapsed": false
   },
   "outputs": [
    {
     "name": "stdout",
     "output_type": "stream",
     "text": [
      "Found 79 clusters exceeding p<0.001 and 10 voxel extent threshold\n",
      "Largest cluster: correlation=0.620, extent = 25 voxels\n"
     ]
    },
    {
     "data": {
      "image/png": "[encoded data removed]",
      "text/plain": [
       "<matplotlib.figure.Figure at 0x116e02c88>"
      ]
     },
     "metadata": {},
     "output_type": "display_data"
    }
   ],
   "source": [
    "clusterimg=nibabel.load(cl.inputs.out_index_file)\n",
    "clusterdata=clusterimg.get_data()\n",
    "indices=numpy.unique(clusterdata)\n",
    "\n",
    "clustersize=numpy.zeros(len(indices))\n",
    "clustermean=numpy.zeros((len(indices),nsubs))\n",
    "indvox={}\n",
    "for c in range(1,len(indices)):\n",
    "    indvox[c]=numpy.where(clusterdata==c)    \n",
    "    clustersize[c]=len(indvox[c][0])\n",
    "    for i in range(nsubs):\n",
    "        tmp=data[:,:,:,i]\n",
    "        clustermean[c,i]=numpy.mean(tmp[indvox[c]])\n",
    "corr=numpy.corrcoef(regressor.T,clustermean[-1])\n",
    "\n",
    "print('Found %d clusters exceeding p<%0.3f and %d voxel extent threshold'%(c,pthresh,cthresh))\n",
    "print('Largest cluster: correlation=%0.3f, extent = %d voxels'%(corr[0,1],len(indvox[c][0])))\n",
    "\n",
    "# set cluster to show - 0 is the largest, 1 the second largest, and so on\n",
    "cluster_to_show=0\n",
    "\n",
    "# translate this variable into the index of indvox\n",
    "cluster_to_show_idx=len(indices)-cluster_to_show-1\n",
    "\n",
    "# plot the (circular) relation between fMRI signal and \n",
    "# behavioral regressor in the chosen cluster\n",
    "\n",
    "plt.scatter(regressor.T,clustermean[cluster_to_show_idx])\n",
    "plt.title('Correlation = %0.3f'%corr[0,1],fontsize=14)\n",
    "plt.xlabel('Fake behavioral regressor',fontsize=18)\n",
    "plt.ylabel('Fake fMRI data',fontsize=18)\n",
    "m, b = numpy.polyfit(regressor[:,0], clustermean[cluster_to_show_idx], 1)\n",
    "axes = plt.gca()\n",
    "X_plot = numpy.linspace(axes.get_xlim()[0],axes.get_xlim()[1],100)\n",
    "plt.plot(X_plot, m*X_plot + b, '-')\n",
    "plt.savefig('scatter.png',dpi=600)"
   ]
  },
  {
   "cell_type": "markdown",
   "metadata": {},
   "source": [
    "Generate a thresholded statistics image for display"
   ]
  },
  {
   "cell_type": "code",
   "execution_count": 14,
   "metadata": {
    "collapsed": false
   },
   "outputs": [],
   "source": [
    "tstat=nibabel.load('regressor_tstat.nii.gz').get_data()\n",
    "thresh_t=clusterdata.copy()\n",
    "cutoff=numpy.min(numpy.where(clustersize>cthresh))\n",
    "thresh_t[thresh_t<cutoff]=0\n",
    "thresh_t=thresh_t*tstat\n",
    "thresh_t_img=nibabel.Nifti1Image(thresh_t,mask.get_affine(),mask.get_header())"
   ]
  },
  {
   "cell_type": "markdown",
   "metadata": {},
   "source": [
    "Generate a figure showing the location of the selected activation focus."
   ]
  },
  {
   "cell_type": "code",
   "execution_count": 15,
   "metadata": {
    "collapsed": false
   },
   "outputs": [
    {
     "name": "stderr",
     "output_type": "stream",
     "text": [
      "/Users/poldrack/anaconda/envs/py34/lib/python3.4/site-packages/ipykernel/__main__.py:2: VisibleDeprecationWarning: using a non-integer number instead of an integer will result in an error in the future\n",
      "  from ipykernel import kernelapp as app\n",
      "/Users/poldrack/anaconda/envs/py34/lib/python3.4/site-packages/ipykernel/__main__.py:3: VisibleDeprecationWarning: using a non-integer number instead of an integer will result in an error in the future\n",
      "  app.launch_new_instance()\n",
      "/Users/poldrack/anaconda/envs/py34/lib/python3.4/site-packages/ipykernel/__main__.py:4: VisibleDeprecationWarning: using a non-integer number instead of an integer will result in an error in the future\n"
     ]
    },
    {
     "data": {
      "image/png": "[encoded data removed]",
      "text/plain": [
       "<matplotlib.figure.Figure at 0x1033247b8>"
      ]
     },
     "metadata": {},
     "output_type": "display_data"
    }
   ],
   "source": [
    "mid=len(indvox[cluster_to_show_idx][0])/2\n",
    "coords=numpy.array([indvox[cluster_to_show_idx][0][mid],\n",
    "                    indvox[cluster_to_show_idx][1][mid],\n",
    "                    indvox[cluster_to_show_idx][2][mid],1]).T\n",
    "mni=mask.get_qform().dot(coords)\n",
    "nilearn.plotting.plot_stat_map(thresh_t_img,\n",
    "        os.path.join(os.getenv('FSLDIR'),'data/standard/MNI152_T1_2mm_brain.nii.gz'),\n",
    "                              threshold=cl.inputs.threshold,\n",
    "                               cut_coords=mni[:3])\n",
    "plt.savefig('slices.png',dpi=600)"
   ]
  }
 ],
 "metadata": {
  "kernelspec": {
   "display_name": "Python 3",
   "language": "python",
   "name": "python3"
  },
  "language_info": {
   "codemirror_mode": {
    "name": "ipython",
    "version": 3
   },
   "file_extension": ".py",
   "mimetype": "text/x-python",
   "name": "python",
   "nbconvert_exporter": "python",
   "pygments_lexer": "ipython3",
   "version": "3.4.4"
  }
 },
 "nbformat": 4,
 "nbformat_minor": 0
}
