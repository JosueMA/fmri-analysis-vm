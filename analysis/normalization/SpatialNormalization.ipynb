{
 "cells": [
  {
   "cell_type": "markdown",
   "metadata": {},
   "source": [
    "This notebook will go through the pipeline for normalizing an fMRI dataset into the MNI template space."
   ]
  },
  {
   "cell_type": "code",
   "metadata": {
    "collapsed": false
   },
   "outputs": [],
   "source": [
    "import os,shutil\n",
    "import sklearn.metrics\n",
    "\n",
    "try:\n",
    "    datadir=os.environ['FMRIDATADIR']\n",
    "    assert not datadir==''\n",
    "except:\n",
    "    datadir='/Users/poldrack/data_unsynced/myconnectome/sub00001'\n",
    "\n",
    "print 'Using data from',datadir\n",
    "\n",
    "%matplotlib inline\n",
    "\n",
    "from nipype.interfaces import fsl\n",
    "import nibabel\n",
    "import numpy\n",
    "import nilearn.plotting\n",
    "import matplotlib.pyplot as plt\n",
    "from nipype.interfaces import ants\n"
   ]
  },
  {
   "cell_type": "code",
   "metadata": {
    "collapsed": false
   },
   "outputs": [],
   "source": [
    "subject='ses014'  \n",
    "# note - we have to use the anatomy from a different session'\n",
    "anat_subject='ses018'\n",
    "bolddir=os.path.join(datadir,'ds031/sub00001',subject,\n",
    "        'functional')\n",
    "\n",
    "meanbold_unwarped_file=os.path.join(bolddir,\n",
    "    'sub00001_ses014_task002_run001_bold_mcf_brain_unwarped_mean.nii.gz')\n",
    "bold_file=os.path.join(bolddir,\n",
    "    'sub00001_ses014_task002_run001_bold_mcf_brain_unwarped.nii.gz')\n",
    "anatomydir=os.path.join(datadir,'ds031/sub00001',anat_subject,\n",
    "        'anatomy')\n",
    "t1file=os.path.join(anatomydir,'sub00001_ses018_T1w_001.nii.gz')\n"
   ]
  },
  {
   "cell_type": "markdown",
   "metadata": {},
   "source": [
    "Perform brain extraction using BET"
   ]
  },
  {
   "cell_type": "code",
   "metadata": {
    "collapsed": false,
    "scrolled": true
   },
   "outputs": [],
   "source": [
    "t1brainfile=t1file.replace('.nii.gz','_brain.nii.gz')\n",
    "btr = fsl.BET(frac=0.3)\n",
    "btr.inputs.in_file = t1file\n",
    "btr.inputs.out_file=t1brainfile\n",
    "btr.inputs.mask=True\n",
    "if not os.path.exists(btr.inputs.out_file):\n",
    "    res = btr.run() "
   ]
  },
  {
   "cell_type": "markdown",
   "metadata": {},
   "source": [
    "Visualize brain mask overlaid on anatomy"
   ]
  },
  {
   "cell_type": "code",
   "metadata": {
    "collapsed": false
   },
   "outputs": [],
   "source": [
    "brainmask=nibabel.load(t1brainfile.replace('.nii.gz','_mask.nii.gz'))\n",
    "maskdata=brainmask.get_data()\n",
    "t1img=nibabel.load(t1file)\n",
    "\n",
    "mask_display=nilearn.plotting.plot_epi(t1img,cmap='gray')\n",
    "mask_display.add_contours(brainmask, levels=[.5]) "
   ]
  },
  {
   "cell_type": "markdown",
   "metadata": {},
   "source": [
    "Perform bias field correction on T1-weighted image using FSL's FAST."
   ]
  },
  {
   "cell_type": "code",
   "metadata": {
    "collapsed": false
   },
   "outputs": [],
   "source": [
    "bfcfile=os.path.join(anatomydir,'sub00001_ses018_T1w_001_brain_FAST_restore.nii.gz')\n",
    "\n",
    "if not os.path.exists(bfcfile):\n",
    "    fastr = fsl.FAST(verbose=True)\n",
    "    fastr.inputs.in_files = t1brainfile\n",
    "    fastr.inputs.output_biascorrected=True\n",
    "    fastr.inputs.out_basename=t1brainfile.replace('.nii.gz','_FAST')\n",
    "    try:\n",
    "        out = fastr.run() \n",
    "    except:\n",
    "        pass # FAST throws an error even if it finishes OK\n",
    "else:\n",
    "    print 'using existing bias-field corrected data'\n",
    "# rename wmseg so that BFC will find it\n",
    "wm_maskfile=os.path.join(anatomydir,'sub00001_ses018_T1w_001_brain_FAST_restore_wmseg.nii.gz')\n",
    "if not os.path.exists(wm_maskfile):\n",
    "    shutil.copy(os.path.join(anatomydir,'sub00001_ses018_T1w_001_brain_FAST_pve_2.nii.gz'),\n",
    "            wm_maskfile)"
   ]
  },
  {
   "cell_type": "markdown",
   "metadata": {},
   "source": [
    "Visualize white matter mask"
   ]
  },
  {
   "cell_type": "code",
   "metadata": {
    "collapsed": false
   },
   "outputs": [],
   "source": [
    "wm_mask=nibabel.load(wm_maskfile)\n",
    "\n",
    "mask_display=nilearn.plotting.plot_epi(t1img,cmap='gray')\n",
    "mask_display.add_contours(wm_mask, levels=[.5]) "
   ]
  },
  {
   "cell_type": "markdown",
   "metadata": {},
   "source": [
    "Register mean unwarped functional to anatomy using corratio"
   ]
  },
  {
   "cell_type": "code",
   "metadata": {
    "collapsed": false
   },
   "outputs": [],
   "source": [
    "if not os.path.exists(meanbold_unwarped_file.replace('.nii.gz','_reg2t1.mat')):\n",
    "\n",
    "    flt = fsl.FLIRT(cost_func='corratio',dof=7)\n",
    "    flt.inputs.in_file = meanbold_unwarped_file\n",
    "    flt.inputs.reference = bfcfile\n",
    "    flt.inputs.out_file = meanbold_unwarped_file.replace('.nii.gz','_reg2t1.nii.gz')\n",
    "    flt.inputs.out_matrix_file = meanbold_unwarped_file.replace('.nii.gz','_reg2t1.mat')\n",
    "    flt.inputs.wm_seg=wm_maskfile\n",
    "    flt.run()\n",
    "else:\n",
    "    print 'using existing corratio registration'"
   ]
  },
  {
   "cell_type": "markdown",
   "metadata": {},
   "source": [
    "Register mean unwarped functional to anatomy using BBR (using the matrix from the corratio registration as a starting point)"
   ]
  },
  {
   "cell_type": "code",
   "metadata": {
    "collapsed": false
   },
   "outputs": [],
   "source": [
    "bbrmat=meanbold_unwarped_file.replace('.nii.gz','_bbreg2t1.mat')\n",
    "if not os.path.exists(bbrmat):\n",
    "    \n",
    "    flt = fsl.FLIRT(cost_func='bbr',verbose=6,dof=7)\n",
    "    flt.inputs.in_file = meanbold_unwarped_file\n",
    "    flt.inputs.reference = bfcfile\n",
    "    flt.inputs.schedule = os.path.join(os.getenv('FSLDIR'),\n",
    "                                                'etc/flirtsch/bbr.sch')\n",
    "\n",
    "    flt.inputs.out_file = meanbold_unwarped_file.replace('.nii.gz','_bbreg2t1.nii.gz')\n",
    "    flt.inputs.in_matrix_file = meanbold_unwarped_file.replace('.nii.gz','_reg2t1.mat')\n",
    "    flt.inputs.out_matrix_file = bbrmat\n",
    "    flt.inputs.wm_seg=wm_maskfile\n",
    "    # NOTE: This takes a VERY long time, so we probably want to \n",
    "    # save the matrix file in the data that are loaded to start with\n",
    "    flt.run()\n",
    "else:\n",
    "    print 'using existing BBR file'\n",
    "\n"
   ]
  },
  {
   "cell_type": "markdown",
   "metadata": {},
   "source": [
    "Which is better?"
   ]
  },
  {
   "cell_type": "code",
   "metadata": {
    "collapsed": false
   },
   "outputs": [],
   "source": [
    "def calc_MI(x, y, bins=10):\n",
    "    # compute mutual information between two variables\n",
    "    c_xy = numpy.histogram2d(x, y, bins)[0]\n",
    "    mi = sklearn.metrics.mutual_info_score(None, None, contingency=c_xy)\n",
    "    return mi\n",
    "\n",
    "crfile=meanbold_unwarped_file.replace('.nii.gz','_reg2t1.nii.gz')\n",
    "bbrfile=meanbold_unwarped_file.replace('.nii.gz','_bbreg2t1.nii.gz')\n",
    "maskvox=numpy.where(maskdata)\n",
    "bcfdata=nibabel.load(bfcfile).get_data()[maskvox]\n",
    "crdata=nibabel.load(crfile).get_data()[maskvox]\n",
    "bbrdata=nibabel.load(bbrfile).get_data()[maskvox]\n",
    "if 1:\n",
    "    print 'Mutual information with target:'\n",
    "    mi_bbr=calc_MI(bcfdata,bbrdata)\n",
    "    print 'BBR:',mi_bbr\n",
    "    mi_cr=calc_MI(bcfdata,crdata)\n",
    "    print 'corratio:',mi_cr"
   ]
  },
  {
   "cell_type": "markdown",
   "metadata": {
    "collapsed": true
   },
   "source": [
    "Now let's register our functional data to the MNI template, and generate a composite transform.  Start out using FLIRT."
   ]
  },
  {
   "cell_type": "code",
   "metadata": {
    "collapsed": false
   },
   "outputs": [],
   "source": [
    "mnimat_flirt=bfcfile.replace('.nii.gz','_reg2mni.mat')\n",
    "if not os.path.exists(mnimat_flirt):\n",
    "    flt = fsl.FLIRT(cost_func='normcorr',dof=12)\n",
    "    flt.inputs.in_file = bfcfile\n",
    "    flt.inputs.reference = os.path.join(os.getenv('FSLDIR'),\n",
    "                            'data/standard/MNI152_T1_2mm_brain.nii.gz')\n",
    "    flt.inputs.out_file = bfcfile.replace('.nii.gz','_reg2mni.nii.gz')\n",
    "    flt.inputs.out_matrix_file = mnimat_flirt\n",
    "    flt.run()\n",
    "else:\n",
    "    print 'using existing FLIRT MNI registration'"
   ]
  },
  {
   "cell_type": "code",
   "metadata": {
    "collapsed": false
   },
   "outputs": [],
   "source": [
    "if 0: #not os.path.exists(bfcfile.replace('.nii.gz','_nlreg2mni_warped.nii.gz')):\n",
    "\n",
    "    flt = fsl.FNIRT()\n",
    "    flt.inputs.in_file = bfcfile\n",
    "    flt.inputs.affine_file=mnimat_flirt\n",
    "    flt.inputs.ref_file = os.path.join(os.getenv('FSLDIR'),\n",
    "                            'data/standard/MNI152_T1_2mm_brain.nii.gz')\n",
    "    flt.inputs.warped_file = bfcfile.replace('.nii.gz','_nlreg2mni_warped.nii.gz')\n",
    "    flt.inputs.field_file = bfcfile.replace('.nii.gz','_nlreg2mni_field')\n",
    "    flt.run()\n",
    "else:\n",
    "    print 'using existing FLIRT MNI registration'"
   ]
  },
  {
   "cell_type": "markdown",
   "metadata": {},
   "source": [
    "Use ANTS to register to MNI152 T1"
   ]
  },
  {
   "cell_type": "code",
   "metadata": {
    "collapsed": false,
    "scrolled": true
   },
   "outputs": [],
   "source": [
    "from nipype.interfaces import ants\n",
    "reg = ants.Registration()\n",
    "reg.inputs.fixed_image = os.path.join(os.getenv('FSLDIR'),\n",
    "                            'data/standard/MNI152_T1_2mm_brain.nii.gz')\n",
    "reg.inputs.moving_image = bfcfile\n",
    "reg.inputs.output_warped_image = bfcfile.replace('.nii.gz','_ANTSreg2mni_warped.nii.gz')\n",
    "reg.inputs.transforms = ['Translation', 'Rigid', 'Affine', 'SyN']\n",
    "reg.inputs.transform_parameters = [(0.1,), (0.1,), (0.1,), (0.2, 3.0, 0.0)]\n",
    "reg.inputs.number_of_iterations = ([[10000, 111110, 11110]]*3 +\n",
    "                                    [[100, 50, 30]])\n",
    "reg.inputs.dimension = 3\n",
    "reg.inputs.write_composite_transform = True\n",
    "#reg.inputs.collapse_output_transforms = False\n",
    "reg.inputs.metric = ['Mattes'] * 3 + [['Mattes', 'CC']]\n",
    "reg.inputs.metric_weight = [1] * 3 + [[0.5, 0.5]]\n",
    "reg.inputs.radius_or_number_of_bins = [32] * 3 + [[32, 4]]\n",
    "reg.inputs.sampling_strategy = ['Regular'] * 3 + [[None, None]]\n",
    "reg.inputs.sampling_percentage = [0.3] * 3 + [[None, None]]\n",
    "reg.inputs.convergence_threshold = [1.e-8] * 3 + [-0.01]\n",
    "reg.inputs.convergence_window_size = [20] * 3 + [5]\n",
    "reg.inputs.smoothing_sigmas = [[4, 2, 1]] * 3 + [[1, 0.5, 0]]\n",
    "reg.inputs.sigma_units = ['vox'] * 4\n",
    "reg.inputs.shrink_factors = [[6, 4, 2]] + [[3, 2, 1]]*2 + [[4, 2, 1]]\n",
    "reg.inputs.use_estimate_learning_rate_once = [True] * 4\n",
    "reg.inputs.use_histogram_matching = [False] * 3 + [True]\n",
    "reg.inputs.initial_moving_transform_com = True\n",
    "reg.inputs.terminal_output='none' #ANTs spits out a LOT of info \n",
    "reg.inputs.output_transform_prefix = os.path.join(anatomydir,\"ANTS_\")\n",
    "antsresult=reg.run()"
   ]
  },
  {
   "cell_type": "code",
   "metadata": {
    "collapsed": false
   },
   "outputs": [],
   "source": [
    "mnimaskdata=nibabel.load(os.path.join(os.getenv('FSLDIR'),\n",
    "            'data/standard/MNI152_T1_2mm_brain_mask.nii.gz')).get_data()\n",
    "mnimaskvox=numpy.where(mnimaskdata)\n",
    "mnidata=nibabel.load(os.path.join(os.getenv('FSLDIR'),\n",
    "            'data/standard/MNI152_T1_2mm_brain.nii.gz')).get_data()[mnimaskvox]\n",
    "\n",
    "flirtimg=nibabel.load(bfcfile.replace('.nii.gz',\n",
    "            '_reg2mni.nii.gz'))\n",
    "flirtdata=flirtimg.get_data()[mnimaskvox]\n",
    "fnirtimg=nibabel.load(bfcfile.replace('.nii.gz',\n",
    "            '_nlreg2mni_warped.nii.gz'))\n",
    "fnirtdata=fnirtimg.get_data()[mnimaskvox]\n",
    "print 'Mutual information with target:'\n",
    "mi_flirt=calc_MI(mnidata,flirtdata)\n",
    "print 'FLIRT:',mi_flirt\n",
    "mi_fnirt=calc_MI(mnidata,fnirtdata)\n",
    "print 'FNIRT:',mi_fnirt"
   ]
  },
  {
   "cell_type": "markdown",
   "metadata": {},
   "source": [
    "Plot outlines onto template"
   ]
  },
  {
   "cell_type": "code",
   "metadata": {
    "collapsed": false,
    "scrolled": true
   },
   "outputs": [],
   "source": [
    "mniimg=nibabel.load(os.path.join(os.getenv('FSLDIR'),\n",
    "                            'data/standard/MNI152_T1_2mm_brain.nii.gz'))\n",
    "\n",
    "mask_display=nilearn.plotting.plot_epi(mniimg,cmap='gray')\n",
    "mask_display.add_edges(flirtimg) "
   ]
  },
  {
   "cell_type": "code",
   "metadata": {
    "collapsed": false
   },
   "outputs": [],
   "source": [
    "mask_display=nilearn.plotting.plot_epi(mniimg,cmap='gray')\n",
    "mask_display.add_edges(fnirtimg) "
   ]
  },
  {
   "cell_type": "markdown",
   "metadata": {},
   "source": [
    "Apply FNIRT warp to EPI data"
   ]
  },
  {
   "cell_type": "code",
   "metadata": {
    "collapsed": false
   },
   "outputs": [],
   "source": [
    "unwarped_reg2mni=bold_file.replace('.nii.gz','_nlreg2mni.nii.gz')\n",
    "if 0: #not os.path.exists(unwarped_reg2mni):\n",
    "    aw = fsl.ApplyWarp()\n",
    "    aw.inputs.in_file = bold_file\n",
    "    aw.inputs.ref_file = os.path.join(os.getenv('FSLDIR'),\n",
    "                                'data/standard/MNI152_T1_2mm_brain.nii.gz')\n",
    "    aw.inputs.field_file = bfcfile.replace('.nii.gz','_nlreg2mni_field.nii.gz')\n",
    "    aw.inputs.postmat=mnimat_flirt\n",
    "    aw.inputs.out_file=unwarped_reg2mni\n",
    "    aw.run()\n"
   ]
  },
  {
   "cell_type": "markdown",
   "metadata": {
    "collapsed": true
   },
   "source": [
    "Warp the gray matter mask back into the functional space, so we can use it for the analysis"
   ]
  },
  {
   "cell_type": "code",
   "metadata": {
    "collapsed": false
   },
   "outputs": [],
   "source": [
    "# first invert the warp from the bbrmat\n",
    "invt = fsl.ConvertXFM()\n",
    "invt.inputs.in_file = bbrmat\n",
    "invt.inputs.invert_xfm = True\n",
    "invt.inputs.out_file = bbrmat.replace('.mat','_inv.mat')\n",
    "if not os.path.exists(invt.inputs.out_file):\n",
    "    invt.run()\n",
    "    \n",
    "applyxfm=fsl.ApplyXfm()\n",
    "applyxfm.inputs.in_file = os.path.join(anatomydir,'sub00001_ses018_T1w_001_brain_FAST_pve_1.nii.gz')\n",
    "applyxfm.inputs.in_matrix_file = invt.inputs.out_file\n",
    "applyxfm.inputs.out_file = os.path.join(bolddir,'gray_matter_mask.nii.gz')\n",
    "applyxfm.inputs.reference = meanbold_unwarped_file\n",
    "applyxfm.inputs.apply_xfm = True\n",
    "if not os.path.exists(applyxfm.inputs.out_file):\n",
    "    result = applyxfm.run()\n",
    "\n",
    "gmthresh=0.25\n",
    "if not os.path.exists(os.path.join(bolddir,'gray_matter_mask_bin.nii.gz')):\n",
    "    gm=nibabel.load(os.path.join(bolddir,'gray_matter_mask.nii.gz'))\n",
    "    gmdata=gm.get_data()\n",
    "    gmdata[gmdata<gmthresh]=0\n",
    "    gmdata[gmdata>0]=1\n",
    "    gmbin=nibabel.Nifti1Image(gmdata,gm.get_affine())\n",
    "    gmbin.to_filename(os.path.join(bolddir,'gray_matter_mask_bin.nii.gz'))"
   ]
  },
  {
   "cell_type": "code",
   "metadata": {
    "collapsed": true
   },
   "outputs": [],
   "source": []
  }
 ],
 "metadata": {
  "git": {
   "suppress_outputs": true
  },
  "kernelspec": {
   "display_name": "Python 2",
   "language": "python",
   "name": "python2"
  },
  "language_info": {
   "codemirror_mode": {
    "name": "ipython",
    "version": 2
   },
   "file_extension": ".py",
   "mimetype": "text/x-python",
   "name": "python",
   "nbconvert_exporter": "python",
   "pygments_lexer": "ipython2",
   "version": "2.7.10"
  }
 },
 "nbformat": 4,
 "nbformat_minor": 0
}