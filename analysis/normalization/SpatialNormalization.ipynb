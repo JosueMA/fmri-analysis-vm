{
 "cells": [
  {
   "cell_type": "markdown",
   "metadata": {},
   "source": [
    "This notebook will go through the pipeline for normalizing an fMRI dataset into the MNI template space."
   ]
  },
  {
   "cell_type": "code",
   "execution_count": null,
   "metadata": {
    "collapsed": false
   },
   "outputs": [],
   "source": [
    "import os,shutil\n",
    "import sklearn.metrics\n",
    "\n",
    "try:\n",
    "    datadir=os.environ['FMRIDATADIR']\n",
    "    assert not datadir==''\n",
    "except:\n",
    "    datadir='/Users/poldrack/data_unsynced/myconnectome/sub00001'\n",
    "\n",
    "print 'Using data from',datadir\n",
    "\n",
    "%matplotlib inline\n",
    "\n",
    "from nipype.interfaces import fsl\n",
    "import nibabel\n",
    "import numpy\n",
    "import nilearn.plotting\n",
    "import matplotlib.pyplot as plt\n",
    "from nipype.interfaces import ants\n",
    "from nipype.caching import Memory\n",
    "mem = Memory(base_dir='.')\n",
    "results_dir = os.path.abspath(\"../results\")\n",
    "if not os.path.exists(results_dir):\n",
    "    os.mkdir(results_dir)"
   ]
  },
  {
   "cell_type": "code",
   "execution_count": null,
   "metadata": {
    "collapsed": false
   },
   "outputs": [],
   "source": [
    "subject='ses014'  \n",
    "# note - we have to use the anatomy from a different session'\n",
    "anat_subject='ses018'\n",
    "bolddir=os.path.join(datadir,'ds031/sub00001',subject,\n",
    "        'functional')\n",
    "\n",
    "meanbold_unwarped_file=os.path.join(results_dir, \"meanbold_unwarped.nii.gz\")\n",
    "bold_file=os.path.join(bolddir,\n",
    "    'sub00001_ses014_task002_run001_bold_mcf_brain_unwarped.nii.gz')\n",
    "anatomydir=os.path.join(datadir,'ds031/sub00001',anat_subject,\n",
    "        'anatomy')\n",
    "t1file=os.path.join(anatomydir,'sub00001_ses018_T1w_001.nii.gz')\n"
   ]
  },
  {
   "cell_type": "markdown",
   "metadata": {},
   "source": [
    "Perform brain extraction using BET"
   ]
  },
  {
   "cell_type": "code",
   "execution_count": null,
   "metadata": {
    "collapsed": false,
    "scrolled": true
   },
   "outputs": [],
   "source": [
    "bet = mem.cache(fsl.BET)\n",
    "bet_results = bet(in_file=t1file,\n",
    "                  mask=True,\n",
    "                  frac=0.3)\n",
    "bet_results.outputs"
   ]
  },
  {
   "cell_type": "markdown",
   "metadata": {},
   "source": [
    "Visualize brain mask overlaid on anatomy"
   ]
  },
  {
   "cell_type": "code",
   "execution_count": null,
   "metadata": {
    "collapsed": false
   },
   "outputs": [],
   "source": [
    "mask_display=nilearn.plotting.plot_epi(t1file,cmap='gray')\n",
    "mask_display.add_contours(bet_results.outputs.mask_file, levels=[.5]) "
   ]
  },
  {
   "cell_type": "markdown",
   "metadata": {},
   "source": [
    "Perform bias field correction on T1-weighted image using FSL's FAST."
   ]
  },
  {
   "cell_type": "code",
   "execution_count": null,
   "metadata": {
    "collapsed": false
   },
   "outputs": [],
   "source": [
    "fast = mem.cache(fsl.FAST)\n",
    "fast_results = fast(in_files = bet_results.outputs.out_file,\n",
    "                    output_biascorrected=True)\n",
    "fast_results.outputs"
   ]
  },
  {
   "cell_type": "markdown",
   "metadata": {},
   "source": [
    "Visualize white matter mask"
   ]
  },
  {
   "cell_type": "code",
   "execution_count": null,
   "metadata": {
    "collapsed": false
   },
   "outputs": [],
   "source": [
    "mask_display=nilearn.plotting.plot_epi(t1file,cmap='gray')\n",
    "mask_display.add_contours(fast_results.outputs.partial_volume_files[2], levels=[.5]) "
   ]
  },
  {
   "cell_type": "markdown",
   "metadata": {},
   "source": [
    "Register mean unwarped functional to anatomy using corratio"
   ]
  },
  {
   "cell_type": "code",
   "execution_count": null,
   "metadata": {
    "collapsed": false
   },
   "outputs": [],
   "source": [
    "flirt = mem.cache(fsl.FLIRT)\n",
    "flirt_results = flirt(in_file = meanbold_unwarped_file,\n",
    "                      reference = fast_results.outputs.restored_image,\n",
    "                      wm_seg = fast_results.outputs.partial_volume_files[2])\n",
    "flirt_results.outputs"
   ]
  },
  {
   "cell_type": "markdown",
   "metadata": {},
   "source": [
    "Register mean unwarped functional to anatomy using BBR (using the matrix from the corratio registration as a starting point)"
   ]
  },
  {
   "cell_type": "code",
   "execution_count": null,
   "metadata": {
    "collapsed": false
   },
   "outputs": [],
   "source": [
    "flirt_results_bbr = flirt(in_file = meanbold_unwarped_file,\n",
    "                          reference = fast_results.outputs.restored_image,\n",
    "                          wm_seg = fast_results.outputs.partial_volume_files[2],\n",
    "                          cost_func='bbr',verbose=6,dof=7,\n",
    "                          schedule = os.path.join(os.getenv('FSLDIR'),\n",
    "                                                'etc/flirtsch/bbr.sch'))\n",
    "flirt_results_bbr.outputs"
   ]
  },
  {
   "cell_type": "markdown",
   "metadata": {},
   "source": [
    "Which is better?"
   ]
  },
  {
   "cell_type": "code",
   "execution_count": null,
   "metadata": {
    "collapsed": false
   },
   "outputs": [],
   "source": [
    "from nilearn.masking import apply_mask\n",
    "\n",
    "def calc_MI(x, y, bins=10):\n",
    "    # compute mutual information between two variables\n",
    "    c_xy = numpy.histogram2d(x, y, bins)[0]\n",
    "    mi = sklearn.metrics.mutual_info_score(None, None, contingency=c_xy)\n",
    "    return mi\n",
    "\n",
    "bcfdata=apply_mask(fast_results.outputs.restored_image, \n",
    "                   bet_results.outputs.mask_file)\n",
    "\n",
    "crdata=apply_mask(flirt_results.outputs.out_file, \n",
    "                  bet_results.outputs.mask_file)\n",
    "bbrdata=apply_mask(flirt_results_bbr.outputs.out_file, \n",
    "                   bet_results.outputs.mask_file)\n",
    "\n",
    "print 'Mutual information with target:'\n",
    "mi_bbr=calc_MI(bcfdata,bbrdata)\n",
    "print 'BBR:',mi_bbr\n",
    "mi_cr=calc_MI(bcfdata,crdata)\n",
    "print 'corratio:',mi_cr"
   ]
  },
  {
   "cell_type": "markdown",
   "metadata": {
    "collapsed": true
   },
   "source": [
    "Now let's register our functional data to the MNI template, and generate a composite transform.  Start out using FLIRT."
   ]
  },
  {
   "cell_type": "code",
   "execution_count": null,
   "metadata": {
    "collapsed": false
   },
   "outputs": [],
   "source": [
    "mnimat_flirt=bfcfile.replace('.nii.gz','_reg2mni.mat')\n",
    "if not os.path.exists(mnimat_flirt):\n",
    "    flt = fsl.FLIRT(cost_func='normcorr',dof=12)\n",
    "    flt.inputs.in_file = bfcfile\n",
    "    flt.inputs.reference = os.path.join(os.getenv('FSLDIR'),\n",
    "                            'data/standard/MNI152_T1_2mm_brain.nii.gz')\n",
    "    flt.inputs.out_file = bfcfile.replace('.nii.gz','_reg2mni.nii.gz')\n",
    "    flt.inputs.out_matrix_file = mnimat_flirt\n",
    "    flt.run()\n",
    "else:\n",
    "    print 'using existing FLIRT MNI registration'"
   ]
  },
  {
   "cell_type": "code",
   "execution_count": null,
   "metadata": {
    "collapsed": true
   },
   "outputs": [],
   "source": [
    "flirt_resul"
   ]
  },
  {
   "cell_type": "code",
   "execution_count": null,
   "metadata": {
    "collapsed": false
   },
   "outputs": [],
   "source": [
    "if 0: #not os.path.exists(bfcfile.replace('.nii.gz','_nlreg2mni_warped.nii.gz')):\n",
    "\n",
    "    flt = fsl.FNIRT()\n",
    "    flt.inputs.in_file = bfcfile\n",
    "    flt.inputs.affine_file=mnimat_flirt\n",
    "    flt.inputs.ref_file = os.path.join(os.getenv('FSLDIR'),\n",
    "                            'data/standard/MNI152_T1_2mm_brain.nii.gz')\n",
    "    flt.inputs.warped_file = bfcfile.replace('.nii.gz','_nlreg2mni_warped.nii.gz')\n",
    "    flt.inputs.field_file = bfcfile.replace('.nii.gz','_nlreg2mni_field')\n",
    "    flt.run()\n",
    "else:\n",
    "    print 'using existing FLIRT MNI registration'"
   ]
  },
  {
   "cell_type": "markdown",
   "metadata": {},
   "source": [
    "Use ANTS to register to MNI152 T1"
   ]
  },
  {
   "cell_type": "code",
   "execution_count": null,
   "metadata": {
    "collapsed": false,
    "scrolled": true
   },
   "outputs": [],
   "source": [
    "from nipype.interfaces import ants\n",
    "ants = mem.cache(ants.Registration)\n",
    "ants_results = ants(fixed_image = os.path.join(os.getenv('FSLDIR'),\n",
    "                                               'data/standard/MNI152_T1_2mm_brain.nii.gz'),\n",
    "                    moving_image = fast_results.outputs.restored_image,\n",
    "                    transforms = ['Translation', 'Rigid', 'Affine', 'SyN'],\n",
    "                    transform_parameters = [(0.1,), (0.1,), (0.1,), (0.2, 3.0, 0.0)],\n",
    "                    #number_of_iterations = ([[10000, 111110, 11110]]*3 +\n",
    "                    #                [[100, 50, 30]]),\n",
    "                    number_of_iterations = ([[10, 10, 10]]*3 +\n",
    "                                    [[1, 5, 3]]),\n",
    "                    dimension = 3,\n",
    "                    write_composite_transform = FAlse,\n",
    "                    metric = ['Mattes'] * 3 + [['Mattes', 'CC']],\n",
    "                    metric_weight = [1] * 3 + [[0.5, 0.5]],\n",
    "                    radius_or_number_of_bins = [32] * 3 + [[32, 4]],\n",
    "                    sampling_strategy = ['Regular'] * 3 + [[None, None]],\n",
    "                    sampling_percentage = [0.3] * 3 + [[None, None]],\n",
    "                    convergence_threshold = [1.e-8] * 3 + [-0.01],\n",
    "                    convergence_window_size = [20] * 3 + [5],\n",
    "                    smoothing_sigmas = [[4, 2, 1]] * 3 + [[1, 0.5, 0]],\n",
    "                    sigma_units = ['vox'] * 4,\n",
    "                    shrink_factors = [[6, 4, 2]] + [[3, 2, 1]]*2 + [[4, 2, 1]],\n",
    "                    use_estimate_learning_rate_once = [True] * 4,\n",
    "                    use_histogram_matching = [False] * 3 + [True],\n",
    "                    initial_moving_transform_com = True)\n",
    "ants_results.outputs"
   ]
  },
  {
   "cell_type": "code",
   "execution_count": null,
   "metadata": {
    "collapsed": false
   },
   "outputs": [],
   "source": [
    "mnimaskdata=nibabel.load(os.path.join(os.getenv('FSLDIR'),\n",
    "            'data/standard/MNI152_T1_2mm_brain_mask.nii.gz')).get_data()\n",
    "mnimaskvox=numpy.where(mnimaskdata)\n",
    "mnidata=nibabel.load(os.path.join(os.getenv('FSLDIR'),\n",
    "            'data/standard/MNI152_T1_2mm_brain.nii.gz')).get_data()[mnimaskvox]\n",
    "\n",
    "flirtimg=nibabel.load(bfcfile.replace('.nii.gz',\n",
    "            '_reg2mni.nii.gz'))\n",
    "flirtdata=flirtimg.get_data()[mnimaskvox]\n",
    "fnirtimg=nibabel.load(bfcfile.replace('.nii.gz',\n",
    "            '_nlreg2mni_warped.nii.gz'))\n",
    "fnirtdata=fnirtimg.get_data()[mnimaskvox]\n",
    "print 'Mutual information with target:'\n",
    "mi_flirt=calc_MI(mnidata,flirtdata)\n",
    "print 'FLIRT:',mi_flirt\n",
    "mi_fnirt=calc_MI(mnidata,fnirtdata)\n",
    "print 'FNIRT:',mi_fnirt"
   ]
  },
  {
   "cell_type": "markdown",
   "metadata": {},
   "source": [
    "Plot outlines onto template"
   ]
  },
  {
   "cell_type": "code",
   "execution_count": null,
   "metadata": {
    "collapsed": false,
    "scrolled": true
   },
   "outputs": [],
   "source": [
    "mniimg=nibabel.load(os.path.join(os.getenv('FSLDIR'),\n",
    "                            'data/standard/MNI152_T1_2mm_brain.nii.gz'))\n",
    "\n",
    "mask_display=nilearn.plotting.plot_epi(mniimg,cmap='gray')\n",
    "mask_display.add_edges(flirtimg) "
   ]
  },
  {
   "cell_type": "code",
   "execution_count": null,
   "metadata": {
    "collapsed": false
   },
   "outputs": [],
   "source": [
    "mask_display=nilearn.plotting.plot_epi(mniimg,cmap='gray')\n",
    "mask_display.add_edges(fnirtimg) "
   ]
  },
  {
   "cell_type": "markdown",
   "metadata": {},
   "source": [
    "Apply FNIRT warp to EPI data"
   ]
  },
  {
   "cell_type": "code",
   "execution_count": null,
   "metadata": {
    "collapsed": false
   },
   "outputs": [],
   "source": [
    "unwarped_reg2mni=bold_file.replace('.nii.gz','_nlreg2mni.nii.gz')\n",
    "if 0: #not os.path.exists(unwarped_reg2mni):\n",
    "    aw = fsl.ApplyWarp()\n",
    "    aw.inputs.in_file = bold_file\n",
    "    aw.inputs.ref_file = os.path.join(os.getenv('FSLDIR'),\n",
    "                                'data/standard/MNI152_T1_2mm_brain.nii.gz')\n",
    "    aw.inputs.field_file = bfcfile.replace('.nii.gz','_nlreg2mni_field.nii.gz')\n",
    "    aw.inputs.postmat=mnimat_flirt\n",
    "    aw.inputs.out_file=unwarped_reg2mni\n",
    "    aw.run()\n"
   ]
  },
  {
   "cell_type": "markdown",
   "metadata": {
    "collapsed": true
   },
   "source": [
    "Warp the gray matter mask back into the functional space, so we can use it for the analysis"
   ]
  },
  {
   "cell_type": "code",
   "execution_count": null,
   "metadata": {
    "collapsed": false
   },
   "outputs": [],
   "source": [
    "# first invert the warp from the bbrmat\n",
    "invt = fsl.ConvertXFM()\n",
    "invt.inputs.in_file = bbrmat\n",
    "invt.inputs.invert_xfm = True\n",
    "invt.inputs.out_file = bbrmat.replace('.mat','_inv.mat')\n",
    "if not os.path.exists(invt.inputs.out_file):\n",
    "    invt.run()\n",
    "    \n",
    "applyxfm=fsl.ApplyXfm()\n",
    "applyxfm.inputs.in_file = os.path.join(anatomydir,'sub00001_ses018_T1w_001_brain_FAST_pve_1.nii.gz')\n",
    "applyxfm.inputs.in_matrix_file = invt.inputs.out_file\n",
    "applyxfm.inputs.out_file = os.path.join(bolddir,'gray_matter_mask.nii.gz')\n",
    "applyxfm.inputs.reference = meanbold_unwarped_file\n",
    "applyxfm.inputs.apply_xfm = True\n",
    "if not os.path.exists(applyxfm.inputs.out_file):\n",
    "    result = applyxfm.run()\n",
    "\n",
    "gmthresh=0.25\n",
    "if not os.path.exists(os.path.join(bolddir,'gray_matter_mask_bin.nii.gz')):\n",
    "    gm=nibabel.load(os.path.join(bolddir,'gray_matter_mask.nii.gz'))\n",
    "    gmdata=gm.get_data()\n",
    "    gmdata[gmdata<gmthresh]=0\n",
    "    gmdata[gmdata>0]=1\n",
    "    gmbin=nibabel.Nifti1Image(gmdata,gm.get_affine())\n",
    "    gmbin.to_filename(os.path.join(bolddir,'gray_matter_mask_bin.nii.gz'))"
   ]
  },
  {
   "cell_type": "code",
   "execution_count": null,
   "metadata": {
    "collapsed": true
   },
   "outputs": [],
   "source": []
  }
 ],
 "metadata": {
  "git": {
   "suppress_outputs": true
  },
  "kernelspec": {
   "display_name": "Python 2",
   "language": "python",
   "name": "python2"
  },
  "language_info": {
   "codemirror_mode": {
    "name": "ipython",
    "version": 2
   },
   "file_extension": ".py",
   "mimetype": "text/x-python",
   "name": "python",
   "nbconvert_exporter": "python",
   "pygments_lexer": "ipython2",
   "version": "2.7.10"
  }
 },
 "nbformat": 4,
 "nbformat_minor": 0
}