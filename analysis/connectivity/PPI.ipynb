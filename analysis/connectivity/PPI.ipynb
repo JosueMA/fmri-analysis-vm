{
 "cells": [
  {
   "cell_type": "markdown",
   "metadata": {},
   "source": [
    "In this notebook, we will work through a simulation of psychophysiological interaction"
   ]
  },
  {
   "cell_type": "code",
   "execution_count": null,
   "metadata": {
    "collapsed": true
   },
   "outputs": [],
   "source": [
    "import os,sys\n",
    "import numpy\n",
    "%matplotlib inline\n",
    "import matplotlib.pyplot as plt\n",
    "sys.path.insert(0,'../')\n",
    "from utils.mkdesign import create_design_singlecondition\n",
    "from nipy.modalities.fmri.hemodynamic_models import spm_hrf,compute_regressor\n",
    "from utils.make_data import make_continuous_data\n",
    "from utils.corr_timeseries.exact_switching import generate_data as generate_exact\n",
    "from statsmodels.tsa.arima_process import arma_generate_sample\n",
    "import scipy.stats\n"
   ]
  },
  {
   "cell_type": "markdown",
   "metadata": {},
   "source": [
    "Load the data generated using the DCM forward model. In this model, there should be a significant PPI between roi 0 and rois 2 and 4 (see the B matrix in the DCM notebook)"
   ]
  },
  {
   "cell_type": "code",
   "execution_count": null,
   "metadata": {
    "collapsed": false
   },
   "outputs": [],
   "source": [
    "data_conv=numpy.load('dcmdata.npy')\n",
    "# downsample to 1 second TR\n",
    "data=data_conv[range(0,data_conv.shape[0],100)]\n",
    "ntp=data.shape[0]\n",
    "\n",
    "# create a blocked design\n",
    "d,design=create_design_singlecondition(blockiness=1.0,deslength=ntp,blocklength=20,offset=20)\n",
    "\n",
    "regressor,_=compute_regressor(design,'spm',numpy.arange(0,ntp))\n",
    "    \n"
   ]
  },
  {
   "cell_type": "code",
   "execution_count": null,
   "metadata": {
    "collapsed": false
   },
   "outputs": [],
   "source": [
    "plt.plot(data)"
   ]
  },
  {
   "cell_type": "markdown",
   "metadata": {},
   "source": [
    "Set up the PPI model, using ROI 0 as the seed"
   ]
  },
  {
   "cell_type": "code",
   "execution_count": null,
   "metadata": {
    "collapsed": false
   },
   "outputs": [],
   "source": [
    "seed=0\n",
    "X=numpy.vstack((regressor[:,0],data[:,seed],regressor[:,0]*data[:,seed],numpy.ones(data.shape[0]))).T\n",
    "hat_mtx=numpy.linalg.inv(X.T.dot(X)).dot(X.T)\n",
    "\n",
    "for i in range(data.shape[1]):\n",
    "    if i==seed:\n",
    "        continue\n",
    "    beta_hat=hat_mtx.dot(data[:,i])\n",
    "    resid=data[:,i] - X.dot(beta_hat)\n",
    "    sigma2hat=(resid.dot(resid))/(X.shape[0] - X.shape[1])\n",
    "    c=numpy.array([0,0,1,0])  # contrast for PPI\n",
    "    t=c.dot(beta_hat)/numpy.sqrt(c.dot(numpy.linalg.inv(X.T.dot(X)).dot(c))*sigma2hat)\n",
    "    print 'ROI %d:'%i, t, 1.0 - scipy.stats.t.cdf(t,X.shape[0] - X.shape[1])"
   ]
  },
  {
   "cell_type": "markdown",
   "metadata": {},
   "source": [
    "Let's plot the relation between the ROIs as a function of the task"
   ]
  },
  {
   "cell_type": "code",
   "execution_count": null,
   "metadata": {
    "collapsed": false
   },
   "outputs": [],
   "source": [
    "on_tp=numpy.where(regressor>0.9)[0]\n",
    "off_tp=numpy.where(regressor<0.01)[0]\n",
    "\n",
    "plt.scatter(data[on_tp,0],data[on_tp,2])\n",
    "fit = np.polyfit(data[on_tp,0],data[on_tp,2],1)\n",
    "plt.plot()\n",
    "plt.scatter(data[off_tp,0],data[off_tp,2],color='red')"
   ]
  },
  {
   "cell_type": "code",
   "execution_count": null,
   "metadata": {
    "collapsed": false
   },
   "outputs": [],
   "source": [
    "foo=regressor[:,0]*data[:,0]"
   ]
  },
  {
   "cell_type": "code",
   "execution_count": null,
   "metadata": {
    "collapsed": false
   },
   "outputs": [],
   "source": [
    "foo.shape"
   ]
  },
  {
   "cell_type": "code",
   "execution_count": null,
   "metadata": {
    "collapsed": false
   },
   "outputs": [],
   "source": [
    "data[:,0].shape\n"
   ]
  },
  {
   "cell_type": "code",
   "execution_count": null,
   "metadata": {
    "collapsed": true
   },
   "outputs": [],
   "source": []
  }
 ],
 "metadata": {
  "kernelspec": {
   "display_name": "Python 2",
   "language": "python",
   "name": "python2"
  },
  "language_info": {
   "codemirror_mode": {
    "name": "ipython",
    "version": 2
   },
   "file_extension": ".py",
   "mimetype": "text/x-python",
   "name": "python",
   "nbconvert_exporter": "python",
   "pygments_lexer": "ipython2",
   "version": "2.7.10"
  }
 },
 "nbformat": 4,
 "nbformat_minor": 0
}
