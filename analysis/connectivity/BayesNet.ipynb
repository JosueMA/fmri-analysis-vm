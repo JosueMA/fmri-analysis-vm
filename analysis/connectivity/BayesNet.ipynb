{
 "cells": [
  {
   "cell_type": "markdown",
   "metadata": {},
   "source": [
    "In this notebook, we will work through a Bayes Net analysis using the GES algorithm with the TETRAD software (http://www.phil.cmu.edu/tetrad/).  We will use the same dataset used for the PPI and DCM examples."
   ]
  },
  {
   "cell_type": "code",
   "execution_count": 6,
   "metadata": {
    "collapsed": false
   },
   "outputs": [],
   "source": [
    "import os,sys\n",
    "import numpy\n",
    "%matplotlib inline\n",
    "import matplotlib.pyplot as plt\n",
    "sys.path.insert(0,'../')\n",
    "from utils.mkdesign import create_design_singlecondition\n",
    "from nipy.modalities.fmri.hemodynamic_models import spm_hrf,compute_regressor\n",
    "from utils.make_data import make_continuous_data\n",
    "from utils.graph_utils import show_graph_from_adjmtx,show_graph_from_pattern\n",
    "from statsmodels.tsa.arima_process import arma_generate_sample\n",
    "import scipy.stats\n",
    "from dcm_sim import sim_dcm_dataset\n",
    "\n",
    "results_dir = os.path.abspath(\"../results\")\n",
    "if not os.path.exists(results_dir):\n",
    "    os.mkdir(results_dir)\n"
   ]
  },
  {
   "cell_type": "markdown",
   "metadata": {},
   "source": [
    "Load the data generated using the DCM forward model. In this model, there is a significant static connectivity from 1->2 and 1->3 (A matrix), and a PPI for 0->2 and 0->4 (B matrix) and a significant input to ROI 0 (C matrix)."
   ]
  },
  {
   "cell_type": "code",
   "execution_count": 7,
   "metadata": {
    "collapsed": false,
    "scrolled": true
   },
   "outputs": [
    {
     "name": "stdout",
     "output_type": "stream",
     "text": [
      "A\n",
      "[[-1.  0.  0.  0.  0.]\n",
      " [ 0. -1.  0.  0.  0.]\n",
      " [ 0.  1. -1.  0.  0.]\n",
      " [ 0.  1.  0. -1.  0.]\n",
      " [ 0.  0.  0.  0. -1.]]\n",
      "B\n",
      "[[ 0.  0.  0.  0.  0.]\n",
      " [ 0.  0.  0.  0.  0.]\n",
      " [ 1.  0.  0.  0.  0.]\n",
      " [ 0.  0.  0.  0.  0.]\n",
      " [ 1.  0.  0.  0.  0.]]\n",
      "C\n",
      "[[ 1.]\n",
      " [ 0.]\n",
      " [ 0.]\n",
      " [ 0.]\n",
      " [ 0.]]\n"
     ]
    },
    {
     "name": "stderr",
     "output_type": "stream",
     "text": [
      "../utils/mkdesign.py:25: VisibleDeprecationWarning: using a non-integer number instead of an integer will result in an error in the future\n",
      "  design[b:b+blocklength]=1\n"
     ]
    }
   ],
   "source": [
    "_,data_conv,params=sim_dcm_dataset(verbose=True)\n",
    "\n",
    "A_mtx=params['A']\n",
    "B_mtx=params['B']\n",
    "u=params['u']\n",
    "\n",
    "# downsample design to 1 second TR\n",
    "u=numpy.convolve(params['u'],spm_hrf(params['stepsize'],oversampling=1))\n",
    "u=u[range(0,data_conv.shape[0],int(1./params['stepsize']))]\n",
    "ntp=u.shape[0]\n",
    "\n",
    "\n"
   ]
  },
  {
   "cell_type": "markdown",
   "metadata": {},
   "source": [
    "###Generate a set of synthetic datasets, referring to individual subjects"
   ]
  },
  {
   "cell_type": "code",
   "execution_count": 8,
   "metadata": {
    "collapsed": false
   },
   "outputs": [
    {
     "name": "stderr",
     "output_type": "stream",
     "text": [
      "../utils/mkdesign.py:25: VisibleDeprecationWarning: using a non-integer number instead of an integer will result in an error in the future\n",
      "  design[b:b+blocklength]=1\n"
     ]
    }
   ],
   "source": [
    "tetrad_dir='/home/vagrant/data/tetrad_files'\n",
    "if not os.path.exists(tetrad_dir):\n",
    "    os.mkdir(tetrad_dir)\n",
    "\n",
    "nfiles=10\n",
    "for i in range(nfiles):\n",
    "    _,data_conv,params=sim_dcm_dataset()\n",
    "\n",
    "\n",
    "    # downsample to 1 second TR\n",
    "    data=data_conv[range(0,data_conv.shape[0],int(1./params['stepsize']))]\n",
    "    ntp=data.shape[0]\n",
    "\n",
    "    imagesdata=numpy.hstack((numpy.array(u)[:,numpy.newaxis],data))\n",
    "    numpy.savetxt(os.path.join(tetrad_dir,\"data%03d.txt\"%i),\n",
    "              imagesdata,delimiter='\\t',\n",
    "             header='u\\t0\\t1\\t2\\t3\\t4',comments='')"
   ]
  },
  {
   "cell_type": "markdown",
   "metadata": {},
   "source": [
    "###Run iMAGES (using a shell script)"
   ]
  },
  {
   "cell_type": "code",
   "execution_count": 9,
   "metadata": {
    "collapsed": false,
    "scrolled": false
   },
   "outputs": [
    {
     "name": "stdout",
     "output_type": "stream",
     "text": [
      "Reading in data files...\n",
      "Nov 14, 2016 5:20:34 PM java.util.prefs.FileSystemPreferences$1 run\n",
      "INFO: Created user preferences directory.\n",
      "Nov 14, 2016 5:20:34 PM java.util.prefs.FileSystemPreferences$6 run\n",
      "WARNING: Prefs file removed in background /home/vagrant/.java/.userPrefs/prefs.xml\n",
      "Ensuring data sets have same variables in same order...\n",
      "Replacing columns of 0's with missing value markers (NaN)\n",
      "Passing data sets to iMAGES with penalty discount of 10.0\n",
      "Saving DAGs in pattern with maximum score.\n",
      "Checking output directory...\n",
      "Outputting XML (recountable) versions of graphs...\n",
      "Outputting PNG images...\n",
      "Outputting DOT images...\n",
      "Done!\n"
     ]
    }
   ],
   "source": [
    "!bash run_images.sh"
   ]
  },
  {
   "cell_type": "markdown",
   "metadata": {},
   "source": [
    "###Show the graph estimated by iMAGES"
   ]
  },
  {
   "cell_type": "code",
   "execution_count": null,
   "metadata": {
    "collapsed": false,
    "scrolled": true
   },
   "outputs": [],
   "source": [
    "g=show_graph_from_pattern('images_test/test.pattern.dot')"
   ]
  },
  {
   "cell_type": "markdown",
   "metadata": {},
   "source": [
    "### Show the true graph from the DCM forward model"
   ]
  },
  {
   "cell_type": "code",
   "execution_count": null,
   "metadata": {
    "collapsed": false
   },
   "outputs": [],
   "source": [
    "show_graph_from_adjmtx(A_mtx,B_mtx,params['C'])"
   ]
  },
  {
   "cell_type": "code",
   "execution_count": null,
   "metadata": {
    "collapsed": true
   },
   "outputs": [],
   "source": []
  }
 ],
 "metadata": {
  "anaconda-cloud": {},
  "kernelspec": {
   "display_name": "Python [conda root]",
   "language": "python",
   "name": "conda-root-py"
  },
  "language_info": {
   "codemirror_mode": {
    "name": "ipython",
    "version": 3
   },
   "file_extension": ".py",
   "mimetype": "text/x-python",
   "name": "python",
   "nbconvert_exporter": "python",
   "pygments_lexer": "ipython3",
   "version": "3.5.2"
  }
 },
 "nbformat": 4,
 "nbformat_minor": 0
}
