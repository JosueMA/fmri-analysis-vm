{
 "cells": [
  {
   "cell_type": "markdown",
   "metadata": {},
   "source": [
    "In this notebook we will implement a simplified version of the DCM model."
   ]
  },
  {
   "cell_type": "code",
   "metadata": {
    "collapsed": false
   },
   "outputs": [],
   "source": [
    "import numpy\n",
    "import os,sys\n",
    "%matplotlib inline\n",
    "import matplotlib.pyplot as plt\n",
    "sys.path.insert(0,'../utils')\n",
    "from mkdesign import create_design_singlecondition\n",
    "import scipy.interpolate\n",
    "from scipy.integrate import odeint\n",
    "import math\n",
    "from nipy.modalities.fmri.hemodynamic_models import spm_hrf,compute_regressor\n",
    "\n"
   ]
  },
  {
   "cell_type": "code",
   "metadata": {
    "collapsed": false
   },
   "outputs": [],
   "source": [
    "# first let's build the model without the bilinear influence (aka PPI)\n",
    "# after http://spm.martinpyka.de/?p=81\n",
    "nregions=5\n",
    "z=numpy.zeros(nregions)\n",
    "\n",
    "# intrinsic connectivity\n",
    "A=numpy.zeros((z.shape[0],z.shape[0]))\n",
    "A=numpy.diag(numpy.ones(z.shape[0])*-1)\n",
    "# add some structure\n",
    "A=A + numpy.diag(numpy.ones(z.shape[0]-1),k=-1)\n",
    "B=numpy.zeros(A.shape)\n",
    "C=numpy.zeros((z.shape[0],1))\n",
    "C[0]=1\n",
    "u=0\n",
    "\n",
    "# we are assuming a 1 second TR for the resulting data\n",
    "# but the neural data are at a 1/16 millisecond time resolution\n",
    "stepsize=.01\n",
    "tslength=300\n",
    "timepoints=numpy.arange(0,tslength,stepsize)\n",
    "\n",
    "# create a blocked design\n",
    "d,design=create_design_singlecondition(blockiness=1.0,deslength=tslength,blocklength=20,offset=20)\n",
    "\n",
    "u=scipy.interpolate.griddata(numpy.arange(1,d.shape[0]),d,timepoints,fill_value=0)\n",
    "\n",
    "def find_nearest(array,value):\n",
    "    idx = numpy.searchsorted(array, value, side=\"left\")\n",
    "    if math.fabs(value - array[idx-1]) < math.fabs(value - array[idx]):\n",
    "        return idx-1\n",
    "    else:\n",
    "        return idx\n",
    "\n",
    "def dcm_model(t,z,A,B,C,u,sd):\n",
    "    ut=numpy.abs(timepoints - t).argmin() \n",
    "    return (A.dot(z)+ u[ut]*B.dot(z) + C.dot(u[ut]).T)[0] + numpy.random.rand(len(z))*sd\n",
    "\n"
   ]
  },
  {
   "cell_type": "code",
   "metadata": {
    "collapsed": false
   },
   "outputs": [],
   "source": [
    "noise_mean=1e-9\n",
    "dcm_model(30,z,A,B,C,u,noise_mean)"
   ]
  },
  {
   "cell_type": "code",
   "metadata": {
    "collapsed": false
   },
   "outputs": [],
   "source": [
    "exprate=0.1\n",
    "zn_noise=zn + numpy.random.exponential(exprate,zn.shape)\n",
    "hrf=spm_hrf(stepsize,oversampling=1)\n",
    "zn_noise_conv=numpy.zeros(zn_noise.shape)\n",
    "for i in range(z.shape[0]):\n",
    "    zn_noise_conv[:,i]=numpy.convolve(zn_noise[:,i],hrf)[:zn.shape[0]]"
   ]
  },
  {
   "cell_type": "code",
   "metadata": {
    "collapsed": false
   },
   "outputs": [],
   "source": [
    "plt.subplot(211)\n",
    "plt.plot(zn_noise)\n",
    "plt.subplot(212)\n",
    "plt.plot(zn_noise_conv)\n"
   ]
  },
  {
   "cell_type": "code",
   "metadata": {
    "collapsed": true
   },
   "outputs": [],
   "source": [
    "def show_graph_with_labels(adjacency_matrix, mylabels):\n",
    "    import matplotlib.pyplot as plt\n",
    "    import networkx as nx\n",
    "    import numpy as np\n",
    "    rows, cols = np.where(adjacency_matrix == 1)\n",
    "    edges = zip(rows.tolist(), cols.tolist())\n",
    "    gr = nx.Graph()\n",
    "    gr.add_edges_from(edges)\n",
    "    nx.draw(gr, node_size=500, pos=nx.circular_layout(gr),labels=mylabels, with_labels=True)\n",
    "    plt.show()"
   ]
  },
  {
   "cell_type": "code",
   "metadata": {
    "collapsed": false
   },
   "outputs": [],
   "source": [
    "show_graph_with_labels(A,dict((i,'%d'%i) for i in range(len(z))))"
   ]
  },
  {
   "cell_type": "markdown",
   "metadata": {},
   "source": [
    "look at a single impulse"
   ]
  },
  {
   "cell_type": "code",
   "metadata": {
    "collapsed": false
   },
   "outputs": [],
   "source": [
    "timepoints=numpy.arange(0,20,0.01)\n",
    "u=numpy.zeros(timepoints.shape[0])\n",
    "u[10:20]=1\n",
    "\n",
    "zn_single=odeint(dcm_model,z,timepoints,args=(A,B,C,u,sd))"
   ]
  },
  {
   "cell_type": "code",
   "metadata": {
    "collapsed": false
   },
   "outputs": [],
   "source": [
    "plt.plot(timepoints,zn_single)"
   ]
  },
  {
   "cell_type": "code",
   "metadata": {
    "collapsed": true
   },
   "outputs": [],
   "source": [
    "plt.plot(d)"
   ]
  },
  {
   "cell_type": "code",
   "metadata": {
    "collapsed": false
   },
   "outputs": [],
   "source": [
    "timepoints"
   ]
  },
  {
   "cell_type": "code",
   "metadata": {
    "collapsed": false
   },
   "outputs": [],
   "source": []
  },
  {
   "cell_type": "code",
   "metadata": {
    "collapsed": false
   },
   "outputs": [],
   "source": [
    "r = scipy.integrate.ode(dcm_model).set_integrator('vode', method='bdf')\n",
    "r.set_initial_value(z,0)\n",
    "sd=1e-08\n",
    "r.set_f_params(A,B,C,u,sd)\n",
    "r.t=0\n",
    "data=[]\n",
    "while r.successful() and r.t <=numpy.max(timepoints):\n",
    "    try:\n",
    "        data=numpy.vstack((data,r.integrate(r.t+stepsize)))\n",
    "    except:\n",
    "        data=r.integrate(r.t+stepsize)\n"
   ]
  },
  {
   "cell_type": "code",
   "metadata": {
    "collapsed": false
   },
   "outputs": [],
   "source": [
    "plt.plot(data)"
   ]
  },
  {
   "cell_type": "code",
   "metadata": {
    "collapsed": true
   },
   "outputs": [],
   "source": []
  }
 ],
 "metadata": {
  "kernelspec": {
   "display_name": "Python 2",
   "language": "python",
   "name": "python2"
  },
  "language_info": {
   "codemirror_mode": {
    "name": "ipython",
    "version": 2
   },
   "file_extension": ".py",
   "mimetype": "text/x-python",
   "name": "python",
   "nbconvert_exporter": "python",
   "pygments_lexer": "ipython2",
   "version": "2.7.10"
  }
 },
 "nbformat": 4,
 "nbformat_minor": 0
}