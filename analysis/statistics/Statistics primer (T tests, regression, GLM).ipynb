{
 "cells": [
  {
   "cell_type": "markdown",
   "metadata": {},
   "source": [
    "imports"
   ]
  },
  {
   "cell_type": "code",
   "execution_count": null,
   "metadata": {
    "collapsed": false
   },
   "outputs": [],
   "source": [
    "%matplotlib inline\n",
    "import statsmodels as sm\n",
    "from statsmodels.formula.api import ols\n",
    "import numpy as np\n",
    "import pandas as pd\n",
    "import pylab as plt\n",
    "import seaborn as sns\n",
    "import scipy.stats as stats\n",
    "sns.set(style=\"white\")"
   ]
  },
  {
   "cell_type": "markdown",
   "metadata": {},
   "source": [
    "## Getting and exploring the data"
   ]
  },
  {
   "cell_type": "code",
   "execution_count": null,
   "metadata": {
    "collapsed": false
   },
   "outputs": [],
   "source": [
    "immer_ds = sm.datasets.get_rdataset(\"immer\", \"MASS\")"
   ]
  },
  {
   "cell_type": "code",
   "execution_count": null,
   "metadata": {
    "collapsed": false
   },
   "outputs": [],
   "source": [
    "print sleepstudy_ds.__doc__"
   ]
  },
  {
   "cell_type": "code",
   "execution_count": null,
   "metadata": {
    "collapsed": false,
    "scrolled": true
   },
   "outputs": [],
   "source": [
    "immer_data = immer_ds.data\n",
    "immer_ds.data"
   ]
  },
  {
   "cell_type": "code",
   "execution_count": null,
   "metadata": {
    "collapsed": false
   },
   "outputs": [],
   "source": [
    "immer_data.describe()"
   ]
  },
  {
   "cell_type": "markdown",
   "metadata": {},
   "source": [
    "## Two sample t test - are two distributions different?"
   ]
  },
  {
   "cell_type": "markdown",
   "metadata": {},
   "source": [
    "Is manchuria yielding more crop than trebi?"
   ]
  },
  {
   "cell_type": "code",
   "execution_count": null,
   "metadata": {
    "collapsed": false
   },
   "outputs": [],
   "source": [
    "manchuria_yield = immer_data.Y1[immer_data.Var == \"M\"]\n",
    "trebi_yield = immer_data.Y1[immer_data.Var == \"T\"]"
   ]
  },
  {
   "cell_type": "code",
   "execution_count": null,
   "metadata": {
    "collapsed": false
   },
   "outputs": [],
   "source": [
    "sns.distplot(manchuria_yield, rug=True, hist=False, label=\"manchuria\")\n",
    "sns.distplot(trebi_yield, rug=True, hist=False, label=\"trebi\")"
   ]
  },
  {
   "cell_type": "code",
   "execution_count": null,
   "metadata": {
    "collapsed": false
   },
   "outputs": [],
   "source": [
    "t, p = stats.ttest_ind(manchuria_yield, trebi_yield)\n",
    "print t, p"
   ]
  },
  {
   "cell_type": "markdown",
   "metadata": {},
   "source": [
    "How does it work?"
   ]
  },
  {
   "cell_type": "markdown",
   "metadata": {},
   "source": [
    "$$t = \\frac{\\bar {X}_1 - \\bar{X}_2}{s_{X_1X_2} \\cdot \\sqrt{\\frac{1}{n_1}+\\frac{1}{n_2}}}$$"
   ]
  },
  {
   "cell_type": "markdown",
   "metadata": {},
   "source": [
    "where $s_{X_1X_2}$ the the common variance"
   ]
  },
  {
   "cell_type": "markdown",
   "metadata": {},
   "source": [
    "$$ s_{X_1X_2} = \\sqrt{\\frac{(n_1-1)s_{X_1}^2+(n_2-1)s_{X_2}^2}{n_1+n_2-2}}$$"
   ]
  },
  {
   "cell_type": "markdown",
   "metadata": {},
   "source": [
    "What does it really mean? Further away the means are the higher the statistic gets"
   ]
  },
  {
   "cell_type": "code",
   "execution_count": null,
   "metadata": {
    "collapsed": false,
    "scrolled": true
   },
   "outputs": [],
   "source": [
    "for rv2_mean in range(0,5,1):\n",
    "    rvs1 = stats.norm.rvs(loc=0,scale=1,size=500)\n",
    "    rvs2 = stats.norm.rvs(loc=rv2_mean,scale=1,size=500)\n",
    "    stats.ttest_ind(rvs1,rvs2)\n",
    "    f = plt.figure()\n",
    "    sns.distplot(rvs1, hist=False, label=\"variable 1\")\n",
    "    sns.distplot(rvs2, hist=False, label=\"variable 2\", axlabel=\"t = %g, p=%g\"%stats.ttest_ind(rvs1,rvs2))\n",
    "    plt.xlim([-9,9])\n",
    "    plt.ylim([0, 0.45])"
   ]
  },
  {
   "cell_type": "markdown",
   "metadata": {},
   "source": [
    "In general the less there is an overlap between the two distributions the higher the statistic"
   ]
  },
  {
   "cell_type": "code",
   "execution_count": null,
   "metadata": {
    "collapsed": false,
    "scrolled": true
   },
   "outputs": [],
   "source": [
    "for rvs_spread in range(1,6,1):\n",
    "    rvs1 = stats.norm.rvs(loc=0,scale=rvs_spread,size=500)\n",
    "    rvs2 = stats.norm.rvs(loc=1,scale=rvs_spread,size=500)\n",
    "    stats.ttest_ind(rvs1,rvs2)\n",
    "    plt.figure()\n",
    "    sns.distplot(rvs1, hist=False, label=\"variable 1\")\n",
    "    sns.distplot(rvs2, hist=False, label=\"variable 2\", axlabel=\"t = %g, p=%g\"%stats.ttest_ind(rvs1,rvs2))\n",
    "    plt.xlim([-12,12])\n",
    "    plt.ylim([0, 0.45])"
   ]
  },
  {
   "cell_type": "markdown",
   "metadata": {},
   "source": [
    "The higher the sample size the higher the statistic."
   ]
  },
  {
   "cell_type": "code",
   "execution_count": null,
   "metadata": {
    "collapsed": false,
    "scrolled": true
   },
   "outputs": [],
   "source": [
    "for sample_size in range(100,500,100):\n",
    "    rvs1 = stats.norm.rvs(loc=0,scale=1,size=sample_size)\n",
    "    rvs2 = stats.norm.rvs(loc=1,scale=1,size=sample_size)\n",
    "    stats.ttest_ind(rvs1,rvs2)\n",
    "    plt.figure()\n",
    "    sns.distplot(rvs1, hist=False, label=\"variable 1\")\n",
    "    sns.distplot(rvs2, hist=False, label=\"variable 2\", axlabel=\"t = %g, p=%g\"%stats.ttest_ind(rvs1,rvs2))\n",
    "    plt.xlim([-12,12])\n",
    "    plt.ylim([0, 0.45])"
   ]
  },
  {
   "cell_type": "markdown",
   "metadata": {},
   "source": [
    "Sample size not only increases the statistic, but also increases degrees of freedom which are used for calculating the p value."
   ]
  },
  {
   "cell_type": "code",
   "execution_count": null,
   "metadata": {
    "collapsed": false
   },
   "outputs": [],
   "source": [
    "dfs = range(10,300, 10)\n",
    "ps = [stats.t.pdf(2, df) for df in dfs]\n",
    "plt.plot(ps, dfs)\n",
    "plt.xlabel(\"p-value\")\n",
    "plt.ylabel(\"degrees of freedom\")"
   ]
  },
  {
   "cell_type": "markdown",
   "metadata": {},
   "source": [
    "Even tiniest effect size can be statistically significant if you collect enough samples."
   ]
  },
  {
   "cell_type": "code",
   "execution_count": null,
   "metadata": {
    "collapsed": false
   },
   "outputs": [],
   "source": [
    "sample_sizes = range(10, 1000, 10)\n",
    "ps = [stats.ttest_ind(stats.norm.rvs(loc=0,scale=1,size=sample_size),\n",
    "                      stats.norm.rvs(loc=0.3,scale=1,size=sample_size))[1] for sample_size in sample_sizes]\n",
    "plt.semilogx(ps, sample_sizes)\n",
    "plt.xlabel(\"p-value\")\n",
    "plt.ylabel(\"sample size\")"
   ]
  },
  {
   "cell_type": "markdown",
   "metadata": {},
   "source": [
    "## Paired T test"
   ]
  },
  {
   "cell_type": "code",
   "execution_count": null,
   "metadata": {
    "collapsed": true
   },
   "outputs": [],
   "source": [
    "year1_yield = immer_data.Y1\n",
    "year2_yield = immer_data.Y2"
   ]
  },
  {
   "cell_type": "code",
   "execution_count": null,
   "metadata": {
    "collapsed": false
   },
   "outputs": [],
   "source": [
    "sns.distplot(manchuria_yield, rug=True, hist=False, label=\"1931\")\n",
    "sns.distplot(trebi_yield, rug=True, hist=False, label=\"1932\")\n",
    "plt.xlabel(\"crop\")"
   ]
  },
  {
   "cell_type": "code",
   "execution_count": null,
   "metadata": {
    "collapsed": false
   },
   "outputs": [],
   "source": [
    "sns.violinplot(inner=None, data=immer_data)\n",
    "for y1, y2 in zip(year1_yield, year2_yield):\n",
    "    plt.plot([0,1], [y1,y2], color=\"b\")"
   ]
  },
  {
   "cell_type": "code",
   "execution_count": null,
   "metadata": {
    "collapsed": false
   },
   "outputs": [],
   "source": [
    "y_diff = year1_yield-year2_yield\n",
    "sns.distplot(y_diff,  rug=True, hist=False)"
   ]
  },
  {
   "cell_type": "markdown",
   "metadata": {},
   "source": [
    "Let's calculate a one sample t-test checking if the distribution of differences is significantly different from zero."
   ]
  },
  {
   "cell_type": "code",
   "execution_count": null,
   "metadata": {
    "collapsed": false
   },
   "outputs": [],
   "source": [
    "stats.ttest_1samp(y_diff, 0)"
   ]
  },
  {
   "cell_type": "markdown",
   "metadata": {},
   "source": [
    "This is equivalent to so called paired two sample t test"
   ]
  },
  {
   "cell_type": "code",
   "execution_count": null,
   "metadata": {
    "collapsed": false
   },
   "outputs": [],
   "source": [
    "stats.ttest_rel(year1_yield,year2_yield)"
   ]
  },
  {
   "cell_type": "markdown",
   "metadata": {},
   "source": [
    "What would happen if we ignored the pairing and treat the samples as independent?"
   ]
  },
  {
   "cell_type": "code",
   "execution_count": null,
   "metadata": {
    "collapsed": false
   },
   "outputs": [],
   "source": [
    "stats.ttest_ind(year1_yield,year2_yield)"
   ]
  },
  {
   "cell_type": "markdown",
   "metadata": {},
   "source": [
    "The result is similar, but would it always be the case? Let's generate a lot of data and compare the difference between two sample independent and paired tests."
   ]
  },
  {
   "cell_type": "code",
   "execution_count": null,
   "metadata": {
    "collapsed": false
   },
   "outputs": [],
   "source": [
    "t_diffs = []\n",
    "rvs = []\n",
    "for i in range(1000):\n",
    "    rvs1 = stats.norm.rvs(loc=0,scale=1,size=15)\n",
    "    rvs2 = stats.norm.rvs(loc=0.2,scale=1,size=15)\n",
    "    t_rel, _ = stats.ttest_rel(rvs1,rvs2)\n",
    "    t_ind, _ = stats.ttest_ind(rvs1,rvs2)\n",
    "    t_diff = t_rel - t_ind\n",
    "    t_diffs.append(t_diff)\n",
    "    rvs.append((rvs1, rvs2))"
   ]
  },
  {
   "cell_type": "code",
   "execution_count": null,
   "metadata": {
    "collapsed": false
   },
   "outputs": [],
   "source": [
    "sns.distplot(t_diffs)"
   ]
  },
  {
   "cell_type": "markdown",
   "metadata": {},
   "source": [
    "Note that the distribution is left skewed. This means that independent samples t test has more often higher values than the paired version."
   ]
  },
  {
   "cell_type": "markdown",
   "metadata": {},
   "source": [
    "Let's pick and extreme"
   ]
  },
  {
   "cell_type": "code",
   "execution_count": null,
   "metadata": {
    "collapsed": false
   },
   "outputs": [],
   "source": [
    "rv1, rv2 = rvs[np.array(t_diffs).argmax()]"
   ]
  },
  {
   "cell_type": "code",
   "execution_count": null,
   "metadata": {
    "collapsed": false
   },
   "outputs": [],
   "source": [
    "sns.violinplot(pd.DataFrame(np.array([rv1, rv2]).T))\n",
    "for y1, y2 in zip(rv1, rv2):\n",
    "    plt.plot([0,1], [y1,y2], color=\"b\")"
   ]
  },
  {
   "cell_type": "code",
   "execution_count": null,
   "metadata": {
    "collapsed": false
   },
   "outputs": [],
   "source": [
    "stats.ttest_rel(rv1, rv2)"
   ]
  },
  {
   "cell_type": "code",
   "execution_count": null,
   "metadata": {
    "collapsed": false
   },
   "outputs": [],
   "source": [
    "stats.ttest_ind(rv1, rv2)"
   ]
  },
  {
   "cell_type": "markdown",
   "metadata": {},
   "source": [
    "Using the wrong test can result in a test being less or more significant than it should. However the sign of the stattistic can never change."
   ]
  },
  {
   "cell_type": "markdown",
   "metadata": {},
   "source": [
    "## Correlation between values"
   ]
  },
  {
   "cell_type": "markdown",
   "metadata": {},
   "source": [
    "Are the yields of barley crops in 1931 correlated with yields in 1932"
   ]
  },
  {
   "cell_type": "code",
   "execution_count": null,
   "metadata": {
    "collapsed": false
   },
   "outputs": [],
   "source": [
    "plt.scatter(x=year1_yield, y=year2_yield)"
   ]
  },
  {
   "cell_type": "markdown",
   "metadata": {},
   "source": [
    "We can try to fit a line to this plot. A line is defined by the following equation:\n",
    "$$ y = ax + b $$\n",
    "where $a$ the slope and $b$ is the intercept of the line."
   ]
  },
  {
   "cell_type": "code",
   "execution_count": null,
   "metadata": {
    "collapsed": true
   },
   "outputs": [],
   "source": [
    "slope, intercept, r_value, p_value, std_err = stats.linregress(year1_yield, year2_yield)"
   ]
  },
  {
   "cell_type": "code",
   "execution_count": null,
   "metadata": {
    "collapsed": false
   },
   "outputs": [],
   "source": [
    "plt.scatter(x=year1_yield, y=year2_yield)\n",
    "plt.plot(np.arange(60,200),intercept+slope*np.arange(60,200), color=\"r\")\n",
    "plt.xlim([60, 200])\n",
    "plt.xlabel(\"1931 crop yield\")\n",
    "plt.ylabel(\"1932 crop yield\")"
   ]
  },
  {
   "cell_type": "markdown",
   "metadata": {},
   "source": [
    "From the equation we can see that the intercept is equivalent to the crop yield in 1932 (y) in case the yield in 1931 (x) was zero:\n",
    "$$ y = a0 + b = b$$"
   ]
  },
  {
   "cell_type": "code",
   "execution_count": null,
   "metadata": {
    "collapsed": false
   },
   "outputs": [],
   "source": [
    "plt.scatter(x=year1_yield, y=year2_yield)\n",
    "plt.plot(np.arange(0,200),intercept+slope*np.arange(0,200), color=\"r\")\n",
    "plt.xlim([0, 200])\n",
    "plt.xlabel(\"1931 crop yield\")\n",
    "plt.ylabel(\"1932 crop yield\")\n",
    "print intercept"
   ]
  },
  {
   "cell_type": "markdown",
   "metadata": {},
   "source": [
    "How is this line fitted? The line is a prediction. It tells you what should be the crop yield in 1932 based on 1931. But it's not perfect. Let's draw how far the predictions are from reality."
   ]
  },
  {
   "cell_type": "code",
   "execution_count": null,
   "metadata": {
    "collapsed": false
   },
   "outputs": [],
   "source": [
    "plt.scatter(x=year1_yield, y=year2_yield)\n",
    "plt.plot(np.arange(60,200),intercept+slope*np.arange(60,200), color=\"r\")\n",
    "plt.xlim([60, 200])\n",
    "plt.xlabel(\"1931 crop yield\")\n",
    "plt.ylabel(\"1932 crop yield\")\n",
    "plt.vlines(year1_yield, year2_yield,intercept+slope*year1_yield)"
   ]
  },
  {
   "cell_type": "markdown",
   "metadata": {},
   "source": [
    "We can count the errors"
   ]
  },
  {
   "cell_type": "code",
   "execution_count": null,
   "metadata": {
    "collapsed": false
   },
   "outputs": [],
   "source": [
    "print np.abs(year2_yield-intercept+slope*year1_yield).sum()"
   ]
  },
  {
   "cell_type": "markdown",
   "metadata": {},
   "source": [
    "Different lines will have bigger different errors:"
   ]
  },
  {
   "cell_type": "code",
   "execution_count": null,
   "metadata": {
    "collapsed": false
   },
   "outputs": [],
   "source": [
    "slope2 = slope + 0.15\n",
    "intercept2 = intercept - 10\n",
    "\n",
    "plt.scatter(x=year1_yield, y=year2_yield)\n",
    "plt.plot(np.arange(60,200),intercept2+slope2*np.arange(60,200), color=\"r\")\n",
    "plt.xlim([60, 200])\n",
    "plt.xlabel(\"1931 crop yield\")\n",
    "plt.ylabel(\"1932 crop yield\")\n",
    "plt.vlines(year1_yield, year2_yield,intercept2+slope2*year1_yield)\n",
    "print np.abs(year2_yield-intercept2+slope2*year1_yield).sum()"
   ]
  },
  {
   "cell_type": "markdown",
   "metadata": {},
   "source": [
    "The fitting procedure is minimizing those errors trying to find a line that best describes the data."
   ]
  },
  {
   "cell_type": "markdown",
   "metadata": {},
   "source": [
    "In practice sum of absolute values of errors is not minimized - it's the sum of squares"
   ]
  },
  {
   "cell_type": "code",
   "execution_count": null,
   "metadata": {
    "collapsed": false
   },
   "outputs": [],
   "source": [
    "print ((year2_yield-intercept2+slope2*year1_yield)**2).sum()"
   ]
  },
  {
   "cell_type": "code",
   "execution_count": null,
   "metadata": {
    "collapsed": false
   },
   "outputs": [],
   "source": [
    "((year2_yield-intercept2+slope2*year1_yield)**2).sum()"
   ]
  },
  {
   "cell_type": "markdown",
   "metadata": {},
   "source": [
    "In practice this means that big errors will make much bigger impact on the fit than small errors.\n",
    "\n",
    "Why square not absolute value? This comes from the fact that linear regression model is using Gaussian random noise."
   ]
  },
  {
   "cell_type": "markdown",
   "metadata": {},
   "source": [
    "$$ y = ax + b + \\epsilon$$\n",
    "where $\\epsilon = N(0,1)$ (is a Gaussina with mean zero and variance 1)"
   ]
  },
  {
   "cell_type": "markdown",
   "metadata": {},
   "source": [
    "Note that fitting a linear model has a close solution. This means that we can calculate optimal slope and intercept parameters without having to try multiple different lines."
   ]
  },
  {
   "cell_type": "markdown",
   "metadata": {},
   "source": [
    "To assess how well we can predict values of one variable with the values of another we can use the correlation value"
   ]
  },
  {
   "cell_type": "code",
   "execution_count": null,
   "metadata": {
    "collapsed": false
   },
   "outputs": [],
   "source": [
    "r_value"
   ]
  },
  {
   "cell_type": "markdown",
   "metadata": {},
   "source": [
    "Correlation is nothing else than covariance of the two variables normalized by their variance. It varies from -1 (anticorrealted), through 0 (uncorrelated), to 1 (fully correlated)"
   ]
  },
  {
   "cell_type": "markdown",
   "metadata": {},
   "source": [
    "$$P_{ij} = \\frac{ C_{ij} } { \\sqrt{ C_{ii} * C_{jj} } }$$"
   ]
  },
  {
   "cell_type": "code",
   "execution_count": null,
   "metadata": {
    "collapsed": false
   },
   "outputs": [],
   "source": [
    "np.corrcoef(x=year1_yield, y=year2_yield)"
   ]
  },
  {
   "cell_type": "markdown",
   "metadata": {},
   "source": [
    "Correlation coefficient has another interesting property - when squared it describes the percentage of variance of variable Y explained by one varaince in variable X (and vice versa) "
   ]
  },
  {
   "cell_type": "code",
   "execution_count": null,
   "metadata": {
    "collapsed": false
   },
   "outputs": [],
   "source": [
    "r_value**2*100"
   ]
  },
  {
   "cell_type": "markdown",
   "metadata": {},
   "source": [
    "There is also a p-value. It is directly related to the r_value and the number of samples."
   ]
  },
  {
   "cell_type": "markdown",
   "metadata": {},
   "source": [
    "## Multiple linear regression"
   ]
  },
  {
   "cell_type": "code",
   "execution_count": null,
   "metadata": {
    "collapsed": true
   },
   "outputs": [],
   "source": [
    "prestige = sm.datasets.get_rdataset(\"Duncan\", \"car\", cache=True).data"
   ]
  },
  {
   "cell_type": "code",
   "execution_count": null,
   "metadata": {
    "collapsed": false
   },
   "outputs": [],
   "source": [
    "ds = sm.datasets.get_rdataset(\"Duncan\", \"car\", cache=True)\n",
    "print ds.__doc__"
   ]
  },
  {
   "cell_type": "code",
   "execution_count": null,
   "metadata": {
    "collapsed": false
   },
   "outputs": [],
   "source": [
    "prestige.head()"
   ]
  },
  {
   "cell_type": "markdown",
   "metadata": {},
   "source": [
    "How well can we describe predict prestige using education and icome?"
   ]
  },
  {
   "cell_type": "code",
   "execution_count": null,
   "metadata": {
    "collapsed": false
   },
   "outputs": [],
   "source": [
    "prestige_model = ols(\"prestige ~ income + education\", data=prestige).fit()\n",
    "print(prestige_model.summary())"
   ]
  },
  {
   "cell_type": "markdown",
   "metadata": {},
   "source": [
    "Multiple linear regression (or General Linear Models - GLM) are based on the premise of a matrix of variables describing the data:\n",
    "$$ Y = \\beta X + \\epsilon $$\n",
    "where $\\beta$ are the coefficient and X is the design matrix. In our case the design matrix looks this way"
   ]
  },
  {
   "cell_type": "code",
   "execution_count": null,
   "metadata": {
    "collapsed": false
   },
   "outputs": [],
   "source": [
    "plt.matshow(prestige_model.model.exog)\n",
    "plt.xticks(range(3), prestige_model.model.exog_names, rotation=-25)\n",
    "plt.colorbar()"
   ]
  },
  {
   "cell_type": "markdown",
   "metadata": {},
   "source": [
    "Note that on top of our two regressors of interest (\"income\" and \"education\") we also have \"intercept\" just like in regural linear regrossion with one variable."
   ]
  },
  {
   "cell_type": "markdown",
   "metadata": {},
   "source": [
    "In fact we can recreate the same results from our previous example using GLM."
   ]
  },
  {
   "cell_type": "code",
   "execution_count": null,
   "metadata": {
    "collapsed": false
   },
   "outputs": [],
   "source": [
    "crop_model = ols(\"Y2 ~ Y1\", data=immer_ds.data).fit()\n",
    "print(crop_model.summary())"
   ]
  },
  {
   "cell_type": "code",
   "execution_count": null,
   "metadata": {
    "collapsed": false
   },
   "outputs": [],
   "source": [
    "plt.matshow(crop_model.model.exog)\n",
    "plt.xticks(range(2), crop_model.model.exog_names, rotation=-25)\n",
    "plt.colorbar()"
   ]
  },
  {
   "cell_type": "markdown",
   "metadata": {},
   "source": [
    "You can also express two sample T test in GLM"
   ]
  },
  {
   "cell_type": "code",
   "execution_count": null,
   "metadata": {
    "collapsed": false
   },
   "outputs": [],
   "source": [
    "immer_subset = immer_data[np.logical_or(immer_data.Var == \"M\", immer_data.Var == \"T\")]"
   ]
  },
  {
   "cell_type": "code",
   "execution_count": null,
   "metadata": {
    "collapsed": false
   },
   "outputs": [],
   "source": [
    "subset_model = ols(\"Y1 ~ Var\", data=immer_subset).fit()\n",
    "print(subset_model.summary())"
   ]
  },
  {
   "cell_type": "code",
   "execution_count": null,
   "metadata": {
    "collapsed": false
   },
   "outputs": [],
   "source": [
    "plt.matshow(subset_model.model.exog)\n",
    "plt.xticks(range(2), subset_model.model.exog_names, rotation=-25)\n",
    "plt.colorbar()"
   ]
  },
  {
   "cell_type": "markdown",
   "metadata": {},
   "source": [
    "This model can be also used for more than two \"groups\""
   ]
  },
  {
   "cell_type": "code",
   "execution_count": null,
   "metadata": {
    "collapsed": false
   },
   "outputs": [],
   "source": [
    "full_model = ols(\"Y1 ~ Var\", data=immer_ds.data).fit()\n",
    "print(full_model.summary())"
   ]
  },
  {
   "cell_type": "code",
   "execution_count": null,
   "metadata": {
    "collapsed": false
   },
   "outputs": [],
   "source": [
    "plt.matshow(full_model.model.exog)\n",
    "plt.xticks(range(len(full_model.model.exog_names)), full_model.model.exog_names, rotation=-25)\n",
    "plt.colorbar()"
   ]
  },
  {
   "cell_type": "markdown",
   "metadata": {},
   "source": [
    "We can now explicitly test hypotheses such as is there a difference between manchuria and trebi."
   ]
  },
  {
   "cell_type": "code",
   "execution_count": null,
   "metadata": {
    "collapsed": false
   },
   "outputs": [],
   "source": [
    "full_model.f_test(\"Var[T.P] = Var[T.T]\")"
   ]
  },
  {
   "cell_type": "markdown",
   "metadata": {},
   "source": [
    "Which is equivalent to"
   ]
  },
  {
   "cell_type": "code",
   "execution_count": null,
   "metadata": {
    "collapsed": false
   },
   "outputs": [],
   "source": [
    "full_model.f_test([1,0,0,0,0])"
   ]
  },
  {
   "cell_type": "markdown",
   "metadata": {},
   "source": [
    "There are also other ways of coding categorical variables in design matrices"
   ]
  },
  {
   "cell_type": "markdown",
   "metadata": {},
   "source": [
    "## Shared variance and colinearity"
   ]
  },
  {
   "cell_type": "code",
   "execution_count": null,
   "metadata": {
    "collapsed": false
   },
   "outputs": [],
   "source": [
    "data = sm.datasets.longley.load_pandas().data\n",
    "data.head()"
   ]
  },
  {
   "cell_type": "code",
   "execution_count": null,
   "metadata": {
    "collapsed": false
   },
   "outputs": [],
   "source": [
    "print sm.datasets.longley.NOTE"
   ]
  },
  {
   "cell_type": "markdown",
   "metadata": {},
   "source": [
    "First we fit a model with one variable"
   ]
  },
  {
   "cell_type": "code",
   "execution_count": null,
   "metadata": {
    "collapsed": false
   },
   "outputs": [],
   "source": [
    "model_1 = ols(\"TOTEMP ~ POP\", data=data).fit()\n",
    "print(model_1.summary())"
   ]
  },
  {
   "cell_type": "markdown",
   "metadata": {},
   "source": [
    "Lots of variance explained and high t value!"
   ]
  },
  {
   "cell_type": "markdown",
   "metadata": {},
   "source": [
    "Lets try another variable"
   ]
  },
  {
   "cell_type": "code",
   "execution_count": null,
   "metadata": {
    "collapsed": false
   },
   "outputs": [],
   "source": [
    "model_2 = ols(\"TOTEMP ~ GNP\", data=data).fit()\n",
    "print(model_2.summary())"
   ]
  },
  {
   "cell_type": "markdown",
   "metadata": {},
   "source": [
    "Even more variance explained and even higher t value!"
   ]
  },
  {
   "cell_type": "markdown",
   "metadata": {},
   "source": [
    "Let's put both variables in the model"
   ]
  },
  {
   "cell_type": "code",
   "execution_count": null,
   "metadata": {
    "collapsed": false
   },
   "outputs": [],
   "source": [
    "model_1_plus_2 = ols(\"TOTEMP ~ POP + GNP\", data=data).fit()\n",
    "print(model_1_plus_2.summary())"
   ]
  },
  {
   "cell_type": "markdown",
   "metadata": {},
   "source": [
    "The t values decreased drastically! Effect of the population (POP) changed direction!"
   ]
  },
  {
   "cell_type": "code",
   "execution_count": null,
   "metadata": {
    "collapsed": false
   },
   "outputs": [],
   "source": [
    "sns.jointplot(\"GNP\", \"POP\", data=data)"
   ]
  },
  {
   "cell_type": "markdown",
   "metadata": {},
   "source": [
    "It's because the two variables are highly correlated. t values and coefficients reported by a GLM model correspond only to the unique variance. Varaince shared by the independen variables are not assigned to any of them. Note however overall model performance ($R^2$) increased."
   ]
  },
  {
   "cell_type": "code",
   "execution_count": null,
   "metadata": {
    "collapsed": false
   },
   "outputs": [],
   "source": [
    "sns.jointplot(\"TOTEMP\", \"POP\", data=data)"
   ]
  },
  {
   "cell_type": "code",
   "execution_count": null,
   "metadata": {
    "collapsed": true
   },
   "outputs": [],
   "source": [
    "slope, intercept, r_value, p_value, std_err = stats.linregress(data[\"GNP\"], data[\"POP\"])"
   ]
  },
  {
   "cell_type": "code",
   "execution_count": null,
   "metadata": {
    "collapsed": false
   },
   "outputs": [],
   "source": [
    "predicted = intercept+slope*data[\"GNP\"]\n",
    "data[\"POPwoGNP\"] = data[\"POP\"] - predicted"
   ]
  },
  {
   "cell_type": "code",
   "execution_count": null,
   "metadata": {
    "collapsed": false
   },
   "outputs": [],
   "source": [
    "sns.jointplot(\"TOTEMP\", \"POPwoGNP\", data=data)"
   ]
  },
  {
   "cell_type": "code",
   "execution_count": null,
   "metadata": {
    "collapsed": true
   },
   "outputs": [],
   "source": []
  }
 ],
 "metadata": {
  "kernelspec": {
   "display_name": "Python 2",
   "language": "python",
   "name": "python2"
  },
  "language_info": {
   "codemirror_mode": {
    "name": "ipython",
    "version": 2
   },
   "file_extension": ".py",
   "mimetype": "text/x-python",
   "name": "python",
   "nbconvert_exporter": "python",
   "pygments_lexer": "ipython2",
   "version": "2.7.10"
  }
 },
 "nbformat": 4,
 "nbformat_minor": 0
}