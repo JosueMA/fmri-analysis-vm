{
 "cells": [
  {
   "cell_type": "markdown",
   "metadata": {},
   "source": [
    "This notebook introduces the notion of computing the general linear model using linear algebra.  First we load the necessarily libraries."
   ]
  },
  {
   "cell_type": "code",
   "execution_count": 49,
   "metadata": {
    "collapsed": false
   },
   "outputs": [],
   "source": [
    "import numpy,pandas\n",
    "import matplotlib.pyplot as plt\n",
    "import seaborn as sns\n",
    "import scipy.stats\n",
    "import statsmodels.api as sm\n",
    "import statsmodels\n",
    "from statsmodels.formula.api import ols,glsar\n",
    "from statsmodels.tsa.arima_process import arma_generate_sample\n",
    "from scipy.linalg import toeplitz\n",
    "from IPython.display import display, HTML\n",
    "\n",
    "%matplotlib inline"
   ]
  },
  {
   "cell_type": "markdown",
   "metadata": {},
   "source": [
    "### A simple example\n",
    "\n",
    "We start with a simple example of an independent samples t-test. First, let's make a function that will generate some data. We will assume that there are two conditions with specified means and standard deviations"
   ]
  },
  {
   "cell_type": "code",
   "execution_count": 50,
   "metadata": {
    "collapsed": false
   },
   "outputs": [],
   "source": [
    "def make_ttest_data(n_obs=[50,50],mean_obs=[10,10.1],sd_obs=[2,2]):\n",
    "    \"\"\"\n",
    "    function to generate independent-sample data with two conditions\n",
    "    \"\"\"\n",
    "    n_obs=[50,50]  # number of observations in each condition\n",
    "    n_obs_total=numpy.sum(n_obs)\n",
    "    mean_obs=[10,11]\n",
    "    sd_obs=[1,1]\n",
    "    condition=numpy.zeros(n_obs_total)\n",
    "    condition[:n_obs[0]]=0\n",
    "    condition[n_obs[0]:n_obs_total]=1\n",
    "    \n",
    "    data=numpy.zeros(n_obs_total)\n",
    "    data[:n_obs[0]]=mean_obs[0]\n",
    "    data[n_obs[0]:n_obs_total]=mean_obs[1]\n",
    "\n",
    "    # doublecheck our work\n",
    "    assert numpy.sum(data==mean_obs[0])==n_obs[0]\n",
    "    assert numpy.sum(data==mean_obs[1])==n_obs[1]\n",
    "\n",
    "    noise=numpy.zeros(n_obs_total)\n",
    "    noise[:n_obs[0]]=numpy.random.randn(n_obs[0])*sd_obs[0]\n",
    "    noise[n_obs[0]:n_obs_total]=numpy.random.randn(n_obs[1])*sd_obs[1]\n",
    "\n",
    "    df=pandas.DataFrame({'data':data+noise,'condition':condition})\n",
    "    return df"
   ]
  },
  {
   "cell_type": "markdown",
   "metadata": {},
   "source": [
    "Make some data and plot the distributions for the two conditions"
   ]
  },
  {
   "cell_type": "code",
   "execution_count": 51,
   "metadata": {
    "collapsed": false
   },
   "outputs": [
    {
     "name": "stderr",
     "output_type": "stream",
     "text": [
      "/Users/poldrack/anaconda/envs/py34/lib/python3.4/site-packages/statsmodels/nonparametric/kdetools.py:20: VisibleDeprecationWarning: using a non-integer number instead of an integer will result in an error in the future\n",
      "  y = X[:m/2+1] + np.r_[0,X[m/2+1:],0]*1j\n"
     ]
    },
    {
     "data": {
      "text/plain": [
       "<matplotlib.axes._subplots.AxesSubplot at 0x114f4f9b0>"
      ]
     },
     "execution_count": 51,
     "metadata": {},
     "output_type": "execute_result"
    },
    {
     "data": {
      "image/png": "[encoded data removed]",
      "text/plain": [
       "<matplotlib.figure.Figure at 0x1049024e0>"
      ]
     },
     "metadata": {},
     "output_type": "display_data"
    }
   ],
   "source": [
    "data=make_ttest_data()\n",
    "Y=data.data.values\n",
    "X=data.condition.values\n",
    "\n",
    "f = plt.figure()\n",
    "sns.distplot(Y[X==0], hist=False, label=\"condition 1\")\n",
    "sns.distplot(Y[X==1], hist=False, label=\"condition 2\")"
   ]
  },
  {
   "cell_type": "markdown",
   "metadata": {},
   "source": [
    "Now we want to perform a t-test to ask whether the means of the two conditions are different. Let's try to compute it on our own, using linear algebra.  Remember that the formula for the GLM is:\n",
    "\n",
    "$Y = X * B + e$\n",
    "\n",
    "where Y is an N X 1 matrix containing the data that we generated, and X is an N X c \"design matrix\" that describes the conditions (in this case, a single vector indicating condition 1 or 2).  Using the normal equations, we can estimate B using:\n",
    "\n",
    "$\\hat{B} = (X'X)^{-1}X'Y$\n",
    "\n",
    "Before we dive into these computations, we need to go over how to do linear algebra in Python. The following borrows liberally from https://www.ibm.com/developerworks/community/blogs/jfp/entry/Elementary_Matrix_Operations_In_Python?lang=en\n"
   ]
  },
  {
   "cell_type": "markdown",
   "metadata": {},
   "source": [
    "#### Making arrays/matrices in Python"
   ]
  },
  {
   "cell_type": "code",
   "execution_count": 52,
   "metadata": {
    "collapsed": false
   },
   "outputs": [
    {
     "name": "stdout",
     "output_type": "stream",
     "text": [
      "[1 3 2]\n",
      "y shape: (3,)\n",
      "[[1]\n",
      " [3]\n",
      " [2]]\n",
      "z shape: (3, 1)\n",
      "A\n",
      "[[ 1  1  2]\n",
      " [ 3  5  8]\n",
      " [13 21 34]]\n",
      "B\n",
      "[[ 1  1  2]\n",
      " [ 3  5  8]\n",
      " [13 21 34]]\n",
      "B.T\n",
      "[[ 1  3 13]\n",
      " [ 1  5 21]\n",
      " [ 2  8 34]]\n"
     ]
    }
   ],
   "source": [
    "# to make an array, we give a list to numpy.array\n",
    "y = numpy.array([1,3,2])\n",
    "print(y)\n",
    "print('y shape:',y.shape)\n",
    "\n",
    "# we can add a dimension with the None operator\n",
    "z=y[:,None]\n",
    "print(z)\n",
    "print('z shape:',z.shape)\n",
    "\n",
    "# one option to create a matrix is to give a vector and reshape to a matrix\n",
    "print('A')\n",
    "A = numpy.array([1,1,2,3,5,8,13,21,34]).reshape(3,3)\n",
    "print(A)\n",
    "\n",
    "# another alternative is to pass a list of lists\n",
    "print('B')\n",
    "B = numpy.array([[1,1,2],[3,5,8],[13,21,34]])\n",
    "print(B)\n",
    "\n",
    "# to transpose a matrix, use the .T operator\n",
    "print('B.T')\n",
    "print(B.T)"
   ]
  },
  {
   "cell_type": "markdown",
   "metadata": {},
   "source": [
    "There are some useful functions to generate specific types of matrices"
   ]
  },
  {
   "cell_type": "code",
   "execution_count": 53,
   "metadata": {
    "collapsed": false
   },
   "outputs": [
    {
     "name": "stdout",
     "output_type": "stream",
     "text": [
      "a\n",
      "[[ 0.  0.  0.  0.]\n",
      " [ 0.  0.  0.  0.]]\n",
      "b\n",
      "[[ 1.  1.  1.  1.]\n",
      " [ 1.  1.  1.  1.]]\n",
      "c\n",
      "[[ 12.  12.  12.  12.]\n",
      " [ 12.  12.  12.  12.]]\n",
      "d\n",
      "[0 1 2 3 4 5 6 7 8 9]\n",
      "e\n",
      "[ 3.    3.33  3.66  3.99  4.32  4.65  4.98]\n"
     ]
    }
   ],
   "source": [
    "# create a matrix full of zeros\n",
    "# note that the shape is passed as a tuple if you want multiple dimensions\n",
    "a=numpy.zeros((2,4))\n",
    "print('a')\n",
    "print(a)\n",
    "\n",
    "#create a matrix full of ones\n",
    "b=numpy.ones((2,4))\n",
    "print('b')\n",
    "print(b)\n",
    "\n",
    "# create a matrix full of any other number:\n",
    "c=b*12\n",
    "print('c')\n",
    "print(c)\n",
    "\n",
    "# create a range of numbers:\n",
    "d=numpy.arange(10)\n",
    "print('d')\n",
    "print(d)\n",
    "\n",
    "e=numpy.arange(3,5,0.33)\n",
    "print('e')\n",
    "print(e)\n",
    "\n"
   ]
  },
  {
   "cell_type": "markdown",
   "metadata": {},
   "source": [
    "Now let's look at some basic arithmetic operations"
   ]
  },
  {
   "cell_type": "code",
   "execution_count": 54,
   "metadata": {
    "collapsed": false
   },
   "outputs": [
    {
     "name": "stdout",
     "output_type": "stream",
     "text": [
      "a+5\n",
      "[[ 5.  5.  5.  5.]\n",
      " [ 5.  5.  5.  5.]]\n",
      "c/2\n",
      "[[ 6.  6.  6.  6.]\n",
      " [ 6.  6.  6.  6.]]\n",
      "a+b+c\n",
      "[[ 13.  13.  13.  13.]\n",
      " [ 13.  13.  13.  13.]]\n",
      "a*b*c\n",
      "[[ 0.  0.  0.  0.]\n",
      " [ 0.  0.  0.  0.]]\n",
      "b/c\n",
      "[[ 0.08333333  0.08333333  0.08333333  0.08333333]\n",
      " [ 0.08333333  0.08333333  0.08333333  0.08333333]]\n"
     ]
    }
   ],
   "source": [
    "print('a+5')\n",
    "print(a+5)\n",
    "\n",
    "print('c/2')\n",
    "print(c/2)\n",
    "\n",
    "print('a+b+c')\n",
    "print(a+b+c)\n",
    "\n",
    "print('a*b*c')\n",
    "print(a*b*c)\n",
    "\n",
    "print('b/c')\n",
    "print(b/c)\n",
    "\n"
   ]
  },
  {
   "cell_type": "markdown",
   "metadata": {},
   "source": [
    "#### Matrix multiplication\n",
    "\n",
    "Matrix multiplication is performed on numpy arrays using the .dot() operator.  "
   ]
  },
  {
   "cell_type": "code",
   "execution_count": 55,
   "metadata": {
    "collapsed": false
   },
   "outputs": [
    {
     "name": "stdout",
     "output_type": "stream",
     "text": [
      "x\n",
      "[[1 2]\n",
      " [3 4]]\n",
      "y\n",
      "[[1 0]\n",
      " [0 2]]\n",
      "scalar product of x and y: x*y\n",
      "[[1 0]\n",
      " [0 8]]\n",
      "matrix product of x and y: x.dot(y)\n",
      "[[1 4]\n",
      " [3 8]]\n"
     ]
    }
   ],
   "source": [
    "x=numpy.array([[1,2],[3,4]])\n",
    "y=numpy.array([[1,0],[0,2]])\n",
    "print('x')\n",
    "print(x)\n",
    "print('y')\n",
    "print(y)\n",
    "\n",
    "print('scalar product of x and y: x*y')\n",
    "print(x*y)\n",
    "print('matrix product of x and y: x.dot(y)')\n",
    "print(x.dot(y))"
   ]
  },
  {
   "cell_type": "markdown",
   "metadata": {},
   "source": [
    "__Exercise__: We know that the variance of a matrix X is computed as $mean((X-mean(X))*(X-mean(X))')$.  Fill in the appropriate code in the function below so that it returns a value that equals the value obtained from the numpy.var() command."
   ]
  },
  {
   "cell_type": "code",
   "execution_count": 56,
   "metadata": {
    "collapsed": false
   },
   "outputs": [
    {
     "ename": "NameError",
     "evalue": "name 'var' is not defined",
     "output_type": "error",
     "traceback": [
      "\u001b[0;31m---------------------------------------------------------------------------\u001b[0m",
      "\u001b[0;31mNameError\u001b[0m                                 Traceback (most recent call last)",
      "\u001b[0;32m<ipython-input-56-21968ec8bb46>\u001b[0m in \u001b[0;36m<module>\u001b[0;34m()\u001b[0m\n\u001b[1;32m      5\u001b[0m \u001b[0;34m\u001b[0m\u001b[0m\n\u001b[1;32m      6\u001b[0m \u001b[0;31m# use allclose rather than == to deal with numerical errors\u001b[0m\u001b[0;34m\u001b[0m\u001b[0;34m\u001b[0m\u001b[0m\n\u001b[0;32m----> 7\u001b[0;31m \u001b[0;32massert\u001b[0m \u001b[0mnumpy\u001b[0m\u001b[0;34m.\u001b[0m\u001b[0mallclose\u001b[0m\u001b[0;34m(\u001b[0m\u001b[0mnumpy\u001b[0m\u001b[0;34m.\u001b[0m\u001b[0mvar\u001b[0m\u001b[0;34m(\u001b[0m\u001b[0mY\u001b[0m\u001b[0;34m)\u001b[0m\u001b[0;34m,\u001b[0m\u001b[0mvariance\u001b[0m\u001b[0;34m(\u001b[0m\u001b[0mY\u001b[0m\u001b[0;34m)\u001b[0m\u001b[0;34m)\u001b[0m\u001b[0;34m\u001b[0m\u001b[0m\n\u001b[0m",
      "\u001b[0;32m<ipython-input-56-21968ec8bb46>\u001b[0m in \u001b[0;36mvariance\u001b[0;34m(Y)\u001b[0m\n\u001b[1;32m      2\u001b[0m     \u001b[0;31m# insert code here to estimate variance using matrix multiplication\u001b[0m\u001b[0;34m\u001b[0m\u001b[0;34m\u001b[0m\u001b[0m\n\u001b[1;32m      3\u001b[0m \u001b[0;34m\u001b[0m\u001b[0m\n\u001b[0;32m----> 4\u001b[0;31m     \u001b[0;32mreturn\u001b[0m \u001b[0mvar\u001b[0m\u001b[0;34m\u001b[0m\u001b[0m\n\u001b[0m\u001b[1;32m      5\u001b[0m \u001b[0;34m\u001b[0m\u001b[0m\n\u001b[1;32m      6\u001b[0m \u001b[0;31m# use allclose rather than == to deal with numerical errors\u001b[0m\u001b[0;34m\u001b[0m\u001b[0;34m\u001b[0m\u001b[0m\n",
      "\u001b[0;31mNameError\u001b[0m: name 'var' is not defined"
     ]
    }
   ],
   "source": [
    "def variance(Y):\n",
    "    # insert code here to estimate variance using matrix multiplication\n",
    "\n",
    "    return var\n",
    "\n",
    "# use allclose rather than == to deal with numerical errors\n",
    "assert numpy.allclose(numpy.var(Y),variance(Y))"
   ]
  },
  {
   "cell_type": "markdown",
   "metadata": {},
   "source": [
    "__Exercise__: Write a function to compute the correlation coefficient using matrix algebra. The equation to compute the correlation using matrix algebra is:\n",
    "\n",
    "$r = \\frac{X\\cdot Y}{\\sqrt{(X\\cdot X)*(Y\\cdot Y)}}$\n",
    "\n",
    "assuming that X and Y have zero mean, so you need to remove the mean before computing this."
   ]
  },
  {
   "cell_type": "code",
   "execution_count": 57,
   "metadata": {
    "collapsed": false
   },
   "outputs": [
    {
     "ename": "NameError",
     "evalue": "name 'r' is not defined",
     "output_type": "error",
     "traceback": [
      "\u001b[0;31m---------------------------------------------------------------------------\u001b[0m",
      "\u001b[0;31mNameError\u001b[0m                                 Traceback (most recent call last)",
      "\u001b[0;32m<ipython-input-57-b7b187ecf58e>\u001b[0m in \u001b[0;36m<module>\u001b[0;34m()\u001b[0m\n\u001b[1;32m      5\u001b[0m     \u001b[0;32mreturn\u001b[0m \u001b[0mr\u001b[0m\u001b[0;34m\u001b[0m\u001b[0m\n\u001b[1;32m      6\u001b[0m \u001b[0;34m\u001b[0m\u001b[0m\n\u001b[0;32m----> 7\u001b[0;31m \u001b[0mprint\u001b[0m\u001b[0;34m(\u001b[0m\u001b[0;34m'My result:'\u001b[0m\u001b[0;34m,\u001b[0m\u001b[0mcorrcoef\u001b[0m\u001b[0;34m(\u001b[0m\u001b[0mX\u001b[0m\u001b[0;34m,\u001b[0m\u001b[0mY\u001b[0m\u001b[0;34m)\u001b[0m\u001b[0;34m)\u001b[0m\u001b[0;34m\u001b[0m\u001b[0m\n\u001b[0m\u001b[1;32m      8\u001b[0m \u001b[0mprint\u001b[0m\u001b[0;34m(\u001b[0m\u001b[0;34m'Numpy result:'\u001b[0m\u001b[0;34m,\u001b[0m\u001b[0mnumpy\u001b[0m\u001b[0;34m.\u001b[0m\u001b[0mcorrcoef\u001b[0m\u001b[0;34m(\u001b[0m\u001b[0mX\u001b[0m\u001b[0;34m,\u001b[0m\u001b[0mY\u001b[0m\u001b[0;34m)\u001b[0m\u001b[0;34m)\u001b[0m\u001b[0;34m\u001b[0m\u001b[0m\n\u001b[1;32m      9\u001b[0m \u001b[0;32massert\u001b[0m \u001b[0mnumpy\u001b[0m\u001b[0;34m.\u001b[0m\u001b[0mallclose\u001b[0m\u001b[0;34m(\u001b[0m\u001b[0mnumpy\u001b[0m\u001b[0;34m.\u001b[0m\u001b[0mcorrcoef\u001b[0m\u001b[0;34m(\u001b[0m\u001b[0mX\u001b[0m\u001b[0;34m,\u001b[0m\u001b[0mY\u001b[0m\u001b[0;34m)\u001b[0m\u001b[0;34m[\u001b[0m\u001b[0;36m0\u001b[0m\u001b[0;34m,\u001b[0m\u001b[0;36m1\u001b[0m\u001b[0;34m]\u001b[0m\u001b[0;34m,\u001b[0m\u001b[0mcorrcoef\u001b[0m\u001b[0;34m(\u001b[0m\u001b[0mX\u001b[0m\u001b[0;34m,\u001b[0m\u001b[0mY\u001b[0m\u001b[0;34m)\u001b[0m\u001b[0;34m)\u001b[0m\u001b[0;34m\u001b[0m\u001b[0m\n",
      "\u001b[0;32m<ipython-input-57-b7b187ecf58e>\u001b[0m in \u001b[0;36mcorrcoef\u001b[0;34m(x, y)\u001b[0m\n\u001b[1;32m      3\u001b[0m     \u001b[0;31m# add code here to compute correlation\u001b[0m\u001b[0;34m\u001b[0m\u001b[0;34m\u001b[0m\u001b[0m\n\u001b[1;32m      4\u001b[0m \u001b[0;34m\u001b[0m\u001b[0m\n\u001b[0;32m----> 5\u001b[0;31m     \u001b[0;32mreturn\u001b[0m \u001b[0mr\u001b[0m\u001b[0;34m\u001b[0m\u001b[0m\n\u001b[0m\u001b[1;32m      6\u001b[0m \u001b[0;34m\u001b[0m\u001b[0m\n\u001b[1;32m      7\u001b[0m \u001b[0mprint\u001b[0m\u001b[0;34m(\u001b[0m\u001b[0;34m'My result:'\u001b[0m\u001b[0;34m,\u001b[0m\u001b[0mcorrcoef\u001b[0m\u001b[0;34m(\u001b[0m\u001b[0mX\u001b[0m\u001b[0;34m,\u001b[0m\u001b[0mY\u001b[0m\u001b[0;34m)\u001b[0m\u001b[0;34m)\u001b[0m\u001b[0;34m\u001b[0m\u001b[0m\n",
      "\u001b[0;31mNameError\u001b[0m: name 'r' is not defined"
     ]
    }
   ],
   "source": [
    "def corrcoef(x,y):\n",
    "    assert len(x)==len(y)\n",
    "    # add code here to compute correlation\n",
    "\n",
    "    return r\n",
    "\n",
    "print('My result:',corrcoef(X,Y))\n",
    "print('Numpy result:',numpy.corrcoef(X,Y))\n",
    "assert numpy.allclose(numpy.corrcoef(X,Y)[0,1],corrcoef(X,Y))"
   ]
  },
  {
   "cell_type": "markdown",
   "metadata": {},
   "source": [
    "#### Matrix inversion\n",
    "\n",
    "We also need to know how to compute the inverse of a matrix, which we do using numpy.linalg.inv().\n",
    "\n",
    "__Exercise:__ In the cell below, create a matrix containing the following numbers:\n",
    "\n",
    "[1,0]\n",
    "[0,2]\n",
    "\n",
    "and print out the original matrix along with the inverted matrix."
   ]
  },
  {
   "cell_type": "code",
   "execution_count": 58,
   "metadata": {
    "collapsed": false
   },
   "outputs": [],
   "source": [
    "# Exercise code here"
   ]
  },
  {
   "cell_type": "markdown",
   "metadata": {},
   "source": [
    "Now that we know how to perform the necessary matrix operations, let's do our t-test on the data generated above.  We first have to fix a problem: we need both X and Y to be matrices for our computation to work, but right now they are 1-dimensional vectors rather than two-dimensional matrices.  We can fix this using numpy - let's go ahead and create a function to compute the ordinary least squares estimates, that includes code to reformat the data into matrices.  We also include an option to add an intercept (i.e. a column of ones) to the model if it doesn't already exist.  "
   ]
  },
  {
   "cell_type": "code",
   "execution_count": 59,
   "metadata": {
    "collapsed": false
   },
   "outputs": [],
   "source": [
    "def ols_estimate(X,Y,add_intercept=True,verbose=False,\n",
    "                ddof=1,use_two_sided=True):\n",
    "    \"\"\"\n",
    "    function to estimate parameters for a general linear model\n",
    "    \"\"\"\n",
    "    \n",
    "    # first we need to set up the matrices in the proper shape\n",
    "    # Y should be N X 1\n",
    "    # X should be X X c\n",
    "    \n",
    "    if verbose:\n",
    "        print('original Y shape:',Y.shape)\n",
    "    Y=Y.reshape((len(Y),1))\n",
    "    if verbose:\n",
    "        print('new Y shape:',Y.shape)\n",
    "    if verbose:\n",
    "        print('original X shape:',X.shape)\n",
    "    if len(X.shape)==1:\n",
    "        X=X.reshape((len(X),1))\n",
    "    Xnames=['X%d'%int(i+1) for i in range(X.shape[1])]\n",
    "    if verbose:\n",
    "        print('new X shape:',X.shape)\n",
    "        \n",
    "    # add an intercept to the model if specified\n",
    "    if add_intercept:\n",
    "        X=sm.add_constant(X)\n",
    "        Xnames=Xnames.append('Intercept')\n",
    "\n",
    "    # make sure that the design matrix is full rank\n",
    "    assert numpy.linalg.matrix_rank(X)==X.shape[1]\n",
    "    \n",
    "    # estimate the parameters using the normal equations\n",
    "    b_hat=numpy.linalg.inv(X.T.dot(X)).dot(X.T.dot(Y))\n",
    "    if verbose:\n",
    "        print('b_hat=',b_hat)\n",
    "        \n",
    "    # compute residuals and their variance\n",
    "    resid=Y-X.dot(b_hat)\n",
    "    sigma2=resid.T.dot(resid)/(X.shape[0] - X.shape[1])  # variance of the residuals\n",
    "    \n",
    "    # now compute the t statistic and p values for for each variable in X\n",
    "    t=numpy.zeros(X.shape[1])\n",
    "    p=numpy.zeros(X.shape[1])\n",
    "\n",
    "    for i in range(X.shape[1]):\n",
    "        c=numpy.zeros(X.shape[1])\n",
    "        c[i]=1\n",
    "        t[i]=c.dot(b_hat)/numpy.sqrt(c.dot(numpy.linalg.inv(X.T.dot(X))).dot(c.T)*sigma2)\n",
    "        if t[i]<0:\n",
    "            p[i]=scipy.stats.distributions.t.cdf(t[i],len(Y)-1)\n",
    "        else:\n",
    "            p[i]=1-scipy.stats.distributions.t.cdf(t[i],len(Y)-1)\n",
    "        if use_two_sided:\n",
    "            p[i]=p[i]*2\n",
    "    if verbose:\n",
    "        print('t=',t)\n",
    "        \n",
    "\n",
    "    df=pandas.DataFrame({'bhat':b_hat.ravel(),'t':t.ravel(),'p':p.ravel()},index=Xnames)\n",
    "    return df\n"
   ]
  },
  {
   "cell_type": "markdown",
   "metadata": {},
   "source": [
    "Now let's estimate the model parameters using our function."
   ]
  },
  {
   "cell_type": "code",
   "execution_count": 60,
   "metadata": {
    "collapsed": false
   },
   "outputs": [
    {
     "data": {
      "text/html": [
       "<div>\n",
       "<table border=\"1\" class=\"dataframe\">\n",
       "  <thead>\n",
       "    <tr style=\"text-align: right;\">\n",
       "      <th></th>\n",
       "      <th>bhat</th>\n",
       "      <th>p</th>\n",
       "      <th>t</th>\n",
       "    </tr>\n",
       "  </thead>\n",
       "  <tbody>\n",
       "    <tr>\n",
       "      <th>0</th>\n",
       "      <td>10.097483</td>\n",
       "      <td>0.000000e+00</td>\n",
       "      <td>77.599357</td>\n",
       "    </tr>\n",
       "    <tr>\n",
       "      <th>1</th>\n",
       "      <td>1.015837</td>\n",
       "      <td>2.724600e-07</td>\n",
       "      <td>5.520191</td>\n",
       "    </tr>\n",
       "  </tbody>\n",
       "</table>\n",
       "</div>"
      ],
      "text/plain": [
       "        bhat             p          t\n",
       "0  10.097483  0.000000e+00  77.599357\n",
       "1   1.015837  2.724600e-07   5.520191"
      ]
     },
     "metadata": {},
     "output_type": "display_data"
    }
   ],
   "source": [
    "e=ols_estimate(X,Y)\n",
    "display(e)"
   ]
  },
  {
   "cell_type": "markdown",
   "metadata": {},
   "source": [
    "Let's compute the same test using a couple of other canned procedures.  First, we use the t-test procedure within the scipy package.  "
   ]
  },
  {
   "cell_type": "code",
   "execution_count": 61,
   "metadata": {
    "collapsed": false
   },
   "outputs": [
    {
     "name": "stdout",
     "output_type": "stream",
     "text": [
      "t/p computed by scipy: 5.5201908478 2.77357303995e-07\n"
     ]
    }
   ],
   "source": [
    "t,p=scipy.stats.ttest_ind(Y[X==1],Y[X==0])\n",
    "print('t/p computed by scipy:',t,p)\n",
    "\n",
    "assert numpy.allclose(t,e.t.values[1])"
   ]
  },
  {
   "cell_type": "markdown",
   "metadata": {},
   "source": [
    "We can also compute it via the general linear model, using the ordinary least squares (OLS) method from statsmodels."
   ]
  },
  {
   "cell_type": "code",
   "execution_count": 62,
   "metadata": {
    "collapsed": false
   },
   "outputs": [
    {
     "name": "stdout",
     "output_type": "stream",
     "text": [
      "                            OLS Regression Results                            \n",
      "==============================================================================\n",
      "Dep. Variable:                      y   R-squared:                       0.237\n",
      "Model:                            OLS   Adj. R-squared:                  0.229\n",
      "Method:                 Least Squares   F-statistic:                     30.47\n",
      "Date:                Sun, 16 Oct 2016   Prob (F-statistic):           2.77e-07\n",
      "Time:                        09:19:52   Log-Likelihood:                -132.56\n",
      "No. Observations:                 100   AIC:                             269.1\n",
      "Df Residuals:                      98   BIC:                             274.3\n",
      "Df Model:                           1                                         \n",
      "Covariance Type:            nonrobust                                         \n",
      "==============================================================================\n",
      "                 coef    std err          t      P>|t|      [95.0% Conf. Int.]\n",
      "------------------------------------------------------------------------------\n",
      "const         10.0975      0.130     77.599      0.000         9.839    10.356\n",
      "x1             1.0158      0.184      5.520      0.000         0.651     1.381\n",
      "==============================================================================\n",
      "Omnibus:                        1.124   Durbin-Watson:                   2.078\n",
      "Prob(Omnibus):                  0.570   Jarque-Bera (JB):                0.884\n",
      "Skew:                          -0.230   Prob(JB):                        0.643\n",
      "Kurtosis:                       3.029   Cond. No.                         2.62\n",
      "==============================================================================\n",
      "\n",
      "Warnings:\n",
      "[1] Standard Errors assume that the covariance matrix of the errors is correctly specified.\n"
     ]
    }
   ],
   "source": [
    "X=sm.add_constant(X)\n",
    "ols_result=sm.OLS(Y,X).fit()\n",
    "print(ols_result.summary())\n",
    "\n",
    "# make sure our result is close to the one from statsmodels\n",
    "for i in range(len(e.t.values)):\n",
    "    assert numpy.allclose(e.t.values[i],ols_result.tvalues[i])\n"
   ]
  },
  {
   "cell_type": "markdown",
   "metadata": {},
   "source": [
    "__Exercise:__ Confirm that the dot product between the residuals from OLS and the X variable is zero."
   ]
  },
  {
   "cell_type": "code",
   "execution_count": 63,
   "metadata": {
    "collapsed": false
   },
   "outputs": [],
   "source": [
    "residual=Y - X.dot(e.bhat.values)\n",
    "\n",
    "## insert code here\n"
   ]
  },
  {
   "cell_type": "markdown",
   "metadata": {},
   "source": [
    "### Multiple regression\n",
    "\n",
    "Let's now look at how we can fit a more complex model using the GLM. Let's make some data based on two regressors plus noise.  We will make one of the regressors smooth across observations, for reasons that will become clearer later."
   ]
  },
  {
   "cell_type": "code",
   "execution_count": 64,
   "metadata": {
    "collapsed": false
   },
   "outputs": [],
   "source": [
    "def mkar1noise(tslen,coef,noisesd):\n",
    "    \"\"\"\n",
    "    function to return AR(1) autocorrelated noise\n",
    "    \"\"\"\n",
    "    noise=numpy.random.randn(tslen)*noisesd\n",
    "    for i in range(1,tslen):\n",
    "        noise[i]=noise[i]+noise[i-1]*coef\n",
    "    return noise\n",
    "\n",
    "\n",
    "def make_regression_data(nobs=100,regsmooth=[1],\n",
    "                         regsmoothcoef=0.8,\n",
    "                         beta=[0.1,0.5,10],noisesd=1.,\n",
    "                        noisecorr=0):\n",
    "    \"\"\"\n",
    "    function to generate regression data \n",
    "    with option to add autocorrelated noise\n",
    "    beta reflects two conditions plus intercept\n",
    "    \"\"\"\n",
    "    regs=numpy.random.randn(nobs,len(beta)-1)\n",
    "    for r in regsmooth:\n",
    "         for i in range(1,nobs):\n",
    "            regs[i,r]=regs[i,r]+regs[i-1,r]*regsmoothcoef\n",
    "\n",
    "    regs=numpy.hstack((regs,numpy.ones((regs.shape[0],1))))\n",
    "    data=regs.dot(numpy.array(beta))\n",
    "    if noisecorr==0:\n",
    "        noise=numpy.random.randn(len(data))*noisesd\n",
    "    else:\n",
    "        noise=mkar1noise(len(data),noisecorr,noisesd)\n",
    "\n",
    "    return data+noise,regs"
   ]
  },
  {
   "cell_type": "code",
   "execution_count": 65,
   "metadata": {
    "collapsed": false
   },
   "outputs": [
    {
     "data": {
      "text/plain": [
       "<matplotlib.text.Text at 0x11651ec50>"
      ]
     },
     "execution_count": 65,
     "metadata": {},
     "output_type": "execute_result"
    },
    {
     "data": {
      "image/png": "[encoded data removed]",
      "text/plain": [
       "<matplotlib.figure.Figure at 0x115624da0>"
      ]
     },
     "metadata": {},
     "output_type": "display_data"
    },
    {
     "data": {
      "image/png": "[encoded data removed]",
      "text/plain": [
       "<matplotlib.figure.Figure at 0x115659198>"
      ]
     },
     "metadata": {},
     "output_type": "display_data"
    },
    {
     "data": {
      "image/png": "[encoded data removed]",
      "text/plain": [
       "<matplotlib.figure.Figure at 0x1162cc828>"
      ]
     },
     "metadata": {},
     "output_type": "display_data"
    }
   ],
   "source": [
    "Y,X=make_regression_data()\n",
    "\n",
    "#X=X-numpy.mean(X,0)\n",
    "plt.imshow(X,interpolation='nearest')\n",
    "plt.axis('auto')\n",
    "plt.ylim([0,100])\n",
    "\n",
    "plt.figure()\n",
    "plt.scatter(X[:,0],Y)\n",
    "plt.xlabel('first X regressor - X[:,0]')\n",
    "plt.ylabel('Y')\n",
    "plt.figure()\n",
    "plt.scatter(X[:,1],Y)\n",
    "plt.xlabel('first X regressor - X[:,1]')\n",
    "plt.ylabel('Y')\n",
    "\n"
   ]
  },
  {
   "cell_type": "code",
   "execution_count": 66,
   "metadata": {
    "collapsed": false
   },
   "outputs": [
    {
     "data": {
      "text/html": [
       "<div>\n",
       "<table border=\"1\" class=\"dataframe\">\n",
       "  <thead>\n",
       "    <tr style=\"text-align: right;\">\n",
       "      <th></th>\n",
       "      <th>bhat</th>\n",
       "      <th>p</th>\n",
       "      <th>t</th>\n",
       "    </tr>\n",
       "  </thead>\n",
       "  <tbody>\n",
       "    <tr>\n",
       "      <th>0</th>\n",
       "      <td>0.076104</td>\n",
       "      <td>4.231543e-01</td>\n",
       "      <td>0.804294</td>\n",
       "    </tr>\n",
       "    <tr>\n",
       "      <th>1</th>\n",
       "      <td>0.407634</td>\n",
       "      <td>2.579902e-09</td>\n",
       "      <td>6.551080</td>\n",
       "    </tr>\n",
       "    <tr>\n",
       "      <th>2</th>\n",
       "      <td>10.014888</td>\n",
       "      <td>0.000000e+00</td>\n",
       "      <td>99.596623</td>\n",
       "    </tr>\n",
       "  </tbody>\n",
       "</table>\n",
       "</div>"
      ],
      "text/plain": [
       "        bhat             p          t\n",
       "0   0.076104  4.231543e-01   0.804294\n",
       "1   0.407634  2.579902e-09   6.551080\n",
       "2  10.014888  0.000000e+00  99.596623"
      ]
     },
     "metadata": {},
     "output_type": "display_data"
    }
   ],
   "source": [
    "e=ols_estimate(X,Y)\n",
    "display(e)"
   ]
  },
  {
   "cell_type": "markdown",
   "metadata": {},
   "source": [
    "Let's run the same analysis using a canned function from the statsmodels package to compare the results.  Note that statsmodels automatically adds an intercept, so we don't pass that column from the design matrix."
   ]
  },
  {
   "cell_type": "code",
   "execution_count": 67,
   "metadata": {
    "collapsed": false
   },
   "outputs": [
    {
     "name": "stdout",
     "output_type": "stream",
     "text": [
      "                            OLS Regression Results                            \n",
      "==============================================================================\n",
      "Dep. Variable:                      y   R-squared:                       0.328\n",
      "Model:                            OLS   Adj. R-squared:                  0.314\n",
      "Method:                 Least Squares   F-statistic:                     23.62\n",
      "Date:                Sun, 16 Oct 2016   Prob (F-statistic):           4.38e-09\n",
      "Time:                        09:20:00   Log-Likelihood:                -138.18\n",
      "No. Observations:                 100   AIC:                             282.4\n",
      "Df Residuals:                      97   BIC:                             290.2\n",
      "Df Model:                           2                                         \n",
      "Covariance Type:            nonrobust                                         \n",
      "==============================================================================\n",
      "                 coef    std err          t      P>|t|      [95.0% Conf. Int.]\n",
      "------------------------------------------------------------------------------\n",
      "x1             0.0761      0.095      0.804      0.423        -0.112     0.264\n",
      "x2             0.4076      0.062      6.551      0.000         0.284     0.531\n",
      "const         10.0149      0.101     99.597      0.000         9.815    10.214\n",
      "==============================================================================\n",
      "Omnibus:                        0.520   Durbin-Watson:                   2.050\n",
      "Prob(Omnibus):                  0.771   Jarque-Bera (JB):                0.671\n",
      "Skew:                           0.115   Prob(JB):                        0.715\n",
      "Kurtosis:                       2.671   Cond. No.                         1.80\n",
      "==============================================================================\n",
      "\n",
      "Warnings:\n",
      "[1] Standard Errors assume that the covariance matrix of the errors is correctly specified.\n"
     ]
    }
   ],
   "source": [
    "ols_result=sm.OLS(Y,X).fit()\n",
    "print(ols_result.summary())\n",
    "\n",
    "for i in range(len(e.t.values)):\n",
    "    assert numpy.allclose(e.t.values[i],ols_result.tvalues[i])\n"
   ]
  },
  {
   "cell_type": "markdown",
   "metadata": {},
   "source": [
    "### Beyond ordinary least squares\n",
    "\n",
    "In the foregoing, we used ordinary least squares estimation, which is the best linear unbiased estimator in the case of uncorrelated and homoscedastic (equal variance) errors (according to the Gauss-Markov theorem).  However, there are common situations where these assumptions fail, in which case we need to use more sophisticated models.  The case that is most relevant to fMRI is when there are correlated errors, which we will explore below.\n",
    "\n",
    "First, let's simulate performance using OLS when the assumptions are upheld - the Type I error rate should be about 0.05."
   ]
  },
  {
   "cell_type": "code",
   "execution_count": 68,
   "metadata": {
    "collapsed": false
   },
   "outputs": [
    {
     "data": {
      "text/html": [
       "<div>\n",
       "<table border=\"1\" class=\"dataframe\">\n",
       "  <thead>\n",
       "    <tr style=\"text-align: right;\">\n",
       "      <th></th>\n",
       "      <th>Type 1 error</th>\n",
       "      <th>Variance of bhat</th>\n",
       "    </tr>\n",
       "  </thead>\n",
       "  <tbody>\n",
       "    <tr>\n",
       "      <th>X1</th>\n",
       "      <td>0.045</td>\n",
       "      <td>0.101932</td>\n",
       "    </tr>\n",
       "    <tr>\n",
       "      <th>X2</th>\n",
       "      <td>0.051</td>\n",
       "      <td>0.065573</td>\n",
       "    </tr>\n",
       "    <tr>\n",
       "      <th>intercept</th>\n",
       "      <td>0.059</td>\n",
       "      <td>0.109041</td>\n",
       "    </tr>\n",
       "  </tbody>\n",
       "</table>\n",
       "</div>"
      ],
      "text/plain": [
       "           Type 1 error  Variance of bhat\n",
       "X1                0.045          0.101932\n",
       "X2                0.051          0.065573\n",
       "intercept         0.059          0.109041"
      ]
     },
     "metadata": {},
     "output_type": "display_data"
    }
   ],
   "source": [
    "nruns=1000\n",
    "pval=numpy.zeros((nruns,3))\n",
    "bhat=numpy.zeros((nruns,3))\n",
    "\n",
    "for i in range(nruns):\n",
    "    Y,X=make_regression_data(beta=[0,0,0])\n",
    "    e=ols_estimate(X,Y)\n",
    "    pval[i,:]=e.p.values\n",
    "    bhat[i,:]=e.bhat.values\n",
    "\n",
    "df=pandas.DataFrame({'Type 1 error':[numpy.mean(pval[:,i]<0.05) for i in range(3)],\n",
    "                     'Variance of bhat':[numpy.std(bhat[:,i]) for i in range(3)]},\n",
    "                    index=['X1','X2','intercept'])\n",
    "display(df)\n"
   ]
  },
  {
   "cell_type": "markdown",
   "metadata": {},
   "source": [
    "Now let's introduce some correlated noise, using the function created above which smooths the noise across observations using a first-order autoregressive (AR(1)) model.  We do this for a range of levels of autocorrelation; because we have set the true beta values to zero, and the resulting proportion of significant results tells us the Type 1 error. We also assess the variance of the estimates."
   ]
  },
  {
   "cell_type": "code",
   "execution_count": 69,
   "metadata": {
    "collapsed": false
   },
   "outputs": [],
   "source": [
    "nruns=1000\n",
    "ncvals=numpy.arange(0.0,0.9,0.1)\n",
    "\n",
    "pval=numpy.zeros((nruns,3,len(ncvals)))\n",
    "bhat=numpy.zeros((nruns,3,len(ncvals)))\n",
    "\n",
    "for nc in range(len(ncvals)):\n",
    "    for i in range(nruns):\n",
    "        Y,X=make_regression_data(beta=[0,0,0],noisecorr=ncvals[nc])\n",
    "        e=ols_estimate(X,Y,add_intercept=False)\n",
    "        pval[i,:,nc]=e.p.values\n",
    "        bhat[i,:,nc]=e.bhat.values\n"
   ]
  },
  {
   "cell_type": "code",
   "execution_count": 70,
   "metadata": {
    "collapsed": false
   },
   "outputs": [
    {
     "data": {
      "text/plain": [
       "(0, 1)"
      ]
     },
     "execution_count": 70,
     "metadata": {},
     "output_type": "execute_result"
    },
    {
     "data": {
      "image/png": "[encoded data removed]",
      "text/plain": [
       "<matplotlib.figure.Figure at 0x11612f438>"
      ]
     },
     "metadata": {},
     "output_type": "display_data"
    }
   ],
   "source": [
    "pval_exc=pval<0.05\n",
    "meanpval=numpy.mean(pval_exc,0)\n",
    "\n",
    "f=plt.figure(figsize=(8,5))\n",
    "plt.subplot(1,2,1)\n",
    "plt.plot(ncvals,meanpval.T)\n",
    "plt.plot([0,1],[0.05,0.05],'--')\n",
    "plt.xlabel('autocorrelation')\n",
    "plt.ylabel('Type I error (% of significant tests)')\n",
    "plt.legend(['X1','X2','Intercept'])\n",
    "plt.ylim([0,1])\n",
    "\n",
    "plt.subplot(1,2,2)\n",
    "bhvar=numpy.std(bhat,0)\n",
    "plt.plot(ncvals,bhvar.T)\n",
    "\n",
    "plt.xlabel('autocorrelation')\n",
    "plt.ylabel('std of parameter estimates')\n",
    "plt.legend(['X1','X2','Intercept'])\n",
    "plt.ylim([0,1])\n",
    "\n"
   ]
  },
  {
   "cell_type": "markdown",
   "metadata": {},
   "source": [
    "__Exercise__: What do you see?  Why do the effects of correlation in the data differ between regressors?"
   ]
  },
  {
   "cell_type": "markdown",
   "metadata": {},
   "source": [
    "### Generalized least squares\n",
    "\n",
    "In cases where the data do not adhere to the assumptions of OLS, we can use generalized least squares to obtain BLUE estimates.  This requires that we have a model of the autocorrelation structure.  Let's use a Toeplitz matrix, allows us to create an AR(1) covariance matrix.\n",
    "\n",
    "The Toeplitz matrix has this form (in this case for a dataset with 4 observations):\n",
    "\n"
   ]
  },
  {
   "cell_type": "code",
   "execution_count": 71,
   "metadata": {
    "collapsed": false
   },
   "outputs": [
    {
     "name": "stdout",
     "output_type": "stream",
     "text": [
      "[[0 1 2 3]\n",
      " [1 0 1 2]\n",
      " [2 1 0 1]\n",
      " [3 2 1 0]]\n"
     ]
    }
   ],
   "source": [
    "print(toeplitz(range(4)))"
   ]
  },
  {
   "cell_type": "markdown",
   "metadata": {},
   "source": [
    "The AR1 covariance has this form:\n",
    "\n",
    "$V = \\sigma^2 \\begin{bmatrix}1 & \\rho & \\rho^2 & \\rho^3\\\\ \n",
    "\\rho & 1 & \\rho & \\rho^2\\\\\n",
    "\\rho^2 & \\rho & 1 & \\rho \\\\\n",
    "\\rho^3 & \\rho^2 & \\rho & 1 \\\\\\end{bmatrix}$\n",
    "\n",
    "where $\\rho$ is the first-order autocorrelation and $\\sigma^2$ is the variance.  Note that we still assume that the variances are homogenous across datapoints.  Thus, to generate such a matrix we simply exponentiate $\\rho$ by the Toeplitz matrix (which is acheived using the $**$ operator) in Python."
   ]
  },
  {
   "cell_type": "code",
   "execution_count": 72,
   "metadata": {
    "collapsed": false
   },
   "outputs": [
    {
     "name": "stdout",
     "output_type": "stream",
     "text": [
      "[[ 1.     0.3    0.09   0.027]\n",
      " [ 0.3    1.     0.3    0.09 ]\n",
      " [ 0.09   0.3    1.     0.3  ]\n",
      " [ 0.027  0.09   0.3    1.   ]]\n"
     ]
    }
   ],
   "source": [
    "rho=0.3\n",
    "print(rho**toeplitz(range(4)))\n"
   ]
  },
  {
   "cell_type": "code",
   "execution_count": null,
   "metadata": {
    "collapsed": true
   },
   "outputs": [],
   "source": []
  },
  {
   "cell_type": "markdown",
   "metadata": {},
   "source": [
    "Now let's build a version of our estimator that uses GLS rather than OLS.  We do this using an interative approach.  We first run OLS to estimate the model and obtain the residuals, and then we estimate the autocorrelation structure from the residuals.  Then we estimate the model using GLS with the autocorrelation structure estimated above. The GLS estimator is:\n",
    "\n",
    "$\\hat{B} = (X'V^{-1}X)^{-1}X'V^{-1}Y$\n",
    "\n",
    "where $V$ is the covariance matrix (which in OLS we assumed was simply $\\sigma^2I$).  This is akin to \"whitening\" the data by removing the covariance structure."
   ]
  },
  {
   "cell_type": "code",
   "execution_count": 73,
   "metadata": {
    "collapsed": true
   },
   "outputs": [],
   "source": [
    "def gls_estimate(X,Y,add_intercept=True,verbose=False,\n",
    "                ddof=1,use_two_sided=True):\n",
    "    \"\"\"\n",
    "    estimate generalized least squares\n",
    "    using a Toeplitz matrix to generate AR(1) covariance\n",
    "    \"\"\"\n",
    "    # first we need to set up the matrices in the proper shape\n",
    "    # Y should be N X 1\n",
    "    # X should be X X c\n",
    "    \n",
    "    if verbose:\n",
    "        print('original Y shape:',Y.shape)\n",
    "    Y=Y.reshape((len(Y),1))\n",
    "    if verbose:\n",
    "        print('new Y shape:',Y.shape)\n",
    "    if verbose:\n",
    "        print('original X shape:',X.shape)\n",
    "    if len(X.shape)==1:\n",
    "        X=X.reshape((len(X),1))\n",
    "    Xnames=['X%d'%int(i+1) for i in range(X.shape[1])]\n",
    "    if verbose:\n",
    "        print('new X shape:',X.shape)\n",
    "        \n",
    "    # add an intercept to the model if specified\n",
    "    if add_intercept:\n",
    "         X=sm.add_constant(X)\n",
    "    \n",
    "    # make sure that the design matrix is full rank\n",
    "    assert numpy.linalg.matrix_rank(X)==X.shape[1]            \n",
    "\n",
    "    # first fit OLS to get residuals for AC estimation\n",
    "    e=ols_estimate(X,Y)\n",
    "    resid=Y - X.dot(e.bhat.values[:,numpy.newaxis])\n",
    "    ar1_coef=statsmodels.tsa.stattools.acf(resid)[1] # get the first-order autocorrelation estimate\n",
    "    \n",
    "    # compute the inverse covariance matrix \n",
    "    order=toeplitz(range(len(Y)))\n",
    "    sigma=ar1_coef**order\n",
    "    Vinv=numpy.linalg.inv(sigma)\n",
    "\n",
    "    # re-estimate the model using GLS\n",
    "    b_hat=numpy.linalg.inv(X.T.dot(Vinv).dot(X)).dot(X.T.dot(Vinv).dot(Y))\n",
    "\n",
    "    if verbose:\n",
    "        print('b_hat=',b_hat)\n",
    "    resid=Y-X.dot(b_hat)\n",
    "    sigma2=resid.T.dot(resid)/(X.shape[0] - X.shape[1])  # variance of the residuals\n",
    "    \n",
    "    # now compute the t statistic and p values for for each variable in X\n",
    "    t=numpy.zeros(X.shape[1])\n",
    "    p=numpy.zeros(X.shape[1])\n",
    "\n",
    "    for i in range(X.shape[1]):\n",
    "        c=numpy.zeros(X.shape[1])\n",
    "        c[i]=1\n",
    "        t[i]=c.dot(b_hat)/numpy.sqrt(c.dot(numpy.linalg.inv(X.T.dot(Vinv).dot(X))).dot(c.T)*sigma2)\n",
    "\n",
    "        if t[i]<0:\n",
    "            p[i]=scipy.stats.distributions.t.cdf(t[i],len(Y)-1)\n",
    "        else:\n",
    "            p[i]=1-scipy.stats.distributions.t.cdf(t[i],len(Y)-1)\n",
    "        if use_two_sided:\n",
    "            p[i]=p[i]*2\n",
    "    if verbose:\n",
    "        print('t=',t)\n",
    "        \n",
    "\n",
    "    df=pandas.DataFrame({'bhat':b_hat.ravel(),'t':t.ravel(),'p':p.ravel()},index=Xnames)\n",
    "    return df\n",
    "\n"
   ]
  },
  {
   "cell_type": "code",
   "execution_count": 74,
   "metadata": {
    "collapsed": false
   },
   "outputs": [
    {
     "data": {
      "text/html": [
       "<div>\n",
       "<table border=\"1\" class=\"dataframe\">\n",
       "  <thead>\n",
       "    <tr style=\"text-align: right;\">\n",
       "      <th></th>\n",
       "      <th>bhat</th>\n",
       "      <th>p</th>\n",
       "      <th>t</th>\n",
       "    </tr>\n",
       "  </thead>\n",
       "  <tbody>\n",
       "    <tr>\n",
       "      <th>X1</th>\n",
       "      <td>0.951101</td>\n",
       "      <td>4.440892e-16</td>\n",
       "      <td>9.669741</td>\n",
       "    </tr>\n",
       "    <tr>\n",
       "      <th>X2</th>\n",
       "      <td>0.217145</td>\n",
       "      <td>2.270998e-02</td>\n",
       "      <td>2.314435</td>\n",
       "    </tr>\n",
       "    <tr>\n",
       "      <th>X3</th>\n",
       "      <td>10.223313</td>\n",
       "      <td>0.000000e+00</td>\n",
       "      <td>60.443087</td>\n",
       "    </tr>\n",
       "  </tbody>\n",
       "</table>\n",
       "</div>"
      ],
      "text/plain": [
       "         bhat             p          t\n",
       "X1   0.951101  4.440892e-16   9.669741\n",
       "X2   0.217145  2.270998e-02   2.314435\n",
       "X3  10.223313  0.000000e+00  60.443087"
      ]
     },
     "metadata": {},
     "output_type": "display_data"
    },
    {
     "data": {
      "text/html": [
       "<table class=\"simpletable\">\n",
       "<caption>GLS Regression Results</caption>\n",
       "<tr>\n",
       "  <th>Dep. Variable:</th>            <td>y</td>        <th>  R-squared:         </th> <td>   0.576</td>\n",
       "</tr>\n",
       "<tr>\n",
       "  <th>Model:</th>                   <td>GLS</td>       <th>  Adj. R-squared:    </th> <td>   0.567</td>\n",
       "</tr>\n",
       "<tr>\n",
       "  <th>Method:</th>             <td>Least Squares</td>  <th>  F-statistic:       </th> <td>   65.82</td>\n",
       "</tr>\n",
       "<tr>\n",
       "  <th>Date:</th>             <td>Sun, 16 Oct 2016</td> <th>  Prob (F-statistic):</th> <td>8.70e-19</td>\n",
       "</tr>\n",
       "<tr>\n",
       "  <th>Time:</th>                 <td>09:20:34</td>     <th>  Log-Likelihood:    </th> <td> -146.33</td>\n",
       "</tr>\n",
       "<tr>\n",
       "  <th>No. Observations:</th>      <td>   100</td>      <th>  AIC:               </th> <td>   298.7</td>\n",
       "</tr>\n",
       "<tr>\n",
       "  <th>Df Residuals:</th>          <td>    97</td>      <th>  BIC:               </th> <td>   306.5</td>\n",
       "</tr>\n",
       "<tr>\n",
       "  <th>Df Model:</th>              <td>     2</td>      <th>                     </th>     <td> </td>   \n",
       "</tr>\n",
       "<tr>\n",
       "  <th>Covariance Type:</th>      <td>nonrobust</td>    <th>                     </th>     <td> </td>   \n",
       "</tr>\n",
       "</table>\n",
       "<table class=\"simpletable\">\n",
       "<tr>\n",
       "    <td></td>       <th>coef</th>     <th>std err</th>      <th>t</th>      <th>P>|t|</th> <th>[95.0% Conf. Int.]</th> \n",
       "</tr>\n",
       "<tr>\n",
       "  <th>x1</th>    <td>    0.9471</td> <td>    0.094</td> <td>   10.076</td> <td> 0.000</td> <td>    0.761     1.134</td>\n",
       "</tr>\n",
       "<tr>\n",
       "  <th>x2</th>    <td>    0.1734</td> <td>    0.104</td> <td>    1.666</td> <td> 0.099</td> <td>   -0.033     0.380</td>\n",
       "</tr>\n",
       "<tr>\n",
       "  <th>const</th> <td>   10.2115</td> <td>    0.212</td> <td>   48.095</td> <td> 0.000</td> <td>    9.790    10.633</td>\n",
       "</tr>\n",
       "</table>\n",
       "<table class=\"simpletable\">\n",
       "<tr>\n",
       "  <th>Omnibus:</th>       <td> 0.428</td> <th>  Durbin-Watson:     </th> <td>   2.258</td>\n",
       "</tr>\n",
       "<tr>\n",
       "  <th>Prob(Omnibus):</th> <td> 0.807</td> <th>  Jarque-Bera (JB):  </th> <td>   0.547</td>\n",
       "</tr>\n",
       "<tr>\n",
       "  <th>Skew:</th>          <td> 0.141</td> <th>  Prob(JB):          </th> <td>   0.761</td>\n",
       "</tr>\n",
       "<tr>\n",
       "  <th>Kurtosis:</th>      <td> 2.773</td> <th>  Cond. No.          </th> <td>    2.42</td>\n",
       "</tr>\n",
       "</table>"
      ],
      "text/plain": [
       "<class 'statsmodels.iolib.summary.Summary'>\n",
       "\"\"\"\n",
       "                            GLS Regression Results                            \n",
       "==============================================================================\n",
       "Dep. Variable:                      y   R-squared:                       0.576\n",
       "Model:                            GLS   Adj. R-squared:                  0.567\n",
       "Method:                 Least Squares   F-statistic:                     65.82\n",
       "Date:                Sun, 16 Oct 2016   Prob (F-statistic):           8.70e-19\n",
       "Time:                        09:20:34   Log-Likelihood:                -146.33\n",
       "No. Observations:                 100   AIC:                             298.7\n",
       "Df Residuals:                      97   BIC:                             306.5\n",
       "Df Model:                           2                                         \n",
       "Covariance Type:            nonrobust                                         \n",
       "==============================================================================\n",
       "                 coef    std err          t      P>|t|      [95.0% Conf. Int.]\n",
       "------------------------------------------------------------------------------\n",
       "x1             0.9471      0.094     10.076      0.000         0.761     1.134\n",
       "x2             0.1734      0.104      1.666      0.099        -0.033     0.380\n",
       "const         10.2115      0.212     48.095      0.000         9.790    10.633\n",
       "==============================================================================\n",
       "Omnibus:                        0.428   Durbin-Watson:                   2.258\n",
       "Prob(Omnibus):                  0.807   Jarque-Bera (JB):                0.547\n",
       "Skew:                           0.141   Prob(JB):                        0.761\n",
       "Kurtosis:                       2.773   Cond. No.                         2.42\n",
       "==============================================================================\n",
       "\n",
       "Warnings:\n",
       "[1] Standard Errors assume that the covariance matrix of the errors is correctly specified.\n",
       "\"\"\""
      ]
     },
     "execution_count": 74,
     "metadata": {},
     "output_type": "execute_result"
    }
   ],
   "source": [
    "order=toeplitz(range(len(Y)))\n",
    "sigma=0.5**order\n",
    "\n",
    "Y,X=make_regression_data(beta=[1,0.1,10],noisecorr=0.5)\n",
    "\n",
    "e=gls_estimate(X,Y)\n",
    "display(e)\n",
    "\n",
    "gls_result=sm.GLS(Y,X,sigma=sigma).fit()\n",
    "\n",
    "gls_result.summary()"
   ]
  },
  {
   "cell_type": "markdown",
   "metadata": {},
   "source": [
    "What do you see in this comparison?"
   ]
  },
  {
   "cell_type": "markdown",
   "metadata": {},
   "source": [
    "Now let's simulate datasets under the null and estimate the model, across different levels of autocorrelation, as we did above. Because the estimation is a bit more complex this will take a couple of minutes."
   ]
  },
  {
   "cell_type": "code",
   "execution_count": 75,
   "metadata": {
    "collapsed": false
   },
   "outputs": [],
   "source": [
    "nruns=1000\n",
    "ncvals=numpy.arange(0.0,0.9,0.1)\n",
    "\n",
    "pval=numpy.zeros((nruns,2,len(ncvals)))\n",
    "bhat=numpy.zeros((nruns,2,len(ncvals)))\n",
    "\n",
    "for nc in range(len(ncvals)):\n",
    "    for i in range(nruns):\n",
    "        Y,X=make_regression_data(beta=[0,0,0],noisecorr=ncvals[nc])\n",
    "\n",
    "        e=gls_estimate(X,Y)\n",
    "\n",
    "        pval[i,:,nc]=e.p.values[:2]\n",
    "        bhat[i,:,nc]=e.bhat.values[:2]\n",
    "\n"
   ]
  },
  {
   "cell_type": "code",
   "execution_count": 76,
   "metadata": {
    "collapsed": false
   },
   "outputs": [
    {
     "data": {
      "text/plain": [
       "(0, 1)"
      ]
     },
     "execution_count": 76,
     "metadata": {},
     "output_type": "execute_result"
    },
    {
     "data": {
      "image/png": "[encoded data removed]",
      "text/plain": [
       "<matplotlib.figure.Figure at 0x11698dc50>"
      ]
     },
     "metadata": {},
     "output_type": "display_data"
    }
   ],
   "source": [
    "pval_exc=pval<0.05\n",
    "meanpval=numpy.mean(pval_exc,0)\n",
    "\n",
    "f=plt.figure(figsize=(12,5))\n",
    "f=plt.subplot(1,2,1)\n",
    "plt.plot(ncvals,meanpval.T)\n",
    "plt.plot([0,1],[0.05,0.05],'--')\n",
    "plt.xlabel('autocorrelation')\n",
    "plt.ylabel('% of significant tests')\n",
    "plt.legend(['X1','X2','Intercept'])\n",
    "plt.ylim([0,1])\n",
    "bhvar=numpy.std(bhat,0)\n",
    "f=plt.subplot(1,2,2)\n",
    "plt.plot(ncvals,bhvar.T)\n",
    "\n",
    "plt.xlabel('autocorrelation')\n",
    "plt.ylabel('std of parameter estimates')\n",
    "plt.legend(['X1','X2','Intercept'])\n",
    "plt.ylim([0,1])\n"
   ]
  }
 ],
 "metadata": {
  "kernelspec": {
   "display_name": "Python 3",
   "language": "python",
   "name": "python3"
  },
  "language_info": {
   "codemirror_mode": {
    "name": "ipython",
    "version": 3
   },
   "file_extension": ".py",
   "mimetype": "text/x-python",
   "name": "python",
   "nbconvert_exporter": "python",
   "pygments_lexer": "ipython3",
   "version": "3.4.4"
  }
 },
 "nbformat": 4,
 "nbformat_minor": 1
}
