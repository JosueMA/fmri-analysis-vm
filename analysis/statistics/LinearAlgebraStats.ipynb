{
 "cells": [
  {
   "cell_type": "markdown",
   "metadata": {},
   "source": [
    "This notebook introduces the notion of computing the general linear model using linear algebra.  First we load the necessarily libraries."
   ]
  },
  {
   "cell_type": "code",
   "execution_count": 905,
   "metadata": {
    "collapsed": true
   },
   "outputs": [],
   "source": [
    "import numpy,pandas\n",
    "import matplotlib.pyplot as plt\n",
    "import seaborn as sns\n",
    "import scipy.stats\n",
    "import statsmodels.api as sm\n",
    "from statsmodels.formula.api import ols,glsar\n",
    "from statsmodels.tsa.arima_process import arma_generate_sample\n",
    "from scipy.linalg import toeplitz\n",
    "from IPython.display import display, HTML\n",
    "\n",
    "%matplotlib inline"
   ]
  },
  {
   "cell_type": "markdown",
   "metadata": {},
   "source": [
    "### A simple example\n",
    "\n",
    "We start with a simple example of an independent samples t-test. First, let's make a function that will generate some data. We will assume that there are two conditions with specified means and standard deviations"
   ]
  },
  {
   "cell_type": "code",
   "execution_count": 936,
   "metadata": {
    "collapsed": false
   },
   "outputs": [],
   "source": [
    "def make_ttest_data(n_obs=[50,50],mean_obs=[10,10.1],sd_obs=[2,2]):\n",
    "    \"\"\"\n",
    "    function to generate independent-sample data with two conditions\n",
    "    \"\"\"\n",
    "    n_obs=[50,50]  # number of observations in each condition\n",
    "    n_obs_total=numpy.sum(n_obs)\n",
    "    mean_obs=[10,11]\n",
    "    sd_obs=[1,1]\n",
    "    condition=numpy.zeros(n_obs_total)\n",
    "    condition[:n_obs[0]]=0\n",
    "    condition[n_obs[0]:n_obs_total]=1\n",
    "    \n",
    "    data=numpy.zeros(n_obs_total)\n",
    "    data[:n_obs[0]]=mean_obs[0]\n",
    "    data[n_obs[0]:n_obs_total]=mean_obs[1]\n",
    "\n",
    "    # doublecheck our work\n",
    "    assert numpy.sum(data==mean_obs[0])==n_obs[0]\n",
    "    assert numpy.sum(data==mean_obs[1])==n_obs[1]\n",
    "\n",
    "    noise=numpy.zeros(n_obs_total)\n",
    "    noise[:n_obs[0]]=numpy.random.randn(n_obs[0])*sd_obs[0]\n",
    "    noise[n_obs[0]:n_obs_total]=numpy.random.randn(n_obs[1])*sd_obs[1]\n",
    "\n",
    "    df=pandas.DataFrame({'data':data+noise,'condition':condition})\n",
    "    return df"
   ]
  },
  {
   "cell_type": "markdown",
   "metadata": {},
   "source": [
    "Make some data and plot the distributions for the two conditions"
   ]
  },
  {
   "cell_type": "code",
   "execution_count": 948,
   "metadata": {
    "collapsed": false
   },
   "outputs": [
    {
     "name": "stderr",
     "output_type": "stream",
     "text": [
      "/Users/poldrack/anaconda/envs/py34/lib/python3.4/site-packages/statsmodels/nonparametric/kdetools.py:20: VisibleDeprecationWarning: using a non-integer number instead of an integer will result in an error in the future\n",
      "  y = X[:m/2+1] + np.r_[0,X[m/2+1:],0]*1j\n"
     ]
    },
    {
     "data": {
      "text/plain": [
       "<matplotlib.axes._subplots.AxesSubplot at 0x120c4aa58>"
      ]
     },
     "execution_count": 948,
     "metadata": {},
     "output_type": "execute_result"
    },
    {
     "data": {
      "image/png": "[encoded data removed]",
      "text/plain": [
       "<matplotlib.figure.Figure at 0x128e5c9e8>"
      ]
     },
     "metadata": {},
     "output_type": "display_data"
    }
   ],
   "source": [
    "data=make_ttest_data()\n",
    "Y=data.data.values\n",
    "X=data.condition.values\n",
    "\n",
    "f = plt.figure()\n",
    "sns.distplot(Y[X==0], hist=False, label=\"condition 1\")\n",
    "sns.distplot(Y[X==1], hist=False, label=\"condition 2\")"
   ]
  },
  {
   "cell_type": "markdown",
   "metadata": {},
   "source": [
    "Now we want to perform a t-test to ask whether the means of the two conditions are different. Let's try to compute it on our own, using linear algebra.  Remember that the formula for the GLM is:\n",
    "\n",
    "$Y = X * B + e$\n",
    "\n",
    "where Y is an N X 1 matrix containing the data that we generated, and X is an N X c \"design matrix\" that describes the conditions (in this case, a single vector indicating condition 1 or 2).  Using the normal equations, we can estimate B using:\n",
    "\n",
    "$\\hat{B} = (X'X)^{-1}X'Y$\n",
    "\n",
    "Before we dive into these computations, we need to go over how to do linear algebra in Python. The following borrows liberally from https://www.ibm.com/developerworks/community/blogs/jfp/entry/Elementary_Matrix_Operations_In_Python?lang=en\n"
   ]
  },
  {
   "cell_type": "markdown",
   "metadata": {},
   "source": [
    "#### Making arrays/matrices in Python"
   ]
  },
  {
   "cell_type": "code",
   "execution_count": 988,
   "metadata": {
    "collapsed": false
   },
   "outputs": [
    {
     "name": "stdout",
     "output_type": "stream",
     "text": [
      "[1 3 2]\n",
      "y shape: (3,)\n",
      "[[1]\n",
      " [3]\n",
      " [2]]\n",
      "z shape: (3, 1)\n",
      "A\n",
      "[[ 1  1  2]\n",
      " [ 3  5  8]\n",
      " [13 21 34]]\n",
      "B\n",
      "[[ 1  1  2]\n",
      " [ 3  5  8]\n",
      " [13 21 34]]\n",
      "B.T\n",
      "[[ 1  3 13]\n",
      " [ 1  5 21]\n",
      " [ 2  8 34]]\n"
     ]
    }
   ],
   "source": [
    "# to make an array, we give a list to numpy.array\n",
    "y = numpy.array([1,3,2])\n",
    "print(y)\n",
    "print('y shape:',y.shape)\n",
    "\n",
    "# we can add a dimension with the None operator\n",
    "z=y[:,None]\n",
    "print(z)\n",
    "print('z shape:',z.shape)\n",
    "\n",
    "# one option to create a matrix is to give a vector and reshape to a matrix\n",
    "print('A')\n",
    "A = numpy.array([1,1,2,3,5,8,13,21,34]).reshape(3,3)\n",
    "print(A)\n",
    "\n",
    "# another alternative is to pass a list of lists\n",
    "print('B')\n",
    "B = numpy.array([[1,1,2],[3,5,8],[13,21,34]])\n",
    "print(B)\n",
    "\n",
    "# to transpose a matrix, use the .T operator\n",
    "print('B.T')\n",
    "print(B.T)"
   ]
  },
  {
   "cell_type": "markdown",
   "metadata": {},
   "source": [
    "There are some useful functions to generate specific types of matrices"
   ]
  },
  {
   "cell_type": "code",
   "execution_count": 983,
   "metadata": {
    "collapsed": false
   },
   "outputs": [
    {
     "name": "stdout",
     "output_type": "stream",
     "text": [
      "a\n",
      "[[ 0.  0.  0.  0.]\n",
      " [ 0.  0.  0.  0.]]\n",
      "b\n",
      "[[ 1.  1.  1.  1.]\n",
      " [ 1.  1.  1.  1.]]\n",
      "c\n",
      "[[ 12.  12.  12.  12.]\n",
      " [ 12.  12.  12.  12.]]\n",
      "d\n",
      "[0 1 2 3 4 5 6 7 8 9]\n",
      "e\n",
      "[ 3.    3.33  3.66  3.99  4.32  4.65  4.98]\n"
     ]
    }
   ],
   "source": [
    "# create a matrix full of zeros\n",
    "# note that the shape is passed as a tuple if you want multiple dimensions\n",
    "a=numpy.zeros((2,4))\n",
    "print('a')\n",
    "print(a)\n",
    "\n",
    "#create a matrix full of ones\n",
    "b=numpy.ones((2,4))\n",
    "print('b')\n",
    "print(b)\n",
    "\n",
    "# create a matrix full of any other number:\n",
    "c=b*12\n",
    "print('c')\n",
    "print(c)\n",
    "\n",
    "# create a range of numbers:\n",
    "d=numpy.arange(10)\n",
    "print('d')\n",
    "print(d)\n",
    "\n",
    "e=numpy.arange(3,5,0.33)\n",
    "print('e')\n",
    "print(e)\n",
    "\n"
   ]
  },
  {
   "cell_type": "markdown",
   "metadata": {},
   "source": [
    "Now let's look at some basic arithmetic operations"
   ]
  },
  {
   "cell_type": "code",
   "execution_count": 992,
   "metadata": {
    "collapsed": false
   },
   "outputs": [
    {
     "name": "stdout",
     "output_type": "stream",
     "text": [
      "a+5\n",
      "[[ 5.  5.  5.  5.]\n",
      " [ 5.  5.  5.  5.]]\n",
      "c/2\n",
      "[[ 6.  6.  6.  6.]\n",
      " [ 6.  6.  6.  6.]]\n",
      "a+b+c\n",
      "[[ 13.  13.  13.  13.]\n",
      " [ 13.  13.  13.  13.]]\n",
      "a*b*c\n",
      "[[ 0.  0.  0.  0.]\n",
      " [ 0.  0.  0.  0.]]\n",
      "b/c\n",
      "[[ 0.08333333  0.08333333  0.08333333  0.08333333]\n",
      " [ 0.08333333  0.08333333  0.08333333  0.08333333]]\n"
     ]
    }
   ],
   "source": [
    "print('a+5')\n",
    "print(a+5)\n",
    "\n",
    "print('c/2')\n",
    "print(c/2)\n",
    "\n",
    "print('a+b+c')\n",
    "print(a+b+c)\n",
    "\n",
    "print('a*b*c')\n",
    "print(a*b*c)\n",
    "\n",
    "print('b/c')\n",
    "print(b/c)\n",
    "\n"
   ]
  },
  {
   "cell_type": "markdown",
   "metadata": {},
   "source": [
    "#### Matrix multiplication\n",
    "\n",
    "Matrix multiplication is performed on numpy arrays using the .dot() operator.  "
   ]
  },
  {
   "cell_type": "code",
   "execution_count": 962,
   "metadata": {
    "collapsed": false
   },
   "outputs": [
    {
     "name": "stdout",
     "output_type": "stream",
     "text": [
      "x\n",
      "[[1 2]\n",
      " [3 4]]\n",
      "y\n",
      "[[1 0]\n",
      " [0 2]]\n",
      "scalar product of x and y: x*y\n",
      "[[1 0]\n",
      " [0 8]]\n",
      "matrix product of x and y: x.dot(y)\n",
      "[[1 4]\n",
      " [3 8]]\n"
     ]
    }
   ],
   "source": [
    "x=numpy.array([[1,2],[3,4]])\n",
    "y=numpy.array([[1,0],[0,2]])\n",
    "print('x')\n",
    "print(x)\n",
    "print('y')\n",
    "print(y)\n",
    "\n",
    "print('scalar product of x and y: x*y')\n",
    "print(x*y)\n",
    "print('matrix product of x and y: x.dot(y)')\n",
    "print(x.dot(y))"
   ]
  },
  {
   "cell_type": "markdown",
   "metadata": {},
   "source": [
    "__Exercise__: We know that the variance of a matrix X is computed as $mean((X-mean(X))*(X-mean(X))')$.  Fill in the appropriate code in the function below so that it returns a value that equals the value obtained from the numpy.var() command."
   ]
  },
  {
   "cell_type": "code",
   "execution_count": 995,
   "metadata": {
    "collapsed": false
   },
   "outputs": [
    {
     "ename": "NameError",
     "evalue": "name 'var' is not defined",
     "output_type": "error",
     "traceback": [
      "\u001b[0;31m---------------------------------------------------------------------------\u001b[0m",
      "\u001b[0;31mNameError\u001b[0m                                 Traceback (most recent call last)",
      "\u001b[0;32m<ipython-input-995-21968ec8bb46>\u001b[0m in \u001b[0;36m<module>\u001b[0;34m()\u001b[0m\n\u001b[1;32m      5\u001b[0m \u001b[0;34m\u001b[0m\u001b[0m\n\u001b[1;32m      6\u001b[0m \u001b[0;31m# use allclose rather than == to deal with numerical errors\u001b[0m\u001b[0;34m\u001b[0m\u001b[0;34m\u001b[0m\u001b[0m\n\u001b[0;32m----> 7\u001b[0;31m \u001b[0;32massert\u001b[0m \u001b[0mnumpy\u001b[0m\u001b[0;34m.\u001b[0m\u001b[0mallclose\u001b[0m\u001b[0;34m(\u001b[0m\u001b[0mnumpy\u001b[0m\u001b[0;34m.\u001b[0m\u001b[0mvar\u001b[0m\u001b[0;34m(\u001b[0m\u001b[0mY\u001b[0m\u001b[0;34m)\u001b[0m\u001b[0;34m,\u001b[0m\u001b[0mvariance\u001b[0m\u001b[0;34m(\u001b[0m\u001b[0mY\u001b[0m\u001b[0;34m)\u001b[0m\u001b[0;34m)\u001b[0m\u001b[0;34m\u001b[0m\u001b[0m\n\u001b[0m",
      "\u001b[0;32m<ipython-input-995-21968ec8bb46>\u001b[0m in \u001b[0;36mvariance\u001b[0;34m(Y)\u001b[0m\n\u001b[1;32m      2\u001b[0m     \u001b[0;31m# insert code here to estimate variance using matrix multiplication\u001b[0m\u001b[0;34m\u001b[0m\u001b[0;34m\u001b[0m\u001b[0m\n\u001b[1;32m      3\u001b[0m \u001b[0;34m\u001b[0m\u001b[0m\n\u001b[0;32m----> 4\u001b[0;31m     \u001b[0;32mreturn\u001b[0m \u001b[0mvar\u001b[0m\u001b[0;34m\u001b[0m\u001b[0m\n\u001b[0m\u001b[1;32m      5\u001b[0m \u001b[0;34m\u001b[0m\u001b[0m\n\u001b[1;32m      6\u001b[0m \u001b[0;31m# use allclose rather than == to deal with numerical errors\u001b[0m\u001b[0;34m\u001b[0m\u001b[0;34m\u001b[0m\u001b[0m\n",
      "\u001b[0;31mNameError\u001b[0m: name 'var' is not defined"
     ]
    }
   ],
   "source": [
    "def variance(Y):\n",
    "    # insert code here to estimate variance using matrix multiplication\n",
    "\n",
    "    return var\n",
    "\n",
    "# use allclose rather than == to deal with numerical errors\n",
    "assert numpy.allclose(numpy.var(Y),variance(Y))"
   ]
  },
  {
   "cell_type": "markdown",
   "metadata": {},
   "source": [
    "#### Matrix inversion\n",
    "\n",
    "We also need to know how to compute the inverse of a matrix, which we do using numpy.linalg.inv().\n",
    "\n",
    "__Exercise:__ In the cell below, create a matrix containing the following numbers:\n",
    "\n",
    "[1,0]\n",
    "[0,2]\n",
    "\n",
    "and print out the original matrix along with the inverted matrix."
   ]
  },
  {
   "cell_type": "code",
   "execution_count": 939,
   "metadata": {
    "collapsed": false
   },
   "outputs": [],
   "source": [
    "# Exercise code here"
   ]
  },
  {
   "cell_type": "markdown",
   "metadata": {},
   "source": [
    "Now that we know how to perform the necessary matrix operations, let's do our t-test on the data generated above.  We first have to fix a problem: we need both X and Y to be matrices for our computation to work, but right now they are 1-dimensional vectors rather than two-dimensional matrices.  We can fix this using numpy - let's go ahead and create a function to compute the ordinary least squares estimates, that includes code to reformat the data into matrices.  We also include an option to add an intercept (i.e. a column of ones) to the model if it doesn't already exist.  "
   ]
  },
  {
   "cell_type": "code",
   "execution_count": 940,
   "metadata": {
    "collapsed": false
   },
   "outputs": [],
   "source": [
    "def ols_estimate(X,Y,add_intercept=True,verbose=False,\n",
    "                ddof=1,use_two_sided=True):\n",
    "    \"\"\"\n",
    "    function to estimate parameters for a general linear model\n",
    "    \"\"\"\n",
    "    \n",
    "    # first we need to set up the matrices in the proper shape\n",
    "    # Y should be N X 1\n",
    "    # X should be X X c\n",
    "    \n",
    "    if verbose:\n",
    "        print('original Y shape:',Y.shape)\n",
    "    Y=Y.reshape((len(Y),1))\n",
    "    if verbose:\n",
    "        print('new Y shape:',Y.shape)\n",
    "    if verbose:\n",
    "        print('original X shape:',X.shape)\n",
    "    if len(X.shape)==1:\n",
    "        X=X.reshape((len(X),1))\n",
    "    Xnames=['X%d'%int(i+1) for i in range(X.shape[1])]\n",
    "    if verbose:\n",
    "        print('new X shape:',X.shape)\n",
    "        \n",
    "    # add an intercept to the model if specified\n",
    "    if add_intercept:\n",
    "        X=sm.add_constant(X)\n",
    "        Xnames=Xnames.append('Intercept')\n",
    "\n",
    "    # make sure that the design matrix is full rank\n",
    "    assert numpy.linalg.matrix_rank(X)==X.shape[1]\n",
    "    \n",
    "    # estimate the parameters using the normal equations\n",
    "    b_hat=numpy.linalg.inv(X.T.dot(X)).dot(X.T.dot(Y))\n",
    "    if verbose:\n",
    "        print('b_hat=',b_hat)\n",
    "        \n",
    "    # compute residuals and their variance\n",
    "    resid=Y-X.dot(b_hat)\n",
    "    sigma2=resid.T.dot(resid)/(X.shape[0] - X.shape[1])  # variance of the residuals\n",
    "    \n",
    "    # now compute the t statistic and p values for for each variable in X\n",
    "    t=numpy.zeros(X.shape[1])\n",
    "    p=numpy.zeros(X.shape[1])\n",
    "\n",
    "    for i in range(X.shape[1]):\n",
    "        c=numpy.zeros(X.shape[1])\n",
    "        c[i]=1\n",
    "        t[i]=c.dot(b_hat)/numpy.sqrt(c.dot(numpy.linalg.inv(X.T.dot(X))).dot(c.T)*sigma2)\n",
    "        if t[i]<0:\n",
    "            p[i]=scipy.stats.distributions.t.cdf(t[i],len(Y)-1)\n",
    "        else:\n",
    "            p[i]=1-scipy.stats.distributions.t.cdf(t[i],len(Y)-1)\n",
    "        if use_two_sided:\n",
    "            p[i]=p[i]*2\n",
    "    if verbose:\n",
    "        print('t=',t)\n",
    "        \n",
    "\n",
    "    df=pandas.DataFrame({'bhat':b_hat.ravel(),'t':t.ravel(),'p':p.ravel()},index=Xnames)\n",
    "    return df\n"
   ]
  },
  {
   "cell_type": "markdown",
   "metadata": {},
   "source": [
    "Now let's estimate the model parameters using our function."
   ]
  },
  {
   "cell_type": "code",
   "execution_count": 941,
   "metadata": {
    "collapsed": false
   },
   "outputs": [
    {
     "data": {
      "text/html": [
       "<div>\n",
       "<table border=\"1\" class=\"dataframe\">\n",
       "  <thead>\n",
       "    <tr style=\"text-align: right;\">\n",
       "      <th></th>\n",
       "      <th>bhat</th>\n",
       "      <th>p</th>\n",
       "      <th>t</th>\n",
       "    </tr>\n",
       "  </thead>\n",
       "  <tbody>\n",
       "    <tr>\n",
       "      <th>0</th>\n",
       "      <td>10.064723</td>\n",
       "      <td>0.000000</td>\n",
       "      <td>71.234176</td>\n",
       "    </tr>\n",
       "    <tr>\n",
       "      <th>1</th>\n",
       "      <td>0.991512</td>\n",
       "      <td>0.000003</td>\n",
       "      <td>4.962146</td>\n",
       "    </tr>\n",
       "  </tbody>\n",
       "</table>\n",
       "</div>"
      ],
      "text/plain": [
       "        bhat         p          t\n",
       "0  10.064723  0.000000  71.234176\n",
       "1   0.991512  0.000003   4.962146"
      ]
     },
     "metadata": {},
     "output_type": "display_data"
    }
   ],
   "source": [
    "e=ols_estimate(X,Y)\n",
    "display(e)"
   ]
  },
  {
   "cell_type": "markdown",
   "metadata": {},
   "source": [
    "Let's compute the same test using a couple of other canned procedures.  First, we use the t-test procedure within the scipy package.  "
   ]
  },
  {
   "cell_type": "code",
   "execution_count": 945,
   "metadata": {
    "collapsed": false
   },
   "outputs": [
    {
     "name": "stdout",
     "output_type": "stream",
     "text": [
      "t/p computed by scipy: 4.96214608787 2.9379814689e-06\n"
     ]
    }
   ],
   "source": [
    "t,p=scipy.stats.ttest_ind(Y[X==1],Y[X==0])\n",
    "print('t/p computed by scipy:',t,p)\n",
    "\n",
    "assert numpy.allclose(t,e.t.values[1])"
   ]
  },
  {
   "cell_type": "markdown",
   "metadata": {},
   "source": [
    "We can also compute it via the general linear model, using the ordinary least squares (OLS) method from statsmodels."
   ]
  },
  {
   "cell_type": "code",
   "execution_count": 947,
   "metadata": {
    "collapsed": false
   },
   "outputs": [
    {
     "name": "stdout",
     "output_type": "stream",
     "text": [
      "                            OLS Regression Results                            \n",
      "==============================================================================\n",
      "Dep. Variable:                      y   R-squared:                       0.201\n",
      "Model:                            OLS   Adj. R-squared:                  0.193\n",
      "Method:                 Least Squares   F-statistic:                     24.62\n",
      "Date:                Thu, 13 Oct 2016   Prob (F-statistic):           2.94e-06\n",
      "Time:                        14:39:53   Log-Likelihood:                -140.79\n",
      "No. Observations:                 100   AIC:                             285.6\n",
      "Df Residuals:                      98   BIC:                             290.8\n",
      "Df Model:                           1                                         \n",
      "Covariance Type:            nonrobust                                         \n",
      "==============================================================================\n",
      "                 coef    std err          t      P>|t|      [95.0% Conf. Int.]\n",
      "------------------------------------------------------------------------------\n",
      "const         10.0647      0.141     71.234      0.000         9.784    10.345\n",
      "x1             0.9915      0.200      4.962      0.000         0.595     1.388\n",
      "==============================================================================\n",
      "Omnibus:                        5.765   Durbin-Watson:                   2.005\n",
      "Prob(Omnibus):                  0.056   Jarque-Bera (JB):                2.650\n",
      "Skew:                          -0.002   Prob(JB):                        0.266\n",
      "Kurtosis:                       2.203   Cond. No.                         2.62\n",
      "==============================================================================\n",
      "\n",
      "Warnings:\n",
      "[1] Standard Errors assume that the covariance matrix of the errors is correctly specified.\n"
     ]
    }
   ],
   "source": [
    "X=sm.add_constant(X)\n",
    "ols_result=sm.OLS(Y,X).fit()\n",
    "print(ols_result.summary())\n",
    "\n",
    "# make sure our result is close to the one from statsmodels\n",
    "for i in range(len(e.t.values)):\n",
    "    assert numpy.allclose(e.t.values[i],ols_result.tvalues[i])\n"
   ]
  },
  {
   "cell_type": "markdown",
   "metadata": {},
   "source": [
    "### Multiple regression\n",
    "\n",
    "Let's now look at how we can fit a more complex model using the GLM. Let's make some data based on two regressors plus noise.  We will make one of the regressors smooth across observations, for reasons that will become clearer later."
   ]
  },
  {
   "cell_type": "code",
   "execution_count": 917,
   "metadata": {
    "collapsed": false
   },
   "outputs": [],
   "source": [
    "def mkar1noise(tslen,coef,noisesd):\n",
    "    \"\"\"\n",
    "    function to return AR(1) autocorrelated noise\n",
    "    \"\"\"\n",
    "    noise=numpy.random.randn(tslen)*noisesd\n",
    "    for i in range(1,tslen):\n",
    "        noise[i]=noise[i]+noise[i-1]*coef\n",
    "    return noise\n",
    "\n",
    "\n",
    "def make_regression_data(nobs=100,regsmooth=[1],\n",
    "                         regsmoothcoef=0.8,\n",
    "                         beta=[0.1,0.5,10],noisesd=1.,\n",
    "                        noisecorr=0):\n",
    "    \"\"\"\n",
    "    function to generate regression data \n",
    "    with option to add autocorrelated noise\n",
    "    beta reflects two conditions plus intercept\n",
    "    \"\"\"\n",
    "    regs=numpy.random.randn(nobs,len(beta)-1)\n",
    "    for r in regsmooth:\n",
    "         for i in range(1,nobs):\n",
    "            regs[i,r]=regs[i,r]+regs[i-1,r]*regsmoothcoef\n",
    "\n",
    "    regs=numpy.hstack((regs,numpy.ones((regs.shape[0],1))))\n",
    "    data=regs.dot(numpy.array(beta))\n",
    "    if noisecorr==0:\n",
    "        noise=numpy.random.randn(len(data))*noisesd\n",
    "    else:\n",
    "        noise=mkar1noise(len(data),noisecorr,noisesd)\n",
    "\n",
    "    return data+noise,regs"
   ]
  },
  {
   "cell_type": "code",
   "execution_count": 918,
   "metadata": {
    "collapsed": false
   },
   "outputs": [
    {
     "data": {
      "text/plain": [
       "<matplotlib.collections.PathCollection at 0x12b990710>"
      ]
     },
     "execution_count": 918,
     "metadata": {},
     "output_type": "execute_result"
    },
    {
     "data": {
      "image/png": "[encoded data removed]",
      "text/plain": [
       "<matplotlib.figure.Figure at 0x12b6a97f0>"
      ]
     },
     "metadata": {},
     "output_type": "display_data"
    },
    {
     "data": {
      "image/png": "[encoded data removed]",
      "text/plain": [
       "<matplotlib.figure.Figure at 0x12b8355c0>"
      ]
     },
     "metadata": {},
     "output_type": "display_data"
    },
    {
     "data": {
      "image/png": "[encoded data removed]",
      "text/plain": [
       "<matplotlib.figure.Figure at 0x12b90fb70>"
      ]
     },
     "metadata": {},
     "output_type": "display_data"
    }
   ],
   "source": [
    "Y,X=make_regression_data()\n",
    "\n",
    "#X=X-numpy.mean(X,0)\n",
    "plt.imshow(X,interpolation='nearest')\n",
    "plt.axis('auto')\n",
    "plt.ylim([0,100])\n",
    "\n",
    "plt.figure()\n",
    "plt.scatter(X[:,0],Y)\n",
    "plt.figure()\n",
    "plt.scatter(X[:,1],Y)"
   ]
  },
  {
   "cell_type": "code",
   "execution_count": 919,
   "metadata": {
    "collapsed": false
   },
   "outputs": [
    {
     "data": {
      "text/html": [
       "<div>\n",
       "<table border=\"1\" class=\"dataframe\">\n",
       "  <thead>\n",
       "    <tr style=\"text-align: right;\">\n",
       "      <th></th>\n",
       "      <th>bhat</th>\n",
       "      <th>p</th>\n",
       "      <th>t</th>\n",
       "    </tr>\n",
       "  </thead>\n",
       "  <tbody>\n",
       "    <tr>\n",
       "      <th>0</th>\n",
       "      <td>0.101631</td>\n",
       "      <td>3.525100e-01</td>\n",
       "      <td>0.934129</td>\n",
       "    </tr>\n",
       "    <tr>\n",
       "      <th>1</th>\n",
       "      <td>0.474636</td>\n",
       "      <td>4.112721e-07</td>\n",
       "      <td>5.425127</td>\n",
       "    </tr>\n",
       "    <tr>\n",
       "      <th>2</th>\n",
       "      <td>9.878477</td>\n",
       "      <td>0.000000e+00</td>\n",
       "      <td>91.392017</td>\n",
       "    </tr>\n",
       "  </tbody>\n",
       "</table>\n",
       "</div>"
      ],
      "text/plain": [
       "       bhat             p          t\n",
       "0  0.101631  3.525100e-01   0.934129\n",
       "1  0.474636  4.112721e-07   5.425127\n",
       "2  9.878477  0.000000e+00  91.392017"
      ]
     },
     "metadata": {},
     "output_type": "display_data"
    }
   ],
   "source": [
    "e=ols_estimate(X,Y)\n",
    "display(e)"
   ]
  },
  {
   "cell_type": "markdown",
   "metadata": {},
   "source": [
    "Let's run the same analysis using a canned function from the statsmodels package to compare the results.  Note that statsmodels automatically adds an intercept, so we don't pass that column from the design matrix."
   ]
  },
  {
   "cell_type": "code",
   "execution_count": 922,
   "metadata": {
    "collapsed": false
   },
   "outputs": [
    {
     "name": "stdout",
     "output_type": "stream",
     "text": [
      "                            OLS Regression Results                            \n",
      "==============================================================================\n",
      "Dep. Variable:                      y   R-squared:                       0.255\n",
      "Model:                            OLS   Adj. R-squared:                  0.239\n",
      "Method:                 Least Squares   F-statistic:                     16.58\n",
      "Date:                Thu, 13 Oct 2016   Prob (F-statistic):           6.38e-07\n",
      "Time:                        14:11:14   Log-Likelihood:                -145.27\n",
      "No. Observations:                 100   AIC:                             296.5\n",
      "Df Residuals:                      97   BIC:                             304.4\n",
      "Df Model:                           2                                         \n",
      "Covariance Type:            nonrobust                                         \n",
      "==============================================================================\n",
      "                 coef    std err          t      P>|t|      [95.0% Conf. Int.]\n",
      "------------------------------------------------------------------------------\n",
      "x1             0.1016      0.109      0.934      0.353        -0.114     0.318\n",
      "x2             0.4746      0.087      5.425      0.000         0.301     0.648\n",
      "const          9.8785      0.108     91.392      0.000         9.664    10.093\n",
      "==============================================================================\n",
      "Omnibus:                        2.457   Durbin-Watson:                   2.097\n",
      "Prob(Omnibus):                  0.293   Jarque-Bera (JB):                1.909\n",
      "Skew:                          -0.197   Prob(JB):                        0.385\n",
      "Kurtosis:                       3.550   Cond. No.                         1.44\n",
      "==============================================================================\n",
      "\n",
      "Warnings:\n",
      "[1] Standard Errors assume that the covariance matrix of the errors is correctly specified.\n"
     ]
    }
   ],
   "source": [
    "ols_result=sm.OLS(Y,X).fit()\n",
    "print(ols_result.summary())\n",
    "\n",
    "for i in range(len(e.t.values)):\n",
    "    assert numpy.allclose(e.t.values[i],ols_result.tvalues[i])\n"
   ]
  },
  {
   "cell_type": "markdown",
   "metadata": {},
   "source": [
    "### Beyond ordinary least squares\n",
    "\n",
    "In the foregoing, we used ordinary least squares estimation, which is the best linear unbiased estimator in the case of uncorrelated and homoscedastic (equal variance) errors (according to the Gauss-Markov theorem).  However, there are common situations where these assumptions fail, in which case we need to use more sophisticated models.  The case that is most relevant to fMRI is when there are correlated errors, which we will explore below.\n",
    "\n",
    "First, let's simulate performance using OLS when the assumptions are upheld - the Type I error rate should be about 0.05."
   ]
  },
  {
   "cell_type": "code",
   "execution_count": 923,
   "metadata": {
    "collapsed": false
   },
   "outputs": [
    {
     "name": "stdout",
     "output_type": "stream",
     "text": [
      "Type I error: [0.064000000000000001, 0.056000000000000001, 0.044999999999999998]\n",
      "Variance of bhat: [0.11020203428216867, 0.066196760197651736, 0.10332404609525757]\n"
     ]
    }
   ],
   "source": [
    "nruns=1000\n",
    "pval=numpy.zeros((nruns,3))\n",
    "bhat=numpy.zeros((nruns,3))\n",
    "\n",
    "for i in range(nruns):\n",
    "    Y,X=make_regression_data(beta=[0,0,0])\n",
    "    e=ols_estimate(X,Y)\n",
    "    pval[i,:]=e.p.values\n",
    "    bhat[i,:]=e.bhat.values\n",
    "print('Type I error:',[numpy.mean(pval[:,i]<0.05) for i in range(3)])\n",
    "print('Variance of bhat:',[numpy.std(bhat[:,i]) for i in range(3)])\n",
    "\n"
   ]
  },
  {
   "cell_type": "markdown",
   "metadata": {},
   "source": [
    "Now let's introduce some correlated noise, using the function created above which smooths the noise across observations using a first-order autoregressive (AR(1)) model.  We do this for a range of levels of autocorrelation; because we have set the true beta values to zero, and the resulting proportion of significant results tells us the Type 1 error. We also assess the variance of the estimates."
   ]
  },
  {
   "cell_type": "code",
   "execution_count": 924,
   "metadata": {
    "collapsed": false
   },
   "outputs": [],
   "source": [
    "nruns=1000\n",
    "ncvals=numpy.arange(0.0,0.9,0.1)\n",
    "\n",
    "pval=numpy.zeros((nruns,3,len(ncvals)))\n",
    "bhat=numpy.zeros((nruns,3,len(ncvals)))\n",
    "\n",
    "for nc in range(len(ncvals)):\n",
    "    for i in range(nruns):\n",
    "        Y,X=make_regression_data(beta=[0,0,0],noisecorr=ncvals[nc])\n",
    "        e=ols_estimate(X,Y,add_intercept=False)\n",
    "        pval[i,:,nc]=e.p.values\n",
    "        bhat[i,:,nc]=e.bhat.values\n"
   ]
  },
  {
   "cell_type": "code",
   "execution_count": 925,
   "metadata": {
    "collapsed": false
   },
   "outputs": [
    {
     "data": {
      "text/plain": [
       "(0, 1)"
      ]
     },
     "execution_count": 925,
     "metadata": {},
     "output_type": "execute_result"
    },
    {
     "data": {
      "image/png": "[encoded data removed]",
      "text/plain": [
       "<matplotlib.figure.Figure at 0x12b9dc860>"
      ]
     },
     "metadata": {},
     "output_type": "display_data"
    }
   ],
   "source": [
    "pval_exc=pval<0.05\n",
    "meanpval=numpy.mean(pval_exc,0)\n",
    "\n",
    "f=plt.figure(figsize=(8,5))\n",
    "plt.subplot(1,2,1)\n",
    "plt.plot(ncvals,meanpval.T)\n",
    "plt.plot([0,1],[0.05,0.05],'--')\n",
    "plt.xlabel('autocorrelation')\n",
    "plt.ylabel('Type I error (% of significant tests)')\n",
    "plt.legend(['X1','X2','Intercept'])\n",
    "plt.ylim([0,1])\n",
    "\n",
    "plt.subplot(1,2,2)\n",
    "bhvar=numpy.std(bhat,0)\n",
    "plt.plot(ncvals,bhvar.T)\n",
    "\n",
    "plt.xlabel('autocorrelation')\n",
    "plt.ylabel('std of parameter estimates')\n",
    "plt.legend(['X1','X2','Intercept'])\n",
    "plt.ylim([0,1])\n",
    "\n"
   ]
  },
  {
   "cell_type": "markdown",
   "metadata": {},
   "source": [
    "What do you see?"
   ]
  },
  {
   "cell_type": "markdown",
   "metadata": {},
   "source": [
    "### Generalized least squares\n",
    "\n",
    "In cases where the data do not adhere to the assumptions of OLS, we can use generalized least squares to obtain BLUE estimates.  This requires that we have a model of the autocorrelation structure.  Let's use a Toeplitz matrix, which has structure similar to an AR covariance."
   ]
  },
  {
   "cell_type": "code",
   "execution_count": 926,
   "metadata": {
    "collapsed": false
   },
   "outputs": [
    {
     "data": {
      "text/plain": [
       "<matplotlib.text.Text at 0x12bec39e8>"
      ]
     },
     "execution_count": 926,
     "metadata": {},
     "output_type": "execute_result"
    },
    {
     "data": {
      "image/png": "[encoded data removed]",
      "text/plain": [
       "<matplotlib.figure.Figure at 0x12b835d30>"
      ]
     },
     "metadata": {},
     "output_type": "display_data"
    }
   ],
   "source": [
    "V=toeplitz(range(len(Y)))\n",
    "plt.subplot(1,2,1)\n",
    "plt.imshow(V)\n",
    "plt.title(\"Toeplitz matrix\")\n",
    "plt.subplot(1,2,2)\n",
    "Vinv=numpy.linalg.inv(V)\n",
    "plt.imshow(Vinv)\n",
    "plt.title(\"Inverse of Toeplitz matrix\")\n",
    "\n"
   ]
  },
  {
   "cell_type": "markdown",
   "metadata": {},
   "source": [
    "Now let's build a version of our estimator that uses GLS rather than OLS.  We do this using an interative approach.  We first run OLS to estimate the model and obtain the residuals, and then we estimate the autocorrelation structure from the residuals.  Then we estimate the model using GLS with the autocorrelation structure estimated above. The GLS estimator is:\n",
    "\n",
    "$\\hat{B} = (X'V^{-1}X)^{-1}X'V^{-1}Y$\n",
    "\n",
    "where $V$ is the covariance matrix (which in OLS we assumed was simply $\\sigma^2I$).  This is akin to \"whitening\" the data by removing the covariance structure."
   ]
  },
  {
   "cell_type": "code",
   "execution_count": 927,
   "metadata": {
    "collapsed": true
   },
   "outputs": [],
   "source": [
    "def gls_estimate(X,Y,add_intercept=True,verbose=False,\n",
    "                ddof=1,use_two_sided=True):\n",
    "    \"\"\"\n",
    "    estimate generalized least squares\n",
    "    using a Toeplitz matrix for the covariance, ala AR\n",
    "    \"\"\"\n",
    "    # first we need to set up the matrices in the proper shape\n",
    "    # Y should be N X 1\n",
    "    # X should be X X c\n",
    "    \n",
    "    if verbose:\n",
    "        print('original Y shape:',Y.shape)\n",
    "    Y=Y.reshape((len(Y),1))\n",
    "    if verbose:\n",
    "        print('new Y shape:',Y.shape)\n",
    "    if verbose:\n",
    "        print('original X shape:',X.shape)\n",
    "    if len(X.shape)==1:\n",
    "        X=X.reshape((len(X),1))\n",
    "    Xnames=['X%d'%int(i+1) for i in range(X.shape[1])]\n",
    "    if verbose:\n",
    "        print('new X shape:',X.shape)\n",
    "        \n",
    "    # add an intercept to the model if specified\n",
    "    if add_intercept:\n",
    "         X=sm.add_constant(X)\n",
    "    \n",
    "    # make sure that the design matrix is full rank\n",
    "    assert numpy.linalg.matrix_rank(X)==X.shape[1]            \n",
    "\n",
    "    # first fit OLS to get residuals for AC estimation\n",
    "    e=ols_estimate(X,Y)\n",
    "    resid=Y - X.dot(e.bhat.values[:,numpy.newaxis])\n",
    "    ar1_coef=statsmodels.tsa.stattools.acf(resid)[1] # get the first-order autocorrelation estimate\n",
    "    \n",
    "    # compute the inverse covariance matrix based on a Toeplitz structure\n",
    "    order=toeplitz(range(len(Y)))\n",
    "    sigma=ar1_coef**order\n",
    "    Vinv=numpy.linalg.inv(sigma)\n",
    "\n",
    "    # re-estimate the model using GLS\n",
    "    b_hat=numpy.linalg.inv(X.T.dot(Vinv).dot(X)).dot(X.T.dot(Vinv).dot(Y))\n",
    "\n",
    "    if verbose:\n",
    "        print('b_hat=',b_hat)\n",
    "    resid=Y-X.dot(b_hat)\n",
    "    sigma2=resid.T.dot(resid)/(X.shape[0] - X.shape[1])  # variance of the residuals\n",
    "    \n",
    "    # now compute the t statistic and p values for for each variable in X\n",
    "    t=numpy.zeros(X.shape[1])\n",
    "    p=numpy.zeros(X.shape[1])\n",
    "\n",
    "    for i in range(X.shape[1]):\n",
    "        c=numpy.zeros(X.shape[1])\n",
    "        c[i]=1\n",
    "        t[i]=c.dot(b_hat)/numpy.sqrt(c.dot(numpy.linalg.inv(X.T.dot(Vinv).dot(X))).dot(c.T)*sigma2)\n",
    "\n",
    "        if t[i]<0:\n",
    "            p[i]=scipy.stats.distributions.t.cdf(t[i],len(Y)-1)\n",
    "        else:\n",
    "            p[i]=1-scipy.stats.distributions.t.cdf(t[i],len(Y)-1)\n",
    "        if use_two_sided:\n",
    "            p[i]=p[i]*2\n",
    "    if verbose:\n",
    "        print('t=',t)\n",
    "        \n",
    "\n",
    "    df=pandas.DataFrame({'bhat':b_hat.ravel(),'t':t.ravel(),'p':p.ravel()},index=Xnames)\n",
    "    return df\n",
    "\n"
   ]
  },
  {
   "cell_type": "code",
   "execution_count": 929,
   "metadata": {
    "collapsed": false
   },
   "outputs": [
    {
     "data": {
      "text/html": [
       "<div>\n",
       "<table border=\"1\" class=\"dataframe\">\n",
       "  <thead>\n",
       "    <tr style=\"text-align: right;\">\n",
       "      <th></th>\n",
       "      <th>bhat</th>\n",
       "      <th>p</th>\n",
       "      <th>t</th>\n",
       "    </tr>\n",
       "  </thead>\n",
       "  <tbody>\n",
       "    <tr>\n",
       "      <th>X1</th>\n",
       "      <td>1.187585</td>\n",
       "      <td>0.000000</td>\n",
       "      <td>12.122486</td>\n",
       "    </tr>\n",
       "    <tr>\n",
       "      <th>X2</th>\n",
       "      <td>-0.120200</td>\n",
       "      <td>0.256862</td>\n",
       "      <td>-1.140423</td>\n",
       "    </tr>\n",
       "    <tr>\n",
       "      <th>X3</th>\n",
       "      <td>10.145805</td>\n",
       "      <td>0.000000</td>\n",
       "      <td>48.412661</td>\n",
       "    </tr>\n",
       "  </tbody>\n",
       "</table>\n",
       "</div>"
      ],
      "text/plain": [
       "         bhat         p          t\n",
       "X1   1.187585  0.000000  12.122486\n",
       "X2  -0.120200  0.256862  -1.140423\n",
       "X3  10.145805  0.000000  48.412661"
      ]
     },
     "metadata": {},
     "output_type": "display_data"
    },
    {
     "data": {
      "text/html": [
       "<table class=\"simpletable\">\n",
       "<caption>GLS Regression Results</caption>\n",
       "<tr>\n",
       "  <th>Dep. Variable:</th>            <td>y</td>        <th>  R-squared:         </th> <td>   0.622</td>\n",
       "</tr>\n",
       "<tr>\n",
       "  <th>Model:</th>                   <td>GLS</td>       <th>  Adj. R-squared:    </th> <td>   0.615</td>\n",
       "</tr>\n",
       "<tr>\n",
       "  <th>Method:</th>             <td>Least Squares</td>  <th>  F-statistic:       </th> <td>   79.93</td>\n",
       "</tr>\n",
       "<tr>\n",
       "  <th>Date:</th>             <td>Thu, 13 Oct 2016</td> <th>  Prob (F-statistic):</th> <td>3.08e-21</td>\n",
       "</tr>\n",
       "<tr>\n",
       "  <th>Time:</th>                 <td>14:14:01</td>     <th>  Log-Likelihood:    </th> <td> -146.47</td>\n",
       "</tr>\n",
       "<tr>\n",
       "  <th>No. Observations:</th>      <td>   100</td>      <th>  AIC:               </th> <td>   298.9</td>\n",
       "</tr>\n",
       "<tr>\n",
       "  <th>Df Residuals:</th>          <td>    97</td>      <th>  BIC:               </th> <td>   306.8</td>\n",
       "</tr>\n",
       "<tr>\n",
       "  <th>Df Model:</th>              <td>     2</td>      <th>                     </th>     <td> </td>   \n",
       "</tr>\n",
       "<tr>\n",
       "  <th>Covariance Type:</th>      <td>nonrobust</td>    <th>                     </th>     <td> </td>   \n",
       "</tr>\n",
       "</table>\n",
       "<table class=\"simpletable\">\n",
       "<tr>\n",
       "    <td></td>       <th>coef</th>     <th>std err</th>      <th>t</th>      <th>P>|t|</th> <th>[95.0% Conf. Int.]</th> \n",
       "</tr>\n",
       "<tr>\n",
       "  <th>x1</th>    <td>    1.1876</td> <td>    0.096</td> <td>   12.358</td> <td> 0.000</td> <td>    0.997     1.378</td>\n",
       "</tr>\n",
       "<tr>\n",
       "  <th>x2</th>    <td>   -0.1234</td> <td>    0.104</td> <td>   -1.183</td> <td> 0.240</td> <td>   -0.331     0.084</td>\n",
       "</tr>\n",
       "<tr>\n",
       "  <th>const</th> <td>   10.1454</td> <td>    0.210</td> <td>   48.243</td> <td> 0.000</td> <td>    9.728    10.563</td>\n",
       "</tr>\n",
       "</table>\n",
       "<table class=\"simpletable\">\n",
       "<tr>\n",
       "  <th>Omnibus:</th>       <td> 3.694</td> <th>  Durbin-Watson:     </th> <td>   1.949</td>\n",
       "</tr>\n",
       "<tr>\n",
       "  <th>Prob(Omnibus):</th> <td> 0.158</td> <th>  Jarque-Bera (JB):  </th> <td>   3.582</td>\n",
       "</tr>\n",
       "<tr>\n",
       "  <th>Skew:</th>          <td> 0.460</td> <th>  Prob(JB):          </th> <td>   0.167</td>\n",
       "</tr>\n",
       "<tr>\n",
       "  <th>Kurtosis:</th>      <td> 2.883</td> <th>  Cond. No.          </th> <td>    2.26</td>\n",
       "</tr>\n",
       "</table>"
      ],
      "text/plain": [
       "<class 'statsmodels.iolib.summary.Summary'>\n",
       "\"\"\"\n",
       "                            GLS Regression Results                            \n",
       "==============================================================================\n",
       "Dep. Variable:                      y   R-squared:                       0.622\n",
       "Model:                            GLS   Adj. R-squared:                  0.615\n",
       "Method:                 Least Squares   F-statistic:                     79.93\n",
       "Date:                Thu, 13 Oct 2016   Prob (F-statistic):           3.08e-21\n",
       "Time:                        14:14:01   Log-Likelihood:                -146.47\n",
       "No. Observations:                 100   AIC:                             298.9\n",
       "Df Residuals:                      97   BIC:                             306.8\n",
       "Df Model:                           2                                         \n",
       "Covariance Type:            nonrobust                                         \n",
       "==============================================================================\n",
       "                 coef    std err          t      P>|t|      [95.0% Conf. Int.]\n",
       "------------------------------------------------------------------------------\n",
       "x1             1.1876      0.096     12.358      0.000         0.997     1.378\n",
       "x2            -0.1234      0.104     -1.183      0.240        -0.331     0.084\n",
       "const         10.1454      0.210     48.243      0.000         9.728    10.563\n",
       "==============================================================================\n",
       "Omnibus:                        3.694   Durbin-Watson:                   1.949\n",
       "Prob(Omnibus):                  0.158   Jarque-Bera (JB):                3.582\n",
       "Skew:                           0.460   Prob(JB):                        0.167\n",
       "Kurtosis:                       2.883   Cond. No.                         2.26\n",
       "==============================================================================\n",
       "\n",
       "Warnings:\n",
       "[1] Standard Errors assume that the covariance matrix of the errors is correctly specified.\n",
       "\"\"\""
      ]
     },
     "execution_count": 929,
     "metadata": {},
     "output_type": "execute_result"
    }
   ],
   "source": [
    "order=toeplitz(range(len(Y)))\n",
    "sigma=0.5**order\n",
    "\n",
    "Y,X=make_regression_data(beta=[1,0.1,10],noisecorr=0.5)\n",
    "\n",
    "e=gls_estimate(X,Y)\n",
    "display(e)\n",
    "\n",
    "gls_result=sm.GLS(Y,X,sigma=sigma).fit()\n",
    "\n",
    "gls_result.summary()"
   ]
  },
  {
   "cell_type": "markdown",
   "metadata": {},
   "source": [
    "What do you see in this comparison?"
   ]
  },
  {
   "cell_type": "markdown",
   "metadata": {},
   "source": [
    "Now let's simulate datasets under the null and estimate the model, across different levels of autocorrelation, as we did above. Because the estimation is a bit more complex this will take a couple of minutes."
   ]
  },
  {
   "cell_type": "code",
   "execution_count": 932,
   "metadata": {
    "collapsed": false
   },
   "outputs": [],
   "source": [
    "import statsmodels.api as sm\n",
    "\n",
    "nruns=1000\n",
    "ncvals=numpy.arange(0.0,0.9,0.1)\n",
    "\n",
    "pval=numpy.zeros((nruns,2,len(ncvals)))\n",
    "bhat=numpy.zeros((nruns,2,len(ncvals)))\n",
    "\n",
    "for nc in range(len(ncvals)):\n",
    "    for i in range(nruns):\n",
    "        Y,X=make_regression_data(beta=[0,0,0],noisecorr=ncvals[nc])\n",
    "\n",
    "        e=gls_estimate(X,Y)\n",
    "\n",
    "        pval[i,:,nc]=e.p.values[:2]\n",
    "        bhat[i,:,nc]=e.bhat.values[:2]\n",
    "\n"
   ]
  },
  {
   "cell_type": "code",
   "execution_count": 935,
   "metadata": {
    "collapsed": false
   },
   "outputs": [
    {
     "data": {
      "text/plain": [
       "(0, 1)"
      ]
     },
     "execution_count": 935,
     "metadata": {},
     "output_type": "execute_result"
    },
    {
     "data": {
      "image/png": "[encoded data removed]",
      "text/plain": [
       "<matplotlib.figure.Figure at 0x123e76d68>"
      ]
     },
     "metadata": {},
     "output_type": "display_data"
    }
   ],
   "source": [
    "pval_exc=pval<0.05\n",
    "meanpval=numpy.mean(pval_exc,0)\n",
    "\n",
    "f=plt.figure(figsize=(12,5))\n",
    "f=plt.subplot(1,2,1)\n",
    "plt.plot(ncvals,meanpval.T)\n",
    "plt.plot([0,1],[0.05,0.05],'--')\n",
    "plt.xlabel('autocorrelation')\n",
    "plt.ylabel('% of significant tests')\n",
    "plt.legend(['X1','X2','Intercept'])\n",
    "plt.ylim([0,1])\n",
    "bhvar=numpy.std(bhat,0)\n",
    "f=plt.subplot(1,2,2)\n",
    "plt.plot(ncvals,bhvar.T)\n",
    "\n",
    "plt.xlabel('autocorrelation')\n",
    "plt.ylabel('std of parameter estimates')\n",
    "plt.legend(['X1','X2','Intercept'])\n",
    "plt.ylim([0,1])\n"
   ]
  },
  {
   "cell_type": "code",
   "execution_count": 791,
   "metadata": {
    "collapsed": false
   },
   "outputs": [],
   "source": []
  },
  {
   "cell_type": "code",
   "execution_count": 792,
   "metadata": {
    "collapsed": false
   },
   "outputs": [],
   "source": [
    "\n"
   ]
  },
  {
   "cell_type": "code",
   "execution_count": 846,
   "metadata": {
    "collapsed": false
   },
   "outputs": [],
   "source": []
  },
  {
   "cell_type": "code",
   "execution_count": 847,
   "metadata": {
    "collapsed": false
   },
   "outputs": [],
   "source": []
  },
  {
   "cell_type": "code",
   "execution_count": 848,
   "metadata": {
    "collapsed": false
   },
   "outputs": [
    {
     "name": "stdout",
     "output_type": "stream",
     "text": [
      "[ 9.42045659]\n"
     ]
    }
   ],
   "source": []
  },
  {
   "cell_type": "code",
   "execution_count": null,
   "metadata": {
    "collapsed": false
   },
   "outputs": [],
   "source": []
  },
  {
   "cell_type": "code",
   "execution_count": null,
   "metadata": {
    "collapsed": true
   },
   "outputs": [],
   "source": []
  }
 ],
 "metadata": {
  "kernelspec": {
   "display_name": "Python 3",
   "language": "python",
   "name": "python3"
  },
  "language_info": {
   "codemirror_mode": {
    "name": "ipython",
    "version": 3
   },
   "file_extension": ".py",
   "mimetype": "text/x-python",
   "name": "python",
   "nbconvert_exporter": "python",
   "pygments_lexer": "ipython3",
   "version": "3.4.4"
  }
 },
 "nbformat": 4,
 "nbformat_minor": 1
}
